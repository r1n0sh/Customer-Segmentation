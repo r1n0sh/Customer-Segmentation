{
 "cells": [
  {
   "cell_type": "markdown",
   "metadata": {
    "colab_type": "text",
    "id": "N_HDPhYz7qEq"
   },
   "source": [
    "<h1 align=center><font size=5>Customer Categorization </h1>\n",
    "  \n",
    "* In this practice, I analyze the content of the [E-commerce database](https://www.kaggle.com/carrie1/ecommerce-data) that contains purchases made by about 4000 customers over a period of one year (from 2010/12/01 to 2011/12/09).\n",
    "\n",
    "* This is a trans-national data set which contains all the transactions for a UK-based and registered non-store online retail.The company mainly sells unique all-occasion gifts. Many customers of the company are wholesalers.\n",
    "\n",
    "* I attempted to segment the customers into several categories, and try to classify new customers into those categories."
   ]
  },
  {
   "cell_type": "markdown",
   "metadata": {
    "colab_type": "text",
    "id": "2krYOBz-78el"
   },
   "source": [
    "# 1) Data preprocessing"
   ]
  },
  {
   "cell_type": "markdown",
   "metadata": {
    "colab_type": "text",
    "id": "NWvDXH1w8Bxi"
   },
   "source": [
    "## 1.1) Download data\n",
    "\n",
    "* Download the data set, and read the description [here](https://archive.ics.uci.edu/ml/datasets/Online%20Retail) to understand the features.<br>\n",
    "\n"
   ]
  },
  {
   "cell_type": "code",
   "execution_count": 0,
   "metadata": {
    "colab": {},
    "colab_type": "code",
    "id": "UMx_-MuGxCKK"
   },
   "outputs": [],
   "source": [
    "# !pip install kaggle\n",
    "# !mkdir .kaggle\n",
    "\n",
    "# import json\n",
    "# token = {\"username\":\"r1n0sh\",\"key\":\"d6a33ff891d63e8e5c26204db0bd87e5\"}\n",
    "\n",
    "# with open('/content/.kaggle/kaggle.json', 'w') as file:\n",
    "#     json.dump(token, file)\n",
    "\n",
    "# !chmod 600 /content/.kaggle/kaggle.json\n",
    "# !cp /content/.kaggle/kaggle.json ~/.kaggle/kaggle.json\n",
    "# !kaggle config set -n path -v{/content}"
   ]
  },
  {
   "cell_type": "code",
   "execution_count": 1,
   "metadata": {
    "colab": {
     "base_uri": "https://localhost:8080/",
     "height": 122
    },
    "colab_type": "code",
    "id": "WqaUJYkUpe8O",
    "outputId": "a1af71df-63b1-4ba2-b692-61b3378f1a7b"
   },
   "outputs": [
    {
     "name": "stdout",
     "output_type": "stream",
     "text": [
      "Go to this URL in a browser: https://accounts.google.com/o/oauth2/auth?client_id=947318989803-6bn6qk8qdgf4n4g3pfee6491hc0brc4i.apps.googleusercontent.com&redirect_uri=urn%3aietf%3awg%3aoauth%3a2.0%3aoob&response_type=code&scope=email%20https%3a%2f%2fwww.googleapis.com%2fauth%2fdocs.test%20https%3a%2f%2fwww.googleapis.com%2fauth%2fdrive%20https%3a%2f%2fwww.googleapis.com%2fauth%2fdrive.photos.readonly%20https%3a%2f%2fwww.googleapis.com%2fauth%2fpeopleapi.readonly\n",
      "\n",
      "Enter your authorization code:\n",
      "··········\n",
      "Mounted at /content/mydriv\n"
     ]
    }
   ],
   "source": [
    "from google.colab import drive\n",
    "drive.mount('/content/mydriv')\n",
    "path = '/content/mydriv/My Drive/Customer_Segmentation/'"
   ]
  },
  {
   "cell_type": "markdown",
   "metadata": {
    "colab_type": "text",
    "id": "mY_taaK06iOz"
   },
   "source": [
    "## 1.2) Import libraries\n",
    "\n",
    "* Importing all the python libraries used in this project\n",
    "\n"
   ]
  },
  {
   "cell_type": "code",
   "execution_count": 0,
   "metadata": {
    "colab": {},
    "colab_type": "code",
    "id": "nIW_YVT16mVp"
   },
   "outputs": [],
   "source": [
    "import pandas as pd\n",
    "import numpy as np\n",
    "import matplotlib.pyplot as plt\n",
    "# import seaborn as sns\n",
    "import datetime, nltk, warnings\n",
    "# import matplotlib.cm as cm\n",
    "# import itertools\n",
    "# from pathlib import Path\n",
    "# from sklearn.preprocessing import StandardScaler\n",
    "# from sklearn.cluster import KMeans\n",
    "# from sklearn.metrics import silhouette_samples, silhouette_score\n",
    "# from sklearn import preprocessing, model_selection, metrics, feature_selection\n",
    "# from sklearn.model_selection import GridSearchCV, learning_curve\n",
    "# from sklearn.svm import SVC\n",
    "# from sklearn.metrics import confusion_matrix\n",
    "# from sklearn import neighbors, linear_model, svm, tree, ensemble\n",
    "# from wordcloud import WordCloud, STOPWORDS\n",
    "# from sklearn.ensemble import AdaBoostClassifier\n",
    "# from IPython.display import display, HTML\n",
    "# import plotly.graph_objs as go\n",
    "warnings.filterwarnings(\"ignore\")\n",
    "%matplotlib inline\n"
   ]
  },
  {
   "cell_type": "markdown",
   "metadata": {
    "colab_type": "text",
    "id": "GRqgblWB8mSQ"
   },
   "source": [
    "## 1.3)  Read data + timestamp\n",
    "\n",
    "* Read the data into a pandas dataframe `df`, investigate shape and head. Using `pd.to_datetime` to transform the timestamps features to right format"
   ]
  },
  {
   "cell_type": "code",
   "execution_count": 4,
   "metadata": {
    "colab": {
     "base_uri": "https://localhost:8080/",
     "height": 221
    },
    "colab_type": "code",
    "id": "JYfqwv7Lxx-i",
    "outputId": "499f8dcf-fbab-4f9f-e5a7-9bee994307f0"
   },
   "outputs": [
    {
     "name": "stdout",
     "output_type": "stream",
     "text": [
      "(541909, 8)\n"
     ]
    },
    {
     "data": {
      "text/html": [
       "<div>\n",
       "<style scoped>\n",
       "    .dataframe tbody tr th:only-of-type {\n",
       "        vertical-align: middle;\n",
       "    }\n",
       "\n",
       "    .dataframe tbody tr th {\n",
       "        vertical-align: top;\n",
       "    }\n",
       "\n",
       "    .dataframe thead th {\n",
       "        text-align: right;\n",
       "    }\n",
       "</style>\n",
       "<table border=\"1\" class=\"dataframe\">\n",
       "  <thead>\n",
       "    <tr style=\"text-align: right;\">\n",
       "      <th></th>\n",
       "      <th>InvoiceNo</th>\n",
       "      <th>StockCode</th>\n",
       "      <th>Description</th>\n",
       "      <th>Quantity</th>\n",
       "      <th>InvoiceDate</th>\n",
       "      <th>UnitPrice</th>\n",
       "      <th>CustomerID</th>\n",
       "      <th>Country</th>\n",
       "    </tr>\n",
       "  </thead>\n",
       "  <tbody>\n",
       "    <tr>\n",
       "      <th>0</th>\n",
       "      <td>536365</td>\n",
       "      <td>85123A</td>\n",
       "      <td>WHITE HANGING HEART T-LIGHT HOLDER</td>\n",
       "      <td>6</td>\n",
       "      <td>2010-12-01 08:26:00</td>\n",
       "      <td>2.55</td>\n",
       "      <td>17850</td>\n",
       "      <td>United Kingdom</td>\n",
       "    </tr>\n",
       "    <tr>\n",
       "      <th>1</th>\n",
       "      <td>536365</td>\n",
       "      <td>71053</td>\n",
       "      <td>WHITE METAL LANTERN</td>\n",
       "      <td>6</td>\n",
       "      <td>2010-12-01 08:26:00</td>\n",
       "      <td>3.39</td>\n",
       "      <td>17850</td>\n",
       "      <td>United Kingdom</td>\n",
       "    </tr>\n",
       "    <tr>\n",
       "      <th>2</th>\n",
       "      <td>536365</td>\n",
       "      <td>84406B</td>\n",
       "      <td>CREAM CUPID HEARTS COAT HANGER</td>\n",
       "      <td>8</td>\n",
       "      <td>2010-12-01 08:26:00</td>\n",
       "      <td>2.75</td>\n",
       "      <td>17850</td>\n",
       "      <td>United Kingdom</td>\n",
       "    </tr>\n",
       "    <tr>\n",
       "      <th>3</th>\n",
       "      <td>536365</td>\n",
       "      <td>84029G</td>\n",
       "      <td>KNITTED UNION FLAG HOT WATER BOTTLE</td>\n",
       "      <td>6</td>\n",
       "      <td>2010-12-01 08:26:00</td>\n",
       "      <td>3.39</td>\n",
       "      <td>17850</td>\n",
       "      <td>United Kingdom</td>\n",
       "    </tr>\n",
       "    <tr>\n",
       "      <th>4</th>\n",
       "      <td>536365</td>\n",
       "      <td>84029E</td>\n",
       "      <td>RED WOOLLY HOTTIE WHITE HEART.</td>\n",
       "      <td>6</td>\n",
       "      <td>2010-12-01 08:26:00</td>\n",
       "      <td>3.39</td>\n",
       "      <td>17850</td>\n",
       "      <td>United Kingdom</td>\n",
       "    </tr>\n",
       "  </tbody>\n",
       "</table>\n",
       "</div>"
      ],
      "text/plain": [
       "  InvoiceNo StockCode  ... CustomerID         Country\n",
       "0    536365    85123A  ...      17850  United Kingdom\n",
       "1    536365     71053  ...      17850  United Kingdom\n",
       "2    536365    84406B  ...      17850  United Kingdom\n",
       "3    536365    84029G  ...      17850  United Kingdom\n",
       "4    536365    84029E  ...      17850  United Kingdom\n",
       "\n",
       "[5 rows x 8 columns]"
      ]
     },
     "execution_count": 4,
     "metadata": {
      "tags": []
     },
     "output_type": "execute_result"
    }
   ],
   "source": [
    "# Read the data into a pandas dataframe `df`\n",
    "df = pd.read_csv(path+'data.csv',encoding='latin', dtype={'CustomerID': str})\n",
    "\n",
    "# timestamp\n",
    "df['InvoiceDate'] = pd.to_datetime(df['InvoiceDate'])\n",
    "\n",
    "print(df.shape)\n",
    "df.head()"
   ]
  },
  {
   "cell_type": "markdown",
   "metadata": {
    "colab_type": "text",
    "id": "HTHbtiS1l4RY"
   },
   "source": [
    "### Raw Data\n",
    "* Number of columns (features) = **8**\n",
    "* Number of rows (records or observations) = **541909**"
   ]
  },
  {
   "cell_type": "markdown",
   "metadata": {
    "colab_type": "text",
    "id": "Ecx14i5j9O_n"
   },
   "source": [
    "## 1.4) Missing values\n",
    "\n",
    "* Finding the percentage of missing values for each feature. \n",
    "* Create a new dataframe `df_dropna` by removing observations without CustomerID. "
   ]
  },
  {
   "cell_type": "code",
   "execution_count": 5,
   "metadata": {
    "colab": {
     "base_uri": "https://localhost:8080/",
     "height": 204
    },
    "colab_type": "code",
    "id": "TB95Lnej9b1w",
    "outputId": "0964ee09-b4be-42da-c0cc-f21fbabb5b4e"
   },
   "outputs": [
    {
     "data": {
      "text/html": [
       "<div>\n",
       "<style scoped>\n",
       "    .dataframe tbody tr th:only-of-type {\n",
       "        vertical-align: middle;\n",
       "    }\n",
       "\n",
       "    .dataframe tbody tr th {\n",
       "        vertical-align: top;\n",
       "    }\n",
       "\n",
       "    .dataframe thead th {\n",
       "        text-align: right;\n",
       "    }\n",
       "</style>\n",
       "<table border=\"1\" class=\"dataframe\">\n",
       "  <thead>\n",
       "    <tr style=\"text-align: right;\">\n",
       "      <th></th>\n",
       "      <th>InvoiceNo</th>\n",
       "      <th>StockCode</th>\n",
       "      <th>Description</th>\n",
       "      <th>Quantity</th>\n",
       "      <th>InvoiceDate</th>\n",
       "      <th>UnitPrice</th>\n",
       "      <th>CustomerID</th>\n",
       "      <th>Country</th>\n",
       "    </tr>\n",
       "  </thead>\n",
       "  <tbody>\n",
       "    <tr>\n",
       "      <th>622</th>\n",
       "      <td>536414</td>\n",
       "      <td>22139</td>\n",
       "      <td>NaN</td>\n",
       "      <td>56</td>\n",
       "      <td>2010-12-01 11:52:00</td>\n",
       "      <td>0.00</td>\n",
       "      <td>NaN</td>\n",
       "      <td>United Kingdom</td>\n",
       "    </tr>\n",
       "    <tr>\n",
       "      <th>1443</th>\n",
       "      <td>536544</td>\n",
       "      <td>21773</td>\n",
       "      <td>DECORATIVE ROSE BATHROOM BOTTLE</td>\n",
       "      <td>1</td>\n",
       "      <td>2010-12-01 14:32:00</td>\n",
       "      <td>2.51</td>\n",
       "      <td>NaN</td>\n",
       "      <td>United Kingdom</td>\n",
       "    </tr>\n",
       "    <tr>\n",
       "      <th>1444</th>\n",
       "      <td>536544</td>\n",
       "      <td>21774</td>\n",
       "      <td>DECORATIVE CATS BATHROOM BOTTLE</td>\n",
       "      <td>2</td>\n",
       "      <td>2010-12-01 14:32:00</td>\n",
       "      <td>2.51</td>\n",
       "      <td>NaN</td>\n",
       "      <td>United Kingdom</td>\n",
       "    </tr>\n",
       "    <tr>\n",
       "      <th>1445</th>\n",
       "      <td>536544</td>\n",
       "      <td>21786</td>\n",
       "      <td>POLKADOT RAIN HAT</td>\n",
       "      <td>4</td>\n",
       "      <td>2010-12-01 14:32:00</td>\n",
       "      <td>0.85</td>\n",
       "      <td>NaN</td>\n",
       "      <td>United Kingdom</td>\n",
       "    </tr>\n",
       "    <tr>\n",
       "      <th>1446</th>\n",
       "      <td>536544</td>\n",
       "      <td>21787</td>\n",
       "      <td>RAIN PONCHO RETROSPOT</td>\n",
       "      <td>2</td>\n",
       "      <td>2010-12-01 14:32:00</td>\n",
       "      <td>1.66</td>\n",
       "      <td>NaN</td>\n",
       "      <td>United Kingdom</td>\n",
       "    </tr>\n",
       "  </tbody>\n",
       "</table>\n",
       "</div>"
      ],
      "text/plain": [
       "     InvoiceNo StockCode  ... CustomerID         Country\n",
       "622     536414     22139  ...        NaN  United Kingdom\n",
       "1443    536544     21773  ...        NaN  United Kingdom\n",
       "1444    536544     21774  ...        NaN  United Kingdom\n",
       "1445    536544     21786  ...        NaN  United Kingdom\n",
       "1446    536544     21787  ...        NaN  United Kingdom\n",
       "\n",
       "[5 rows x 8 columns]"
      ]
     },
     "execution_count": 5,
     "metadata": {
      "tags": []
     },
     "output_type": "execute_result"
    }
   ],
   "source": [
    "# observations containing NaN\n",
    "df.loc[df.isnull().sum(axis=1) > 0].head()"
   ]
  },
  {
   "cell_type": "code",
   "execution_count": 6,
   "metadata": {
    "colab": {
     "base_uri": "https://localhost:8080/",
     "height": 170
    },
    "colab_type": "code",
    "id": "D3NCxTfq9lQH",
    "outputId": "4dccaba7-daa5-4307-f0f3-831b1e9c8524"
   },
   "outputs": [
    {
     "data": {
      "text/plain": [
       "InvoiceNo       0.000000\n",
       "StockCode       0.000000\n",
       "Description     0.268311\n",
       "Quantity        0.000000\n",
       "InvoiceDate     0.000000\n",
       "UnitPrice       0.000000\n",
       "CustomerID     24.926694\n",
       "Country         0.000000\n",
       "dtype: float64"
      ]
     },
     "execution_count": 6,
     "metadata": {
      "tags": []
     },
     "output_type": "execute_result"
    }
   ],
   "source": [
    "# missing percentages\n",
    "df.isnull().sum(axis=0)*100 / df.shape[0]"
   ]
  },
  {
   "cell_type": "code",
   "execution_count": 14,
   "metadata": {
    "colab": {
     "base_uri": "https://localhost:8080/",
     "height": 170
    },
    "colab_type": "code",
    "id": "iHCIpxCn-U_P",
    "outputId": "ea712a72-7ec6-4838-a3ae-f42f2b24fd43"
   },
   "outputs": [
    {
     "data": {
      "text/plain": [
       "InvoiceNo      0.0\n",
       "StockCode      0.0\n",
       "Description    0.0\n",
       "Quantity       0.0\n",
       "InvoiceDate    0.0\n",
       "UnitPrice      0.0\n",
       "CustomerID     0.0\n",
       "Country        0.0\n",
       "dtype: float64"
      ]
     },
     "execution_count": 14,
     "metadata": {
      "tags": []
     },
     "output_type": "execute_result"
    }
   ],
   "source": [
    "# if we drop all entries with unknown customer ID, missing values in Description also disappear\n",
    "df_dropna = df.dropna(axis = 0, subset = ['CustomerID', 'Description'])\n",
    "\n",
    "# missing percentages\n",
    "df_dropna.isnull().sum(axis=0) / df_dropna.shape[0]"
   ]
  },
  {
   "cell_type": "code",
   "execution_count": 8,
   "metadata": {
    "colab": {
     "base_uri": "https://localhost:8080/",
     "height": 34
    },
    "colab_type": "code",
    "id": "kWcBVIiNnZrC",
    "outputId": "bd2c5708-ce6c-4367-b3fa-aa22e6523093"
   },
   "outputs": [
    {
     "data": {
      "text/plain": [
       "(406829, 8)"
      ]
     },
     "execution_count": 8,
     "metadata": {
      "tags": []
     },
     "output_type": "execute_result"
    }
   ],
   "source": [
    "df_dropna.shape"
   ]
  },
  {
   "cell_type": "markdown",
   "metadata": {
    "colab_type": "text",
    "id": "SYO2x7d2nS5-"
   },
   "source": [
    "### Raw Data after dropping missing values\n",
    "* Number of columns (features) = **8**\n",
    "* Number of rows (records or observations) = **406829**"
   ]
  },
  {
   "cell_type": "markdown",
   "metadata": {
    "colab_type": "text",
    "id": "QO8U2kcz9Tsv"
   },
   "source": [
    "## 1.5) Duplicates\n",
    "\n",
    "* Checking for any duplicate records in the data i.e. 2 identical observations. If exists, remove the duplicates (keep one for each distinct obervation of course) and save to `df_dropna`."
   ]
  },
  {
   "cell_type": "code",
   "execution_count": 15,
   "metadata": {
    "colab": {
     "base_uri": "https://localhost:8080/",
     "height": 34
    },
    "colab_type": "code",
    "id": "-Bn1I-eU_mf2",
    "outputId": "c8fbfab3-003f-4291-8eb9-5de7bba5e53c"
   },
   "outputs": [
    {
     "name": "stdout",
     "output_type": "stream",
     "text": [
      "Initial number of duplicates is  5225\n"
     ]
    }
   ],
   "source": [
    "print(\"Initial number of duplicates is \", sum(df_dropna.duplicated()))"
   ]
  },
  {
   "cell_type": "code",
   "execution_count": 17,
   "metadata": {
    "colab": {
     "base_uri": "https://localhost:8080/",
     "height": 34
    },
    "colab_type": "code",
    "id": "Zf6ibNaM_jJZ",
    "outputId": "e0c97401-b88e-4554-d64a-9d41b74a7ecf"
   },
   "outputs": [
    {
     "name": "stdout",
     "output_type": "stream",
     "text": [
      "number of duplicates after dropping is  0\n"
     ]
    }
   ],
   "source": [
    "# Dropping all duplicates\n",
    "df_dropna.drop_duplicates(inplace=True)\n",
    "# check - should be zero if you done everything right\n",
    "print(\"number of duplicates after dropping is \", sum(df_dropna.duplicated()))"
   ]
  },
  {
   "cell_type": "code",
   "execution_count": 18,
   "metadata": {
    "colab": {
     "base_uri": "https://localhost:8080/",
     "height": 34
    },
    "colab_type": "code",
    "id": "F4jEk_h0pEqv",
    "outputId": "c0b66d27-2140-44b7-8c29-c345d2f418d7"
   },
   "outputs": [
    {
     "data": {
      "text/plain": [
       "(401604, 8)"
      ]
     },
     "execution_count": 18,
     "metadata": {
      "tags": []
     },
     "output_type": "execute_result"
    }
   ],
   "source": [
    "df_dropna.shape"
   ]
  },
  {
   "cell_type": "markdown",
   "metadata": {
    "colab_type": "text",
    "id": "1R_XEe0CpD_d"
   },
   "source": [
    "### Raw Data after dropping missing values\n",
    "* Number of columns (features) = **8**\n",
    "* Number of rows (records or observations) = **401604**"
   ]
  },
  {
   "cell_type": "markdown",
   "metadata": {
    "colab_type": "text",
    "id": "FwjLY1Se-FGA"
   },
   "source": [
    "## 1.6) Save data\n",
    "Save preprocessed data to the file `data_dropna.csv` and the original data to `data.csv`"
   ]
  },
  {
   "cell_type": "code",
   "execution_count": 0,
   "metadata": {
    "colab": {},
    "colab_type": "code",
    "id": "T09cdV1TBGQJ"
   },
   "outputs": [],
   "source": [
    "df_dropna.to_csv(path + 'data_dropna.csv')\n",
    "df.to_csv(path + 'data_orig.csv') \n"
   ]
  },
  {
   "cell_type": "markdown",
   "metadata": {
    "colab_type": "text",
    "id": "VjE4jm5Z-glH"
   },
   "source": [
    "# 2) Data Exploration\n",
    "This dataframe contains 8 variables that correspond to:\n",
    "\n",
    "1. **InvoiceNo**: Invoice number. Nominal, a 6-digit integral number uniquely assigned to each transaction. If this code starts with letter 'c', it indicates a cancellation.\n",
    "2. **StockCode**: Product (item) code. Nominal, a 5-digit integral number uniquely assigned to each distinct product.\n",
    "3. **Description**: Product (item) name. Nominal.\n",
    "4. **Quantity**: The quantities of each product (item) per transaction. Numeric.\n",
    "4. **InvoiceDate**: Invoice Date and time. Numeric, the day and time when each transaction was generated.\n",
    "5. **UnitPrice**: Unit price. Numeric, Product price per unit in sterling.\n",
    "6. **CustomerID**: Customer number. Nominal, a 5-digit integral number uniquely assigned to each customer.\n",
    "7. **Country**: Country name. Nominal, the name of the country where each customer resides."
   ]
  },
  {
   "cell_type": "code",
   "execution_count": 23,
   "metadata": {
    "colab": {
     "base_uri": "https://localhost:8080/",
     "height": 204
    },
    "colab_type": "code",
    "id": "0vSIE9C2HRVD",
    "outputId": "7b22bd34-066d-4529-f569-78c50c4b2c3b"
   },
   "outputs": [
    {
     "data": {
      "text/html": [
       "<div>\n",
       "<style scoped>\n",
       "    .dataframe tbody tr th:only-of-type {\n",
       "        vertical-align: middle;\n",
       "    }\n",
       "\n",
       "    .dataframe tbody tr th {\n",
       "        vertical-align: top;\n",
       "    }\n",
       "\n",
       "    .dataframe thead th {\n",
       "        text-align: right;\n",
       "    }\n",
       "</style>\n",
       "<table border=\"1\" class=\"dataframe\">\n",
       "  <thead>\n",
       "    <tr style=\"text-align: right;\">\n",
       "      <th></th>\n",
       "      <th>Unnamed: 0</th>\n",
       "      <th>InvoiceNo</th>\n",
       "      <th>StockCode</th>\n",
       "      <th>Description</th>\n",
       "      <th>Quantity</th>\n",
       "      <th>InvoiceDate</th>\n",
       "      <th>UnitPrice</th>\n",
       "      <th>CustomerID</th>\n",
       "      <th>Country</th>\n",
       "    </tr>\n",
       "  </thead>\n",
       "  <tbody>\n",
       "    <tr>\n",
       "      <th>0</th>\n",
       "      <td>0</td>\n",
       "      <td>536365</td>\n",
       "      <td>85123A</td>\n",
       "      <td>WHITE HANGING HEART T-LIGHT HOLDER</td>\n",
       "      <td>6</td>\n",
       "      <td>2010-12-01 08:26:00</td>\n",
       "      <td>2.55</td>\n",
       "      <td>17850</td>\n",
       "      <td>United Kingdom</td>\n",
       "    </tr>\n",
       "    <tr>\n",
       "      <th>1</th>\n",
       "      <td>1</td>\n",
       "      <td>536365</td>\n",
       "      <td>71053</td>\n",
       "      <td>WHITE METAL LANTERN</td>\n",
       "      <td>6</td>\n",
       "      <td>2010-12-01 08:26:00</td>\n",
       "      <td>3.39</td>\n",
       "      <td>17850</td>\n",
       "      <td>United Kingdom</td>\n",
       "    </tr>\n",
       "    <tr>\n",
       "      <th>2</th>\n",
       "      <td>2</td>\n",
       "      <td>536365</td>\n",
       "      <td>84406B</td>\n",
       "      <td>CREAM CUPID HEARTS COAT HANGER</td>\n",
       "      <td>8</td>\n",
       "      <td>2010-12-01 08:26:00</td>\n",
       "      <td>2.75</td>\n",
       "      <td>17850</td>\n",
       "      <td>United Kingdom</td>\n",
       "    </tr>\n",
       "    <tr>\n",
       "      <th>3</th>\n",
       "      <td>3</td>\n",
       "      <td>536365</td>\n",
       "      <td>84029G</td>\n",
       "      <td>KNITTED UNION FLAG HOT WATER BOTTLE</td>\n",
       "      <td>6</td>\n",
       "      <td>2010-12-01 08:26:00</td>\n",
       "      <td>3.39</td>\n",
       "      <td>17850</td>\n",
       "      <td>United Kingdom</td>\n",
       "    </tr>\n",
       "    <tr>\n",
       "      <th>4</th>\n",
       "      <td>4</td>\n",
       "      <td>536365</td>\n",
       "      <td>84029E</td>\n",
       "      <td>RED WOOLLY HOTTIE WHITE HEART.</td>\n",
       "      <td>6</td>\n",
       "      <td>2010-12-01 08:26:00</td>\n",
       "      <td>3.39</td>\n",
       "      <td>17850</td>\n",
       "      <td>United Kingdom</td>\n",
       "    </tr>\n",
       "  </tbody>\n",
       "</table>\n",
       "</div>"
      ],
      "text/plain": [
       "   Unnamed: 0 InvoiceNo StockCode  ... UnitPrice  CustomerID         Country\n",
       "0           0    536365    85123A  ...      2.55       17850  United Kingdom\n",
       "1           1    536365     71053  ...      3.39       17850  United Kingdom\n",
       "2           2    536365    84406B  ...      2.75       17850  United Kingdom\n",
       "3           3    536365    84029G  ...      3.39       17850  United Kingdom\n",
       "4           4    536365    84029E  ...      3.39       17850  United Kingdom\n",
       "\n",
       "[5 rows x 9 columns]"
      ]
     },
     "execution_count": 23,
     "metadata": {
      "tags": []
     },
     "output_type": "execute_result"
    }
   ],
   "source": [
    "# from google.colab import drive\n",
    "# drive.mount('/content/drive')\n",
    "path = '/content/mydriv/My Drive/Customer_Segmentation/'\n",
    "df_dropna = pd.read_csv(path + 'data_dropna.csv', encoding='latin', dtype={'CustomerID': str}) \n",
    "df = pd.read_csv(path + 'data.csv', encoding='latin', dtype={'CustomerID': str}) \n",
    "df_dropna.head()"
   ]
  },
  {
   "cell_type": "markdown",
   "metadata": {
    "colab_type": "text",
    "id": "-yScaF9K_Wr_"
   },
   "source": [
    "## 2.1) Number of customers ( with reference to products and countries)\n",
    "\n",
    "* Find the numbers of customers, products and transactions (let's say each transaction corresponds to a unique InvoiceNo).\n",
    "\n",
    "* Find top 10 countries with the largest numbers of purchases sorted in descreasing order.  Use `.groupby` and `.unique` functions."
   ]
  },
  {
   "cell_type": "code",
   "execution_count": 25,
   "metadata": {
    "colab": {
     "base_uri": "https://localhost:8080/",
     "height": 173
    },
    "colab_type": "code",
    "id": "h_BD87SIIiPA",
    "outputId": "afaccde4-8787-49dd-e552-54f5d240b80f"
   },
   "outputs": [
    {
     "data": {
      "text/html": [
       "<div>\n",
       "<style scoped>\n",
       "    .dataframe tbody tr th:only-of-type {\n",
       "        vertical-align: middle;\n",
       "    }\n",
       "\n",
       "    .dataframe tbody tr th {\n",
       "        vertical-align: top;\n",
       "    }\n",
       "\n",
       "    .dataframe thead th {\n",
       "        text-align: right;\n",
       "    }\n",
       "</style>\n",
       "<table border=\"1\" class=\"dataframe\">\n",
       "  <thead>\n",
       "    <tr style=\"text-align: right;\">\n",
       "      <th></th>\n",
       "      <th>InvoiceNo</th>\n",
       "      <th>StockCode</th>\n",
       "      <th>CustomerID</th>\n",
       "    </tr>\n",
       "  </thead>\n",
       "  <tbody>\n",
       "    <tr>\n",
       "      <th>count</th>\n",
       "      <td>401604</td>\n",
       "      <td>401604</td>\n",
       "      <td>401604</td>\n",
       "    </tr>\n",
       "    <tr>\n",
       "      <th>unique</th>\n",
       "      <td>22190</td>\n",
       "      <td>3684</td>\n",
       "      <td>4372</td>\n",
       "    </tr>\n",
       "    <tr>\n",
       "      <th>top</th>\n",
       "      <td>576339</td>\n",
       "      <td>85123A</td>\n",
       "      <td>17841</td>\n",
       "    </tr>\n",
       "    <tr>\n",
       "      <th>freq</th>\n",
       "      <td>542</td>\n",
       "      <td>2065</td>\n",
       "      <td>7812</td>\n",
       "    </tr>\n",
       "  </tbody>\n",
       "</table>\n",
       "</div>"
      ],
      "text/plain": [
       "       InvoiceNo StockCode CustomerID\n",
       "count     401604    401604     401604\n",
       "unique     22190      3684       4372\n",
       "top       576339    85123A      17841\n",
       "freq         542      2065       7812"
      ]
     },
     "execution_count": 25,
     "metadata": {
      "tags": []
     },
     "output_type": "execute_result"
    }
   ],
   "source": [
    "df_dropna[['InvoiceNo', 'StockCode', 'CustomerID',]].describe()"
   ]
  },
  {
   "cell_type": "markdown",
   "metadata": {
    "colab_type": "text",
    "id": "0q_9ywGaIxdo"
   },
   "source": [
    "* As we can see below on the row \"unique\", there are **22190** *transactions*, **3684** *products* and **4372** *customers*."
   ]
  },
  {
   "cell_type": "code",
   "execution_count": 31,
   "metadata": {
    "colab": {
     "base_uri": "https://localhost:8080/",
     "height": 390
    },
    "colab_type": "code",
    "id": "KN1vhFy3JBc_",
    "outputId": "07188a25-4322-4031-8d7d-fbd20e702c52"
   },
   "outputs": [
    {
     "data": {
      "text/html": [
       "<div>\n",
       "<style scoped>\n",
       "    .dataframe tbody tr th:only-of-type {\n",
       "        vertical-align: middle;\n",
       "    }\n",
       "\n",
       "    .dataframe tbody tr th {\n",
       "        vertical-align: top;\n",
       "    }\n",
       "\n",
       "    .dataframe thead th {\n",
       "        text-align: right;\n",
       "    }\n",
       "</style>\n",
       "<table border=\"1\" class=\"dataframe\">\n",
       "  <thead>\n",
       "    <tr style=\"text-align: right;\">\n",
       "      <th></th>\n",
       "      <th>InvoiceNo</th>\n",
       "    </tr>\n",
       "    <tr>\n",
       "      <th>Country</th>\n",
       "      <th></th>\n",
       "    </tr>\n",
       "  </thead>\n",
       "  <tbody>\n",
       "    <tr>\n",
       "      <th>United Kingdom</th>\n",
       "      <td>356728</td>\n",
       "    </tr>\n",
       "    <tr>\n",
       "      <th>Germany</th>\n",
       "      <td>9480</td>\n",
       "    </tr>\n",
       "    <tr>\n",
       "      <th>France</th>\n",
       "      <td>8475</td>\n",
       "    </tr>\n",
       "    <tr>\n",
       "      <th>EIRE</th>\n",
       "      <td>7475</td>\n",
       "    </tr>\n",
       "    <tr>\n",
       "      <th>Spain</th>\n",
       "      <td>2528</td>\n",
       "    </tr>\n",
       "    <tr>\n",
       "      <th>Netherlands</th>\n",
       "      <td>2371</td>\n",
       "    </tr>\n",
       "    <tr>\n",
       "      <th>Belgium</th>\n",
       "      <td>2069</td>\n",
       "    </tr>\n",
       "    <tr>\n",
       "      <th>Switzerland</th>\n",
       "      <td>1877</td>\n",
       "    </tr>\n",
       "    <tr>\n",
       "      <th>Portugal</th>\n",
       "      <td>1471</td>\n",
       "    </tr>\n",
       "    <tr>\n",
       "      <th>Australia</th>\n",
       "      <td>1258</td>\n",
       "    </tr>\n",
       "  </tbody>\n",
       "</table>\n",
       "</div>"
      ],
      "text/plain": [
       "                InvoiceNo\n",
       "Country                  \n",
       "United Kingdom     356728\n",
       "Germany              9480\n",
       "France               8475\n",
       "EIRE                 7475\n",
       "Spain                2528\n",
       "Netherlands          2371\n",
       "Belgium              2069\n",
       "Switzerland          1877\n",
       "Portugal             1471\n",
       "Australia            1258"
      ]
     },
     "execution_count": 31,
     "metadata": {
      "tags": []
     },
     "output_type": "execute_result"
    }
   ],
   "source": [
    "df_dropna[['Country', 'InvoiceNo']].groupby('Country').count()\\\n",
    ".sort_values(by='InvoiceNo', ascending=False).head(10)"
   ]
  },
  {
   "cell_type": "markdown",
   "metadata": {
    "colab_type": "text",
    "id": "K5GuiwbEBemn"
   },
   "source": [
    "## 2.2) Products per transaction\n",
    "\n",
    "* Finding the numbers of products in each transaction, then print the top 10 "
   ]
  },
  {
   "cell_type": "code",
   "execution_count": 32,
   "metadata": {
    "colab": {
     "base_uri": "https://localhost:8080/",
     "height": 390
    },
    "colab_type": "code",
    "id": "tEDyk_mrKE4J",
    "outputId": "df11b60d-e047-4b01-ea5d-70d584e51c44"
   },
   "outputs": [
    {
     "data": {
      "text/html": [
       "<div>\n",
       "<style scoped>\n",
       "    .dataframe tbody tr th:only-of-type {\n",
       "        vertical-align: middle;\n",
       "    }\n",
       "\n",
       "    .dataframe tbody tr th {\n",
       "        vertical-align: top;\n",
       "    }\n",
       "\n",
       "    .dataframe thead th {\n",
       "        text-align: right;\n",
       "    }\n",
       "</style>\n",
       "<table border=\"1\" class=\"dataframe\">\n",
       "  <thead>\n",
       "    <tr style=\"text-align: right;\">\n",
       "      <th></th>\n",
       "      <th>Number of products</th>\n",
       "    </tr>\n",
       "    <tr>\n",
       "      <th>InvoiceNo</th>\n",
       "      <th></th>\n",
       "    </tr>\n",
       "  </thead>\n",
       "  <tbody>\n",
       "    <tr>\n",
       "      <th>576339</th>\n",
       "      <td>542</td>\n",
       "    </tr>\n",
       "    <tr>\n",
       "      <th>579196</th>\n",
       "      <td>533</td>\n",
       "    </tr>\n",
       "    <tr>\n",
       "      <th>580727</th>\n",
       "      <td>529</td>\n",
       "    </tr>\n",
       "    <tr>\n",
       "      <th>578270</th>\n",
       "      <td>442</td>\n",
       "    </tr>\n",
       "    <tr>\n",
       "      <th>573576</th>\n",
       "      <td>435</td>\n",
       "    </tr>\n",
       "    <tr>\n",
       "      <th>567656</th>\n",
       "      <td>421</td>\n",
       "    </tr>\n",
       "    <tr>\n",
       "      <th>567183</th>\n",
       "      <td>392</td>\n",
       "    </tr>\n",
       "    <tr>\n",
       "      <th>575607</th>\n",
       "      <td>377</td>\n",
       "    </tr>\n",
       "    <tr>\n",
       "      <th>571441</th>\n",
       "      <td>364</td>\n",
       "    </tr>\n",
       "    <tr>\n",
       "      <th>570488</th>\n",
       "      <td>353</td>\n",
       "    </tr>\n",
       "  </tbody>\n",
       "</table>\n",
       "</div>"
      ],
      "text/plain": [
       "           Number of products\n",
       "InvoiceNo                    \n",
       "576339                    542\n",
       "579196                    533\n",
       "580727                    529\n",
       "578270                    442\n",
       "573576                    435\n",
       "567656                    421\n",
       "567183                    392\n",
       "575607                    377\n",
       "571441                    364\n",
       "570488                    353"
      ]
     },
     "execution_count": 32,
     "metadata": {
      "tags": []
     },
     "output_type": "execute_result"
    }
   ],
   "source": [
    "# number of products per transaction\n",
    "df_dropna[['InvoiceNo','StockCode']].groupby(['InvoiceNo']).count()\\\n",
    ".rename(columns = {'StockCode':'Number of products'})\\\n",
    ".sort_values(by='Number of products', ascending=False).head(10)"
   ]
  },
  {
   "cell_type": "markdown",
   "metadata": {
    "colab_type": "text",
    "id": "wvfesr10Bt5k"
   },
   "source": [
    "## 2.3) Transactions per country\n",
    "\n",
    "Below we find the numbers of transactions per country:"
   ]
  },
  {
   "cell_type": "code",
   "execution_count": 26,
   "metadata": {
    "colab": {
     "base_uri": "https://localhost:8080/",
     "height": 680
    },
    "colab_type": "code",
    "id": "bvuEPNX3BwGT",
    "outputId": "5791654d-caab-4ca3-b80a-f38d726f4578"
   },
   "outputs": [
    {
     "name": "stdout",
     "output_type": "stream",
     "text": [
      "United Kingdom          23494\n",
      "Germany                   603\n",
      "France                    461\n",
      "EIRE                      360\n",
      "Belgium                   119\n",
      "Spain                     105\n",
      "Netherlands               101\n",
      "Switzerland                74\n",
      "Portugal                   71\n",
      "Australia                  69\n",
      "Italy                      55\n",
      "Finland                    48\n",
      "Sweden                     46\n",
      "Norway                     40\n",
      "Channel Islands            33\n",
      "Japan                      28\n",
      "Poland                     24\n",
      "Denmark                    21\n",
      "Cyprus                     20\n",
      "Austria                    19\n",
      "Hong Kong                  15\n",
      "Unspecified                13\n",
      "Malta                      10\n",
      "Singapore                  10\n",
      "Israel                      9\n",
      "USA                         7\n",
      "Iceland                     7\n",
      "Canada                      6\n",
      "Greece                      6\n",
      "Czech Republic              5\n",
      "European Community          5\n",
      "Bahrain                     4\n",
      "Lithuania                   4\n",
      "United Arab Emirates        3\n",
      "Saudi Arabia                2\n",
      "RSA                         1\n",
      "Brazil                      1\n",
      "Lebanon                     1\n",
      "Name: Country, dtype: int64\n"
     ]
    }
   ],
   "source": [
    "# transactions per country\n",
    "transPerCountry = df[['InvoiceNo', 'Country']].groupby(['InvoiceNo', 'Country'])\\\n",
    ".count().reset_index(drop = False)\\\n",
    "['Country'].value_counts()\n",
    "print(transPerCountry)"
   ]
  },
  {
   "cell_type": "code",
   "execution_count": 28,
   "metadata": {
    "colab": {
     "base_uri": "https://localhost:8080/",
     "height": 542
    },
    "colab_type": "code",
    "id": "fIBaxYrrB_dN",
    "outputId": "61f89fa3-fb72-4dda-f418-2ed636335c91"
   },
   "outputs": [
    {
     "data": {
      "text/html": [
       "<html>\n",
       "<head><meta charset=\"utf-8\" /></head>\n",
       "<body>\n",
       "    <div>\n",
       "            <script src=\"https://cdnjs.cloudflare.com/ajax/libs/mathjax/2.7.5/MathJax.js?config=TeX-AMS-MML_SVG\"></script><script type=\"text/javascript\">if (window.MathJax) {MathJax.Hub.Config({SVG: {font: \"STIX-Web\"}});}</script>\n",
       "                <script type=\"text/javascript\">window.PlotlyConfig = {MathJaxConfig: 'local'};</script>\n",
       "        <script src=\"https://cdn.plot.ly/plotly-latest.min.js\"></script>    \n",
       "            <div id=\"f0e2b551-a333-4e3d-9d8d-414295c312c4\" class=\"plotly-graph-div\" style=\"height:525px; width:100%;\"></div>\n",
       "            <script type=\"text/javascript\">\n",
       "                \n",
       "                    window.PLOTLYENV=window.PLOTLYENV || {};\n",
       "                    \n",
       "                if (document.getElementById(\"f0e2b551-a333-4e3d-9d8d-414295c312c4\")) {\n",
       "                    Plotly.newPlot(\n",
       "                        'f0e2b551-a333-4e3d-9d8d-414295c312c4',\n",
       "                        [{\"colorbar\": {\"title\": {\"text\": \"Number of Orders\"}}, \"colorscale\": [[0, \"rgb(224,255,255)\"], [0.01, \"rgb(166,206,227)\"], [0.02, \"rgb(31,120,180)\"], [0.03, \"rgb(178,223,138)\"], [0.05, \"rgb(51,160,44)\"], [0.1, \"rgb(251,154,153)\"], [0.2, \"rgb(255,255,0)\"], [1, \"rgb(227,26,28)\"]], \"locationmode\": \"country names\", \"locations\": [\"United Kingdom\", \"Germany\", \"France\", \"EIRE\", \"Belgium\", \"Spain\", \"Netherlands\", \"Switzerland\", \"Portugal\", \"Australia\", \"Italy\", \"Finland\", \"Sweden\", \"Norway\", \"Channel Islands\", \"Japan\", \"Poland\", \"Denmark\", \"Cyprus\", \"Austria\", \"Hong Kong\", \"Unspecified\", \"Malta\", \"Singapore\", \"Israel\", \"USA\", \"Iceland\", \"Canada\", \"Greece\", \"Czech Republic\", \"European Community\", \"Bahrain\", \"Lithuania\", \"United Arab Emirates\", \"Saudi Arabia\", \"RSA\", \"Brazil\", \"Lebanon\"], \"reversescale\": false, \"text\": [\"United Kingdom\", \"Germany\", \"France\", \"EIRE\", \"Belgium\", \"Spain\", \"Netherlands\", \"Switzerland\", \"Portugal\", \"Australia\", \"Italy\", \"Finland\", \"Sweden\", \"Norway\", \"Channel Islands\", \"Japan\", \"Poland\", \"Denmark\", \"Cyprus\", \"Austria\", \"Hong Kong\", \"Unspecified\", \"Malta\", \"Singapore\", \"Israel\", \"USA\", \"Iceland\", \"Canada\", \"Greece\", \"Czech Republic\", \"European Community\", \"Bahrain\", \"Lithuania\", \"United Arab Emirates\", \"Saudi Arabia\", \"RSA\", \"Brazil\", \"Lebanon\"], \"type\": \"choropleth\", \"z\": [23494, 603, 461, 360, 119, 105, 101, 74, 71, 69, 55, 48, 46, 40, 33, 28, 24, 21, 20, 19, 15, 13, 10, 10, 9, 7, 7, 6, 6, 5, 5, 4, 4, 3, 2, 1, 1, 1]}],\n",
       "                        {\"geo\": {\"projection\": {\"type\": \"mercator\"}, \"showframe\": true}, \"template\": {\"data\": {\"bar\": [{\"error_x\": {\"color\": \"#2a3f5f\"}, \"error_y\": {\"color\": \"#2a3f5f\"}, \"marker\": {\"line\": {\"color\": \"#E5ECF6\", \"width\": 0.5}}, \"type\": \"bar\"}], \"barpolar\": [{\"marker\": {\"line\": {\"color\": \"#E5ECF6\", \"width\": 0.5}}, \"type\": \"barpolar\"}], \"carpet\": [{\"aaxis\": {\"endlinecolor\": \"#2a3f5f\", \"gridcolor\": \"white\", \"linecolor\": \"white\", \"minorgridcolor\": \"white\", \"startlinecolor\": \"#2a3f5f\"}, \"baxis\": {\"endlinecolor\": \"#2a3f5f\", \"gridcolor\": \"white\", \"linecolor\": \"white\", \"minorgridcolor\": \"white\", \"startlinecolor\": \"#2a3f5f\"}, \"type\": \"carpet\"}], \"choropleth\": [{\"colorbar\": {\"outlinewidth\": 0, \"ticks\": \"\"}, \"type\": \"choropleth\"}], \"contour\": [{\"colorbar\": {\"outlinewidth\": 0, \"ticks\": \"\"}, \"colorscale\": [[0.0, \"#0d0887\"], [0.1111111111111111, \"#46039f\"], [0.2222222222222222, \"#7201a8\"], [0.3333333333333333, \"#9c179e\"], [0.4444444444444444, \"#bd3786\"], [0.5555555555555556, \"#d8576b\"], [0.6666666666666666, \"#ed7953\"], [0.7777777777777778, \"#fb9f3a\"], [0.8888888888888888, \"#fdca26\"], [1.0, \"#f0f921\"]], \"type\": \"contour\"}], \"contourcarpet\": [{\"colorbar\": {\"outlinewidth\": 0, \"ticks\": \"\"}, \"type\": \"contourcarpet\"}], \"heatmap\": [{\"colorbar\": {\"outlinewidth\": 0, \"ticks\": \"\"}, \"colorscale\": [[0.0, \"#0d0887\"], [0.1111111111111111, \"#46039f\"], [0.2222222222222222, \"#7201a8\"], [0.3333333333333333, \"#9c179e\"], [0.4444444444444444, \"#bd3786\"], [0.5555555555555556, \"#d8576b\"], [0.6666666666666666, \"#ed7953\"], [0.7777777777777778, \"#fb9f3a\"], [0.8888888888888888, \"#fdca26\"], [1.0, \"#f0f921\"]], \"type\": \"heatmap\"}], \"heatmapgl\": [{\"colorbar\": {\"outlinewidth\": 0, \"ticks\": \"\"}, \"colorscale\": [[0.0, \"#0d0887\"], [0.1111111111111111, \"#46039f\"], [0.2222222222222222, \"#7201a8\"], [0.3333333333333333, \"#9c179e\"], [0.4444444444444444, \"#bd3786\"], [0.5555555555555556, \"#d8576b\"], [0.6666666666666666, \"#ed7953\"], [0.7777777777777778, \"#fb9f3a\"], [0.8888888888888888, \"#fdca26\"], [1.0, \"#f0f921\"]], \"type\": \"heatmapgl\"}], \"histogram\": [{\"marker\": {\"colorbar\": {\"outlinewidth\": 0, \"ticks\": \"\"}}, \"type\": \"histogram\"}], \"histogram2d\": [{\"colorbar\": {\"outlinewidth\": 0, \"ticks\": \"\"}, \"colorscale\": [[0.0, \"#0d0887\"], [0.1111111111111111, \"#46039f\"], [0.2222222222222222, \"#7201a8\"], [0.3333333333333333, \"#9c179e\"], [0.4444444444444444, \"#bd3786\"], [0.5555555555555556, \"#d8576b\"], [0.6666666666666666, \"#ed7953\"], [0.7777777777777778, \"#fb9f3a\"], [0.8888888888888888, \"#fdca26\"], [1.0, \"#f0f921\"]], \"type\": \"histogram2d\"}], \"histogram2dcontour\": [{\"colorbar\": {\"outlinewidth\": 0, \"ticks\": \"\"}, \"colorscale\": [[0.0, \"#0d0887\"], [0.1111111111111111, \"#46039f\"], [0.2222222222222222, \"#7201a8\"], [0.3333333333333333, \"#9c179e\"], [0.4444444444444444, \"#bd3786\"], [0.5555555555555556, \"#d8576b\"], [0.6666666666666666, \"#ed7953\"], [0.7777777777777778, \"#fb9f3a\"], [0.8888888888888888, \"#fdca26\"], [1.0, \"#f0f921\"]], \"type\": \"histogram2dcontour\"}], \"mesh3d\": [{\"colorbar\": {\"outlinewidth\": 0, \"ticks\": \"\"}, \"type\": \"mesh3d\"}], \"parcoords\": [{\"line\": {\"colorbar\": {\"outlinewidth\": 0, \"ticks\": \"\"}}, \"type\": \"parcoords\"}], \"pie\": [{\"automargin\": true, \"type\": \"pie\"}], \"scatter\": [{\"marker\": {\"colorbar\": {\"outlinewidth\": 0, \"ticks\": \"\"}}, \"type\": \"scatter\"}], \"scatter3d\": [{\"line\": {\"colorbar\": {\"outlinewidth\": 0, \"ticks\": \"\"}}, \"marker\": {\"colorbar\": {\"outlinewidth\": 0, \"ticks\": \"\"}}, \"type\": \"scatter3d\"}], \"scattercarpet\": [{\"marker\": {\"colorbar\": {\"outlinewidth\": 0, \"ticks\": \"\"}}, \"type\": \"scattercarpet\"}], \"scattergeo\": [{\"marker\": {\"colorbar\": {\"outlinewidth\": 0, \"ticks\": \"\"}}, \"type\": \"scattergeo\"}], \"scattergl\": [{\"marker\": {\"colorbar\": {\"outlinewidth\": 0, \"ticks\": \"\"}}, \"type\": \"scattergl\"}], \"scattermapbox\": [{\"marker\": {\"colorbar\": {\"outlinewidth\": 0, \"ticks\": \"\"}}, \"type\": \"scattermapbox\"}], \"scatterpolar\": [{\"marker\": {\"colorbar\": {\"outlinewidth\": 0, \"ticks\": \"\"}}, \"type\": \"scatterpolar\"}], \"scatterpolargl\": [{\"marker\": {\"colorbar\": {\"outlinewidth\": 0, \"ticks\": \"\"}}, \"type\": \"scatterpolargl\"}], \"scatterternary\": [{\"marker\": {\"colorbar\": {\"outlinewidth\": 0, \"ticks\": \"\"}}, \"type\": \"scatterternary\"}], \"surface\": [{\"colorbar\": {\"outlinewidth\": 0, \"ticks\": \"\"}, \"colorscale\": [[0.0, \"#0d0887\"], [0.1111111111111111, \"#46039f\"], [0.2222222222222222, \"#7201a8\"], [0.3333333333333333, \"#9c179e\"], [0.4444444444444444, \"#bd3786\"], [0.5555555555555556, \"#d8576b\"], [0.6666666666666666, \"#ed7953\"], [0.7777777777777778, \"#fb9f3a\"], [0.8888888888888888, \"#fdca26\"], [1.0, \"#f0f921\"]], \"type\": \"surface\"}], \"table\": [{\"cells\": {\"fill\": {\"color\": \"#EBF0F8\"}, \"line\": {\"color\": \"white\"}}, \"header\": {\"fill\": {\"color\": \"#C8D4E3\"}, \"line\": {\"color\": \"white\"}}, \"type\": \"table\"}]}, \"layout\": {\"annotationdefaults\": {\"arrowcolor\": \"#2a3f5f\", \"arrowhead\": 0, \"arrowwidth\": 1}, \"coloraxis\": {\"colorbar\": {\"outlinewidth\": 0, \"ticks\": \"\"}}, \"colorscale\": {\"diverging\": [[0, \"#8e0152\"], [0.1, \"#c51b7d\"], [0.2, \"#de77ae\"], [0.3, \"#f1b6da\"], [0.4, \"#fde0ef\"], [0.5, \"#f7f7f7\"], [0.6, \"#e6f5d0\"], [0.7, \"#b8e186\"], [0.8, \"#7fbc41\"], [0.9, \"#4d9221\"], [1, \"#276419\"]], \"sequential\": [[0.0, \"#0d0887\"], [0.1111111111111111, \"#46039f\"], [0.2222222222222222, \"#7201a8\"], [0.3333333333333333, \"#9c179e\"], [0.4444444444444444, \"#bd3786\"], [0.5555555555555556, \"#d8576b\"], [0.6666666666666666, \"#ed7953\"], [0.7777777777777778, \"#fb9f3a\"], [0.8888888888888888, \"#fdca26\"], [1.0, \"#f0f921\"]], \"sequentialminus\": [[0.0, \"#0d0887\"], [0.1111111111111111, \"#46039f\"], [0.2222222222222222, \"#7201a8\"], [0.3333333333333333, \"#9c179e\"], [0.4444444444444444, \"#bd3786\"], [0.5555555555555556, \"#d8576b\"], [0.6666666666666666, \"#ed7953\"], [0.7777777777777778, \"#fb9f3a\"], [0.8888888888888888, \"#fdca26\"], [1.0, \"#f0f921\"]]}, \"colorway\": [\"#636efa\", \"#EF553B\", \"#00cc96\", \"#ab63fa\", \"#FFA15A\", \"#19d3f3\", \"#FF6692\", \"#B6E880\", \"#FF97FF\", \"#FECB52\"], \"font\": {\"color\": \"#2a3f5f\"}, \"geo\": {\"bgcolor\": \"white\", \"lakecolor\": \"white\", \"landcolor\": \"#E5ECF6\", \"showlakes\": true, \"showland\": true, \"subunitcolor\": \"white\"}, \"hoverlabel\": {\"align\": \"left\"}, \"hovermode\": \"closest\", \"mapbox\": {\"style\": \"light\"}, \"paper_bgcolor\": \"white\", \"plot_bgcolor\": \"#E5ECF6\", \"polar\": {\"angularaxis\": {\"gridcolor\": \"white\", \"linecolor\": \"white\", \"ticks\": \"\"}, \"bgcolor\": \"#E5ECF6\", \"radialaxis\": {\"gridcolor\": \"white\", \"linecolor\": \"white\", \"ticks\": \"\"}}, \"scene\": {\"xaxis\": {\"backgroundcolor\": \"#E5ECF6\", \"gridcolor\": \"white\", \"gridwidth\": 2, \"linecolor\": \"white\", \"showbackground\": true, \"ticks\": \"\", \"zerolinecolor\": \"white\"}, \"yaxis\": {\"backgroundcolor\": \"#E5ECF6\", \"gridcolor\": \"white\", \"gridwidth\": 2, \"linecolor\": \"white\", \"showbackground\": true, \"ticks\": \"\", \"zerolinecolor\": \"white\"}, \"zaxis\": {\"backgroundcolor\": \"#E5ECF6\", \"gridcolor\": \"white\", \"gridwidth\": 2, \"linecolor\": \"white\", \"showbackground\": true, \"ticks\": \"\", \"zerolinecolor\": \"white\"}}, \"shapedefaults\": {\"line\": {\"color\": \"#2a3f5f\"}}, \"ternary\": {\"aaxis\": {\"gridcolor\": \"white\", \"linecolor\": \"white\", \"ticks\": \"\"}, \"baxis\": {\"gridcolor\": \"white\", \"linecolor\": \"white\", \"ticks\": \"\"}, \"bgcolor\": \"#E5ECF6\", \"caxis\": {\"gridcolor\": \"white\", \"linecolor\": \"white\", \"ticks\": \"\"}}, \"title\": {\"x\": 0.05}, \"xaxis\": {\"automargin\": true, \"gridcolor\": \"white\", \"linecolor\": \"white\", \"ticks\": \"\", \"title\": {\"standoff\": 15}, \"zerolinecolor\": \"white\", \"zerolinewidth\": 2}, \"yaxis\": {\"automargin\": true, \"gridcolor\": \"white\", \"linecolor\": \"white\", \"ticks\": \"\", \"title\": {\"standoff\": 15}, \"zerolinecolor\": \"white\", \"zerolinewidth\": 2}}}, \"title\": {\"text\": \"Number of transactions per country\"}},\n",
       "                        {\"responsive\": true}\n",
       "                    ).then(function(){\n",
       "                            \n",
       "var gd = document.getElementById('f0e2b551-a333-4e3d-9d8d-414295c312c4');\n",
       "var x = new MutationObserver(function (mutations, observer) {{\n",
       "        var display = window.getComputedStyle(gd).display;\n",
       "        if (!display || display === 'none') {{\n",
       "            console.log([gd, 'removed!']);\n",
       "            Plotly.purge(gd);\n",
       "            observer.disconnect();\n",
       "        }}\n",
       "}});\n",
       "\n",
       "// Listen for the removal of the full notebook cells\n",
       "var notebookContainer = gd.closest('#notebook-container');\n",
       "if (notebookContainer) {{\n",
       "    x.observe(notebookContainer, {childList: true});\n",
       "}}\n",
       "\n",
       "// Listen for the clearing of the current output cell\n",
       "var outputEl = gd.closest('.output');\n",
       "if (outputEl) {{\n",
       "    x.observe(outputEl, {childList: true});\n",
       "}}\n",
       "\n",
       "                        })\n",
       "                };\n",
       "                \n",
       "            </script>\n",
       "        </div>\n",
       "</body>\n",
       "</html>"
      ]
     },
     "metadata": {
      "tags": []
     },
     "output_type": "display_data"
    }
   ],
   "source": [
    "# choropleth map\n",
    "import plotly.graph_objs as go\n",
    "from plotly.offline import init_notebook_mode,iplot\n",
    "\n",
    "data = dict(type='choropleth',\n",
    "locations = transPerCountry.index,\n",
    "locationmode = 'country names', z = transPerCountry,\n",
    "text = transPerCountry.index, colorbar = {'title':'Number of Orders'},\n",
    "colorscale=[[0, 'rgb(224,255,255)'],\n",
    "            [0.01, 'rgb(166,206,227)'], [0.02, 'rgb(31,120,180)'],\n",
    "            [0.03, 'rgb(178,223,138)'], [0.05, 'rgb(51,160,44)'],\n",
    "            [0.10, 'rgb(251,154,153)'], [0.20, 'rgb(255,255,0)'],\n",
    "            [1, 'rgb(227,26,28)']],    \n",
    "reversescale = False)\n",
    "\n",
    "layout = dict(title='Number of transactions per country',\n",
    "geo = dict(showframe = True, projection={'type':'mercator'}))\n",
    "\n",
    "choromap = go.Figure(data = [data], layout = layout)\n",
    "iplot(choromap, validate=False)"
   ]
  },
  {
   "cell_type": "markdown",
   "metadata": {
    "colab_type": "text",
    "id": "TP4_K5YHCVju"
   },
   "source": [
    "## 2.4) Cancelled orders\n",
    "\n",
    "Among observations, there are those with negative quantities. They correspond to cancelled orders (transactions).\n",
    "\n",
    "* Computing the number of cancelled transactions (cancelled transactions' InvoiceNo contain letter 'C')"
   ]
  },
  {
   "cell_type": "code",
   "execution_count": 31,
   "metadata": {
    "colab": {
     "base_uri": "https://localhost:8080/",
     "height": 34
    },
    "colab_type": "code",
    "id": "sBrkCgehRFAy",
    "outputId": "2989016d-5e25-4e66-aefd-074427985fda"
   },
   "outputs": [
    {
     "name": "stdout",
     "output_type": "stream",
     "text": [
      "Number of cancelled transactions: 3654/22190 (16.47%)\n"
     ]
    }
   ],
   "source": [
    "orders = df_dropna.InvoiceNo.unique()\n",
    "n_orders = orders.shape[0]\n",
    "# check for character 'C' in InvoiceNo\n",
    "n_cancelled_orders = pd.Series(orders).apply(lambda x: 'C' in x).sum()\n",
    "\n",
    "print('Number of cancelled transactions: {}/{} ({:0.2f}%)'.format(n_cancelled_orders, n_orders,\\\n",
    "n_cancelled_orders/n_orders*100))"
   ]
  },
  {
   "cell_type": "markdown",
   "metadata": {
    "colab_type": "text",
    "id": "grVi4zkzUKub"
   },
   "source": [
    "#### Orders were majorly get cancelled due to 2 main reasons:\n",
    "\n",
    "1. Customer wish due to defective piece etc.\n",
    "2. Discounts after purchase"
   ]
  },
  {
   "cell_type": "code",
   "execution_count": 32,
   "metadata": {
    "colab": {
     "base_uri": "https://localhost:8080/",
     "height": 204
    },
    "colab_type": "code",
    "id": "do9ypNDZU3Up",
    "outputId": "96da2d1f-346e-49a8-d895-d7b65cf57e38"
   },
   "outputs": [
    {
     "data": {
      "text/html": [
       "<div>\n",
       "<style scoped>\n",
       "    .dataframe tbody tr th:only-of-type {\n",
       "        vertical-align: middle;\n",
       "    }\n",
       "\n",
       "    .dataframe tbody tr th {\n",
       "        vertical-align: top;\n",
       "    }\n",
       "\n",
       "    .dataframe thead th {\n",
       "        text-align: right;\n",
       "    }\n",
       "</style>\n",
       "<table border=\"1\" class=\"dataframe\">\n",
       "  <thead>\n",
       "    <tr style=\"text-align: right;\">\n",
       "      <th></th>\n",
       "      <th>InvoiceNo</th>\n",
       "      <th>StockCode</th>\n",
       "      <th>Description</th>\n",
       "      <th>Quantity</th>\n",
       "      <th>InvoiceDate</th>\n",
       "      <th>UnitPrice</th>\n",
       "      <th>CustomerID</th>\n",
       "      <th>Country</th>\n",
       "    </tr>\n",
       "  </thead>\n",
       "  <tbody>\n",
       "    <tr>\n",
       "      <th>141</th>\n",
       "      <td>C536379</td>\n",
       "      <td>D</td>\n",
       "      <td>Discount</td>\n",
       "      <td>-1</td>\n",
       "      <td>12/1/2010 9:41</td>\n",
       "      <td>27.50</td>\n",
       "      <td>14527</td>\n",
       "      <td>United Kingdom</td>\n",
       "    </tr>\n",
       "    <tr>\n",
       "      <th>154</th>\n",
       "      <td>C536383</td>\n",
       "      <td>35004C</td>\n",
       "      <td>SET OF 3 COLOURED  FLYING DUCKS</td>\n",
       "      <td>-1</td>\n",
       "      <td>12/1/2010 9:49</td>\n",
       "      <td>4.65</td>\n",
       "      <td>15311</td>\n",
       "      <td>United Kingdom</td>\n",
       "    </tr>\n",
       "    <tr>\n",
       "      <th>235</th>\n",
       "      <td>C536391</td>\n",
       "      <td>22556</td>\n",
       "      <td>PLASTERS IN TIN CIRCUS PARADE</td>\n",
       "      <td>-12</td>\n",
       "      <td>12/1/2010 10:24</td>\n",
       "      <td>1.65</td>\n",
       "      <td>17548</td>\n",
       "      <td>United Kingdom</td>\n",
       "    </tr>\n",
       "    <tr>\n",
       "      <th>236</th>\n",
       "      <td>C536391</td>\n",
       "      <td>21984</td>\n",
       "      <td>PACK OF 12 PINK PAISLEY TISSUES</td>\n",
       "      <td>-24</td>\n",
       "      <td>12/1/2010 10:24</td>\n",
       "      <td>0.29</td>\n",
       "      <td>17548</td>\n",
       "      <td>United Kingdom</td>\n",
       "    </tr>\n",
       "    <tr>\n",
       "      <th>237</th>\n",
       "      <td>C536391</td>\n",
       "      <td>21983</td>\n",
       "      <td>PACK OF 12 BLUE PAISLEY TISSUES</td>\n",
       "      <td>-24</td>\n",
       "      <td>12/1/2010 10:24</td>\n",
       "      <td>0.29</td>\n",
       "      <td>17548</td>\n",
       "      <td>United Kingdom</td>\n",
       "    </tr>\n",
       "  </tbody>\n",
       "</table>\n",
       "</div>"
      ],
      "text/plain": [
       "    InvoiceNo StockCode  ... CustomerID         Country\n",
       "141   C536379         D  ...      14527  United Kingdom\n",
       "154   C536383    35004C  ...      15311  United Kingdom\n",
       "235   C536391     22556  ...      17548  United Kingdom\n",
       "236   C536391     21984  ...      17548  United Kingdom\n",
       "237   C536391     21983  ...      17548  United Kingdom\n",
       "\n",
       "[5 rows x 8 columns]"
      ]
     },
     "execution_count": 32,
     "metadata": {
      "tags": []
     },
     "output_type": "execute_result"
    }
   ],
   "source": [
    "df.loc[df.InvoiceNo.apply(lambda x: 'C' in x)].head()"
   ]
  },
  {
   "cell_type": "markdown",
   "metadata": {
    "colab_type": "text",
    "id": "aswvk0SqE4ZF"
   },
   "source": [
    "* When there is a cancelling order, it's often the case that counterpart which is a another purchase order with the same CustomerID, Description and UnitPrice, but different InvoiceID and date.\n",
    "\n",
    "* Cancellations without a counterpart problaly due to the fact that the purchase commands happen before the beginning date of the data set, or they are discounts.\n",
    "\n",
    "* A new variable `QtyCancel` in the dataframe that indicate if part of the order has been canceled. \n",
    "\n",
    "* Two cases needs to be verified:\n",
    "\n",
    "1. a cancel order exists without counterpart (`bad_entry`)\n",
    "2. there's at least one counterpart (`delete_entry`)\n",
    "\n",
    "* The index of the corresponding cancel orders are respectively kept in the `bad_entry` and `delete_entry` lists."
   ]
  },
  {
   "cell_type": "code",
   "execution_count": 0,
   "metadata": {
    "colab": {},
    "colab_type": "code",
    "id": "ubzJfilyEzw8"
   },
   "outputs": [],
   "source": [
    "# Note: we don't consider discount entries\n",
    "# bad_entry: cancel entries with no counterpart\n",
    "# delete_entry: cancel entries with counterparts and there is at least one entry with higher quantity!\n",
    "\n",
    "### Takes a while to run as iterrows() is large\n",
    "\n",
    "df_cleaned = df_dropna.copy(deep = True)\n",
    "df_cleaned['QtyCancel'] = 0\n",
    "\n",
    "delete_entry = [] ; bad_entry = []\n",
    "\n",
    "for index, col in  df_dropna.iterrows():\n",
    "    if (col['Quantity'] > 0) or col['Description'] == 'Discount': continue        \n",
    "    df_test = df_dropna[(df_dropna['CustomerID'] == col['CustomerID']) &\n",
    "                         (df_dropna['StockCode']  == col['StockCode']) & \n",
    "                         (df_dropna['InvoiceDate'] < col['InvoiceDate']) & \n",
    "                         (df_dropna['Quantity']   > 0)].copy()\n",
    "    \n",
    "    # Cancelation WITHOUT counterpart\n",
    "    if (df_test.shape[0] == 0): \n",
    "        bad_entry.append(index)\n",
    "    \n",
    "    # Cancelation WITH only one counterpart\n",
    "    elif (df_test.shape[0] == 1): \n",
    "        index_order = df_test.index[0]\n",
    "        df_cleaned.loc[index_order, 'QtyCancel'] = -col['Quantity']\n",
    "        delete_entry.append(index)        \n",
    "    \n",
    "    # Various counterparts exist in orders: we delete the last one\n",
    "    elif (df_test.shape[0] > 1): \n",
    "        df_test.sort_index(axis=0, ascending=False, inplace = True)        \n",
    "        for ind, val in df_test.iterrows():\n",
    "            if val['Quantity'] < -col['Quantity']: continue\n",
    "            df_cleaned.loc[ind, 'QtyCancel'] = -col['Quantity']\n",
    "            delete_entry.append(index) \n",
    "            break   "
   ]
  },
  {
   "cell_type": "code",
   "execution_count": 34,
   "metadata": {
    "colab": {
     "base_uri": "https://localhost:8080/",
     "height": 34
    },
    "colab_type": "code",
    "id": "uFmud7DrXZHZ",
    "outputId": "af41aa00-6b2a-4718-c5da-45d6710b902b"
   },
   "outputs": [
    {
     "name": "stdout",
     "output_type": "stream",
     "text": [
      "7521 1226\n"
     ]
    }
   ],
   "source": [
    "print(len(delete_entry), len(bad_entry))"
   ]
  },
  {
   "cell_type": "code",
   "execution_count": 35,
   "metadata": {
    "colab": {
     "base_uri": "https://localhost:8080/",
     "height": 204
    },
    "colab_type": "code",
    "id": "0bxmdoeiFAty",
    "outputId": "68bce48a-d9d0-449e-8e1b-5eead51e4218"
   },
   "outputs": [
    {
     "data": {
      "text/html": [
       "<div>\n",
       "<style scoped>\n",
       "    .dataframe tbody tr th:only-of-type {\n",
       "        vertical-align: middle;\n",
       "    }\n",
       "\n",
       "    .dataframe tbody tr th {\n",
       "        vertical-align: top;\n",
       "    }\n",
       "\n",
       "    .dataframe thead th {\n",
       "        text-align: right;\n",
       "    }\n",
       "</style>\n",
       "<table border=\"1\" class=\"dataframe\">\n",
       "  <thead>\n",
       "    <tr style=\"text-align: right;\">\n",
       "      <th></th>\n",
       "      <th>Unnamed: 0</th>\n",
       "      <th>InvoiceNo</th>\n",
       "      <th>StockCode</th>\n",
       "      <th>Description</th>\n",
       "      <th>Quantity</th>\n",
       "      <th>InvoiceDate</th>\n",
       "      <th>UnitPrice</th>\n",
       "      <th>CustomerID</th>\n",
       "      <th>Country</th>\n",
       "      <th>QtyCancel</th>\n",
       "    </tr>\n",
       "  </thead>\n",
       "  <tbody>\n",
       "    <tr>\n",
       "      <th>0</th>\n",
       "      <td>0</td>\n",
       "      <td>536365</td>\n",
       "      <td>85123A</td>\n",
       "      <td>WHITE HANGING HEART T-LIGHT HOLDER</td>\n",
       "      <td>6</td>\n",
       "      <td>2010-12-01 08:26:00</td>\n",
       "      <td>2.55</td>\n",
       "      <td>17850</td>\n",
       "      <td>United Kingdom</td>\n",
       "      <td>0</td>\n",
       "    </tr>\n",
       "    <tr>\n",
       "      <th>1</th>\n",
       "      <td>1</td>\n",
       "      <td>536365</td>\n",
       "      <td>71053</td>\n",
       "      <td>WHITE METAL LANTERN</td>\n",
       "      <td>6</td>\n",
       "      <td>2010-12-01 08:26:00</td>\n",
       "      <td>3.39</td>\n",
       "      <td>17850</td>\n",
       "      <td>United Kingdom</td>\n",
       "      <td>0</td>\n",
       "    </tr>\n",
       "    <tr>\n",
       "      <th>2</th>\n",
       "      <td>2</td>\n",
       "      <td>536365</td>\n",
       "      <td>84406B</td>\n",
       "      <td>CREAM CUPID HEARTS COAT HANGER</td>\n",
       "      <td>8</td>\n",
       "      <td>2010-12-01 08:26:00</td>\n",
       "      <td>2.75</td>\n",
       "      <td>17850</td>\n",
       "      <td>United Kingdom</td>\n",
       "      <td>0</td>\n",
       "    </tr>\n",
       "    <tr>\n",
       "      <th>3</th>\n",
       "      <td>3</td>\n",
       "      <td>536365</td>\n",
       "      <td>84029G</td>\n",
       "      <td>KNITTED UNION FLAG HOT WATER BOTTLE</td>\n",
       "      <td>6</td>\n",
       "      <td>2010-12-01 08:26:00</td>\n",
       "      <td>3.39</td>\n",
       "      <td>17850</td>\n",
       "      <td>United Kingdom</td>\n",
       "      <td>0</td>\n",
       "    </tr>\n",
       "    <tr>\n",
       "      <th>4</th>\n",
       "      <td>4</td>\n",
       "      <td>536365</td>\n",
       "      <td>84029E</td>\n",
       "      <td>RED WOOLLY HOTTIE WHITE HEART.</td>\n",
       "      <td>6</td>\n",
       "      <td>2010-12-01 08:26:00</td>\n",
       "      <td>3.39</td>\n",
       "      <td>17850</td>\n",
       "      <td>United Kingdom</td>\n",
       "      <td>0</td>\n",
       "    </tr>\n",
       "  </tbody>\n",
       "</table>\n",
       "</div>"
      ],
      "text/plain": [
       "   Unnamed: 0 InvoiceNo StockCode  ... CustomerID         Country QtyCancel\n",
       "0           0    536365    85123A  ...      17850  United Kingdom         0\n",
       "1           1    536365     71053  ...      17850  United Kingdom         0\n",
       "2           2    536365    84406B  ...      17850  United Kingdom         0\n",
       "3           3    536365    84029G  ...      17850  United Kingdom         0\n",
       "4           4    536365    84029E  ...      17850  United Kingdom         0\n",
       "\n",
       "[5 rows x 10 columns]"
      ]
     },
     "execution_count": 35,
     "metadata": {
      "tags": []
     },
     "output_type": "execute_result"
    }
   ],
   "source": [
    "df_cleaned.drop(delete_entry, axis = 0, inplace = True)\n",
    "df_cleaned.drop(bad_entry, axis = 0, inplace = True)\n",
    "df_cleaned.head()"
   ]
  },
  {
   "cell_type": "code",
   "execution_count": 36,
   "metadata": {
    "colab": {
     "base_uri": "https://localhost:8080/",
     "height": 34
    },
    "colab_type": "code",
    "id": "rlyFMCiX1X2q",
    "outputId": "0938a571-1e7e-4d5f-bf61-a5a5786b0566"
   },
   "outputs": [
    {
     "data": {
      "text/plain": [
       "(392857, 10)"
      ]
     },
     "execution_count": 36,
     "metadata": {
      "tags": []
     },
     "output_type": "execute_result"
    }
   ],
   "source": [
    "df_cleaned.shape"
   ]
  },
  {
   "cell_type": "markdown",
   "metadata": {
    "colab_type": "text",
    "id": "rE87qIux1uGS"
   },
   "source": [
    "### Data after dropping cancelled entries\n",
    "* Number of columns (features) = **9**\n",
    "* Number of rows (records or observations) = **392857**"
   ]
  },
  {
   "cell_type": "markdown",
   "metadata": {
    "colab_type": "text",
    "id": "kO_L9jvzF7HX"
   },
   "source": [
    "## 2.6) Aggregate Prices\n",
    "\n",
    "* Creating a variable `TotalPrice` for the dataframe, which is the total price for each line by using `UnitPrice`, `Quantity` and `QtyCancel` features for this"
   ]
  },
  {
   "cell_type": "code",
   "execution_count": 37,
   "metadata": {
    "colab": {
     "base_uri": "https://localhost:8080/",
     "height": 204
    },
    "colab_type": "code",
    "id": "APyY-lmEgz5r",
    "outputId": "54c1591c-55d4-48d6-e1c1-da50d92ca101"
   },
   "outputs": [
    {
     "data": {
      "text/html": [
       "<div>\n",
       "<style scoped>\n",
       "    .dataframe tbody tr th:only-of-type {\n",
       "        vertical-align: middle;\n",
       "    }\n",
       "\n",
       "    .dataframe tbody tr th {\n",
       "        vertical-align: top;\n",
       "    }\n",
       "\n",
       "    .dataframe thead th {\n",
       "        text-align: right;\n",
       "    }\n",
       "</style>\n",
       "<table border=\"1\" class=\"dataframe\">\n",
       "  <thead>\n",
       "    <tr style=\"text-align: right;\">\n",
       "      <th></th>\n",
       "      <th>Unnamed: 0</th>\n",
       "      <th>InvoiceNo</th>\n",
       "      <th>StockCode</th>\n",
       "      <th>Description</th>\n",
       "      <th>Quantity</th>\n",
       "      <th>InvoiceDate</th>\n",
       "      <th>UnitPrice</th>\n",
       "      <th>CustomerID</th>\n",
       "      <th>Country</th>\n",
       "      <th>QtyCancel</th>\n",
       "      <th>TotalPrice</th>\n",
       "    </tr>\n",
       "  </thead>\n",
       "  <tbody>\n",
       "    <tr>\n",
       "      <th>37511</th>\n",
       "      <td>61619</td>\n",
       "      <td>541431</td>\n",
       "      <td>23166</td>\n",
       "      <td>MEDIUM CERAMIC TOP STORAGE JAR</td>\n",
       "      <td>74215</td>\n",
       "      <td>2011-01-18 10:01:00</td>\n",
       "      <td>1.04</td>\n",
       "      <td>12346</td>\n",
       "      <td>United Kingdom</td>\n",
       "      <td>74215</td>\n",
       "      <td>0.0</td>\n",
       "    </tr>\n",
       "    <tr>\n",
       "      <th>100693</th>\n",
       "      <td>148288</td>\n",
       "      <td>549222</td>\n",
       "      <td>22375</td>\n",
       "      <td>AIRLINE BAG VINTAGE JET SET BROWN</td>\n",
       "      <td>4</td>\n",
       "      <td>2011-04-07 10:43:00</td>\n",
       "      <td>4.25</td>\n",
       "      <td>12347</td>\n",
       "      <td>Iceland</td>\n",
       "      <td>0</td>\n",
       "      <td>17.0</td>\n",
       "    </tr>\n",
       "    <tr>\n",
       "      <th>318798</th>\n",
       "      <td>428971</td>\n",
       "      <td>573511</td>\n",
       "      <td>22698</td>\n",
       "      <td>PINK REGENCY TEACUP AND SAUCER</td>\n",
       "      <td>12</td>\n",
       "      <td>2011-10-31 12:25:00</td>\n",
       "      <td>2.95</td>\n",
       "      <td>12347</td>\n",
       "      <td>Iceland</td>\n",
       "      <td>0</td>\n",
       "      <td>35.4</td>\n",
       "    </tr>\n",
       "    <tr>\n",
       "      <th>318797</th>\n",
       "      <td>428970</td>\n",
       "      <td>573511</td>\n",
       "      <td>47559B</td>\n",
       "      <td>TEA TIME OVEN GLOVE</td>\n",
       "      <td>10</td>\n",
       "      <td>2011-10-31 12:25:00</td>\n",
       "      <td>1.25</td>\n",
       "      <td>12347</td>\n",
       "      <td>Iceland</td>\n",
       "      <td>0</td>\n",
       "      <td>12.5</td>\n",
       "    </tr>\n",
       "    <tr>\n",
       "      <th>318796</th>\n",
       "      <td>428969</td>\n",
       "      <td>573511</td>\n",
       "      <td>47567B</td>\n",
       "      <td>TEA TIME KITCHEN APRON</td>\n",
       "      <td>6</td>\n",
       "      <td>2011-10-31 12:25:00</td>\n",
       "      <td>5.95</td>\n",
       "      <td>12347</td>\n",
       "      <td>Iceland</td>\n",
       "      <td>0</td>\n",
       "      <td>35.7</td>\n",
       "    </tr>\n",
       "  </tbody>\n",
       "</table>\n",
       "</div>"
      ],
      "text/plain": [
       "        Unnamed: 0 InvoiceNo StockCode  ...         Country  QtyCancel TotalPrice\n",
       "37511        61619    541431     23166  ...  United Kingdom      74215        0.0\n",
       "100693      148288    549222     22375  ...         Iceland          0       17.0\n",
       "318798      428971    573511     22698  ...         Iceland          0       35.4\n",
       "318797      428970    573511    47559B  ...         Iceland          0       12.5\n",
       "318796      428969    573511    47567B  ...         Iceland          0       35.7\n",
       "\n",
       "[5 rows x 11 columns]"
      ]
     },
     "execution_count": 37,
     "metadata": {
      "tags": []
     },
     "output_type": "execute_result"
    }
   ],
   "source": [
    "# Total price for each row\n",
    "df_cleaned['TotalPrice'] = df_cleaned['UnitPrice'] * (df_cleaned['Quantity'] - df_cleaned['QtyCancel'])\n",
    "df_cleaned.sort_values('CustomerID')[:5]"
   ]
  },
  {
   "cell_type": "markdown",
   "metadata": {
    "colab_type": "text",
    "id": "PuOHcJUQHw3w"
   },
   "source": [
    "* Each entry of the dataframe indicates prizes for a single kind of product, so an order is split on several lines. We collect all the commands during a single order (same InvoiceNo) to recover the total order prize. \n",
    "\n",
    "* Saving result in a dataframe `Aggregate_Price`. It consists of features: `CustomerID`, `InvoiceNo`, `agg_price` and `InvoiceDate`"
   ]
  },
  {
   "cell_type": "code",
   "execution_count": 38,
   "metadata": {
    "colab": {
     "base_uri": "https://localhost:8080/",
     "height": 235
    },
    "colab_type": "code",
    "id": "4VBTx6wdijgi",
    "outputId": "abff36b1-4451-4128-d46f-3cdfdb475216"
   },
   "outputs": [
    {
     "data": {
      "text/html": [
       "<div>\n",
       "<style scoped>\n",
       "    .dataframe tbody tr th:only-of-type {\n",
       "        vertical-align: middle;\n",
       "    }\n",
       "\n",
       "    .dataframe tbody tr th {\n",
       "        vertical-align: top;\n",
       "    }\n",
       "\n",
       "    .dataframe thead th {\n",
       "        text-align: right;\n",
       "    }\n",
       "</style>\n",
       "<table border=\"1\" class=\"dataframe\">\n",
       "  <thead>\n",
       "    <tr style=\"text-align: right;\">\n",
       "      <th></th>\n",
       "      <th>CustomerID</th>\n",
       "      <th>InvoiceNo</th>\n",
       "      <th>agg_price</th>\n",
       "      <th>InvoiceDate</th>\n",
       "    </tr>\n",
       "  </thead>\n",
       "  <tbody>\n",
       "    <tr>\n",
       "      <th>1</th>\n",
       "      <td>12347</td>\n",
       "      <td>537626</td>\n",
       "      <td>711.79</td>\n",
       "      <td>2010-12-07 14:57:00.000001024</td>\n",
       "    </tr>\n",
       "    <tr>\n",
       "      <th>2</th>\n",
       "      <td>12347</td>\n",
       "      <td>542237</td>\n",
       "      <td>475.39</td>\n",
       "      <td>2011-01-26 14:29:59.999999744</td>\n",
       "    </tr>\n",
       "    <tr>\n",
       "      <th>3</th>\n",
       "      <td>12347</td>\n",
       "      <td>549222</td>\n",
       "      <td>636.25</td>\n",
       "      <td>2011-04-07 10:42:59.999999232</td>\n",
       "    </tr>\n",
       "    <tr>\n",
       "      <th>4</th>\n",
       "      <td>12347</td>\n",
       "      <td>556201</td>\n",
       "      <td>382.52</td>\n",
       "      <td>2011-06-09 13:01:00.000000256</td>\n",
       "    </tr>\n",
       "    <tr>\n",
       "      <th>5</th>\n",
       "      <td>12347</td>\n",
       "      <td>562032</td>\n",
       "      <td>584.91</td>\n",
       "      <td>2011-08-02 08:48:00.000000000</td>\n",
       "    </tr>\n",
       "    <tr>\n",
       "      <th>6</th>\n",
       "      <td>12347</td>\n",
       "      <td>573511</td>\n",
       "      <td>1294.32</td>\n",
       "      <td>2011-10-31 12:25:00.000001280</td>\n",
       "    </tr>\n",
       "  </tbody>\n",
       "</table>\n",
       "</div>"
      ],
      "text/plain": [
       "  CustomerID InvoiceNo  agg_price                   InvoiceDate\n",
       "1      12347    537626     711.79 2010-12-07 14:57:00.000001024\n",
       "2      12347    542237     475.39 2011-01-26 14:29:59.999999744\n",
       "3      12347    549222     636.25 2011-04-07 10:42:59.999999232\n",
       "4      12347    556201     382.52 2011-06-09 13:01:00.000000256\n",
       "5      12347    562032     584.91 2011-08-02 08:48:00.000000000\n",
       "6      12347    573511    1294.32 2011-10-31 12:25:00.000001280"
      ]
     },
     "execution_count": 38,
     "metadata": {
      "tags": []
     },
     "output_type": "execute_result"
    }
   ],
   "source": [
    "# sum the commands for each order\n",
    "temp = df_cleaned.groupby(by=['CustomerID', 'InvoiceNo'], as_index=False)['TotalPrice'].sum()\n",
    "Aggregate_Price = temp.rename(columns = {'TotalPrice':'agg_price'})\n",
    "\n",
    "# command date\n",
    "df_cleaned['InvoiceDate'] = pd.to_datetime(df_cleaned['InvoiceDate'])\n",
    "df_cleaned['InvoiceDate_int'] = df_cleaned['InvoiceDate'].astype('int64')\n",
    "temp = df_cleaned.groupby(by=['CustomerID', 'InvoiceNo'], as_index=False)['InvoiceDate_int'].mean()\n",
    "df_cleaned.drop('InvoiceDate_int', axis = 1, inplace = True)\n",
    "Aggregate_Price.loc[:, 'InvoiceDate'] = pd.to_datetime(temp['InvoiceDate_int'])\n",
    "\n",
    "# keep only positive purchases\n",
    "Aggregate_Price = Aggregate_Price[Aggregate_Price['agg_price'] > 0]\n",
    "Aggregate_Price.sort_values('CustomerID')[:6]"
   ]
  },
  {
   "cell_type": "markdown",
   "metadata": {
    "colab_type": "text",
    "id": "R5Fo9cgfJlTQ"
   },
   "source": [
    "Purchases can be divided according to total prizes, run the code:"
   ]
  },
  {
   "cell_type": "code",
   "execution_count": 39,
   "metadata": {
    "colab": {
     "base_uri": "https://localhost:8080/",
     "height": 854
    },
    "colab_type": "code",
    "id": "UT2WhR-CjVs1",
    "outputId": "f76f8890-bed0-4f74-d25f-c5fa622e5dcf"
   },
   "outputs": [
    {
     "data": {
      "image/png": "[encoded data removed]",
      "text/plain": [
       "<Figure size 792x432 with 1 Axes>"
      ]
     },
     "metadata": {
      "tags": []
     },
     "output_type": "display_data"
    },
    {
     "data": {
      "image/png": "[encoded data removed]",
      "text/plain": [
       "<Figure size 792x432 with 1 Axes>"
      ]
     },
     "metadata": {
      "needs_background": "light",
      "tags": []
     },
     "output_type": "display_data"
    }
   ],
   "source": [
    "import matplotlib.pyplot as plt\n",
    "\n",
    "# Define price ranges\n",
    "price_range = [0, 50, 100, 200, 500, 1000, 5000, 50000]\n",
    "count_price = []\n",
    "for i, price in enumerate(price_range):\n",
    "    if i == 0: continue\n",
    "    val = Aggregate_Price[(Aggregate_Price['agg_price'] < price) &\n",
    "                       (Aggregate_Price['agg_price'] > price_range[i-1])]['agg_price'].count()\n",
    "    count_price.append(val)\n",
    "\n",
    "# Distribution of order amounts    \n",
    "plt.rc('font', weight='bold')\n",
    "f, ax = plt.subplots(figsize=(11, 6))\n",
    "colors = ['yellowgreen', 'gold', 'wheat', 'c', 'violet', 'royalblue','firebrick']\n",
    "labels = [ '{}<.<{}'.format(price_range[i-1], s) for i,s in enumerate(price_range) if i != 0]\n",
    "sizes  = count_price\n",
    "explode = [0.0 if sizes[i] < 100 else 0.0 for i in range(len(sizes))]\n",
    "ax.pie(sizes, explode = explode, labels=labels, colors = colors,\n",
    "       autopct = lambda x:'{:1.0f}%'.format(x) if x > 1 else '',\n",
    "       shadow = False, startangle=0)\n",
    "ax.axis('equal')\n",
    "f.text(0.5, 1.01, \"Distribution of order amounts\", ha='center', fontsize = 18);\n",
    "\n",
    "# Distribution of order amounts    \n",
    "plt.rc('font', weight='bold')\n",
    "f, ax = plt.subplots(figsize=(11, 6))\n",
    "ax.hist(Aggregate_Price['agg_price'][Aggregate_Price['agg_price']<5000].values, bins=500)\n",
    "ax.axvline(x=Aggregate_Price['agg_price'].mean(), color='k', linestyle='--', label='Average price')\n",
    "ax.legend()\n",
    "f.text(0.5, 1.01, \"Distribution of order amounts\", ha='center', fontsize = 18);"
   ]
  },
  {
   "cell_type": "code",
   "execution_count": 40,
   "metadata": {
    "colab": {
     "base_uri": "https://localhost:8080/",
     "height": 34
    },
    "colab_type": "code",
    "id": "MSVIaPKt2bZl",
    "outputId": "a82cb011-09b5-4fb6-ec28-7be0787d0403"
   },
   "outputs": [
    {
     "data": {
      "text/plain": [
       "456.3380945754987"
      ]
     },
     "execution_count": 40,
     "metadata": {
      "tags": []
     },
     "output_type": "execute_result"
    }
   ],
   "source": [
    "Aggregate_Price['agg_price'].mean()"
   ]
  },
  {
   "cell_type": "markdown",
   "metadata": {
    "colab_type": "text",
    "id": "Q6ssdPQ32fYr"
   },
   "source": [
    "* The average cost per one invoice is **456.34 GBP**"
   ]
  },
  {
   "cell_type": "markdown",
   "metadata": {
    "colab_type": "text",
    "id": "OQMsACwlJq2J"
   },
   "source": [
    "## 2.7) Save data\n",
    "Save preprocessed data to the file `data_cleaned.csv` and `basket_price.csv`"
   ]
  },
  {
   "cell_type": "code",
   "execution_count": 0,
   "metadata": {
    "colab": {},
    "colab_type": "code",
    "id": "75UNkzOnj_pR"
   },
   "outputs": [],
   "source": [
    "# from google.colab import drive\n",
    "# drive.mount('/content/drive')\n",
    "path = '/content/mydriv/My Drive/Customer_Segmentation/'\n",
    "df_cleaned.to_csv(path + 'data_cleaned.csv')\n",
    "Aggregate_Price.to_csv(path + 'Aggregate_Price.csv')"
   ]
  },
  {
   "cell_type": "markdown",
   "metadata": {
    "colab_type": "text",
    "id": "f4RJK2w6MBs1"
   },
   "source": [
    "# 3) Product categories\n",
    "\n",
    "* Products are uniquely identified through the `StockCode` variable. A shrort description of the products is given in the `Description` variable.\n",
    "\n",
    "* In this section, I used the content of the variable `Description` to group the products into different categories.\n",
    "\n",
    "* I extracted keywords from `Description` with the function below."
   ]
  },
  {
   "cell_type": "code",
   "execution_count": 41,
   "metadata": {
    "colab": {
     "base_uri": "https://localhost:8080/",
     "height": 204
    },
    "colab_type": "code",
    "id": "s-to3kAQlbM7",
    "outputId": "1d769a7b-a301-48f9-ac04-3acbaec3f7ff"
   },
   "outputs": [
    {
     "data": {
      "text/html": [
       "<div>\n",
       "<style scoped>\n",
       "    .dataframe tbody tr th:only-of-type {\n",
       "        vertical-align: middle;\n",
       "    }\n",
       "\n",
       "    .dataframe tbody tr th {\n",
       "        vertical-align: top;\n",
       "    }\n",
       "\n",
       "    .dataframe thead th {\n",
       "        text-align: right;\n",
       "    }\n",
       "</style>\n",
       "<table border=\"1\" class=\"dataframe\">\n",
       "  <thead>\n",
       "    <tr style=\"text-align: right;\">\n",
       "      <th></th>\n",
       "      <th>InvoiceNo</th>\n",
       "      <th>StockCode</th>\n",
       "      <th>Description</th>\n",
       "      <th>Quantity</th>\n",
       "      <th>InvoiceDate</th>\n",
       "      <th>UnitPrice</th>\n",
       "      <th>CustomerID</th>\n",
       "      <th>Country</th>\n",
       "      <th>QtyCancel</th>\n",
       "      <th>TotalPrice</th>\n",
       "    </tr>\n",
       "  </thead>\n",
       "  <tbody>\n",
       "    <tr>\n",
       "      <th>0</th>\n",
       "      <td>536365</td>\n",
       "      <td>85123A</td>\n",
       "      <td>WHITE HANGING HEART T-LIGHT HOLDER</td>\n",
       "      <td>6</td>\n",
       "      <td>2010-12-01 08:26:00</td>\n",
       "      <td>2.55</td>\n",
       "      <td>17850</td>\n",
       "      <td>United Kingdom</td>\n",
       "      <td>0</td>\n",
       "      <td>15.30</td>\n",
       "    </tr>\n",
       "    <tr>\n",
       "      <th>1</th>\n",
       "      <td>536365</td>\n",
       "      <td>71053</td>\n",
       "      <td>WHITE METAL LANTERN</td>\n",
       "      <td>6</td>\n",
       "      <td>2010-12-01 08:26:00</td>\n",
       "      <td>3.39</td>\n",
       "      <td>17850</td>\n",
       "      <td>United Kingdom</td>\n",
       "      <td>0</td>\n",
       "      <td>20.34</td>\n",
       "    </tr>\n",
       "    <tr>\n",
       "      <th>2</th>\n",
       "      <td>536365</td>\n",
       "      <td>84406B</td>\n",
       "      <td>CREAM CUPID HEARTS COAT HANGER</td>\n",
       "      <td>8</td>\n",
       "      <td>2010-12-01 08:26:00</td>\n",
       "      <td>2.75</td>\n",
       "      <td>17850</td>\n",
       "      <td>United Kingdom</td>\n",
       "      <td>0</td>\n",
       "      <td>22.00</td>\n",
       "    </tr>\n",
       "    <tr>\n",
       "      <th>3</th>\n",
       "      <td>536365</td>\n",
       "      <td>84029G</td>\n",
       "      <td>KNITTED UNION FLAG HOT WATER BOTTLE</td>\n",
       "      <td>6</td>\n",
       "      <td>2010-12-01 08:26:00</td>\n",
       "      <td>3.39</td>\n",
       "      <td>17850</td>\n",
       "      <td>United Kingdom</td>\n",
       "      <td>0</td>\n",
       "      <td>20.34</td>\n",
       "    </tr>\n",
       "    <tr>\n",
       "      <th>4</th>\n",
       "      <td>536365</td>\n",
       "      <td>84029E</td>\n",
       "      <td>RED WOOLLY HOTTIE WHITE HEART.</td>\n",
       "      <td>6</td>\n",
       "      <td>2010-12-01 08:26:00</td>\n",
       "      <td>3.39</td>\n",
       "      <td>17850</td>\n",
       "      <td>United Kingdom</td>\n",
       "      <td>0</td>\n",
       "      <td>20.34</td>\n",
       "    </tr>\n",
       "  </tbody>\n",
       "</table>\n",
       "</div>"
      ],
      "text/plain": [
       "  InvoiceNo StockCode  ... QtyCancel  TotalPrice\n",
       "0    536365    85123A  ...         0       15.30\n",
       "1    536365     71053  ...         0       20.34\n",
       "2    536365    84406B  ...         0       22.00\n",
       "3    536365    84029G  ...         0       20.34\n",
       "4    536365    84029E  ...         0       20.34\n",
       "\n",
       "[5 rows x 10 columns]"
      ]
     },
     "execution_count": 41,
     "metadata": {
      "tags": []
     },
     "output_type": "execute_result"
    }
   ],
   "source": [
    "# import pandas as pd\n",
    "\n",
    "# from google.colab import drive\n",
    "# drive.mount('/content/drive')\n",
    "# relative_path = '/content/drive/My Drive/Datasets/Customer_segmentation/'\n",
    "\n",
    "df_dropna = pd.read_csv(path + 'data_dropna.csv', encoding='latin', dtype={'CustomerID': str}) \n",
    "df_cleaned = pd.read_csv(path + 'data_cleaned.csv', encoding='latin', dtype={'CustomerID': str}) \n",
    "\n",
    "df_dropna.drop(['Unnamed: 0'], axis=1, inplace=True)\n",
    "df_cleaned.drop(['Unnamed: 0', 'Unnamed: 0.1'], axis=1,  inplace=True)\n",
    "df_cleaned.head()"
   ]
  },
  {
   "cell_type": "markdown",
   "metadata": {
    "colab_type": "text",
    "id": "Hg1Tp1-wluyb"
   },
   "source": [
    "*  Defined a function `keywords_inventory` to extract keywords from (unique) Descriptions\n",
    "* This function takes the dataframe and analyzes the content of the `Description` column by performing the following operations:\n",
    "\n",
    "1. extract the names (proper, common) appearing in the products description\n",
    "2. for each name, extract the root of the word and aggregate the set of names associated with this particular root\n",
    "3. count the number of times each root appears in the dataframe\n",
    "4. when several words are listed for the same root, we consider that the keyword associated with this root is the shortest one (this systematically selects the singular when there are singular/plural variants)"
   ]
  },
  {
   "cell_type": "code",
   "execution_count": 50,
   "metadata": {
    "colab": {
     "base_uri": "https://localhost:8080/",
     "height": 119
    },
    "colab_type": "code",
    "id": "j2gsL-Aglq6I",
    "outputId": "032dc1b3-ef9b-430d-f0fa-4763473fc349"
   },
   "outputs": [
    {
     "name": "stdout",
     "output_type": "stream",
     "text": [
      "[nltk_data] Downloading package punkt to /root/nltk_data...\n",
      "[nltk_data]   Package punkt is already up-to-date!\n",
      "[nltk_data] Downloading package averaged_perceptron_tagger to\n",
      "[nltk_data]     /root/nltk_data...\n",
      "[nltk_data]   Package averaged_perceptron_tagger is already up-to-\n",
      "[nltk_data]       date!\n"
     ]
    }
   ],
   "source": [
    "import nltk\n",
    "nltk.download('punkt')\n",
    "nltk.download('averaged_perceptron_tagger')\n",
    "\n",
    "is_noun = lambda pos: pos[:2] == 'NN'\n",
    "\n",
    "def keywords_inventory(dataframe, col_des = 'Description'):\n",
    "    stemmer = nltk.stem.SnowballStemmer(\"english\")\n",
    "    keywords_roots  = dict()  # collect the words / root\n",
    "    keywords_select = dict()  # association: root <-> keyword\n",
    "    category_keys   = []\n",
    "    count_keywords  = dict()\n",
    "    icount = 0\n",
    "    for s in dataframe[col_des]:\n",
    "        if pd.isnull(s): continue\n",
    "        lines = s.lower()\n",
    "        tokenized = nltk.word_tokenize(lines)\n",
    "        nouns = [word for (word, pos) in nltk.pos_tag(tokenized) if is_noun(pos)]\n",
    "        for t in nouns:\n",
    "            t = t.lower() ; racine = stemmer.stem(t)\n",
    "            if racine in keywords_roots:                \n",
    "                keywords_roots[racine].add(t)\n",
    "                count_keywords[racine] += 1                \n",
    "            else:\n",
    "                keywords_roots[racine] = {t}\n",
    "                count_keywords[racine] = 1\n",
    "    \n",
    "    for s in keywords_roots.keys():\n",
    "        if len(keywords_roots[s]) > 1:  \n",
    "            min_length = 1000\n",
    "            for k in keywords_roots[s]:\n",
    "                if len(k) < min_length:\n",
    "                    clef = k ; min_length = len(k)            \n",
    "            category_keys.append(clef)\n",
    "            keywords_select[s] = clef\n",
    "        else:\n",
    "            category_keys.append(list(keywords_roots[s])[0])\n",
    "            keywords_select[s] = list(keywords_roots[s])[0]\n",
    "                   \n",
    "    print(\"Nb of keywords in variable '{}': {}\".format(col_des,len(category_keys)))\n",
    "    return category_keys, keywords_roots, keywords_select, count_keywords"
   ]
  },
  {
   "cell_type": "markdown",
   "metadata": {
    "colab_type": "text",
    "id": "RBRf8kEgMaZg"
   },
   "source": [
    "## 3.1) Unique descriptions\n",
    "* Extract unique descriptions using `keywords_inventory` function"
   ]
  },
  {
   "cell_type": "code",
   "execution_count": 51,
   "metadata": {
    "colab": {
     "base_uri": "https://localhost:8080/",
     "height": 139
    },
    "colab_type": "code",
    "id": "f2VdfIC_o0mr",
    "outputId": "29052b7f-90f7-4001-d4a6-e5b6856688e2"
   },
   "outputs": [
    {
     "name": "stdout",
     "output_type": "stream",
     "text": [
      "number of different descriptions is: 3896\n",
      "Nb of keywords in variable 'Description': 1483\n",
      "['heart', 'holder', 'metal', 'lantern', 'cream', 'cupid', 'coat', 'hanger', 'union', 'flag', 'water', 'bottle', 'nest', 'box', 'glass', 'star', 'hand', 'jack', 'warmer', 'dot', 'bird', 'ornament', 'poppy', 'playhouse', 'bedroom', 'kitchen', 'feltcraft', 'princess', 'charlotte', 'doll', 'ivory', 'cosy', 'colour', 'teaspoons', 'vintage', 'jigsaw', 'block', 'alphabet', 'home', 'building', 'word', 'love', 'recipe', 'england', 'jam', 'jar', 'rack', 'paris', 'fashion', 'bath', 'alarm', 'clock', 'bakelike', 'pink', 'green', 'panda', 'bunny', 'sheet', 'tape', 'globe', 'head', 'tail', 'game', 'set/2', 'retrospot', 'tea', 'towel', 'round', 'snack', 'woodland', 'spaceboy', 'lunch', 'i', 'london', 'circus', 'bag', 'design', 'toadstool', 'night', 'light', 'seaside', 'puzzles', 'mini', 'parade', 'paint', 'postage', 'paper', 'chain', 'christmas', 'parasol', 'coffee', 'mug', 'planet', 'billboard', 'love/hate', 'wood', 'drawer', 'cabinet', 'finish', 's/3', 'picture', 'frame', 'wooden', 'sympathy', 'polkadot', 'baroque', 'charlie', 'lola', 'toy', 'strawberry', 'piece', 'cutlery', 'set', 'set/6', 'plate', 'pack', 'case', 'dinosaur', 'paisley', 'fairy', 'tomato', 'charlie+lola', 'coaster', 'wastepaper', 'bin', 'flora', 'doorsign', 'storage', 'suki', 'making', 'pc', 'tool', 'airline', 'lounge', 'sign', 'spot', 'knob', 'photo', 'clip', 'line', 'felt', 'egg', 'chicken', 'bank', 'shoulder', 'cook', 'gin', '+', 'breakfast', 'cup', 'saucer', 'flower', 'time', 'rabbit', 'zinc', 'winkie', 'candle', 'stick', 'cherry', 'money', 'milk', 'jug', 'funky', 'beaker', 'owl', 'balloon', 'art', 'cloche', 'gumball', 'monochrome', 'doormat', 'fancy', 'sweet', 'discount', 'snake', 'ladder', 'chocolate', 'calculator', 'tidy', 'table', 'pot', 'garden', 'thermometer', 'cake', 'tin', 'wicker', 'basket', 'lid', 'duck', 'board', 'hanging', 'medina', 'chalkboard', 'lovebird', 'birdcage', 'plant', 'card', 'enamel', 'fire', 'bucket', 'bread', 'ribbon', 'wire', 'chilli', 'garland', 'butterfiles', 'tale', 'cottage', 'letter', 'doorstop', 'decorative', 'magnet', 'fridge', 'homemade', 'enfants', 'caravan', 'hook', 'reindeer', 'cushion', 'cover', 'gold', 'umbrella', 'black/blue', 'diner', 'wall', 'measure', 'spoon', 'keepsake', 'disco', 'ball', 'popcorn', 'set/20', 'napkins', 'rain', 'hat', 'deluxe', 'kit', 'cube', 'plasters', 'tissue', 'grey', 'skull', 'mice', 'soldier', 'skittles', 'skipping', 'rope', 'dominoes', 'seventeen', 'sideboard', 'party', 'cone', 'carnival', 'candy', 'picnic', 'lamp', 'font', 'birthday', 'scotty', 'dog', 'bowl', 'cloth', 'travel', 'trinket', 'orange', 'quilt', 'babushka', 'string', 'doughnut', 'silk', 'purse', 'house', 'boudoir', 'square', 'cornice', 's/6', 'sew', 'crochet', 'reds', 'lavender', 'incense', 'tv', 'dinner', 'tray', 'placemat', 'family', 'rotator', 'battery', 'silver', 'mirror', 'ladies', 'gentlemen', 'bathroom', 'toilet', 'holiday', 'basil', 'set/10', 't-light', 'snowmen', 'santa', 'sponge', 'apple', 'pirate', 'treasure', 'chest', 'snowflake', 'oval', 'cigar', 'matches', 'hour', 'giant', 'tube', 'jazz', 'notebook', 'candleholder', 'candlestick', 'baroquecandlestick', 'flannel', 'style', 'football', 'celebration', 'girl', 'blue', 'invites', 'butterfly', 'cookie', 'cutter', 'sweetheart', 'car', 'trellis', 'set/5', 'slate', 'bake', 'pencil', 'harmonica', 'transfer', 'tattoos', 'pannetone', 'kids', 'pen', 'rectangle', 'face', 'wrap', 'cowboy', 'doilies', 'cat', 'eraser', 'angel', 'hldr', 'reel', 'spinning', 'top', 'marbles', 'strand', 'necklac', 'crystal', 'squarecushion', 'children', 'candelabra', 'luggage', 'tag', 'tassle', 'charm', 'acrylic', 'bangle', 'guns', 'roses', 'vanilla', 'scent', 'bell', 'stand', 'filigree', 'pattern', 'sticker', \"b'fly\", 'c/cover', 'w', 'bobbles', 'boom', 'speaker', 'dress', 'shopper', 'fruit', 'parcel', 'slipper', 'shoe', 'daisy', 'peg', 'craft', 'tree', 'friends', 'rosie', 'olivia', 'rex', 'cash+carry', 'tote', 'pinkwhite', 'red/white', 'valentine', 'decoupage', 'sock', 'bauble', 'village', 'turquoise', 'wreath', 'advent', 'calendar', 'gingham', 'sack', 'snap', 'drawerknob', 'apron', 'mushroom', 'chalk', 'hairband', 'purple', 'animal', 'fair', 'cupcake', 'lace', 'catch', 'cotton', 'beach', 'spade', 'boy', 'king', 'choice', 'caddy', 'biscuit', 'empire', 'fawn', 'gift', 'namaste', 'swagat', 'vase', 'chrysanthemum', 'scissor', 'tealight', 'place', 's/15', 'wc', 'soap', 'medium', 'washroom', 'bracelet', 'hair', 'grip', 'pack/2', 'dia', 'diamante', 'ring', 'ruby', 'montana', 'present', 'aid', 'monsoon', 'rubber', 'stationery', 'mittens', 'scandinavian', 'canvas', 'stamp', 'cinammon', 'stripe', 'provence', 'flock', 'office', 'record', 'size', 'horse', 'regency', 'cakestand', 'tier', 'longboard', 'playing', 'shirt', 'repair', 'foxy', 'gents', 'jet', \"'n\", 'grow', 'world', 'champion', 'seed', 'envelope', 'hi', 'polyester', 'filler', 'pad', 'scarf', 'pears', 'gazebo', 'birdhouse', 'antique', 'market', 'crate', 'bed', 'pizza', 'leaves', 'button', 'message', 'herb', 'marker', 'mint', 'rosemary', 'chives', 'parsley', 'thyme', 'merry', 'foil', 'handbag', 'easter', 'cut', 'season', 'toast', 'path', 'journal', 'squeezer', 'glove', 'licorice', 'des', 'roll', 'multicolour', 'confetti', 'morris', 'pistachio', 'honeycomb', 'english', 'level', 'platter', 'teacup', 'slice', 'fun', 'ass', 'col', 'sand', 'gecko', \"p'weight\", 'postcard', 'spring', 'chateau', 'scales', 'lizard', 'suction', 'engine/car', 'patch', 'psychedelic', 'flowerpower', 'life', 'rounders', 'childs', 'taper', 'confectionery', 'stopper', 'set/4', 'junk', 'mail', 'tile', 'finger', 'beurre', 'dish', 'diet', 'screen', 'print', 'peace', 'earth', 'cocktail', 'strongman', 'school', 'crayons', 'booze', 'women', 'lads', 'man', 'heat', 'person', 'shape', 'pan', 'bendy', 'straws', 'pantry', 'sketchbook', 'singing', 'emergency', 'frieze', 'door', 'joy', 'black+silver', 'regal', 'candlepot', 'swirlglass', 'pedestal', 'magazine', 'food', 'raffia', 'polka', 'jardin', 'bunting', 'kashmir', 'chocolatecandle', 'shelf', 'image', 'day', 'jewellery', 'lets', 'camouflage', 'torch', 'dragonfly', 'helicopter', 'shark', 'doctor', 'carriage', 'salt', 'pepper', 'porcelain', 'star+', 'moon', 'fringe', 'hammock', 'dec', 'crossbones', 'fabric', 'pony', 'cordon', 'barrier', 'teddy', 'air', 'hostess', 'stack', 'hut', 'blossom', 'passport', 'retro', 'mod', 'cardholder', 'book', 'spiral', 'coal', 'airmail', 'number', 'smiley', 'collage', 'childhood', 'memory', 'funk', 'monkey', 'choc+blue', 'glitter', 'b', 'c', 'cheese', 'geisha', 'newspaper', 'scandispot', 'jingle', 'key', 'instrument', 'crowns', 'chalet', 'motorbike', 'medicine', 'ma', 'campagne', 'yuletide', 'shade', 'base', 'folkart', 'smallfolkart', 'glass+zinc', 'set/3', 'eucalyptus', 'pinecone', 's/4', 'cacti', 'marshmallow', 'mum', 'indians', 'fuschia', 'brocade', 'swallows', 'm', 'v', 's', 'j', 'bingo', 'floor', 'fauna', 'ear', 'muff', 'headphones', 'tutti', 'frutti', 'brush', 'ladybird', 'bee', 'bamboo', 'ribs', 'lampshade', 'badges', 'creatures', 'pocket', 'brocante', 'maria', 'memo', 'room', 'salle', 'bain', 'robot', 'war', 'gliders', 'coathanger', 'bomb', 'pump', 'stencil', 'cute', 'toothpaste', 'purdey', 'account', 'penny', 'pig', 'loveheart', 'en', 'pin', 'area', 'portrait', 'plastic', 'elephant', 'rainbow', 'modelling', 'clay', 'disc', 'sugar', 'teapot', 'dairy', 'maid', 'pudding', 'container', 'moody', 'hen', 'wishes', 'thank', 'planter', 'stripey', 'dragon', 'ruler', 'digitalis', 'post', 'milkshake', 'baby', 'chart', 'figures', 'shine', 'army', 'camo', 'bookcover', 'carrot', 'chick', 'chunky', 'tassel', 'glass+bead', 'livingroom', 'posy', 'vine', 'food/drink', 'lilac', 'juicy', 'creepy', 'crawlie', 'memoboard', 'wash', 'cafe', 'bow', 'brooch', 'amethyst', 'pair', 'hairclip', 'gemstone', 'drop', 'earrings', 'hoop', 'leaf', 'clam', 'shell', 'cockle', 'fob', 'garage', 'chopsticks', 'frog', 'puppet', 'wine', 'candlestand', 'gaolers', 'champagne', 'curio', 'fan', 'charge', 'butter', 'farm', 'snowstorm', 'tinsel', 'space', 'cadet', 'monster', 'citronella', 'folk', 'burst', 'fanny', 'rest', 'stopmetal', 'way', 'corona', 'weekend', 'fishing', 'gnome', 'colander', 'blue/cream', 'strawbery', 'shop', 'washbag', 'feng', 'shui', 'pillar', 'novelty', 'toastrack', 'rustic', 'bead', 'croquet', 'choc', 'truffle', 'cabin', 'knitting', 'nancy', 'throw', 'lush', 'necklace+bracelet', 'salad', 'check', 'ludo', 'la', 'palmiera', 'display', 'pack/12', 'secateurs', 'leis', 'camphor', 'field', 'portobello', 'fairy,5', 'summer', \"b'draw\", 'liners', 'blue/yellow', 'green/blue', 'yellow/pink', 'a5', 'neighbourhood', 'witch', 'pharmacie', 'naughty', 'sound', 'hello', 'sailor', 'beware', 'cinnamon', 'jasmine', 'bone', 'circle', 'midnight', 'glamour', 'frappucino', 'phone', 'blue/green', 'pendant', 'spirit', 'skirt', 'mouse', 't-shirt', 'jewel', 'nurse', 'melamine', 'wool', 'peacock', 'footprints', 'album', 'gardenia', 'multi', 'mousey', 'laundry', 'cactus', 'cockerel', 'bouquet', 'danish', 'cast', 'iron', 'fork', 'trowel', 'pearl', 'lime', 'boudicca', 'pennant', 'labels', 'ream', 'pop', 'poncho', 'flask', 'keyring', 'chair', 'petit', 'dream', 'windsock', 'microwave', 'delight', 'organiser', 'leap', 'silicon', 'bulb', 'seat', 'madras', 'feather', 'sandalwood', 'rocket', 'sombrero', 'bitty', 'stone', 'glow', 'tiaras', 'robin', 'kensington', 'set/12', 'mobile', 's/12', 'bib', 'teatime', 'flu', 'embroidery', 'ashtray', 'shower', 'cap', 'queen', 'sky', 'economy', 'oil', 'burner', 'notelets', 'deco', 'w/knif', 'deco.white', 'sage', 'flowerpot', 'paperweight', 'carry-all', 'balm', 'tumbler', 'brown', 'travelogue', 'pink/white', 'clean', 'bullet', 'puppies', 'sunrise', 'carousel', 'sunglasses', 'blackchristmas', 'sweeties', 'wireless', 'doorbell', 'lattice', 'neckl', 'bronze', 'smokey', 'd.o.f', 'pouri', 'windmill', 'pale', 'bea', 'mao', 'goose', 'bear', 'du', 'cosmetics', 'flytrap', 'sunflower', 'butterfl', 'pouffe', 'regatta', 'budah', 'wise', 'potion', 'masala', 'favourites', 'banquet', 'xmas', 'nut', 'basin', 'eau', 'tigris', 'eye', 'vinyl', 'las', 'vegas', 'mould', 'voile', 'pointy', 'k', 'address', 'stool', 'photoframe', 'jungle', 'popsicles', 'twine', 'rnd', 'str', 'strap', 'beauty', 'cd', 'gebra', 'shutters', 'seafood', 'compact', 'magic', 'octagon', 'diva', 'chime', 'neckl.36', 'folding', 'edge', 'forties', 'blood', 'coney', 'island', 'pompom', 'curtain', 'grass', 'mixing', 'rosette', 'welcome', 'class', 'plaque', 'popart', 'rect', 'sharpener', 'asst', 'tortilla', 'w/sucker', 'origami', 'incense/candl', 'opium', 'sandlewood', 'incense/cand', 'rococo', 'sprig', 'cage', 'strawbry', 'mosaic', 'goblet', 'highlighter', 'kittens', 'silver/amethyst', 'slide', 'cartoon', 'vip', 'doc', 'russel', 'dad', 'scroll', 'marmalade', 'garld', 'neckl36', 'copper', 'turq', 'sundae', 'droplet', 'murano', 'twist', 'racing', 'silouette', 'demi', 'choker', 'orbit', 'pastel', 'flowe', 'beaten', 'charger', 'aperitif', 'spice', 'cannister', 'bertie', 'steel', 'mr', 'vippassport', 'asstd', 'butterfly/crystal', 'w/chime', 'screwdriver', 'spaceball', 'mrs', 'prince', 'chalice', 'blackboard', 'ice', 'bum', 'roccoco', 'chandelier', 'fly', 'swat', 'sheep', 'fruitbowl', 'freshwater', 'pink/amethyst', 'teal/fuschia', 'botanical', 'groovy', 'fruit+flowers', 'blackblue', 'bus', 'enamel+glass', 'comb', 'diamond', 'incense+flower', 'fluffy', 'desk', 'mock', 'lobster', 'diamon', 'raspberr', 'lazer', 'amber', 'band', 'delphinium', 'white/pink', 'toybox', 'banner', 'm.o.p', 'cannabis', 'd', 'dark', 'dolphin', 'wheelbarrow', 'rake', 'frangipani', 'rosebud', 'chenille', 'box/12', 'ladle', 'wedding', 'briar', 'poodle', 'pink/flower', 'waste', 'carpet', 'flamingo', 'bar', 'condiment', 'hilda', 'congratulations', 'icon', 'elvis', 'drawstring', 'hare', 'gordon', 'pool', 'sisters', 'citrus', 'beetles', 'crystal+glass', 'resin', 'ridge', 'crusoe', 'vegetables', 'flore', 'doiley', 'multicol', 'blond', 'glass/silver', 'hunt', 'start', 'rasta', 'key-chains', 'back', 'hen+chicks', 'petals', 'candystuft', 'st', 'george', 'savannah', 'hamper', 'barn', 'red/cream', 'r', 'suede', 'oyster', 'flame', 'lenses', 'support', 'g', 'ceramic', 'rectangular', 'unit', 'ivy', 's/2', 'list', 'cutglass', 'gold/m.o.p', 'silver/m.o.p', 'roman', 'peach', 'bazaar', 'tranquility', 'gauze', 'radio', 'buddha', 'pet', 'revolutionary', 'tie', 'jade', 'cluster', 'sea', 'windchime', 'pom-pom', 'vint', 'blue/nat', 'silver/nat', 'hopper', 'pole', 'monte', 'carlo', 'wallet', 'meadow', 'transport', 'calm', 'giraffe', 'revolver', 'pill', 'ticket', 'dotcomgiftshop', 'raspberry', 'berries', 'scallop', 'bling', 'riviera', 'heavens', 'fragrance', 'anemone', 'allium', 'artificial', 'buffalo', 'bill', 'pastry', 'dollcraft', 'nicole', 'mother', 'corer', 'triple', 'acapulco', 'mat', 'lives', 'jean-paul', 'bull', 'opener', 'guitar', 'ol', 'p', 'splodges', 'purple/turq', 'hole', 'punch', 'bonbons', 'amelie', 'gems', 'geometric', 'lt.blue', 'sanskrit', '/', 'turquois', 'kukui', 'coconut', 'lip', 'gloss', 'red/blue', 'flower/butterfly', 'mummy', 'cupboard', 'hibiscus', 'nativity', 'silver/black', 'goldie', 'hurricane', 'backpack', 'mop', 'yellow/orange', 'hardman', 'tahiti', 'aluminium', 'parlour', 'barrel', 'marie', 'antoienett', 'miniature', 'gel', 'cote', \"d'azure\", 'tropez', 'tone', 'page', 'run', 'laser', 'tongs', 'come', 'strainer', 'zinc/glass', 'point', 'snow', 'cinderella', 'miniture', 'antoinette', 'l', 'sequin', 'spliff', 'bundle', 'exercise', 'note', 'supplies', 'parisienne', 'chic', 'secret', 'bedside', 'dispenser', 'bon', 'montan', 'gerden', 'housework', 'y', 'peony', 'stiletto', 'flowr', 'capiz', 'quartz', 'braclet', 'lt', 'laurel', 'rocking', 'ollie', 'beak', 'ghost', 'disc/mirror', 'willie', 'icicle', 'push', 'e', 'knack', 'gymkhana', 'hold', 'bubblegum', 'h', 'sleigh', 'trim', 'mid', 'spike', 'meter', 'donkey', 'perfume', 'elixir', 'songbird', 'crackle', 'glaze', 'tonic', 'doorknob', 'bonne', 'swords', 'disposable', 'handle', 'hexagon', 'notepad', 'refectory', 'reto', 'madeline', 'mark', 'hens+flower', 'sucker', 'cracker', 'brass', 'hairslide', 'loaf', 'w/suck', 'tablecloth', 'bili', 'poster', 'park', 'ceature', 'forest', 'branch', 'pink/blue', 'frill', 'adult', 'jampot', 'sex', 'stuff', 'bubbles', 'patchwork', 'utensil', 'teddy/cake', 'dotcom', 'commission', 'france', 'foot', 'bonheur', 'botanique', 'sweeet', 'pants', 'makers', 'grinder', 'linen', 'spatula', 'whisk', 'toilette', 'chambre', 'le', 'draw', 'carry', 'jubilee', 'rebecca', 'rachel', 'susie', 'rucksack', 'peridot', 'sophie', 'claire', 'blk/whit', 'villa', 'dovecote', 'bicycle', 'saftey', 'stop', 'licence', 'haven', 'ahoy', 'nature', 'show', 'century', 'modern', 'work', 'baseball', 'boot', 'feeding', 'station', 'safety', 'metre', 'triobase', 'feeder', 'henrietta', 'carrier', 'helga', 'heidi', 'resolution', 'landmark', 'bridge', 'oxford', 'street', 'baker', 'hill', 'town', 'miror', 'decrotivevintage', 'pick', 'naughts', 'cross', 'blueberry', 'fondant', 'chrome', \"sil't\", 'squ', 'crome', 'candle+incense', 'panettone', 'czech', 'puncture', 'country', 'f', 'o', 't', 'z', 'birdie'] \n",
      " {'heart': {'hearts', 'heart'}, 'holder': {'holder', 'holders'}, 'metal': {'metal'}, 'lantern': {'lanterns', 'lantern'}, 'cream': {'cream'}, 'cupid': {'cupid'}, 'coat': {'coat'}, 'hanger': {'hangers', 'hanger'}, 'union': {'union'}, 'flag': {'flags', 'flag'}, 'water': {'watering', 'water'}, 'bottl': {'bottle', 'bottles'}, 'nest': {'nesting', 'nest'}, 'box': {'boxes', 'box'}, 'glass': {'glass', 'glasses'}, 'star': {'stars', 'star'}, 'hand': {'hand'}, 'jack': {'jack'}, 'warmer': {'warmer'}, 'dot': {'dot', 'dots'}, 'bird': {'birds', 'bird'}, 'ornament': {'ornament'}, 'poppi': {'poppies', 'poppy'}, 'playhous': {'playhouse'}, 'bedroom': {'bedroom'}, 'kitchen': {'kitchen'}, 'feltcraft': {'feltcraft'}, 'princess': {'princess'}, 'charlott': {'charlotte'}, 'doll': {'doll'}, 'ivori': {'ivory'}, 'cosi': {'cosy'}, 'colour': {'colouring', 'colours', 'colour'}, 'teaspoon': {'teaspoons'}, 'vintag': {'vintage'}, 'jigsaw': {'jigsaw'}, 'block': {'blocks', 'block'}, 'alphabet': {'alphabet'}, 'home': {'home'}, 'build': {'building'}, 'word': {'word'}, 'love': {'love', 'loves'}, 'recip': {'recipe'}, 'england': {'england'}, 'jam': {'jam'}, 'jar': {'jars', 'jar'}, 'rack': {'rack'}, 'pari': {'paris'}, 'fashion': {'fashion'}, 'bath': {'baths', 'bath'}, 'alarm': {'alarm'}, 'clock': {'clock'}, 'bakelik': {'bakelike'}, 'pink': {'pink', 'pinks'}, 'green': {'green', 'greens'}, 'panda': {'panda'}, 'bunni': {'bunnies', 'bunny'}, 'sheet': {'sheet'}, 'tape': {'tape', 'tapes'}, 'globe': {'globe'}, 'head': {'heads', 'head'}, 'tail': {'tail', 'tails'}, 'game': {'game', 'games'}, 'set/2': {'set/2'}, 'retrospot': {'retrospot'}, 'tea': {'tea'}, 'towel': {'towel', 'towels'}, 'round': {'round'}, 'snack': {'snack'}, 'woodland': {'woodland'}, 'spaceboy': {'spaceboy'}, 'lunch': {'lunch'}, 'i': {'i'}, 'london': {'london'}, 'circus': {'circus'}, 'bag': {'bags', 'bag'}, 'design': {'designs', 'design'}, 'toadstool': {'toadstools', 'toadstool'}, 'night': {'night'}, 'light': {'lights', 'light'}, 'seasid': {'seaside'}, 'puzzl': {'puzzles'}, 'mini': {'mini'}, 'parad': {'parade'}, 'paint': {'paint'}, 'postag': {'postage'}, 'paper': {'paper'}, 'chain': {'chain'}, 'christma': {'christmas'}, 'parasol': {'parasols', 'parasol'}, 'coffe': {'coffee'}, 'mug': {'mugs', 'mug'}, 'planet': {'planet'}, 'billboard': {'billboard'}, 'love/h': {'love/hate'}, 'wood': {'wood'}, 'drawer': {'drawer', 'drawers'}, 'cabinet': {'cabinet'}, 'finish': {'finish'}, 's/3': {'s/3'}, 'pictur': {'picture'}, 'frame': {'frames', 'frame'}, 'wooden': {'wooden'}, 'sympathi': {'sympathy'}, 'polkadot': {'polkadot', 'polkadots'}, 'baroqu': {'baroque'}, 'charli': {'charlie'}, 'lola': {'lola'}, 'toy': {'toy', 'toys'}, 'strawberri': {'strawberries', 'strawberry'}, 'piec': {'piece', 'pieces'}, 'cutleri': {'cutlery'}, 'set': {'set', 'setting', 'settings'}, 'set/6': {'set/6'}, 'plate': {'plates', 'plate'}, 'pack': {'pack'}, 'case': {'case', 'cases'}, 'dinosaur': {'dinosaurs', 'dinosaur'}, 'paisley': {'paisley'}, 'fairi': {'fairy'}, 'tomato': {'tomato'}, 'charlie+lola': {'charlie+lola'}, 'coaster': {'coaster', 'coasters'}, 'wastepap': {'wastepaper'}, 'bin': {'bin'}, 'flora': {'flora'}, 'doorsign': {'doorsign'}, 'storag': {'storage'}, 'suki': {'suki'}, 'make': {'making'}, 'pc': {'pc'}, 'tool': {'tools', 'tool'}, 'airlin': {'airline'}, 'loung': {'lounge'}, 'sign': {'sign'}, 'spot': {'spots', 'spot'}, 'knob': {'knob'}, 'photo': {'photo'}, 'clip': {'clips', 'clip'}, 'line': {'line'}, 'felt': {'felt'}, 'egg': {'egg', 'eggs'}, 'chicken': {'chicken'}, 'bank': {'bank'}, 'shoulder': {'shoulder'}, 'cook': {'cook'}, 'gin': {'gin'}, '+': {'+'}, 'breakfast': {'breakfast'}, 'cup': {'cup', 'cups'}, 'saucer': {'saucer'}, 'flower': {'flowers', 'flower'}, 'time': {'time'}, 'rabbit': {'rabbit', 'rabbits'}, 'zinc': {'zinc'}, 'winki': {'winkie'}, 'candl': {'candles', 'candle'}, 'stick': {'sticks', 'stick'}, 'cherri': {'cherry'}, 'money': {'money'}, 'milk': {'milk'}, 'jug': {'jug'}, 'funki': {'funky'}, 'beaker': {'beakers', 'beaker'}, 'owl': {'owls', 'owl'}, 'balloon': {'balloons', 'balloon'}, 'art': {'art'}, 'cloch': {'cloche'}, 'gumbal': {'gumball'}, 'monochrom': {'monochrome'}, 'doormat': {'doormat'}, 'fanci': {'fancy'}, 'sweet': {'sweet'}, 'discount': {'discount'}, 'snake': {'snakes', 'snake'}, 'ladder': {'ladders', 'ladder'}, 'chocol': {'chocolate', 'chocolates'}, 'calcul': {'calculator'}, 'tidi': {'tidy'}, 'tabl': {'table'}, 'pot': {'pots', 'pot'}, 'garden': {'gardens', 'gardeners', 'garden'}, 'thermomet': {'thermometer'}, 'cake': {'cake', 'cakes'}, 'tin': {'tins', 'tin'}, 'wicker': {'wicker'}, 'basket': {'baskets', 'basket'}, 'lid': {'lids', 'lid'}, 'duck': {'ducks', 'duck'}, 'board': {'board'}, 'hang': {'hanging'}, 'medina': {'medina'}, 'chalkboard': {'chalkboard'}, 'lovebird': {'lovebird', 'lovebirds'}, 'birdcag': {'birdcage'}, 'plant': {'plant'}, 'card': {'card', 'cards'}, 'enamel': {'enamel'}, 'fire': {'fire'}, 'bucket': {'bucket'}, 'bread': {'bread'}, 'ribbon': {'ribbon', 'ribbons'}, 'wire': {'wire'}, 'chilli': {'chilli'}, 'garland': {'garland'}, 'butterfil': {'butterfiles'}, 'tale': {'tale'}, 'cottag': {'cottage'}, 'letter': {'letters', 'letter'}, 'doorstop': {'doorstop'}, 'decor': {'decorative', 'decoration', 'decorations'}, 'magnet': {'magnets', 'magnet'}, 'fridg': {'fridge'}, 'homemad': {'homemade'}, 'enfant': {'enfants'}, 'caravan': {'caravan'}, 'hook': {'hook', 'hooks'}, 'reindeer': {'reindeer'}, 'cushion': {'cushions', 'cushion'}, 'cover': {'cover'}, 'gold': {'gold'}, 'umbrella': {'umbrella'}, 'black/blu': {'black/blue'}, 'diner': {'diner'}, 'wall': {'wall'}, 'measur': {'measure', 'measuring'}, 'spoon': {'spoons', 'spoon'}, 'keepsak': {'keepsake'}, 'disco': {'disco'}, 'ball': {'ball', 'balls'}, 'popcorn': {'popcorn'}, 'set/20': {'set/20'}, 'napkin': {'napkins'}, 'rain': {'rain'}, 'hat': {'hat'}, 'delux': {'deluxe'}, 'kit': {'kit'}, 'cube': {'cube', 'cubes'}, 'plaster': {'plasters'}, 'tissu': {'tissues', 'tissue'}, 'grey': {'grey'}, 'skull': {'skulls', 'skull'}, 'mice': {'mice'}, 'soldier': {'soldiers', 'soldier'}, 'skittl': {'skittles'}, 'skip': {'skipping'}, 'rope': {'rope'}, 'domino': {'dominoes'}, 'seventeen': {'seventeen'}, 'sideboard': {'sideboard'}, 'parti': {'party'}, 'cone': {'cones', 'cone'}, 'carniv': {'carnival'}, 'candi': {'candy'}, 'picnic': {'picnic'}, 'lamp': {'lamp'}, 'font': {'fonts', 'font'}, 'birthday': {'birthday'}, 'scotti': {'scottie', 'scotties', 'scotty'}, 'dog': {'dogs', 'dog'}, 'bowl': {'bowls', 'bowl'}, 'cloth': {'cloth', 'clothes'}, 'travel': {'travel'}, 'trinket': {'trinket'}, 'orang': {'orange'}, 'quilt': {'quilt'}, 'babushka': {'babushka'}, 'string': {'string'}, 'doughnut': {'doughnut', 'doughnuts'}, 'silk': {'silk'}, 'purs': {'purse'}, 'hous': {'house'}, 'boudoir': {'boudoir'}, 'squar': {'square'}, 'cornic': {'cornice'}, 's/6': {'s/6'}, 'sew': {'sewing', 'sew'}, 'crochet': {'crochet'}, 'red': {'reds'}, 'lavend': {'lavender'}, 'incens': {'incense'}, 'tv': {'tv'}, 'dinner': {'dinner'}, 'tray': {'trays', 'tray'}, 'placemat': {'placemats', 'placemat'}, 'famili': {'family'}, 'rotat': {'rotator'}, 'batteri': {'battery'}, 'silver': {'silver'}, 'mirror': {'mirror'}, 'ladi': {'ladies'}, 'gentlemen': {'gentlemen'}, 'bathroom': {'bathroom'}, 'toilet': {'toilet'}, 'holiday': {'holiday'}, 'basil': {'basil'}, 'set/10': {'set/10'}, 't-light': {'t-lights', 't-light'}, 'snowmen': {'snowmen'}, 'santa': {'santa', 'santas'}, 'spong': {'sponge'}, 'appl': {'apples', 'apple'}, 'pirat': {'pirate'}, 'treasur': {'treasure'}, 'chest': {'chests', 'chest'}, 'snowflak': {'snowflake', 'snowflakes'}, 'oval': {'oval'}, 'cigar': {'cigar'}, 'match': {'matches'}, 'hour': {'hour'}, 'giant': {'giant'}, 'tube': {'tube'}, 'jazz': {'jazz'}, 'notebook': {'notebooks', 'notebook'}, 'candlehold': {'candleholder'}, 'candlestick': {'candlestick'}, 'baroquecandlestick': {'baroquecandlestick'}, 'flannel': {'flannel'}, 'style': {'style'}, 'footbal': {'football'}, 'celebr': {'celebration'}, 'girl': {'girls', 'girl'}, 'blue': {'blue', 'blues'}, 'invit': {'invites'}, 'butterfli': {'butterfly', 'butterflies'}, 'cooki': {'cookie'}, 'cutter': {'cutter', 'cutters'}, 'sweetheart': {'sweetheart'}, 'car': {'car', 'cars'}, 'trelli': {'trellis'}, 'set/5': {'set/5'}, 'slate': {'slate'}, 'bake': {'baking', 'bake'}, 'pencil': {'pencil', 'pencils'}, 'harmonica': {'harmonica'}, 'transfer': {'transfer'}, 'tattoo': {'tattoos'}, 'panneton': {'pannetone'}, 'kid': {'kids'}, 'pen': {'pens', 'pen'}, 'rectangl': {'rectangle'}, 'face': {'face'}, 'wrap': {'wrap'}, 'cowboy': {'cowboys', 'cowboy'}, 'doili': {'doilies'}, 'cat': {'cats', 'cat'}, 'eras': {'erasers', 'eraser'}, 'angel': {'angel', 'angels'}, 'hldr': {'hldr'}, 'reel': {'reel'}, 'spin': {'spinning'}, 'top': {'tops', 'top'}, 'marbl': {'marbles'}, 'strand': {'strand'}, 'necklac': {'necklac', 'necklace'}, 'crystal': {'crystals', 'crystal'}, 'squarecushion': {'squarecushion'}, 'children': {'childrens', 'children'}, 'candelabra': {'candelabra'}, 'luggag': {'luggage'}, 'tag': {'tag', 'tags'}, 'tassl': {'tassle'}, 'charm': {'charms', 'charm'}, 'acryl': {'acrylic'}, 'bangl': {'bangle'}, 'gun': {'guns'}, 'rose': {'roses'}, 'vanilla': {'vanilla'}, 'scent': {'scent'}, 'bell': {'belle', 'bells', 'bell'}, 'stand': {'standing', 'stand'}, 'filigre': {'filigree'}, 'pattern': {'pattern', 'patterns'}, 'sticker': {'stickers', 'sticker'}, \"b'fli\": {\"b'fly\"}, 'c/cover': {'c/cover'}, 'w': {'w'}, 'bobbl': {'bobbles'}, 'boom': {'boom'}, 'speaker': {'speaker'}, 'dress': {'dress'}, 'shopper': {'shopper'}, 'fruit': {'fruit', 'fruits'}, 'parcel': {'parcel'}, 'slipper': {'slipper'}, 'shoe': {'shoes', 'shoe'}, 'daisi': {'daisy', 'daisies'}, 'peg': {'peg', 'pegs'}, 'craft': {'craft'}, 'tree': {'trees', 'tree'}, 'friend': {'friends'}, 'rosi': {'rosie'}, 'olivia': {'olivia'}, 'rex': {'rex'}, 'cash+carri': {'cash+carry'}, 'tote': {'tote'}, 'pinkwhit': {'pinkwhite'}, 'red/whit': {'red/white'}, 'valentin': {'valentine'}, 'decoupag': {'decoupage'}, 'sock': {'sock', 'socks'}, 'baubl': {'baubles', 'bauble'}, 'villag': {'village'}, 'turquois': {'turquoise'}, 'wreath': {'wreath'}, 'advent': {'advent'}, 'calendar': {'calendar'}, 'gingham': {'gingham'}, 'sack': {'sack'}, 'snap': {'snap'}, 'drawerknob': {'drawerknob'}, 'apron': {'apron'}, 'mushroom': {'mushroom', 'mushrooms'}, 'chalk': {'chalk'}, 'hairband': {'hairbands', 'hairband'}, 'purpl': {'purple'}, 'anim': {'animal', 'animals'}, 'fair': {'fair'}, 'cupcak': {'cupcakes', 'cupcake'}, 'lace': {'lace'}, 'catch': {'catch'}, 'cotton': {'cotton'}, 'beach': {'beach'}, 'spade': {'spade'}, 'boy': {'boys', 'boy'}, 'king': {'kings', 'king'}, 'choic': {'choice'}, 'caddi': {'caddy'}, 'biscuit': {'biscuit', 'biscuits'}, 'empir': {'empire'}, 'fawn': {'fawn'}, 'gift': {'gift'}, 'namast': {'namaste'}, 'swagat': {'swagat'}, 'vase': {'vase'}, 'chrysanthemum': {'chrysanthemums', 'chrysanthemum'}, 'scissor': {'scissor'}, 'tealight': {'tealight'}, 'place': {'place'}, 's/15': {'s/15'}, 'wc': {'wc'}, 'soap': {'soap'}, 'medium': {'medium'}, 'washroom': {'washroom'}, 'bracelet': {'bracelet'}, 'hair': {'hair'}, 'grip': {'grip'}, 'pack/2': {'pack/2'}, 'dia': {'dia'}, 'diamant': {'diamante'}, 'ring': {'ring', 'rings'}, 'rubi': {'ruby'}, 'montana': {'montana'}, 'present': {'present', 'presents'}, 'aid': {'aid'}, 'monsoon': {'monsoon'}, 'rubber': {'rubber', 'rubbers'}, 'stationeri': {'stationery'}, 'mitten': {'mittens'}, 'scandinavian': {'scandinavian'}, 'canva': {'canvas'}, 'stamp': {'stamp', 'stamps'}, 'cinammon': {'cinammon'}, 'stripe': {'stripes', 'stripe'}, 'provenc': {'provence'}, 'flock': {'flock'}, 'offic': {'office'}, 'record': {'record'}, 'size': {'sizes', 'size'}, 'hors': {'horse'}, 'regenc': {'regency'}, 'cakestand': {'cakestand'}, 'tier': {'tier'}, 'longboard': {'longboard'}, 'play': {'playing'}, 'shirt': {'shirt'}, 'repair': {'repair'}, 'foxi': {'foxy'}, 'gent': {'gents'}, 'jet': {'jet'}, \"'n\": {\"'n\"}, 'grow': {'grow'}, 'world': {'world'}, 'champion': {'champion'}, 'seed': {'seed'}, 'envelop': {'envelopes', 'envelope'}, 'hi': {'hi'}, 'polyest': {'polyester'}, 'filler': {'filler'}, 'pad': {'pads', 'pad'}, 'scarf': {'scarf'}, 'pear': {'pears'}, 'gazebo': {'gazebo'}, 'birdhous': {'birdhouse'}, 'antiqu': {'antique'}, 'market': {'market'}, 'crate': {'crate', 'crates'}, 'bed': {'bed'}, 'pizza': {'pizza'}, 'leav': {'leaves'}, 'button': {'button', 'buttons'}, 'messag': {'message'}, 'herb': {'herbs', 'herb'}, 'marker': {'marker'}, 'mint': {'mint'}, 'rosemari': {'rosemary'}, 'chive': {'chives'}, 'parsley': {'parsley'}, 'thyme': {'thyme'}, 'merri': {'merry'}, 'foil': {'foil'}, 'handbag': {'handbag'}, 'easter': {'easter'}, 'cut': {'cut'}, 'season': {'season'}, 'toast': {'toast'}, 'path': {'path'}, 'journal': {'journal'}, 'squeezer': {'squeezer'}, 'glove': {'glove', 'gloves'}, 'licoric': {'licorice'}, 'des': {'des'}, 'roll': {'roll'}, 'multicolour': {'multicolour'}, 'confetti': {'confetti'}, 'morri': {'morris'}, 'pistachio': {'pistachio'}, 'honeycomb': {'honeycomb'}, 'english': {'english'}, 'level': {'level'}, 'platter': {'platter'}, 'teacup': {'teacup'}, 'slice': {'slice'}, 'fun': {'fun'}, 'ass': {'ass'}, 'col': {'col'}, 'sand': {'sand'}, 'gecko': {'gecko'}, \"p'weight\": {\"p'weight\"}, 'postcard': {'postcard'}, 'spring': {'spring'}, 'chateau': {'chateau'}, 'scale': {'scales'}, 'lizard': {'lizard'}, 'suction': {'suction'}, 'engine/car': {'engine/car'}, 'patch': {'patches', 'patch'}, 'psychedel': {'psychedelic'}, 'flowerpow': {'flowerpower'}, 'life': {'life'}, 'rounder': {'rounders'}, 'child': {'childs'}, 'taper': {'taper'}, 'confectioneri': {'confectionery'}, 'stopper': {'stopper'}, 'set/4': {'set/4'}, 'junk': {'junk'}, 'mail': {'mail'}, 'tile': {'tile'}, 'finger': {'finger'}, 'beurr': {'beurre'}, 'dish': {'dish'}, 'diet': {'diet'}, 'screen': {'screen'}, 'print': {'print'}, 'peac': {'peace'}, 'earth': {'earth'}, 'cocktail': {'cocktail'}, 'strongman': {'strongman'}, 'school': {'school'}, 'crayon': {'crayons'}, 'booz': {'booze'}, 'women': {'women'}, 'lad': {'lads'}, 'man': {'man'}, 'heat': {'heat'}, 'person': {'person'}, 'shape': {'shape', 'shapes'}, 'pan': {'pan'}, 'bendi': {'bendy'}, 'straw': {'straws'}, 'pantri': {'pantry'}, 'sketchbook': {'sketchbook'}, 'sing': {'singing'}, 'emerg': {'emergency'}, 'friez': {'frieze'}, 'door': {'doors', 'door'}, 'joy': {'joy'}, 'black+silv': {'black+silver'}, 'regal': {'regal'}, 'candlepot': {'candlepot'}, 'swirlglass': {'swirlglass'}, 'pedest': {'pedestal'}, 'magazin': {'magazine'}, 'food': {'food'}, 'raffia': {'raffia'}, 'polka': {'polka'}, 'jardin': {'jardin'}, 'bunt': {'bunting'}, 'kashmir': {'kashmir'}, 'chocolatecandl': {'chocolatecandle'}, 'shelf': {'shelf'}, 'imag': {'images', 'image'}, 'day': {'day', 'days'}, 'jewelleri': {'jewellery'}, 'let': {'lets'}, 'camouflag': {'camouflage'}, 'torch': {'torch'}, 'dragonfli': {'dragonfly'}, 'helicopt': {'helicopter'}, 'shark': {'shark'}, 'doctor': {'doctor'}, 'carriag': {'carriage'}, 'salt': {'salts', 'salt'}, 'pepper': {'pepper'}, 'porcelain': {'porcelain'}, 'star+': {'star+'}, 'moon': {'moon'}, 'fring': {'fringe'}, 'hammock': {'hammock'}, 'dec': {'dec'}, 'crossbon': {'crossbones'}, 'fabric': {'fabric'}, 'poni': {'ponies', 'pony'}, 'cordon': {'cordon'}, 'barrier': {'barrier'}, 'teddi': {'teddy'}, 'air': {'air'}, 'hostess': {'hostess'}, 'stack': {'stack', 'stacking'}, 'hut': {'hut'}, 'blossom': {'blossom'}, 'passport': {'passport'}, 'retro': {'retro'}, 'mod': {'mod'}, 'cardhold': {'cardholder'}, 'book': {'books', 'book'}, 'spiral': {'spiral'}, 'coal': {'coal'}, 'airmail': {'airmail'}, 'number': {'number'}, 'smiley': {'smiley'}, 'collag': {'collage'}, 'childhood': {'childhood'}, 'memori': {'memories', 'memory'}, 'funk': {'funk'}, 'monkey': {'monkey'}, 'choc+blu': {'choc+blue'}, 'glitter': {'glitter'}, 'b': {'b'}, 'c': {'c'}, 'chees': {'cheese'}, 'geisha': {'geisha'}, 'newspap': {'newspaper'}, 'scandispot': {'scandispot'}, 'jingl': {'jingle'}, 'key': {'key', 'keys'}, 'instrument': {'instrument'}, 'crown': {'crowns'}, 'chalet': {'chalet'}, 'motorbik': {'motorbike'}, 'medicin': {'medicine'}, 'ma': {'ma'}, 'campagn': {'campagne'}, 'yuletid': {'yuletide'}, 'shade': {'shade'}, 'base': {'base'}, 'folkart': {'folkart'}, 'smallfolkart': {'smallfolkart'}, 'glass+zinc': {'glass+zinc'}, 'set/3': {'set/3'}, 'eucalyptus': {'eucalyptus'}, 'pinecon': {'pinecone'}, 's/4': {'s/4'}, 'cacti': {'cacti'}, 'marshmallow': {'marshmallows', 'marshmallow'}, 'mum': {'mum'}, 'indian': {'indians'}, 'fuschia': {'fuschia'}, 'brocad': {'brocade'}, 'swallow': {'swallows'}, 'm': {'m'}, 'v': {'v'}, 's': {'s'}, 'j': {'j'}, 'bingo': {'bingo'}, 'floor': {'floor'}, 'fauna': {'fauna'}, 'ear': {'ear'}, 'muff': {'muff'}, 'headphon': {'headphones'}, 'tutti': {'tutti'}, 'frutti': {'frutti'}, 'brush': {'brush'}, 'ladybird': {'ladybird'}, 'bee': {'bee'}, 'bamboo': {'bamboo'}, 'rib': {'ribs'}, 'lampshad': {'lampshade'}, 'badg': {'badges'}, 'creatur': {'creatures'}, 'pocket': {'pocket'}, 'brocant': {'brocante'}, 'maria': {'maria'}, 'memo': {'memo'}, 'room': {'room'}, 'sall': {'salle'}, 'bain': {'bain'}, 'robot': {'robot'}, 'war': {'war'}, 'glider': {'gliders'}, 'coathang': {'coathanger'}, 'bomb': {'bomb'}, 'pump': {'pump'}, 'stencil': {'stencil'}, 'cute': {'cute'}, 'toothpast': {'toothpaste'}, 'purdey': {'purdey'}, 'account': {'account'}, 'penni': {'penny'}, 'pig': {'pig'}, 'loveheart': {'loveheart'}, 'en': {'en'}, 'pin': {'pin'}, 'area': {'area'}, 'portrait': {'portrait', 'portraits'}, 'plastic': {'plastic'}, 'eleph': {'elephant'}, 'rainbow': {'rainbow'}, 'model': {'modelling'}, 'clay': {'clay'}, 'disc': {'disc'}, 'sugar': {'sugar'}, 'teapot': {'teapot'}, 'dairi': {'dairy'}, 'maid': {'maid', 'maids'}, 'pud': {'pudding', 'puddings'}, 'contain': {'container'}, 'moodi': {'moody'}, 'hen': {'hen'}, 'wish': {'wishes'}, 'thank': {'thank'}, 'planter': {'planters', 'planter'}, 'stripey': {'stripey'}, 'dragon': {'dragon', 'dragons'}, 'ruler': {'ruler'}, 'digitali': {'digitalis'}, 'post': {'post', 'poste'}, 'milkshak': {'milkshake'}, 'babi': {'baby'}, 'chart': {'chart'}, 'figur': {'figures'}, 'shine': {'shine'}, 'armi': {'army'}, 'camo': {'camo'}, 'bookcov': {'bookcover'}, 'carrot': {'carrot'}, 'chick': {'chicks', 'chick'}, 'chunki': {'chunky'}, 'tassel': {'tassel'}, 'glass+bead': {'glass+bead'}, 'livingroom': {'livingroom'}, 'posi': {'posies', 'posy'}, 'vine': {'vine'}, 'food/drink': {'food/drink'}, 'lilac': {'lilac'}, 'juici': {'juicy'}, 'creepi': {'creepy'}, 'crawli': {'crawlie', 'crawlies'}, 'memoboard': {'memoboard'}, 'wash': {'wash'}, 'cafe': {'cafe'}, 'bow': {'bow', 'bows'}, 'brooch': {'brooch'}, 'amethyst': {'amethyst'}, 'pair': {'pair'}, 'hairclip': {'hairclips', 'hairclip'}, 'gemston': {'gemstone'}, 'drop': {'drop'}, 'earring': {'earrings'}, 'hoop': {'hoop'}, 'leaf': {'leaf'}, 'clam': {'clam'}, 'shell': {'shell', 'shells'}, 'cockl': {'cockle'}, 'fob': {'fob'}, 'garag': {'garage'}, 'chopstick': {'chopsticks'}, 'frog': {'frog'}, 'puppet': {'puppet'}, 'wine': {'wine'}, 'candlestand': {'candlestand'}, 'gaoler': {'gaolers'}, 'champagn': {'champagne'}, 'curio': {'curio'}, 'fan': {'fan'}, 'charg': {'charge', 'charges'}, 'butter': {'butter'}, 'farm': {'farm'}, 'snowstorm': {'snowstorm'}, 'tinsel': {'tinsel'}, 'space': {'space'}, 'cadet': {'cadet'}, 'monster': {'monsters', 'monster'}, 'citronella': {'citronella'}, 'folk': {'folk'}, 'burst': {'burst'}, 'fanni': {'fanny'}, 'rest': {'rest'}, 'stopmet': {'stopmetal'}, 'way': {'way'}, 'corona': {'corona'}, 'weekend': {'weekend'}, 'fish': {'fishing'}, 'gnome': {'gnome'}, 'coland': {'colander'}, 'blue/cream': {'blue/cream'}, 'strawberi': {'strawbery'}, 'shop': {'shopping', 'shop'}, 'washbag': {'washbag'}, 'feng': {'feng'}, 'shui': {'shui'}, 'pillar': {'pillar'}, 'novelti': {'novelty'}, 'toastrack': {'toastrack'}, 'rustic': {'rustic'}, 'bead': {'bead', 'beads'}, 'croquet': {'croquet'}, 'choc': {'choc'}, 'truffl': {'truffle'}, 'cabin': {'cabin'}, 'knit': {'knitting'}, 'nanci': {'nancy'}, 'throw': {'throw'}, 'lush': {'lush'}, 'necklace+bracelet': {'necklace+bracelet'}, 'salad': {'salad'}, 'check': {'check'}, 'ludo': {'ludo'}, 'la': {'la'}, 'palmiera': {'palmiera'}, 'display': {'display'}, 'pack/12': {'pack/12'}, 'secateur': {'secateurs'}, 'lei': {'leis'}, 'camphor': {'camphor'}, 'field': {'fields', 'field'}, 'portobello': {'portobello'}, 'fairy,5': {'fairy,5'}, 'summer': {'summer'}, \"b'draw\": {\"b'draw\"}, 'liner': {'liners'}, 'blue/yellow': {'blue/yellow'}, 'green/blu': {'green/blue'}, 'yellow/pink': {'yellow/pink'}, 'a5': {'a5'}, 'neighbourhood': {'neighbourhood'}, 'witch': {'witch'}, 'pharmaci': {'pharmacie'}, 'naughti': {'naughty'}, 'sound': {'sound'}, 'hello': {'hello'}, 'sailor': {'sailor'}, 'bewar': {'beware'}, 'cinnamon': {'cinnamon'}, 'jasmin': {'jasmine'}, 'bone': {'bone'}, 'circl': {'circles', 'circle'}, 'midnight': {'midnight'}, 'glamour': {'glamour'}, 'frappucino': {'frappucino'}, 'phone': {'phone'}, 'blue/green': {'blue/green'}, 'pendant': {'pendant'}, 'spirit': {'spirit'}, 'skirt': {'skirt'}, 'mous': {'mouse'}, 't-shirt': {'t-shirt'}, 'jewel': {'jeweled', 'jewelled', 'jewel'}, 'nurs': {'nurse'}, 'melamin': {'melamine'}, 'wool': {'wool'}, 'peacock': {'peacock'}, 'footprint': {'footprints'}, 'album': {'album'}, 'gardenia': {'gardenia'}, 'multi': {'multi'}, 'mousey': {'mousey'}, 'laundri': {'laundry'}, 'cactus': {'cactus'}, 'cockerel': {'cockerel'}, 'bouquet': {'bouquet'}, 'danish': {'danish'}, 'cast': {'cast'}, 'iron': {'iron'}, 'fork': {'fork'}, 'trowel': {'trowel'}, 'pearl': {'pearl', 'pearls'}, 'lime': {'lime'}, 'boudicca': {'boudicca'}, 'pennant': {'pennant'}, 'label': {'labels'}, 'ream': {'ream'}, 'pop': {'pop'}, 'poncho': {'poncho'}, 'flask': {'flask'}, 'keyr': {'keyring', 'keyrings'}, 'chair': {'chair'}, 'petit': {'petit'}, 'dream': {'dream', 'dreams'}, 'windsock': {'windsock'}, 'microwav': {'microwave'}, 'delight': {'delight'}, 'organis': {'organiser'}, 'leap': {'leap'}, 'silicon': {'silicon'}, 'bulb': {'bulb'}, 'seat': {'seat'}, 'madra': {'madras'}, 'feather': {'feathers', 'feather'}, 'sandalwood': {'sandalwood'}, 'rocket': {'rocket'}, 'sombrero': {'sombrero'}, 'bitti': {'bitty'}, 'stone': {'stone', 'stones'}, 'glow': {'glow', 'glowing'}, 'tiara': {'tiaras'}, 'robin': {'robin'}, 'kensington': {'kensington'}, 'set/12': {'set/12'}, 'mobil': {'mobile'}, 's/12': {'s/12'}, 'bib': {'bib'}, 'teatim': {'teatime'}, 'flu': {'flu'}, 'embroideri': {'embroidery'}, 'ashtray': {'ashtray'}, 'shower': {'shower'}, 'cap': {'cap'}, 'queen': {'queens', 'queen'}, 'sky': {'sky', 'skies'}, 'economi': {'economy'}, 'oil': {'oil', 'oils'}, 'burner': {'burner'}, 'notelet': {'notelets'}, 'deco': {'deco'}, 'w/knif': {'w/knif'}, 'deco.whit': {'deco.white'}, 'sage': {'sage'}, 'flowerpot': {'flowerpot'}, 'paperweight': {'paperweight'}, 'carry-al': {'carry-all'}, 'balm': {'balm'}, 'tumbler': {'tumbler'}, 'brown': {'brown'}, 'travelogu': {'travelogue'}, 'pink/whit': {'pink/white'}, 'clean': {'clean'}, 'bullet': {'bullet'}, 'puppi': {'puppies'}, 'sunris': {'sunrise'}, 'carousel': {'carousel'}, 'sunglass': {'sunglasses'}, 'blackchristma': {'blackchristmas'}, 'sweeti': {'sweeties'}, 'wireless': {'wireless'}, 'doorbel': {'doorbell'}, 'lattic': {'lattice'}, 'neckl': {'neckl'}, 'bronz': {'bronze'}, 'smokey': {'smokey'}, 'd.o.f': {'d.o.f'}, 'pouri': {'pouri'}, 'windmil': {'windmill'}, 'pale': {'pale'}, 'bea': {'bea'}, 'mao': {'mao'}, 'goos': {'goose'}, 'bear': {'bear'}, 'du': {'du'}, 'cosmet': {'cosmetics'}, 'flytrap': {'flytrap'}, 'sunflow': {'sunflower'}, 'butterfl': {'butterfl'}, 'pouff': {'pouffe'}, 'regatta': {'regatta'}, 'budah': {'budah'}, 'wise': {'wise'}, 'potion': {'potion'}, 'masala': {'masala'}, 'favourit': {'favourites'}, 'banquet': {'banquet'}, 'xmas': {'xmas'}, 'nut': {'nut', 'nuts'}, 'basin': {'basin'}, 'eau': {'eau'}, 'tigri': {'tigris'}, 'eye': {'eye'}, 'vinyl': {'vinyl'}, 'las': {'las'}, 'vega': {'vegas'}, 'mould': {'mould', 'moulds'}, 'voil': {'voile'}, 'pointi': {'pointy'}, 'k': {'k'}, 'address': {'address'}, 'stool': {'stool'}, 'photofram': {'photoframe'}, 'jungl': {'jungle'}, 'popsicl': {'popsicles'}, 'twine': {'twine'}, 'rnd': {'rnd'}, 'str': {'str'}, 'strap': {'strap'}, 'beauti': {'beauty'}, 'cd': {'cd'}, 'gebra': {'gebra'}, 'shutter': {'shutters'}, 'seafood': {'seafood'}, 'compact': {'compact'}, 'magic': {'magic'}, 'octagon': {'octagon'}, 'diva': {'diva'}, 'chime': {'chime'}, 'neckl.36': {'neckl.36'}, 'fold': {'folding'}, 'edg': {'edge'}, 'forti': {'forties'}, 'blood': {'blood'}, 'coney': {'coney'}, 'island': {'island'}, 'pompom': {'pompom'}, 'curtain': {'curtain'}, 'grass': {'grass'}, 'mix': {'mixing'}, 'rosett': {'rosette'}, 'welcom': {'welcome'}, 'class': {'class'}, 'plaqu': {'plaque'}, 'popart': {'popart'}, 'rect': {'rect'}, 'sharpen': {'sharpeners', 'sharpener'}, 'asst': {'asst'}, 'tortilla': {'tortilla'}, 'w/sucker': {'w/sucker'}, 'origami': {'origami'}, 'incense/candl': {'incense/candle', 'incense/candl'}, 'opium': {'opium'}, 'sandlewood': {'sandlewood'}, 'incense/cand': {'incense/cand'}, 'rococo': {'rococo'}, 'sprig': {'sprig'}, 'cage': {'cage'}, 'strawbri': {'strawbry'}, 'mosaic': {'mosaic'}, 'goblet': {'goblet'}, 'highlight': {'highlighter'}, 'kitten': {'kittens'}, 'silver/amethyst': {'silver/amethyst'}, 'slide': {'slide', 'slides'}, 'cartoon': {'cartoon'}, 'vip': {'vip'}, 'doc': {'doc'}, 'russel': {'russel'}, 'dad': {'dads', 'dad'}, 'scroll': {'scroll'}, 'marmalad': {'marmalade'}, 'garld': {'garld'}, 'neckl36': {'neckl36'}, 'copper': {'copper'}, 'turq': {'turq'}, 'sunda': {'sundae'}, 'droplet': {'droplet'}, 'murano': {'murano'}, 'twist': {'twist'}, 'race': {'racing'}, 'silouett': {'silouette'}, 'demi': {'demi'}, 'choker': {'choker'}, 'orbit': {'orbit'}, 'pastel': {'pastel'}, 'flow': {'flowe'}, 'beaten': {'beaten'}, 'charger': {'charger'}, 'aperitif': {'aperitif'}, 'spice': {'spice'}, 'cannist': {'cannister'}, 'berti': {'bertie'}, 'steel': {'steel'}, 'mr': {'mr'}, 'vippassport': {'vippassport'}, 'asstd': {'asstd'}, 'butterfly/cryst': {'butterfly/crystal'}, 'w/chime': {'w/chime'}, 'screwdriv': {'screwdriver'}, 'spacebal': {'spaceball'}, 'mrs': {'mrs'}, 'princ': {'prince'}, 'chalic': {'chalice'}, 'blackboard': {'blackboard'}, 'ice': {'ice'}, 'bum': {'bum'}, 'roccoco': {'roccoco'}, 'chandeli': {'chandelier'}, 'fli': {'fly'}, 'swat': {'swat'}, 'sheep': {'sheep'}, 'fruitbowl': {'fruitbowl'}, 'freshwat': {'freshwater'}, 'pink/amethyst': {'pink/amethyst'}, 'teal/fuschia': {'teal/fuschia'}, 'botan': {'botanical'}, 'groovi': {'groovy'}, 'fruit+flow': {'fruit+flowers'}, 'blackblu': {'blackblue'}, 'bus': {'bus'}, 'enamel+glass': {'enamel+glass'}, 'comb': {'comb'}, 'diamond': {'diamond'}, 'incense+flow': {'incense+flower'}, 'fluffi': {'fluffy'}, 'desk': {'desk'}, 'mock': {'mock'}, 'lobster': {'lobster'}, 'diamon': {'diamon'}, 'raspberr': {'raspberr'}, 'lazer': {'lazer'}, 'amber': {'amber'}, 'band': {'band'}, 'delphinium': {'delphinium'}, 'white/pink': {'white/pink'}, 'toybox': {'toybox'}, 'banner': {'banner'}, 'm.o.p': {'m.o.p'}, 'cannabi': {'cannabis'}, 'd': {'d'}, 'dark': {'dark'}, 'dolphin': {'dolphins', 'dolphin'}, 'wheelbarrow': {'wheelbarrow'}, 'rake': {'rake'}, 'frangipani': {'frangipani'}, 'rosebud': {'rosebud'}, 'chenill': {'chenille'}, 'box/12': {'box/12'}, 'ladl': {'ladle'}, 'wed': {'wedding'}, 'briar': {'briar'}, 'poodl': {'poodle'}, 'pink/flow': {'pink/flower'}, 'wast': {'waste'}, 'carpet': {'carpet'}, 'flamingo': {'flamingo'}, 'bar': {'bar'}, 'condiment': {'condiment'}, 'hilda': {'hilda'}, 'congratul': {'congratulations'}, 'icon': {'icon'}, 'elvi': {'elvis'}, 'drawstr': {'drawstring'}, 'hare': {'hare'}, 'gordon': {'gordon'}, 'pool': {'pool'}, 'sister': {'sisters'}, 'citrus': {'citrus'}, 'beetl': {'beetles'}, 'crystal+glass': {'crystal+glass'}, 'resin': {'resin'}, 'ridg': {'ridge'}, 'cruso': {'crusoe'}, 'veget': {'vegetables'}, 'flore': {'flore'}, 'doiley': {'doiley'}, 'multicol': {'multicol'}, 'blond': {'blond'}, 'glass/silv': {'glass/silver'}, 'hunt': {'hunt'}, 'start': {'start'}, 'rasta': {'rasta'}, 'key-chain': {'key-chains'}, 'back': {'back'}, 'hen+chick': {'hen+chicks'}, 'petal': {'petals'}, 'candystuft': {'candystuft'}, 'st': {'st'}, 'georg': {'george'}, 'savannah': {'savannah'}, 'hamper': {'hamper'}, 'barn': {'barn'}, 'red/cream': {'red/cream'}, 'r': {'r'}, 'sued': {'suede'}, 'oyster': {'oyster'}, 'flame': {'flames', 'flame'}, 'lens': {'lenses'}, 'support': {'support'}, 'g': {'g'}, 'ceram': {'ceramic'}, 'rectangular': {'rectangular'}, 'unit': {'unit'}, 'ivi': {'ivy'}, 's/2': {'s/2'}, 'list': {'list'}, 'cutglass': {'cutglass'}, 'gold/m.o.p': {'gold/m.o.p'}, 'silver/m.o.p': {'silver/m.o.p'}, 'roman': {'roman'}, 'peach': {'peach'}, 'bazaar': {'bazaar'}, 'tranquil': {'tranquility'}, 'gauz': {'gauze'}, 'radio': {'radio'}, 'buddha': {'buddha'}, 'pet': {'pet'}, 'revolutionari': {'revolutionary'}, 'tie': {'tie'}, 'jade': {'jade'}, 'cluster': {'cluster'}, 'sea': {'sea'}, 'windchim': {'windchime'}, 'pom-pom': {'pom-pom'}, 'vint': {'vint'}, 'blue/nat': {'blue/nat'}, 'silver/nat': {'silver/nat'}, 'hopper': {'hopper'}, 'pole': {'pole'}, 'mont': {'monte'}, 'carlo': {'carlo'}, 'wallet': {'wallet'}, 'meadow': {'meadow'}, 'transport': {'transport'}, 'calm': {'calm'}, 'giraff': {'giraffe'}, 'revolv': {'revolver'}, 'pill': {'pill'}, 'ticket': {'ticket'}, 'dotcomgiftshop': {'dotcomgiftshop'}, 'raspberri': {'raspberry'}, 'berri': {'berries'}, 'scallop': {'scallop'}, 'bling': {'bling'}, 'riviera': {'riviera'}, 'heaven': {'heavens'}, 'fragranc': {'fragrance'}, 'anemon': {'anemone'}, 'allium': {'allium'}, 'artifici': {'artificial'}, 'buffalo': {'buffalo'}, 'bill': {'bill'}, 'pastri': {'pastry'}, 'dollcraft': {'dollcraft'}, 'nicol': {'nicole'}, 'mother': {'mother'}, 'corer': {'corer'}, 'tripl': {'triple'}, 'acapulco': {'acapulco'}, 'mat': {'mat'}, 'live': {'lives'}, 'jean-paul': {'jean-paul'}, 'bull': {'bull'}, 'open': {'opener'}, 'guitar': {'guitar'}, 'ol': {'ol'}, 'p': {'p'}, 'splodg': {'splodges'}, 'purple/turq': {'purple/turq'}, 'hole': {'hole'}, 'punch': {'punch'}, 'bonbon': {'bonbons'}, 'ameli': {'amelie'}, 'gem': {'gems'}, 'geometr': {'geometric'}, 'lt.blue': {'lt.blue'}, 'sanskrit': {'sanskrit'}, '/': {'/'}, 'turquoi': {'turquois'}, 'kukui': {'kukui'}, 'coconut': {'coconut'}, 'lip': {'lip'}, 'gloss': {'gloss'}, 'red/blu': {'red/blue'}, 'flower/butterfli': {'flower/butterfly'}, 'mummi': {'mummy'}, 'cupboard': {'cupboard'}, 'hibiscus': {'hibiscus'}, 'nativ': {'nativity'}, 'silver/black': {'silver/black'}, 'goldi': {'goldie'}, 'hurrican': {'hurricane'}, 'backpack': {'backpack'}, 'mop': {'mop'}, 'yellow/orang': {'yellow/orange'}, 'hardman': {'hardman'}, 'tahiti': {'tahiti'}, 'aluminium': {'aluminium'}, 'parlour': {'parlour'}, 'barrel': {'barrel'}, 'mari': {'marie'}, 'antoienett': {'antoienett'}, 'miniatur': {'miniature'}, 'gel': {'gel'}, 'cote': {'cote'}, \"d'azur\": {\"d'azure\"}, 'tropez': {'tropez'}, 'tone': {'tone'}, 'page': {'page'}, 'run': {'run'}, 'laser': {'laser'}, 'tong': {'tongs'}, 'come': {'come'}, 'strainer': {'strainer'}, 'zinc/glass': {'zinc/glass'}, 'point': {'point'}, 'snow': {'snow'}, 'cinderella': {'cinderella'}, 'minitur': {'miniture'}, 'antoinett': {'antoinette'}, 'l': {'l'}, 'sequin': {'sequin'}, 'spliff': {'spliff'}, 'bundl': {'bundle'}, 'exercis': {'exercise'}, 'note': {'note'}, 'suppli': {'supplies'}, 'parisienn': {'parisienne'}, 'chic': {'chic'}, 'secret': {'secret'}, 'bedsid': {'bedside'}, 'dispens': {'dispenser'}, 'bon': {'bon'}, 'montan': {'montan'}, 'gerden': {'gerden'}, 'housework': {'housework'}, 'y': {'y'}, 'peoni': {'peony'}, 'stiletto': {'stiletto'}, 'flowr': {'flowr'}, 'capiz': {'capiz'}, 'quartz': {'quartz'}, 'braclet': {'braclet'}, 'lt': {'lt'}, 'laurel': {'laurel'}, 'rock': {'rocking'}, 'olli': {'ollie'}, 'beak': {'beak'}, 'ghost': {'ghost'}, 'disc/mirror': {'disc/mirror'}, 'willi': {'willie'}, 'icicl': {'icicle'}, 'push': {'push'}, 'e': {'e'}, 'knack': {'knack'}, 'gymkhana': {'gymkhana'}, 'hold': {'hold'}, 'bubblegum': {'bubblegum'}, 'h': {'h'}, 'sleigh': {'sleigh'}, 'trim': {'trim'}, 'mid': {'mid'}, 'spike': {'spike'}, 'meter': {'meter'}, 'donkey': {'donkey'}, 'perfum': {'perfume'}, 'elixir': {'elixir'}, 'songbird': {'songbird'}, 'crackl': {'crackle'}, 'glaze': {'glaze'}, 'tonic': {'tonic'}, 'doorknob': {'doorknob'}, 'bonn': {'bonne'}, 'sword': {'swords'}, 'dispos': {'disposable'}, 'handl': {'handle'}, 'hexagon': {'hexagon'}, 'notepad': {'notepad'}, 'refectori': {'refectory'}, 'reto': {'reto'}, 'madelin': {'madeline'}, 'mark': {'mark'}, 'hens+flow': {'hens+flower'}, 'sucker': {'sucker'}, 'cracker': {'crackers', 'cracker'}, 'brass': {'brass'}, 'hairslid': {'hairslide'}, 'loaf': {'loaf'}, 'w/suck': {'w/suck'}, 'tablecloth': {'tablecloth'}, 'bili': {'bili'}, 'poster': {'poster'}, 'park': {'park'}, 'ceatur': {'ceature'}, 'forest': {'forest'}, 'branch': {'branch'}, 'pink/blu': {'pink/blue'}, 'frill': {'frill'}, 'adult': {'adult'}, 'jampot': {'jampot'}, 'sex': {'sex'}, 'stuff': {'stuff'}, 'bubbl': {'bubbles'}, 'patchwork': {'patchwork'}, 'utensil': {'utensil'}, 'teddy/cak': {'teddy/cake'}, 'dotcom': {'dotcom'}, 'commiss': {'commission'}, 'franc': {'france'}, 'foot': {'foot'}, 'bonheur': {'bonheur'}, 'botaniqu': {'botanique'}, 'sweeet': {'sweeet'}, 'pant': {'pants'}, 'maker': {'makers'}, 'grinder': {'grinder'}, 'linen': {'linen'}, 'spatula': {'spatula'}, 'whisk': {'whisk'}, 'toilett': {'toilette'}, 'chambr': {'chambre'}, 'le': {'le'}, 'draw': {'draw'}, 'carri': {'carry'}, 'jubile': {'jubilee'}, 'rebecca': {'rebecca'}, 'rachel': {'rachel'}, 'susi': {'susie'}, 'rucksack': {'rucksack'}, 'peridot': {'peridot'}, 'sophi': {'sophie'}, 'clair': {'claire'}, 'blk/whit': {'blk/whit'}, 'villa': {'villa'}, 'dovecot': {'dovecote'}, 'bicycl': {'bicycle'}, 'saftey': {'saftey'}, 'stop': {'stop'}, 'licenc': {'licence'}, 'haven': {'haven'}, 'ahoy': {'ahoy'}, 'natur': {'nature'}, 'show': {'show'}, 'centuri': {'century'}, 'modern': {'modern'}, 'work': {'work'}, 'basebal': {'baseball'}, 'boot': {'boot'}, 'feed': {'feeding'}, 'station': {'station'}, 'safeti': {'safety'}, 'metr': {'metre'}, 'triobas': {'triobase'}, 'feeder': {'feeder'}, 'henrietta': {'henrietta'}, 'carrier': {'carrier'}, 'helga': {'helga'}, 'heidi': {'heidi'}, 'resolut': {'resolution'}, 'landmark': {'landmark'}, 'bridg': {'bridge'}, 'oxford': {'oxford'}, 'street': {'street'}, 'baker': {'baker'}, 'hill': {'hill'}, 'town': {'town'}, 'miror': {'miror'}, 'decrotivevintag': {'decrotivevintage'}, 'pick': {'pick'}, 'naught': {'naughts'}, 'cross': {'cross', 'crosses'}, 'blueberri': {'blueberry'}, 'fondant': {'fondant'}, 'chrome': {'chrome'}, \"sil't\": {\"sil't\"}, 'squ': {'squ'}, 'crome': {'crome'}, 'candle+incens': {'candle+incense'}, 'panetton': {'panettone'}, 'czech': {'czech'}, 'punctur': {'puncture'}, 'countri': {'country'}, 'f': {'f'}, 'o': {'o'}, 't': {'t'}, 'z': {'z'}, 'birdi': {'birdie'}} \n",
      " {'heart': 'heart', 'holder': 'holder', 'metal': 'metal', 'lantern': 'lantern', 'cream': 'cream', 'cupid': 'cupid', 'coat': 'coat', 'hanger': 'hanger', 'union': 'union', 'flag': 'flag', 'water': 'water', 'bottl': 'bottle', 'nest': 'nest', 'box': 'box', 'glass': 'glass', 'star': 'star', 'hand': 'hand', 'jack': 'jack', 'warmer': 'warmer', 'dot': 'dot', 'bird': 'bird', 'ornament': 'ornament', 'poppi': 'poppy', 'playhous': 'playhouse', 'bedroom': 'bedroom', 'kitchen': 'kitchen', 'feltcraft': 'feltcraft', 'princess': 'princess', 'charlott': 'charlotte', 'doll': 'doll', 'ivori': 'ivory', 'cosi': 'cosy', 'colour': 'colour', 'teaspoon': 'teaspoons', 'vintag': 'vintage', 'jigsaw': 'jigsaw', 'block': 'block', 'alphabet': 'alphabet', 'home': 'home', 'build': 'building', 'word': 'word', 'love': 'love', 'recip': 'recipe', 'england': 'england', 'jam': 'jam', 'jar': 'jar', 'rack': 'rack', 'pari': 'paris', 'fashion': 'fashion', 'bath': 'bath', 'alarm': 'alarm', 'clock': 'clock', 'bakelik': 'bakelike', 'pink': 'pink', 'green': 'green', 'panda': 'panda', 'bunni': 'bunny', 'sheet': 'sheet', 'tape': 'tape', 'globe': 'globe', 'head': 'head', 'tail': 'tail', 'game': 'game', 'set/2': 'set/2', 'retrospot': 'retrospot', 'tea': 'tea', 'towel': 'towel', 'round': 'round', 'snack': 'snack', 'woodland': 'woodland', 'spaceboy': 'spaceboy', 'lunch': 'lunch', 'i': 'i', 'london': 'london', 'circus': 'circus', 'bag': 'bag', 'design': 'design', 'toadstool': 'toadstool', 'night': 'night', 'light': 'light', 'seasid': 'seaside', 'puzzl': 'puzzles', 'mini': 'mini', 'parad': 'parade', 'paint': 'paint', 'postag': 'postage', 'paper': 'paper', 'chain': 'chain', 'christma': 'christmas', 'parasol': 'parasol', 'coffe': 'coffee', 'mug': 'mug', 'planet': 'planet', 'billboard': 'billboard', 'love/h': 'love/hate', 'wood': 'wood', 'drawer': 'drawer', 'cabinet': 'cabinet', 'finish': 'finish', 's/3': 's/3', 'pictur': 'picture', 'frame': 'frame', 'wooden': 'wooden', 'sympathi': 'sympathy', 'polkadot': 'polkadot', 'baroqu': 'baroque', 'charli': 'charlie', 'lola': 'lola', 'toy': 'toy', 'strawberri': 'strawberry', 'piec': 'piece', 'cutleri': 'cutlery', 'set': 'set', 'set/6': 'set/6', 'plate': 'plate', 'pack': 'pack', 'case': 'case', 'dinosaur': 'dinosaur', 'paisley': 'paisley', 'fairi': 'fairy', 'tomato': 'tomato', 'charlie+lola': 'charlie+lola', 'coaster': 'coaster', 'wastepap': 'wastepaper', 'bin': 'bin', 'flora': 'flora', 'doorsign': 'doorsign', 'storag': 'storage', 'suki': 'suki', 'make': 'making', 'pc': 'pc', 'tool': 'tool', 'airlin': 'airline', 'loung': 'lounge', 'sign': 'sign', 'spot': 'spot', 'knob': 'knob', 'photo': 'photo', 'clip': 'clip', 'line': 'line', 'felt': 'felt', 'egg': 'egg', 'chicken': 'chicken', 'bank': 'bank', 'shoulder': 'shoulder', 'cook': 'cook', 'gin': 'gin', '+': '+', 'breakfast': 'breakfast', 'cup': 'cup', 'saucer': 'saucer', 'flower': 'flower', 'time': 'time', 'rabbit': 'rabbit', 'zinc': 'zinc', 'winki': 'winkie', 'candl': 'candle', 'stick': 'stick', 'cherri': 'cherry', 'money': 'money', 'milk': 'milk', 'jug': 'jug', 'funki': 'funky', 'beaker': 'beaker', 'owl': 'owl', 'balloon': 'balloon', 'art': 'art', 'cloch': 'cloche', 'gumbal': 'gumball', 'monochrom': 'monochrome', 'doormat': 'doormat', 'fanci': 'fancy', 'sweet': 'sweet', 'discount': 'discount', 'snake': 'snake', 'ladder': 'ladder', 'chocol': 'chocolate', 'calcul': 'calculator', 'tidi': 'tidy', 'tabl': 'table', 'pot': 'pot', 'garden': 'garden', 'thermomet': 'thermometer', 'cake': 'cake', 'tin': 'tin', 'wicker': 'wicker', 'basket': 'basket', 'lid': 'lid', 'duck': 'duck', 'board': 'board', 'hang': 'hanging', 'medina': 'medina', 'chalkboard': 'chalkboard', 'lovebird': 'lovebird', 'birdcag': 'birdcage', 'plant': 'plant', 'card': 'card', 'enamel': 'enamel', 'fire': 'fire', 'bucket': 'bucket', 'bread': 'bread', 'ribbon': 'ribbon', 'wire': 'wire', 'chilli': 'chilli', 'garland': 'garland', 'butterfil': 'butterfiles', 'tale': 'tale', 'cottag': 'cottage', 'letter': 'letter', 'doorstop': 'doorstop', 'decor': 'decorative', 'magnet': 'magnet', 'fridg': 'fridge', 'homemad': 'homemade', 'enfant': 'enfants', 'caravan': 'caravan', 'hook': 'hook', 'reindeer': 'reindeer', 'cushion': 'cushion', 'cover': 'cover', 'gold': 'gold', 'umbrella': 'umbrella', 'black/blu': 'black/blue', 'diner': 'diner', 'wall': 'wall', 'measur': 'measure', 'spoon': 'spoon', 'keepsak': 'keepsake', 'disco': 'disco', 'ball': 'ball', 'popcorn': 'popcorn', 'set/20': 'set/20', 'napkin': 'napkins', 'rain': 'rain', 'hat': 'hat', 'delux': 'deluxe', 'kit': 'kit', 'cube': 'cube', 'plaster': 'plasters', 'tissu': 'tissue', 'grey': 'grey', 'skull': 'skull', 'mice': 'mice', 'soldier': 'soldier', 'skittl': 'skittles', 'skip': 'skipping', 'rope': 'rope', 'domino': 'dominoes', 'seventeen': 'seventeen', 'sideboard': 'sideboard', 'parti': 'party', 'cone': 'cone', 'carniv': 'carnival', 'candi': 'candy', 'picnic': 'picnic', 'lamp': 'lamp', 'font': 'font', 'birthday': 'birthday', 'scotti': 'scotty', 'dog': 'dog', 'bowl': 'bowl', 'cloth': 'cloth', 'travel': 'travel', 'trinket': 'trinket', 'orang': 'orange', 'quilt': 'quilt', 'babushka': 'babushka', 'string': 'string', 'doughnut': 'doughnut', 'silk': 'silk', 'purs': 'purse', 'hous': 'house', 'boudoir': 'boudoir', 'squar': 'square', 'cornic': 'cornice', 's/6': 's/6', 'sew': 'sew', 'crochet': 'crochet', 'red': 'reds', 'lavend': 'lavender', 'incens': 'incense', 'tv': 'tv', 'dinner': 'dinner', 'tray': 'tray', 'placemat': 'placemat', 'famili': 'family', 'rotat': 'rotator', 'batteri': 'battery', 'silver': 'silver', 'mirror': 'mirror', 'ladi': 'ladies', 'gentlemen': 'gentlemen', 'bathroom': 'bathroom', 'toilet': 'toilet', 'holiday': 'holiday', 'basil': 'basil', 'set/10': 'set/10', 't-light': 't-light', 'snowmen': 'snowmen', 'santa': 'santa', 'spong': 'sponge', 'appl': 'apple', 'pirat': 'pirate', 'treasur': 'treasure', 'chest': 'chest', 'snowflak': 'snowflake', 'oval': 'oval', 'cigar': 'cigar', 'match': 'matches', 'hour': 'hour', 'giant': 'giant', 'tube': 'tube', 'jazz': 'jazz', 'notebook': 'notebook', 'candlehold': 'candleholder', 'candlestick': 'candlestick', 'baroquecandlestick': 'baroquecandlestick', 'flannel': 'flannel', 'style': 'style', 'footbal': 'football', 'celebr': 'celebration', 'girl': 'girl', 'blue': 'blue', 'invit': 'invites', 'butterfli': 'butterfly', 'cooki': 'cookie', 'cutter': 'cutter', 'sweetheart': 'sweetheart', 'car': 'car', 'trelli': 'trellis', 'set/5': 'set/5', 'slate': 'slate', 'bake': 'bake', 'pencil': 'pencil', 'harmonica': 'harmonica', 'transfer': 'transfer', 'tattoo': 'tattoos', 'panneton': 'pannetone', 'kid': 'kids', 'pen': 'pen', 'rectangl': 'rectangle', 'face': 'face', 'wrap': 'wrap', 'cowboy': 'cowboy', 'doili': 'doilies', 'cat': 'cat', 'eras': 'eraser', 'angel': 'angel', 'hldr': 'hldr', 'reel': 'reel', 'spin': 'spinning', 'top': 'top', 'marbl': 'marbles', 'strand': 'strand', 'necklac': 'necklac', 'crystal': 'crystal', 'squarecushion': 'squarecushion', 'children': 'children', 'candelabra': 'candelabra', 'luggag': 'luggage', 'tag': 'tag', 'tassl': 'tassle', 'charm': 'charm', 'acryl': 'acrylic', 'bangl': 'bangle', 'gun': 'guns', 'rose': 'roses', 'vanilla': 'vanilla', 'scent': 'scent', 'bell': 'bell', 'stand': 'stand', 'filigre': 'filigree', 'pattern': 'pattern', 'sticker': 'sticker', \"b'fli\": \"b'fly\", 'c/cover': 'c/cover', 'w': 'w', 'bobbl': 'bobbles', 'boom': 'boom', 'speaker': 'speaker', 'dress': 'dress', 'shopper': 'shopper', 'fruit': 'fruit', 'parcel': 'parcel', 'slipper': 'slipper', 'shoe': 'shoe', 'daisi': 'daisy', 'peg': 'peg', 'craft': 'craft', 'tree': 'tree', 'friend': 'friends', 'rosi': 'rosie', 'olivia': 'olivia', 'rex': 'rex', 'cash+carri': 'cash+carry', 'tote': 'tote', 'pinkwhit': 'pinkwhite', 'red/whit': 'red/white', 'valentin': 'valentine', 'decoupag': 'decoupage', 'sock': 'sock', 'baubl': 'bauble', 'villag': 'village', 'turquois': 'turquoise', 'wreath': 'wreath', 'advent': 'advent', 'calendar': 'calendar', 'gingham': 'gingham', 'sack': 'sack', 'snap': 'snap', 'drawerknob': 'drawerknob', 'apron': 'apron', 'mushroom': 'mushroom', 'chalk': 'chalk', 'hairband': 'hairband', 'purpl': 'purple', 'anim': 'animal', 'fair': 'fair', 'cupcak': 'cupcake', 'lace': 'lace', 'catch': 'catch', 'cotton': 'cotton', 'beach': 'beach', 'spade': 'spade', 'boy': 'boy', 'king': 'king', 'choic': 'choice', 'caddi': 'caddy', 'biscuit': 'biscuit', 'empir': 'empire', 'fawn': 'fawn', 'gift': 'gift', 'namast': 'namaste', 'swagat': 'swagat', 'vase': 'vase', 'chrysanthemum': 'chrysanthemum', 'scissor': 'scissor', 'tealight': 'tealight', 'place': 'place', 's/15': 's/15', 'wc': 'wc', 'soap': 'soap', 'medium': 'medium', 'washroom': 'washroom', 'bracelet': 'bracelet', 'hair': 'hair', 'grip': 'grip', 'pack/2': 'pack/2', 'dia': 'dia', 'diamant': 'diamante', 'ring': 'ring', 'rubi': 'ruby', 'montana': 'montana', 'present': 'present', 'aid': 'aid', 'monsoon': 'monsoon', 'rubber': 'rubber', 'stationeri': 'stationery', 'mitten': 'mittens', 'scandinavian': 'scandinavian', 'canva': 'canvas', 'stamp': 'stamp', 'cinammon': 'cinammon', 'stripe': 'stripe', 'provenc': 'provence', 'flock': 'flock', 'offic': 'office', 'record': 'record', 'size': 'size', 'hors': 'horse', 'regenc': 'regency', 'cakestand': 'cakestand', 'tier': 'tier', 'longboard': 'longboard', 'play': 'playing', 'shirt': 'shirt', 'repair': 'repair', 'foxi': 'foxy', 'gent': 'gents', 'jet': 'jet', \"'n\": \"'n\", 'grow': 'grow', 'world': 'world', 'champion': 'champion', 'seed': 'seed', 'envelop': 'envelope', 'hi': 'hi', 'polyest': 'polyester', 'filler': 'filler', 'pad': 'pad', 'scarf': 'scarf', 'pear': 'pears', 'gazebo': 'gazebo', 'birdhous': 'birdhouse', 'antiqu': 'antique', 'market': 'market', 'crate': 'crate', 'bed': 'bed', 'pizza': 'pizza', 'leav': 'leaves', 'button': 'button', 'messag': 'message', 'herb': 'herb', 'marker': 'marker', 'mint': 'mint', 'rosemari': 'rosemary', 'chive': 'chives', 'parsley': 'parsley', 'thyme': 'thyme', 'merri': 'merry', 'foil': 'foil', 'handbag': 'handbag', 'easter': 'easter', 'cut': 'cut', 'season': 'season', 'toast': 'toast', 'path': 'path', 'journal': 'journal', 'squeezer': 'squeezer', 'glove': 'glove', 'licoric': 'licorice', 'des': 'des', 'roll': 'roll', 'multicolour': 'multicolour', 'confetti': 'confetti', 'morri': 'morris', 'pistachio': 'pistachio', 'honeycomb': 'honeycomb', 'english': 'english', 'level': 'level', 'platter': 'platter', 'teacup': 'teacup', 'slice': 'slice', 'fun': 'fun', 'ass': 'ass', 'col': 'col', 'sand': 'sand', 'gecko': 'gecko', \"p'weight\": \"p'weight\", 'postcard': 'postcard', 'spring': 'spring', 'chateau': 'chateau', 'scale': 'scales', 'lizard': 'lizard', 'suction': 'suction', 'engine/car': 'engine/car', 'patch': 'patch', 'psychedel': 'psychedelic', 'flowerpow': 'flowerpower', 'life': 'life', 'rounder': 'rounders', 'child': 'childs', 'taper': 'taper', 'confectioneri': 'confectionery', 'stopper': 'stopper', 'set/4': 'set/4', 'junk': 'junk', 'mail': 'mail', 'tile': 'tile', 'finger': 'finger', 'beurr': 'beurre', 'dish': 'dish', 'diet': 'diet', 'screen': 'screen', 'print': 'print', 'peac': 'peace', 'earth': 'earth', 'cocktail': 'cocktail', 'strongman': 'strongman', 'school': 'school', 'crayon': 'crayons', 'booz': 'booze', 'women': 'women', 'lad': 'lads', 'man': 'man', 'heat': 'heat', 'person': 'person', 'shape': 'shape', 'pan': 'pan', 'bendi': 'bendy', 'straw': 'straws', 'pantri': 'pantry', 'sketchbook': 'sketchbook', 'sing': 'singing', 'emerg': 'emergency', 'friez': 'frieze', 'door': 'door', 'joy': 'joy', 'black+silv': 'black+silver', 'regal': 'regal', 'candlepot': 'candlepot', 'swirlglass': 'swirlglass', 'pedest': 'pedestal', 'magazin': 'magazine', 'food': 'food', 'raffia': 'raffia', 'polka': 'polka', 'jardin': 'jardin', 'bunt': 'bunting', 'kashmir': 'kashmir', 'chocolatecandl': 'chocolatecandle', 'shelf': 'shelf', 'imag': 'image', 'day': 'day', 'jewelleri': 'jewellery', 'let': 'lets', 'camouflag': 'camouflage', 'torch': 'torch', 'dragonfli': 'dragonfly', 'helicopt': 'helicopter', 'shark': 'shark', 'doctor': 'doctor', 'carriag': 'carriage', 'salt': 'salt', 'pepper': 'pepper', 'porcelain': 'porcelain', 'star+': 'star+', 'moon': 'moon', 'fring': 'fringe', 'hammock': 'hammock', 'dec': 'dec', 'crossbon': 'crossbones', 'fabric': 'fabric', 'poni': 'pony', 'cordon': 'cordon', 'barrier': 'barrier', 'teddi': 'teddy', 'air': 'air', 'hostess': 'hostess', 'stack': 'stack', 'hut': 'hut', 'blossom': 'blossom', 'passport': 'passport', 'retro': 'retro', 'mod': 'mod', 'cardhold': 'cardholder', 'book': 'book', 'spiral': 'spiral', 'coal': 'coal', 'airmail': 'airmail', 'number': 'number', 'smiley': 'smiley', 'collag': 'collage', 'childhood': 'childhood', 'memori': 'memory', 'funk': 'funk', 'monkey': 'monkey', 'choc+blu': 'choc+blue', 'glitter': 'glitter', 'b': 'b', 'c': 'c', 'chees': 'cheese', 'geisha': 'geisha', 'newspap': 'newspaper', 'scandispot': 'scandispot', 'jingl': 'jingle', 'key': 'key', 'instrument': 'instrument', 'crown': 'crowns', 'chalet': 'chalet', 'motorbik': 'motorbike', 'medicin': 'medicine', 'ma': 'ma', 'campagn': 'campagne', 'yuletid': 'yuletide', 'shade': 'shade', 'base': 'base', 'folkart': 'folkart', 'smallfolkart': 'smallfolkart', 'glass+zinc': 'glass+zinc', 'set/3': 'set/3', 'eucalyptus': 'eucalyptus', 'pinecon': 'pinecone', 's/4': 's/4', 'cacti': 'cacti', 'marshmallow': 'marshmallow', 'mum': 'mum', 'indian': 'indians', 'fuschia': 'fuschia', 'brocad': 'brocade', 'swallow': 'swallows', 'm': 'm', 'v': 'v', 's': 's', 'j': 'j', 'bingo': 'bingo', 'floor': 'floor', 'fauna': 'fauna', 'ear': 'ear', 'muff': 'muff', 'headphon': 'headphones', 'tutti': 'tutti', 'frutti': 'frutti', 'brush': 'brush', 'ladybird': 'ladybird', 'bee': 'bee', 'bamboo': 'bamboo', 'rib': 'ribs', 'lampshad': 'lampshade', 'badg': 'badges', 'creatur': 'creatures', 'pocket': 'pocket', 'brocant': 'brocante', 'maria': 'maria', 'memo': 'memo', 'room': 'room', 'sall': 'salle', 'bain': 'bain', 'robot': 'robot', 'war': 'war', 'glider': 'gliders', 'coathang': 'coathanger', 'bomb': 'bomb', 'pump': 'pump', 'stencil': 'stencil', 'cute': 'cute', 'toothpast': 'toothpaste', 'purdey': 'purdey', 'account': 'account', 'penni': 'penny', 'pig': 'pig', 'loveheart': 'loveheart', 'en': 'en', 'pin': 'pin', 'area': 'area', 'portrait': 'portrait', 'plastic': 'plastic', 'eleph': 'elephant', 'rainbow': 'rainbow', 'model': 'modelling', 'clay': 'clay', 'disc': 'disc', 'sugar': 'sugar', 'teapot': 'teapot', 'dairi': 'dairy', 'maid': 'maid', 'pud': 'pudding', 'contain': 'container', 'moodi': 'moody', 'hen': 'hen', 'wish': 'wishes', 'thank': 'thank', 'planter': 'planter', 'stripey': 'stripey', 'dragon': 'dragon', 'ruler': 'ruler', 'digitali': 'digitalis', 'post': 'post', 'milkshak': 'milkshake', 'babi': 'baby', 'chart': 'chart', 'figur': 'figures', 'shine': 'shine', 'armi': 'army', 'camo': 'camo', 'bookcov': 'bookcover', 'carrot': 'carrot', 'chick': 'chick', 'chunki': 'chunky', 'tassel': 'tassel', 'glass+bead': 'glass+bead', 'livingroom': 'livingroom', 'posi': 'posy', 'vine': 'vine', 'food/drink': 'food/drink', 'lilac': 'lilac', 'juici': 'juicy', 'creepi': 'creepy', 'crawli': 'crawlie', 'memoboard': 'memoboard', 'wash': 'wash', 'cafe': 'cafe', 'bow': 'bow', 'brooch': 'brooch', 'amethyst': 'amethyst', 'pair': 'pair', 'hairclip': 'hairclip', 'gemston': 'gemstone', 'drop': 'drop', 'earring': 'earrings', 'hoop': 'hoop', 'leaf': 'leaf', 'clam': 'clam', 'shell': 'shell', 'cockl': 'cockle', 'fob': 'fob', 'garag': 'garage', 'chopstick': 'chopsticks', 'frog': 'frog', 'puppet': 'puppet', 'wine': 'wine', 'candlestand': 'candlestand', 'gaoler': 'gaolers', 'champagn': 'champagne', 'curio': 'curio', 'fan': 'fan', 'charg': 'charge', 'butter': 'butter', 'farm': 'farm', 'snowstorm': 'snowstorm', 'tinsel': 'tinsel', 'space': 'space', 'cadet': 'cadet', 'monster': 'monster', 'citronella': 'citronella', 'folk': 'folk', 'burst': 'burst', 'fanni': 'fanny', 'rest': 'rest', 'stopmet': 'stopmetal', 'way': 'way', 'corona': 'corona', 'weekend': 'weekend', 'fish': 'fishing', 'gnome': 'gnome', 'coland': 'colander', 'blue/cream': 'blue/cream', 'strawberi': 'strawbery', 'shop': 'shop', 'washbag': 'washbag', 'feng': 'feng', 'shui': 'shui', 'pillar': 'pillar', 'novelti': 'novelty', 'toastrack': 'toastrack', 'rustic': 'rustic', 'bead': 'bead', 'croquet': 'croquet', 'choc': 'choc', 'truffl': 'truffle', 'cabin': 'cabin', 'knit': 'knitting', 'nanci': 'nancy', 'throw': 'throw', 'lush': 'lush', 'necklace+bracelet': 'necklace+bracelet', 'salad': 'salad', 'check': 'check', 'ludo': 'ludo', 'la': 'la', 'palmiera': 'palmiera', 'display': 'display', 'pack/12': 'pack/12', 'secateur': 'secateurs', 'lei': 'leis', 'camphor': 'camphor', 'field': 'field', 'portobello': 'portobello', 'fairy,5': 'fairy,5', 'summer': 'summer', \"b'draw\": \"b'draw\", 'liner': 'liners', 'blue/yellow': 'blue/yellow', 'green/blu': 'green/blue', 'yellow/pink': 'yellow/pink', 'a5': 'a5', 'neighbourhood': 'neighbourhood', 'witch': 'witch', 'pharmaci': 'pharmacie', 'naughti': 'naughty', 'sound': 'sound', 'hello': 'hello', 'sailor': 'sailor', 'bewar': 'beware', 'cinnamon': 'cinnamon', 'jasmin': 'jasmine', 'bone': 'bone', 'circl': 'circle', 'midnight': 'midnight', 'glamour': 'glamour', 'frappucino': 'frappucino', 'phone': 'phone', 'blue/green': 'blue/green', 'pendant': 'pendant', 'spirit': 'spirit', 'skirt': 'skirt', 'mous': 'mouse', 't-shirt': 't-shirt', 'jewel': 'jewel', 'nurs': 'nurse', 'melamin': 'melamine', 'wool': 'wool', 'peacock': 'peacock', 'footprint': 'footprints', 'album': 'album', 'gardenia': 'gardenia', 'multi': 'multi', 'mousey': 'mousey', 'laundri': 'laundry', 'cactus': 'cactus', 'cockerel': 'cockerel', 'bouquet': 'bouquet', 'danish': 'danish', 'cast': 'cast', 'iron': 'iron', 'fork': 'fork', 'trowel': 'trowel', 'pearl': 'pearl', 'lime': 'lime', 'boudicca': 'boudicca', 'pennant': 'pennant', 'label': 'labels', 'ream': 'ream', 'pop': 'pop', 'poncho': 'poncho', 'flask': 'flask', 'keyr': 'keyring', 'chair': 'chair', 'petit': 'petit', 'dream': 'dream', 'windsock': 'windsock', 'microwav': 'microwave', 'delight': 'delight', 'organis': 'organiser', 'leap': 'leap', 'silicon': 'silicon', 'bulb': 'bulb', 'seat': 'seat', 'madra': 'madras', 'feather': 'feather', 'sandalwood': 'sandalwood', 'rocket': 'rocket', 'sombrero': 'sombrero', 'bitti': 'bitty', 'stone': 'stone', 'glow': 'glow', 'tiara': 'tiaras', 'robin': 'robin', 'kensington': 'kensington', 'set/12': 'set/12', 'mobil': 'mobile', 's/12': 's/12', 'bib': 'bib', 'teatim': 'teatime', 'flu': 'flu', 'embroideri': 'embroidery', 'ashtray': 'ashtray', 'shower': 'shower', 'cap': 'cap', 'queen': 'queen', 'sky': 'sky', 'economi': 'economy', 'oil': 'oil', 'burner': 'burner', 'notelet': 'notelets', 'deco': 'deco', 'w/knif': 'w/knif', 'deco.whit': 'deco.white', 'sage': 'sage', 'flowerpot': 'flowerpot', 'paperweight': 'paperweight', 'carry-al': 'carry-all', 'balm': 'balm', 'tumbler': 'tumbler', 'brown': 'brown', 'travelogu': 'travelogue', 'pink/whit': 'pink/white', 'clean': 'clean', 'bullet': 'bullet', 'puppi': 'puppies', 'sunris': 'sunrise', 'carousel': 'carousel', 'sunglass': 'sunglasses', 'blackchristma': 'blackchristmas', 'sweeti': 'sweeties', 'wireless': 'wireless', 'doorbel': 'doorbell', 'lattic': 'lattice', 'neckl': 'neckl', 'bronz': 'bronze', 'smokey': 'smokey', 'd.o.f': 'd.o.f', 'pouri': 'pouri', 'windmil': 'windmill', 'pale': 'pale', 'bea': 'bea', 'mao': 'mao', 'goos': 'goose', 'bear': 'bear', 'du': 'du', 'cosmet': 'cosmetics', 'flytrap': 'flytrap', 'sunflow': 'sunflower', 'butterfl': 'butterfl', 'pouff': 'pouffe', 'regatta': 'regatta', 'budah': 'budah', 'wise': 'wise', 'potion': 'potion', 'masala': 'masala', 'favourit': 'favourites', 'banquet': 'banquet', 'xmas': 'xmas', 'nut': 'nut', 'basin': 'basin', 'eau': 'eau', 'tigri': 'tigris', 'eye': 'eye', 'vinyl': 'vinyl', 'las': 'las', 'vega': 'vegas', 'mould': 'mould', 'voil': 'voile', 'pointi': 'pointy', 'k': 'k', 'address': 'address', 'stool': 'stool', 'photofram': 'photoframe', 'jungl': 'jungle', 'popsicl': 'popsicles', 'twine': 'twine', 'rnd': 'rnd', 'str': 'str', 'strap': 'strap', 'beauti': 'beauty', 'cd': 'cd', 'gebra': 'gebra', 'shutter': 'shutters', 'seafood': 'seafood', 'compact': 'compact', 'magic': 'magic', 'octagon': 'octagon', 'diva': 'diva', 'chime': 'chime', 'neckl.36': 'neckl.36', 'fold': 'folding', 'edg': 'edge', 'forti': 'forties', 'blood': 'blood', 'coney': 'coney', 'island': 'island', 'pompom': 'pompom', 'curtain': 'curtain', 'grass': 'grass', 'mix': 'mixing', 'rosett': 'rosette', 'welcom': 'welcome', 'class': 'class', 'plaqu': 'plaque', 'popart': 'popart', 'rect': 'rect', 'sharpen': 'sharpener', 'asst': 'asst', 'tortilla': 'tortilla', 'w/sucker': 'w/sucker', 'origami': 'origami', 'incense/candl': 'incense/candl', 'opium': 'opium', 'sandlewood': 'sandlewood', 'incense/cand': 'incense/cand', 'rococo': 'rococo', 'sprig': 'sprig', 'cage': 'cage', 'strawbri': 'strawbry', 'mosaic': 'mosaic', 'goblet': 'goblet', 'highlight': 'highlighter', 'kitten': 'kittens', 'silver/amethyst': 'silver/amethyst', 'slide': 'slide', 'cartoon': 'cartoon', 'vip': 'vip', 'doc': 'doc', 'russel': 'russel', 'dad': 'dad', 'scroll': 'scroll', 'marmalad': 'marmalade', 'garld': 'garld', 'neckl36': 'neckl36', 'copper': 'copper', 'turq': 'turq', 'sunda': 'sundae', 'droplet': 'droplet', 'murano': 'murano', 'twist': 'twist', 'race': 'racing', 'silouett': 'silouette', 'demi': 'demi', 'choker': 'choker', 'orbit': 'orbit', 'pastel': 'pastel', 'flow': 'flowe', 'beaten': 'beaten', 'charger': 'charger', 'aperitif': 'aperitif', 'spice': 'spice', 'cannist': 'cannister', 'berti': 'bertie', 'steel': 'steel', 'mr': 'mr', 'vippassport': 'vippassport', 'asstd': 'asstd', 'butterfly/cryst': 'butterfly/crystal', 'w/chime': 'w/chime', 'screwdriv': 'screwdriver', 'spacebal': 'spaceball', 'mrs': 'mrs', 'princ': 'prince', 'chalic': 'chalice', 'blackboard': 'blackboard', 'ice': 'ice', 'bum': 'bum', 'roccoco': 'roccoco', 'chandeli': 'chandelier', 'fli': 'fly', 'swat': 'swat', 'sheep': 'sheep', 'fruitbowl': 'fruitbowl', 'freshwat': 'freshwater', 'pink/amethyst': 'pink/amethyst', 'teal/fuschia': 'teal/fuschia', 'botan': 'botanical', 'groovi': 'groovy', 'fruit+flow': 'fruit+flowers', 'blackblu': 'blackblue', 'bus': 'bus', 'enamel+glass': 'enamel+glass', 'comb': 'comb', 'diamond': 'diamond', 'incense+flow': 'incense+flower', 'fluffi': 'fluffy', 'desk': 'desk', 'mock': 'mock', 'lobster': 'lobster', 'diamon': 'diamon', 'raspberr': 'raspberr', 'lazer': 'lazer', 'amber': 'amber', 'band': 'band', 'delphinium': 'delphinium', 'white/pink': 'white/pink', 'toybox': 'toybox', 'banner': 'banner', 'm.o.p': 'm.o.p', 'cannabi': 'cannabis', 'd': 'd', 'dark': 'dark', 'dolphin': 'dolphin', 'wheelbarrow': 'wheelbarrow', 'rake': 'rake', 'frangipani': 'frangipani', 'rosebud': 'rosebud', 'chenill': 'chenille', 'box/12': 'box/12', 'ladl': 'ladle', 'wed': 'wedding', 'briar': 'briar', 'poodl': 'poodle', 'pink/flow': 'pink/flower', 'wast': 'waste', 'carpet': 'carpet', 'flamingo': 'flamingo', 'bar': 'bar', 'condiment': 'condiment', 'hilda': 'hilda', 'congratul': 'congratulations', 'icon': 'icon', 'elvi': 'elvis', 'drawstr': 'drawstring', 'hare': 'hare', 'gordon': 'gordon', 'pool': 'pool', 'sister': 'sisters', 'citrus': 'citrus', 'beetl': 'beetles', 'crystal+glass': 'crystal+glass', 'resin': 'resin', 'ridg': 'ridge', 'cruso': 'crusoe', 'veget': 'vegetables', 'flore': 'flore', 'doiley': 'doiley', 'multicol': 'multicol', 'blond': 'blond', 'glass/silv': 'glass/silver', 'hunt': 'hunt', 'start': 'start', 'rasta': 'rasta', 'key-chain': 'key-chains', 'back': 'back', 'hen+chick': 'hen+chicks', 'petal': 'petals', 'candystuft': 'candystuft', 'st': 'st', 'georg': 'george', 'savannah': 'savannah', 'hamper': 'hamper', 'barn': 'barn', 'red/cream': 'red/cream', 'r': 'r', 'sued': 'suede', 'oyster': 'oyster', 'flame': 'flame', 'lens': 'lenses', 'support': 'support', 'g': 'g', 'ceram': 'ceramic', 'rectangular': 'rectangular', 'unit': 'unit', 'ivi': 'ivy', 's/2': 's/2', 'list': 'list', 'cutglass': 'cutglass', 'gold/m.o.p': 'gold/m.o.p', 'silver/m.o.p': 'silver/m.o.p', 'roman': 'roman', 'peach': 'peach', 'bazaar': 'bazaar', 'tranquil': 'tranquility', 'gauz': 'gauze', 'radio': 'radio', 'buddha': 'buddha', 'pet': 'pet', 'revolutionari': 'revolutionary', 'tie': 'tie', 'jade': 'jade', 'cluster': 'cluster', 'sea': 'sea', 'windchim': 'windchime', 'pom-pom': 'pom-pom', 'vint': 'vint', 'blue/nat': 'blue/nat', 'silver/nat': 'silver/nat', 'hopper': 'hopper', 'pole': 'pole', 'mont': 'monte', 'carlo': 'carlo', 'wallet': 'wallet', 'meadow': 'meadow', 'transport': 'transport', 'calm': 'calm', 'giraff': 'giraffe', 'revolv': 'revolver', 'pill': 'pill', 'ticket': 'ticket', 'dotcomgiftshop': 'dotcomgiftshop', 'raspberri': 'raspberry', 'berri': 'berries', 'scallop': 'scallop', 'bling': 'bling', 'riviera': 'riviera', 'heaven': 'heavens', 'fragranc': 'fragrance', 'anemon': 'anemone', 'allium': 'allium', 'artifici': 'artificial', 'buffalo': 'buffalo', 'bill': 'bill', 'pastri': 'pastry', 'dollcraft': 'dollcraft', 'nicol': 'nicole', 'mother': 'mother', 'corer': 'corer', 'tripl': 'triple', 'acapulco': 'acapulco', 'mat': 'mat', 'live': 'lives', 'jean-paul': 'jean-paul', 'bull': 'bull', 'open': 'opener', 'guitar': 'guitar', 'ol': 'ol', 'p': 'p', 'splodg': 'splodges', 'purple/turq': 'purple/turq', 'hole': 'hole', 'punch': 'punch', 'bonbon': 'bonbons', 'ameli': 'amelie', 'gem': 'gems', 'geometr': 'geometric', 'lt.blue': 'lt.blue', 'sanskrit': 'sanskrit', '/': '/', 'turquoi': 'turquois', 'kukui': 'kukui', 'coconut': 'coconut', 'lip': 'lip', 'gloss': 'gloss', 'red/blu': 'red/blue', 'flower/butterfli': 'flower/butterfly', 'mummi': 'mummy', 'cupboard': 'cupboard', 'hibiscus': 'hibiscus', 'nativ': 'nativity', 'silver/black': 'silver/black', 'goldi': 'goldie', 'hurrican': 'hurricane', 'backpack': 'backpack', 'mop': 'mop', 'yellow/orang': 'yellow/orange', 'hardman': 'hardman', 'tahiti': 'tahiti', 'aluminium': 'aluminium', 'parlour': 'parlour', 'barrel': 'barrel', 'mari': 'marie', 'antoienett': 'antoienett', 'miniatur': 'miniature', 'gel': 'gel', 'cote': 'cote', \"d'azur\": \"d'azure\", 'tropez': 'tropez', 'tone': 'tone', 'page': 'page', 'run': 'run', 'laser': 'laser', 'tong': 'tongs', 'come': 'come', 'strainer': 'strainer', 'zinc/glass': 'zinc/glass', 'point': 'point', 'snow': 'snow', 'cinderella': 'cinderella', 'minitur': 'miniture', 'antoinett': 'antoinette', 'l': 'l', 'sequin': 'sequin', 'spliff': 'spliff', 'bundl': 'bundle', 'exercis': 'exercise', 'note': 'note', 'suppli': 'supplies', 'parisienn': 'parisienne', 'chic': 'chic', 'secret': 'secret', 'bedsid': 'bedside', 'dispens': 'dispenser', 'bon': 'bon', 'montan': 'montan', 'gerden': 'gerden', 'housework': 'housework', 'y': 'y', 'peoni': 'peony', 'stiletto': 'stiletto', 'flowr': 'flowr', 'capiz': 'capiz', 'quartz': 'quartz', 'braclet': 'braclet', 'lt': 'lt', 'laurel': 'laurel', 'rock': 'rocking', 'olli': 'ollie', 'beak': 'beak', 'ghost': 'ghost', 'disc/mirror': 'disc/mirror', 'willi': 'willie', 'icicl': 'icicle', 'push': 'push', 'e': 'e', 'knack': 'knack', 'gymkhana': 'gymkhana', 'hold': 'hold', 'bubblegum': 'bubblegum', 'h': 'h', 'sleigh': 'sleigh', 'trim': 'trim', 'mid': 'mid', 'spike': 'spike', 'meter': 'meter', 'donkey': 'donkey', 'perfum': 'perfume', 'elixir': 'elixir', 'songbird': 'songbird', 'crackl': 'crackle', 'glaze': 'glaze', 'tonic': 'tonic', 'doorknob': 'doorknob', 'bonn': 'bonne', 'sword': 'swords', 'dispos': 'disposable', 'handl': 'handle', 'hexagon': 'hexagon', 'notepad': 'notepad', 'refectori': 'refectory', 'reto': 'reto', 'madelin': 'madeline', 'mark': 'mark', 'hens+flow': 'hens+flower', 'sucker': 'sucker', 'cracker': 'cracker', 'brass': 'brass', 'hairslid': 'hairslide', 'loaf': 'loaf', 'w/suck': 'w/suck', 'tablecloth': 'tablecloth', 'bili': 'bili', 'poster': 'poster', 'park': 'park', 'ceatur': 'ceature', 'forest': 'forest', 'branch': 'branch', 'pink/blu': 'pink/blue', 'frill': 'frill', 'adult': 'adult', 'jampot': 'jampot', 'sex': 'sex', 'stuff': 'stuff', 'bubbl': 'bubbles', 'patchwork': 'patchwork', 'utensil': 'utensil', 'teddy/cak': 'teddy/cake', 'dotcom': 'dotcom', 'commiss': 'commission', 'franc': 'france', 'foot': 'foot', 'bonheur': 'bonheur', 'botaniqu': 'botanique', 'sweeet': 'sweeet', 'pant': 'pants', 'maker': 'makers', 'grinder': 'grinder', 'linen': 'linen', 'spatula': 'spatula', 'whisk': 'whisk', 'toilett': 'toilette', 'chambr': 'chambre', 'le': 'le', 'draw': 'draw', 'carri': 'carry', 'jubile': 'jubilee', 'rebecca': 'rebecca', 'rachel': 'rachel', 'susi': 'susie', 'rucksack': 'rucksack', 'peridot': 'peridot', 'sophi': 'sophie', 'clair': 'claire', 'blk/whit': 'blk/whit', 'villa': 'villa', 'dovecot': 'dovecote', 'bicycl': 'bicycle', 'saftey': 'saftey', 'stop': 'stop', 'licenc': 'licence', 'haven': 'haven', 'ahoy': 'ahoy', 'natur': 'nature', 'show': 'show', 'centuri': 'century', 'modern': 'modern', 'work': 'work', 'basebal': 'baseball', 'boot': 'boot', 'feed': 'feeding', 'station': 'station', 'safeti': 'safety', 'metr': 'metre', 'triobas': 'triobase', 'feeder': 'feeder', 'henrietta': 'henrietta', 'carrier': 'carrier', 'helga': 'helga', 'heidi': 'heidi', 'resolut': 'resolution', 'landmark': 'landmark', 'bridg': 'bridge', 'oxford': 'oxford', 'street': 'street', 'baker': 'baker', 'hill': 'hill', 'town': 'town', 'miror': 'miror', 'decrotivevintag': 'decrotivevintage', 'pick': 'pick', 'naught': 'naughts', 'cross': 'cross', 'blueberri': 'blueberry', 'fondant': 'fondant', 'chrome': 'chrome', \"sil't\": \"sil't\", 'squ': 'squ', 'crome': 'crome', 'candle+incens': 'candle+incense', 'panetton': 'panettone', 'czech': 'czech', 'punctur': 'puncture', 'countri': 'country', 'f': 'f', 'o': 'o', 't': 't', 'z': 'z', 'birdi': 'birdie'} \n",
      " {'heart': 267, 'holder': 120, 'metal': 99, 'lantern': 8, 'cream': 49, 'cupid': 2, 'coat': 7, 'hanger': 19, 'union': 28, 'flag': 12, 'water': 36, 'bottl': 44, 'nest': 3, 'box': 155, 'glass': 149, 'star': 59, 'hand': 20, 'jack': 21, 'warmer': 17, 'dot': 3, 'bird': 45, 'ornament': 1, 'poppi': 7, 'playhous': 4, 'bedroom': 1, 'kitchen': 20, 'feltcraft': 24, 'princess': 3, 'charlott': 11, 'doll': 11, 'ivori': 54, 'cosi': 6, 'colour': 26, 'teaspoon': 1, 'vintag': 211, 'jigsaw': 15, 'block': 9, 'alphabet': 13, 'home': 49, 'build': 3, 'word': 3, 'love': 9, 'recip': 6, 'england': 4, 'jam': 18, 'jar': 39, 'rack': 15, 'pari': 5, 'fashion': 3, 'bath': 8, 'alarm': 7, 'clock': 44, 'bakelik': 4, 'pink': 189, 'green': 14, 'panda': 1, 'bunni': 25, 'sheet': 8, 'tape': 18, 'globe': 1, 'head': 3, 'tail': 4, 'game': 6, 'set/2': 1, 'retrospot': 90, 'tea': 55, 'towel': 22, 'round': 30, 'snack': 9, 'woodland': 21, 'spaceboy': 29, 'lunch': 27, 'i': 19, 'london': 22, 'circus': 12, 'bag': 165, 'design': 128, 'toadstool': 13, 'night': 5, 'light': 29, 'seasid': 3, 'puzzl': 1, 'mini': 56, 'parad': 9, 'paint': 1, 'postag': 2, 'paper': 84, 'chain': 11, 'christma': 137, 'parasol': 16, 'coffe': 24, 'mug': 66, 'planet': 3, 'billboard': 7, 'love/h': 1, 'wood': 40, 'drawer': 37, 'cabinet': 22, 'finish': 4, 's/3': 3, 'pictur': 14, 'frame': 52, 'wooden': 14, 'sympathi': 1, 'polkadot': 68, 'baroqu': 22, 'charli': 9, 'lola': 8, 'toy': 18, 'strawberri': 21, 'piec': 14, 'cutleri': 29, 'set': 206, 'set/6': 8, 'plate': 35, 'pack': 61, 'case': 31, 'dinosaur': 11, 'paisley': 42, 'fairi': 23, 'tomato': 1, 'charlie+lola': 7, 'coaster': 15, 'wastepap': 2, 'bin': 12, 'flora': 2, 'doorsign': 2, 'storag': 26, 'suki': 8, 'make': 1, 'pc': 2, 'tool': 3, 'airlin': 6, 'loung': 2, 'sign': 64, 'spot': 33, 'knob': 18, 'photo': 36, 'clip': 12, 'line': 1, 'felt': 10, 'egg': 61, 'chicken': 5, 'bank': 8, 'shoulder': 5, 'cook': 1, 'gin': 4, '+': 13, 'breakfast': 11, 'cup': 37, 'saucer': 10, 'flower': 120, 'time': 13, 'rabbit': 28, 'zinc': 37, 'winki': 4, 'candl': 121, 'stick': 10, 'cherri': 16, 'money': 15, 'milk': 13, 'jug': 11, 'funki': 13, 'beaker': 10, 'owl': 10, 'balloon': 10, 'art': 75, 'cloch': 2, 'gumbal': 2, 'monochrom': 1, 'doormat': 18, 'fanci': 1, 'sweet': 22, 'discount': 1, 'snake': 2, 'ladder': 4, 'chocol': 25, 'calcul': 3, 'tidi': 13, 'tabl': 19, 'pot': 27, 'garden': 55, 'thermomet': 7, 'cake': 70, 'tin': 66, 'wicker': 21, 'basket': 25, 'lid': 6, 'duck': 7, 'board': 9, 'hang': 11, 'medina': 6, 'chalkboard': 5, 'lovebird': 6, 'birdcag': 2, 'plant': 13, 'card': 90, 'enamel': 31, 'fire': 8, 'bucket': 8, 'bread': 7, 'ribbon': 40, 'wire': 22, 'chilli': 1, 'garland': 39, 'butterfil': 1, 'tale': 2, 'cottag': 15, 'letter': 42, 'doorstop': 10, 'decor': 109, 'magnet': 28, 'fridg': 7, 'homemad': 1, 'enfant': 1, 'caravan': 4, 'hook': 39, 'reindeer': 2, 'cushion': 54, 'cover': 68, 'gold': 39, 'umbrella': 8, 'black/blu': 1, 'diner': 13, 'wall': 55, 'measur': 7, 'spoon': 10, 'keepsak': 1, 'disco': 6, 'ball': 18, 'popcorn': 2, 'set/20': 2, 'napkin': 10, 'rain': 3, 'hat': 1, 'delux': 2, 'kit': 22, 'cube': 5, 'plaster': 6, 'tissu': 30, 'grey': 2, 'skull': 34, 'mice': 1, 'soldier': 2, 'skittl': 4, 'skip': 1, 'rope': 3, 'domino': 2, 'seventeen': 1, 'sideboard': 1, 'parti': 42, 'cone': 8, 'carniv': 4, 'candi': 12, 'picnic': 9, 'lamp': 10, 'font': 5, 'birthday': 25, 'scotti': 5, 'dog': 24, 'bowl': 57, 'cloth': 3, 'travel': 16, 'trinket': 23, 'orang': 11, 'quilt': 1, 'babushka': 22, 'string': 10, 'doughnut': 4, 'silk': 4, 'purs': 20, 'hous': 13, 'boudoir': 1, 'squar': 13, 'cornic': 4, 's/6': 1, 'sew': 2, 'crochet': 11, 'red': 1, 'lavend': 10, 'incens': 15, 'tv': 8, 'dinner': 20, 'tray': 35, 'placemat': 9, 'famili': 4, 'rotat': 1, 'batteri': 2, 'silver': 72, 'mirror': 50, 'ladi': 3, 'gentlemen': 1, 'bathroom': 14, 'toilet': 4, 'holiday': 6, 'basil': 2, 'set/10': 3, 't-light': 22, 'snowmen': 2, 'santa': 3, 'spong': 5, 'appl': 21, 'pirat': 3, 'treasur': 12, 'chest': 5, 'snowflak': 5, 'oval': 8, 'cigar': 2, 'match': 6, 'hour': 2, 'giant': 3, 'tube': 21, 'jazz': 3, 'notebook': 22, 'candlehold': 9, 'candlestick': 7, 'baroquecandlestick': 1, 'flannel': 8, 'style': 20, 'footbal': 3, 'celebr': 2, 'girl': 14, 'blue': 80, 'invit': 6, 'butterfli': 33, 'cooki': 7, 'cutter': 7, 'sweetheart': 30, 'car': 5, 'trelli': 3, 'set/5': 2, 'slate': 10, 'bake': 7, 'pencil': 35, 'harmonica': 2, 'transfer': 1, 'tattoo': 1, 'panneton': 3, 'kid': 10, 'pen': 19, 'rectangl': 3, 'face': 1, 'wrap': 65, 'cowboy': 3, 'doili': 16, 'cat': 25, 'eras': 4, 'angel': 5, 'hldr': 2, 'reel': 22, 'spin': 1, 'top': 4, 'marbl': 3, 'strand': 6, 'necklac': 85, 'crystal': 15, 'squarecushion': 2, 'children': 32, 'candelabra': 1, 'luggag': 10, 'tag': 15, 'tassl': 6, 'charm': 41, 'acryl': 2, 'bangl': 4, 'gun': 1, 'rose': 6, 'vanilla': 10, 'scent': 5, 'bell': 36, 'stand': 30, 'filigre': 1, 'pattern': 5, 'sticker': 30, \"b'fli\": 5, 'c/cover': 2, 'w': 23, 'bobbl': 1, 'boom': 3, 'speaker': 2, 'dress': 3, 'shopper': 4, 'fruit': 14, 'parcel': 1, 'slipper': 4, 'shoe': 6, 'daisi': 21, 'peg': 9, 'craft': 13, 'tree': 28, 'friend': 3, 'rosi': 2, 'olivia': 1, 'rex': 1, 'cash+carri': 1, 'tote': 7, 'pinkwhit': 1, 'red/whit': 1, 'valentin': 1, 'decoupag': 7, 'sock': 7, 'baubl': 5, 'villag': 6, 'turquois': 7, 'wreath': 17, 'advent': 5, 'calendar': 9, 'gingham': 23, 'sack': 2, 'snap': 1, 'drawerknob': 1, 'apron': 9, 'mushroom': 7, 'chalk': 4, 'hairband': 4, 'purpl': 9, 'anim': 10, 'fair': 3, 'cupcak': 3, 'lace': 13, 'catch': 1, 'cotton': 12, 'beach': 7, 'spade': 3, 'boy': 6, 'king': 10, 'choic': 7, 'caddi': 3, 'biscuit': 16, 'empir': 8, 'fawn': 2, 'gift': 49, 'namast': 1, 'swagat': 1, 'vase': 2, 'chrysanthemum': 3, 'scissor': 5, 'tealight': 2, 'place': 7, 's/15': 1, 'wc': 1, 'soap': 11, 'medium': 15, 'washroom': 1, 'bracelet': 61, 'hair': 25, 'grip': 6, 'pack/2': 6, 'dia': 1, 'diamant': 29, 'ring': 46, 'rubi': 5, 'montana': 3, 'present': 2, 'aid': 1, 'monsoon': 1, 'rubber': 4, 'stationeri': 6, 'mitten': 1, 'scandinavian': 3, 'canva': 4, 'stamp': 6, 'cinammon': 2, 'stripe': 17, 'provenc': 1, 'flock': 23, 'offic': 9, 'record': 4, 'size': 7, 'hors': 9, 'regenc': 16, 'cakestand': 3, 'tier': 6, 'longboard': 1, 'play': 2, 'shirt': 1, 'repair': 2, 'foxi': 1, 'gent': 1, 'jet': 8, \"'n\": 1, 'grow': 1, 'world': 2, 'champion': 1, 'seed': 4, 'envelop': 6, 'hi': 1, 'polyest': 6, 'filler': 6, 'pad': 7, 'scarf': 6, 'pear': 5, 'gazebo': 1, 'birdhous': 7, 'antiqu': 22, 'market': 1, 'crate': 3, 'bed': 1, 'pizza': 5, 'leav': 4, 'button': 4, 'messag': 1, 'herb': 10, 'marker': 9, 'mint': 9, 'rosemari': 1, 'chive': 1, 'parsley': 1, 'thyme': 1, 'merri': 2, 'foil': 1, 'handbag': 9, 'easter': 39, 'cut': 6, 'season': 1, 'toast': 5, 'path': 4, 'journal': 6, 'squeezer': 1, 'glove': 6, 'licoric': 1, 'des': 4, 'roll': 8, 'multicolour': 8, 'confetti': 4, 'morri': 9, 'pistachio': 1, 'honeycomb': 9, 'english': 10, 'level': 2, 'platter': 3, 'teacup': 3, 'slice': 3, 'fun': 7, 'ass': 7, 'col': 6, 'sand': 3, 'gecko': 1, \"p'weight\": 2, 'postcard': 3, 'spring': 6, 'chateau': 5, 'scale': 6, 'lizard': 1, 'suction': 4, 'engine/car': 1, 'patch': 9, 'psychedel': 1, 'flowerpow': 1, 'life': 3, 'rounder': 1, 'child': 14, 'taper': 1, 'confectioneri': 2, 'stopper': 1, 'set/4': 10, 'junk': 1, 'mail': 1, 'tile': 8, 'finger': 1, 'beurr': 1, 'dish': 15, 'diet': 1, 'screen': 5, 'print': 11, 'peac': 3, 'earth': 1, 'cocktail': 3, 'strongman': 1, 'school': 4, 'crayon': 1, 'booz': 1, 'women': 1, 'lad': 1, 'man': 3, 'heat': 1, 'person': 4, 'shape': 17, 'pan': 14, 'bendi': 1, 'straw': 5, 'pantri': 28, 'sketchbook': 7, 'sing': 1, 'emerg': 1, 'friez': 1, 'door': 23, 'joy': 2, 'black+silv': 1, 'regal': 1, 'candlepot': 4, 'swirlglass': 1, 'pedest': 1, 'magazin': 4, 'food': 14, 'raffia': 6, 'polka': 2, 'jardin': 8, 'bunt': 11, 'kashmir': 1, 'chocolatecandl': 1, 'shelf': 9, 'imag': 15, 'day': 8, 'jewelleri': 10, 'let': 1, 'camouflag': 3, 'torch': 1, 'dragonfli': 3, 'helicopt': 6, 'shark': 3, 'doctor': 1, 'carriag': 4, 'salt': 2, 'pepper': 1, 'porcelain': 7, 'star+': 1, 'moon': 3, 'fring': 1, 'hammock': 3, 'dec': 7, 'crossbon': 2, 'fabric': 5, 'poni': 4, 'cordon': 2, 'barrier': 2, 'teddi': 5, 'air': 1, 'hostess': 1, 'stack': 4, 'hut': 4, 'blossom': 11, 'passport': 7, 'retro': 22, 'mod': 1, 'cardhold': 3, 'book': 26, 'spiral': 1, 'coal': 1, 'airmail': 1, 'number': 22, 'smiley': 1, 'collag': 5, 'childhood': 2, 'memori': 2, 'funk': 1, 'monkey': 8, 'choc+blu': 1, 'glitter': 9, 'b': 2, 'c': 2, 'chees': 1, 'geisha': 2, 'newspap': 1, 'scandispot': 1, 'jingl': 6, 'key': 4, 'instrument': 1, 'crown': 1, 'chalet': 1, 'motorbik': 1, 'medicin': 1, 'ma': 4, 'campagn': 4, 'yuletid': 2, 'shade': 2, 'base': 5, 'folkart': 5, 'smallfolkart': 1, 'glass+zinc': 1, 'set/3': 8, 'eucalyptus': 1, 'pinecon': 1, 's/4': 3, 'cacti': 2, 'marshmallow': 2, 'mum': 3, 'indian': 1, 'fuschia': 5, 'brocad': 1, 'swallow': 2, 'm': 2, 'v': 1, 's': 3, 'j': 1, 'bingo': 1, 'floor': 3, 'fauna': 1, 'ear': 2, 'muff': 3, 'headphon': 3, 'tutti': 10, 'frutti': 4, 'brush': 5, 'ladybird': 2, 'bee': 1, 'bamboo': 2, 'rib': 1, 'lampshad': 5, 'badg': 5, 'creatur': 1, 'pocket': 12, 'brocant': 4, 'maria': 1, 'memo': 3, 'room': 2, 'sall': 1, 'bain': 1, 'robot': 4, 'war': 1, 'glider': 1, 'coathang': 1, 'bomb': 2, 'pump': 1, 'stencil': 2, 'cute': 1, 'toothpast': 1, 'purdey': 2, 'account': 1, 'penni': 1, 'pig': 3, 'loveheart': 1, 'en': 1, 'pin': 5, 'area': 2, 'portrait': 5, 'plastic': 5, 'eleph': 3, 'rainbow': 3, 'model': 1, 'clay': 1, 'disc': 1, 'sugar': 9, 'teapot': 5, 'dairi': 5, 'maid': 3, 'pud': 7, 'contain': 10, 'moodi': 2, 'hen': 16, 'wish': 1, 'thank': 3, 'planter': 6, 'stripey': 2, 'dragon': 2, 'ruler': 5, 'digitali': 1, 'post': 5, 'milkshak': 1, 'babi': 9, 'chart': 1, 'figur': 1, 'shine': 1, 'armi': 2, 'camo': 1, 'bookcov': 2, 'carrot': 1, 'chick': 19, 'chunki': 9, 'tassel': 4, 'glass+bead': 2, 'livingroom': 1, 'posi': 5, 'vine': 1, 'food/drink': 1, 'lilac': 3, 'juici': 2, 'creepi': 2, 'crawli': 2, 'memoboard': 1, 'wash': 2, 'cafe': 3, 'bow': 4, 'brooch': 5, 'amethyst': 9, 'pair': 7, 'hairclip': 3, 'gemston': 5, 'drop': 23, 'earring': 49, 'hoop': 9, 'leaf': 19, 'clam': 2, 'shell': 21, 'cockl': 1, 'fob': 5, 'garag': 2, 'chopstick': 3, 'frog': 8, 'puppet': 3, 'wine': 3, 'candlestand': 1, 'gaoler': 1, 'champagn': 2, 'curio': 3, 'fan': 7, 'charg': 2, 'butter': 3, 'farm': 5, 'snowstorm': 1, 'tinsel': 2, 'space': 6, 'cadet': 3, 'monster': 6, 'citronella': 3, 'folk': 3, 'burst': 1, 'fanni': 1, 'rest': 3, 'stopmet': 1, 'way': 2, 'corona': 1, 'weekend': 1, 'fish': 2, 'gnome': 4, 'coland': 1, 'blue/cream': 1, 'strawberi': 2, 'shop': 12, 'washbag': 8, 'feng': 1, 'shui': 1, 'pillar': 2, 'novelti': 1, 'toastrack': 1, 'rustic': 3, 'bead': 38, 'croquet': 1, 'choc': 4, 'truffl': 1, 'cabin': 2, 'knit': 1, 'nanci': 1, 'throw': 2, 'lush': 1, 'necklace+bracelet': 5, 'salad': 2, 'check': 4, 'ludo': 1, 'la': 4, 'palmiera': 3, 'display': 2, 'pack/12': 3, 'secateur': 1, 'lei': 1, 'camphor': 5, 'field': 3, 'portobello': 1, 'fairy,5': 1, 'summer': 5, \"b'draw\": 1, 'liner': 3, 'blue/yellow': 1, 'green/blu': 1, 'yellow/pink': 1, 'a5': 1, 'neighbourhood': 2, 'witch': 2, 'pharmaci': 1, 'naughti': 1, 'sound': 1, 'hello': 2, 'sailor': 2, 'bewar': 1, 'cinnamon': 1, 'jasmin': 2, 'bone': 2, 'circl': 9, 'midnight': 7, 'glamour': 1, 'frappucino': 1, 'phone': 9, 'blue/green': 1, 'pendant': 5, 'spirit': 1, 'skirt': 2, 'mous': 3, 't-shirt': 1, 'jewel': 13, 'nurs': 1, 'melamin': 1, 'wool': 2, 'peacock': 1, 'footprint': 1, 'album': 4, 'gardenia': 2, 'multi': 3, 'mousey': 1, 'laundri': 1, 'cactus': 3, 'cockerel': 3, 'bouquet': 2, 'danish': 8, 'cast': 2, 'iron': 5, 'fork': 5, 'trowel': 3, 'pearl': 12, 'lime': 2, 'boudicca': 10, 'pennant': 1, 'label': 1, 'ream': 1, 'pop': 3, 'poncho': 2, 'flask': 2, 'keyr': 2, 'chair': 5, 'petit': 2, 'dream': 2, 'windsock': 1, 'microwav': 3, 'delight': 2, 'organis': 7, 'leap': 1, 'silicon': 2, 'bulb': 1, 'seat': 2, 'madra': 3, 'feather': 7, 'sandalwood': 1, 'rocket': 2, 'sombrero': 1, 'bitti': 2, 'stone': 5, 'glow': 2, 'tiara': 1, 'robin': 1, 'kensington': 1, 'set/12': 1, 'mobil': 7, 's/12': 2, 'bib': 2, 'teatim': 6, 'flu': 1, 'embroideri': 2, 'ashtray': 4, 'shower': 2, 'cap': 2, 'queen': 4, 'sky': 4, 'economi': 2, 'oil': 3, 'burner': 2, 'notelet': 1, 'deco': 4, 'w/knif': 1, 'deco.whit': 1, 'sage': 1, 'flowerpot': 1, 'paperweight': 2, 'carry-al': 1, 'balm': 1, 'tumbler': 3, 'brown': 3, 'travelogu': 2, 'pink/whit': 1, 'clean': 1, 'bullet': 1, 'puppi': 1, 'sunris': 1, 'carousel': 6, 'sunglass': 2, 'blackchristma': 1, 'sweeti': 1, 'wireless': 1, 'doorbel': 1, 'lattic': 6, 'neckl': 4, 'bronz': 1, 'smokey': 2, 'd.o.f': 1, 'pouri': 1, 'windmil': 5, 'pale': 1, 'bea': 1, 'mao': 1, 'goos': 4, 'bear': 3, 'du': 1, 'cosmet': 1, 'flytrap': 1, 'sunflow': 2, 'butterfl': 1, 'pouff': 2, 'regatta': 1, 'budah': 1, 'wise': 1, 'potion': 1, 'masala': 2, 'favourit': 1, 'banquet': 1, 'xmas': 1, 'nut': 2, 'basin': 1, 'eau': 5, 'tigri': 1, 'eye': 1, 'vinyl': 1, 'las': 4, 'vega': 2, 'mould': 4, 'voil': 2, 'pointi': 1, 'k': 1, 'address': 1, 'stool': 5, 'photofram': 3, 'jungl': 2, 'popsicl': 2, 'twine': 1, 'rnd': 1, 'str': 1, 'strap': 2, 'beauti': 1, 'cd': 2, 'gebra': 1, 'shutter': 1, 'seafood': 1, 'compact': 3, 'magic': 7, 'octagon': 1, 'diva': 1, 'chime': 1, 'neckl.36': 3, 'fold': 1, 'edg': 1, 'forti': 1, 'blood': 1, 'coney': 1, 'island': 2, 'pompom': 1, 'curtain': 9, 'grass': 2, 'mix': 1, 'rosett': 1, 'welcom': 1, 'class': 3, 'plaqu': 2, 'popart': 2, 'rect': 2, 'sharpen': 5, 'asst': 2, 'tortilla': 1, 'w/sucker': 1, 'origami': 4, 'incense/candl': 4, 'opium': 2, 'sandlewood': 2, 'incense/cand': 1, 'rococo': 4, 'sprig': 1, 'cage': 1, 'strawbri': 1, 'mosaic': 3, 'goblet': 2, 'highlight': 1, 'kitten': 1, 'silver/amethyst': 1, 'slide': 5, 'cartoon': 1, 'vip': 2, 'doc': 1, 'russel': 1, 'dad': 2, 'scroll': 1, 'marmalad': 1, 'garld': 2, 'neckl36': 2, 'copper': 7, 'turq': 3, 'sunda': 3, 'droplet': 3, 'murano': 9, 'twist': 7, 'race': 1, 'silouett': 1, 'demi': 1, 'choker': 1, 'orbit': 14, 'pastel': 10, 'flow': 2, 'beaten': 3, 'charger': 2, 'aperitif': 2, 'spice': 1, 'cannist': 2, 'berti': 4, 'steel': 2, 'mr': 1, 'vippassport': 1, 'asstd': 2, 'butterfly/cryst': 1, 'w/chime': 1, 'screwdriv': 1, 'spacebal': 1, 'mrs': 1, 'princ': 1, 'chalic': 3, 'blackboard': 2, 'ice': 6, 'bum': 1, 'roccoco': 1, 'chandeli': 4, 'fli': 2, 'swat': 2, 'sheep': 1, 'fruitbowl': 2, 'freshwat': 1, 'pink/amethyst': 1, 'teal/fuschia': 1, 'botan': 2, 'groovi': 2, 'fruit+flow': 1, 'blackblu': 1, 'bus': 1, 'enamel+glass': 3, 'comb': 5, 'diamond': 3, 'incense+flow': 1, 'fluffi': 2, 'desk': 1, 'mock': 1, 'lobster': 1, 'diamon': 1, 'raspberr': 1, 'lazer': 1, 'amber': 1, 'band': 2, 'delphinium': 2, 'white/pink': 6, 'toybox': 1, 'banner': 1, 'm.o.p': 6, 'cannabi': 1, 'd': 1, 'dark': 1, 'dolphin': 2, 'wheelbarrow': 1, 'rake': 1, 'frangipani': 3, 'rosebud': 6, 'chenill': 1, 'box/12': 1, 'ladl': 2, 'wed': 2, 'briar': 1, 'poodl': 1, 'pink/flow': 1, 'wast': 1, 'carpet': 1, 'flamingo': 1, 'bar': 2, 'condiment': 1, 'hilda': 1, 'congratul': 1, 'icon': 3, 'elvi': 2, 'drawstr': 1, 'hare': 1, 'gordon': 1, 'pool': 1, 'sister': 1, 'citrus': 1, 'beetl': 1, 'crystal+glass': 3, 'resin': 2, 'ridg': 1, 'cruso': 1, 'veget': 1, 'flore': 1, 'doiley': 18, 'multicol': 1, 'blond': 1, 'glass/silv': 3, 'hunt': 3, 'start': 3, 'rasta': 2, 'key-chain': 1, 'back': 1, 'hen+chick': 2, 'petal': 2, 'candystuft': 1, 'st': 4, 'georg': 4, 'savannah': 1, 'hamper': 2, 'barn': 1, 'red/cream': 1, 'r': 1, 'sued': 2, 'oyster': 1, 'flame': 2, 'lens': 1, 'support': 1, 'g': 1, 'ceram': 2, 'rectangular': 1, 'unit': 2, 'ivi': 1, 's/2': 1, 'list': 6, 'cutglass': 1, 'gold/m.o.p': 1, 'silver/m.o.p': 1, 'roman': 1, 'peach': 2, 'bazaar': 1, 'tranquil': 1, 'gauz': 2, 'radio': 2, 'buddha': 1, 'pet': 1, 'revolutionari': 1, 'tie': 4, 'jade': 2, 'cluster': 7, 'sea': 2, 'windchim': 1, 'pom-pom': 1, 'vint': 3, 'blue/nat': 1, 'silver/nat': 1, 'hopper': 1, 'pole': 2, 'mont': 2, 'carlo': 2, 'wallet': 13, 'meadow': 1, 'transport': 1, 'calm': 9, 'giraff': 1, 'revolv': 1, 'pill': 2, 'ticket': 1, 'dotcomgiftshop': 1, 'raspberri': 2, 'berri': 1, 'scallop': 1, 'bling': 1, 'riviera': 2, 'heaven': 1, 'fragranc': 1, 'anemon': 1, 'allium': 1, 'artifici': 1, 'buffalo': 4, 'bill': 5, 'pastri': 1, 'dollcraft': 4, 'nicol': 1, 'mother': 1, 'corer': 1, 'tripl': 5, 'acapulco': 6, 'mat': 7, 'live': 1, 'jean-paul': 1, 'bull': 2, 'open': 1, 'guitar': 1, 'ol': 1, 'p': 1, 'splodg': 1, 'purple/turq': 1, 'hole': 1, 'punch': 1, 'bonbon': 1, 'ameli': 1, 'gem': 1, 'geometr': 1, 'lt.blue': 1, 'sanskrit': 1, '/': 1, 'turquoi': 1, 'kukui': 2, 'coconut': 2, 'lip': 3, 'gloss': 3, 'red/blu': 1, 'flower/butterfli': 1, 'mummi': 1, 'cupboard': 1, 'hibiscus': 1, 'nativ': 1, 'silver/black': 1, 'goldi': 1, 'hurrican': 1, 'backpack': 5, 'mop': 1, 'yellow/orang': 1, 'hardman': 1, 'tahiti': 1, 'aluminium': 1, 'parlour': 6, 'barrel': 1, 'mari': 3, 'antoienett': 1, 'miniatur': 1, 'gel': 1, 'cote': 1, \"d'azur\": 1, 'tropez': 1, 'tone': 1, 'page': 1, 'run': 1, 'laser': 1, 'tong': 1, 'come': 1, 'strainer': 2, 'zinc/glass': 1, 'point': 13, 'snow': 4, 'cinderella': 1, 'minitur': 1, 'antoinett': 2, 'l': 2, 'sequin': 1, 'spliff': 1, 'bundl': 4, 'exercis': 2, 'note': 1, 'suppli': 1, 'parisienn': 5, 'chic': 1, 'secret': 3, 'bedsid': 2, 'dispens': 3, 'bon': 4, 'montan': 1, 'gerden': 1, 'housework': 1, 'y': 1, 'peoni': 3, 'stiletto': 1, 'flowr': 1, 'capiz': 1, 'quartz': 1, 'braclet': 1, 'lt': 1, 'laurel': 2, 'rock': 1, 'olli': 1, 'beak': 1, 'ghost': 1, 'disc/mirror': 1, 'willi': 3, 'icicl': 2, 'push': 1, 'e': 1, 'knack': 7, 'gymkhana': 2, 'hold': 1, 'bubblegum': 1, 'h': 1, 'sleigh': 1, 'trim': 3, 'mid': 1, 'spike': 2, 'meter': 1, 'donkey': 1, 'perfum': 1, 'elixir': 1, 'songbird': 2, 'crackl': 4, 'glaze': 5, 'tonic': 1, 'doorknob': 4, 'bonn': 4, 'sword': 1, 'dispos': 1, 'handl': 1, 'hexagon': 1, 'notepad': 2, 'refectori': 3, 'reto': 1, 'madelin': 1, 'mark': 1, 'hens+flow': 1, 'sucker': 4, 'cracker': 3, 'brass': 1, 'hairslid': 3, 'loaf': 1, 'w/suck': 1, 'tablecloth': 1, 'bili': 1, 'poster': 1, 'park': 7, 'ceatur': 2, 'forest': 4, 'branch': 1, 'pink/blu': 1, 'frill': 1, 'adult': 1, 'jampot': 2, 'sex': 1, 'stuff': 1, 'bubbl': 1, 'patchwork': 1, 'utensil': 1, 'teddy/cak': 1, 'dotcom': 1, 'commiss': 1, 'franc': 1, 'foot': 1, 'bonheur': 1, 'botaniqu': 2, 'sweeet': 1, 'pant': 1, 'maker': 2, 'grinder': 2, 'linen': 3, 'spatula': 1, 'whisk': 1, 'toilett': 1, 'chambr': 1, 'le': 1, 'draw': 1, 'carri': 1, 'jubile': 1, 'rebecca': 1, 'rachel': 1, 'susi': 1, 'rucksack': 4, 'peridot': 1, 'sophi': 1, 'clair': 1, 'blk/whit': 1, 'villa': 5, 'dovecot': 2, 'bicycl': 7, 'saftey': 2, 'stop': 2, 'licenc': 2, 'haven': 1, 'ahoy': 2, 'natur': 2, 'show': 2, 'centuri': 1, 'modern': 1, 'work': 1, 'basebal': 2, 'boot': 2, 'feed': 1, 'station': 1, 'safeti': 1, 'metr': 1, 'triobas': 2, 'feeder': 2, 'henrietta': 3, 'carrier': 1, 'helga': 1, 'heidi': 1, 'resolut': 1, 'landmark': 6, 'bridg': 1, 'oxford': 1, 'street': 2, 'baker': 1, 'hill': 1, 'town': 1, 'miror': 1, 'decrotivevintag': 1, 'pick': 1, 'naught': 1, 'cross': 2, 'blueberri': 1, 'fondant': 1, 'chrome': 1, \"sil't\": 1, 'squ': 1, 'crome': 1, 'candle+incens': 1, 'panetton': 3, 'czech': 1, 'punctur': 1, 'countri': 1, 'f': 1, 'o': 1, 't': 1, 'z': 1, 'birdi': 1}\n"
     ]
    }
   ],
   "source": [
    "df_products = pd.DataFrame(df_dropna['Description'].unique()).rename(columns = {0:'Description'})\n",
    "print(\"number of different descriptions is:\", len(df_products))\n",
    "# Using the function\n",
    "keywords, keywords_roots, keywords_select, count_keywords = keywords_inventory(df_products)\n",
    "print(keywords,'\\n', keywords_roots,'\\n',  keywords_select,'\\n',  count_keywords)"
   ]
  },
  {
   "cell_type": "markdown",
   "metadata": {
    "colab_type": "text",
    "id": "eMk88al0Nqk9"
   },
   "source": [
    "The function returns three variables:\n",
    "* `keywords`: the list of extracted keywords\n",
    "* `keywords_roots`: a dictionary where the keys are the keywords roots and the values are the lists of words associated with those roots\n",
    "* `count_keywords`: dictionary listing the number of times each word is used\n"
   ]
  },
  {
   "cell_type": "markdown",
   "metadata": {
    "colab_type": "text",
    "id": "tTaqln8TNu-d"
   },
   "source": [
    "## 3.2) Dictionary to list\n",
    "* Convert the `count_keywords` dictionary into a list, to sort the keywords according to their occurences, showing the 5 most common"
   ]
  },
  {
   "cell_type": "code",
   "execution_count": 52,
   "metadata": {
    "colab": {
     "base_uri": "https://localhost:8080/",
     "height": 34
    },
    "colab_type": "code",
    "id": "YZHO_dSIpboX",
    "outputId": "77fe81b9-7d48-4fac-829a-8335328ef2c3"
   },
   "outputs": [
    {
     "data": {
      "text/plain": [
       "[['heart', 267], ['vintage', 211], ['set', 206], ['pink', 189], ['bag', 165]]"
      ]
     },
     "execution_count": 52,
     "metadata": {
      "tags": []
     },
     "output_type": "execute_result"
    }
   ],
   "source": [
    "# turn the dict into a list and sort by no of occurrences\n",
    "list_products = []\n",
    "for k,v in count_keywords.items():\n",
    "    list_products.append([keywords_select[k],v])\n",
    "list_products.sort(key = lambda x:x[1], reverse = True)\n",
    "list_products[:5]\n"
   ]
  },
  {
   "cell_type": "markdown",
   "metadata": {
    "colab_type": "text",
    "id": "HFk2zmrhN7UY"
   },
   "source": [
    "## 3.3) Plot the words\n",
    "* Plotting the top 25 words with occurences (in the unique descriptions!)"
   ]
  },
  {
   "cell_type": "code",
   "execution_count": 53,
   "metadata": {
    "colab": {
     "base_uri": "https://localhost:8080/",
     "height": 650
    },
    "colab_type": "code",
    "id": "j10OyVWVppqN",
    "outputId": "4b404dd4-9c09-4a5a-a162-4f616a0dff4c"
   },
   "outputs": [
    {
     "data": {
      "image/png": "[encoded data removed]",
      "text/plain": [
       "<Figure size 504x720 with 1 Axes>"
      ]
     },
     "metadata": {
      "needs_background": "light",
      "tags": []
     },
     "output_type": "display_data"
    }
   ],
   "source": [
    "import matplotlib.pyplot as plt\n",
    "\n",
    "list_prod = list_products\n",
    "N_words = 25\n",
    "\n",
    "#\n",
    "plt.rc('font', weight='normal')\n",
    "fig, ax = plt.subplots(figsize=(7, 10))\n",
    "y_axis = [i[1] for i in list_prod[:N_words]]\n",
    "x_axis = [k for k,i in enumerate(list_prod[:N_words])]\n",
    "x_label = [i[0] for i in list_prod[:N_words]]\n",
    "plt.xticks(fontsize = 15)\n",
    "plt.yticks(fontsize = 13)\n",
    "plt.yticks(x_axis, x_label)\n",
    "plt.xlabel(\"Frequency\", fontsize = 18, labelpad = 10)\n",
    "ax.barh(x_axis, y_axis, align = 'center')\n",
    "ax = plt.gca()\n",
    "ax.invert_yaxis()\n",
    "\n",
    "\n",
    "#\n",
    "plt.title(\"Frequency of words\",bbox={'facecolor':'k', 'pad':5}, color='w',fontsize = 25)\n",
    "plt.show()"
   ]
  },
  {
   "cell_type": "markdown",
   "metadata": {
    "colab_type": "text",
    "id": "WVqH9iH8OIAo"
   },
   "source": [
    "## 3.4) Remove irrelevant words\n",
    "There are about 1480 keywords, but some of them are useless like color names (e.g. red, blue, green...). So discard keywords which are too short (less than 3 charaters), colors, occur less than 13 times, or contain '+', '/'. "
   ]
  },
  {
   "cell_type": "code",
   "execution_count": 55,
   "metadata": {
    "colab": {
     "base_uri": "https://localhost:8080/",
     "height": 71
    },
    "colab_type": "code",
    "id": "CsoAtwBuqnsr",
    "outputId": "e400ec53-31d8-4372-f30c-cecbac8b84a4"
   },
   "outputs": [
    {
     "name": "stdout",
     "output_type": "stream",
     "text": [
      "['heart', 'vintage', 'set', 'bag', 'box', 'glass', 'christmas', 'design', 'candle', 'holder', 'flower', 'decorative', 'metal', 'retrospot', 'card', 'necklac', 'paper', 'art', 'silver', 'cake', 'polkadot', 'cover', 'mug', 'tin', 'wrap', 'sign', 'pack', 'egg', 'bracelet', 'star', 'bowl', 'mini', 'tea', 'garden', 'wall', 'ivory', 'cushion', 'frame', 'mirror', 'cream', 'home', 'gift', 'earrings', 'ring', 'bird', 'bottle', 'clock', 'paisley', 'letter', 'party', 'charm', 'wood', 'ribbon', 'jar', 'garland', 'hook', 'gold', 'easter', 'bead', 'drawer', 'cup', 'zinc', 'water', 'photo', 'bell', 'plate', 'tray', 'pencil', 'skull', 'spot', 'butterfly', 'children', 'case', 'enamel', 'round', 'tissue', 'sweetheart', 'stand', 'sticker', 'spaceboy', 'light', 'cutlery', 'diamante', 'union', 'rabbit', 'magnet', 'tree', 'pantry', 'lunch', 'pot', 'colour', 'storage', 'book', 'bunny', 'chocolate', 'basket', 'birthday', 'cat', 'hair', 'feltcraft', 'coffee', 'dog', 'fairy', 'trinket', 'gingham', 'flock', 'door', 'drop', 'towel', 'london', 'cabinet', 'baroque', 'sweet', 'wire', 'kit', 'babushka', 't-light', 'notebook', 'reel', 'antique', 'retro', 'number', 'jack', 'woodland', 'strawberry', 'wicker', 'apple', 'tube', 'daisy', 'shell', 'hand', 'kitchen', 'purse', 'dinner', 'style', 'hanger', 'table', 'pen', 'chick', 'leaf', 'jam', 'tape', 'toy', 'knob', 'doormat', 'ball', 'doiley', 'warmer', 'wreath', 'stripe', 'shape', 'parasol', 'cherry', 'travel', 'doilies', 'biscuit', 'regency', 'hen', 'jigsaw', 'rack', 'coaster', 'money', 'cottage', 'incense', 'crystal', 'medium', 'dish', 'image', 'picture', 'wooden', 'piece', 'bathroom', 'girl', 'fruit', 'childs', 'pan', 'food', 'orbit', 'alphabet', 'toadstool', 'time', 'milk', 'funky', 'tidy', 'plant', 'diner', 'house', 'square', 'craft', 'lace', 'jewel', 'wallet', 'point']\n",
      "Primary words: 193\n"
     ]
    }
   ],
   "source": [
    "# get rid of 'useless' words that are colors or too short, or occur less than 13 times\n",
    "# or contain '+', '/'\n",
    "list_products = []\n",
    "for k,v in count_keywords.items():\n",
    "    word = keywords_select[k]\n",
    "    if word in ['pink', 'green', 'blue', 'orange', 'tag']: continue\n",
    "    if len(word) < 3 or v < 13: continue\n",
    "    if ('+' in word) or ('/' in word): continue\n",
    "    list_products.append([word, v])\n",
    "\n",
    "# \n",
    "list_products.sort(key = lambda x:x[1], reverse = True)\n",
    "print([v[0] for v in list_products])\n",
    "print('Primary words:', len(list_products))"
   ]
  },
  {
   "cell_type": "markdown",
   "metadata": {
    "colab_type": "text",
    "id": "7WVc0nlKOPJS"
   },
   "source": [
    "## 3.5) Encoding of words\n",
    "* Define a matrix `X` with 193 columns - 193 key words above as categories rows correspond to items of unique_products (unique descriptions of the cleaned data): \n",
    "For each unique description (total 3878) and for each 193 of key words I put 0 or 1 based on whether the word is in description or not.\n"
   ]
  },
  {
   "cell_type": "code",
   "execution_count": 56,
   "metadata": {
    "colab": {
     "base_uri": "https://localhost:8080/",
     "height": 270
    },
    "colab_type": "code",
    "id": "eOSJbtH9rggg",
    "outputId": "5166265d-0969-4b7b-e4c8-88f7d78794f3"
   },
   "outputs": [
    {
     "name": "stdout",
     "output_type": "stream",
     "text": [
      "(3878, 193)\n"
     ]
    },
    {
     "data": {
      "text/html": [
       "<div>\n",
       "<style scoped>\n",
       "    .dataframe tbody tr th:only-of-type {\n",
       "        vertical-align: middle;\n",
       "    }\n",
       "\n",
       "    .dataframe tbody tr th {\n",
       "        vertical-align: top;\n",
       "    }\n",
       "\n",
       "    .dataframe thead th {\n",
       "        text-align: right;\n",
       "    }\n",
       "</style>\n",
       "<table border=\"1\" class=\"dataframe\">\n",
       "  <thead>\n",
       "    <tr style=\"text-align: right;\">\n",
       "      <th></th>\n",
       "      <th>heart</th>\n",
       "      <th>vintage</th>\n",
       "      <th>set</th>\n",
       "      <th>bag</th>\n",
       "      <th>box</th>\n",
       "      <th>glass</th>\n",
       "      <th>christmas</th>\n",
       "      <th>design</th>\n",
       "      <th>candle</th>\n",
       "      <th>holder</th>\n",
       "      <th>flower</th>\n",
       "      <th>decorative</th>\n",
       "      <th>metal</th>\n",
       "      <th>retrospot</th>\n",
       "      <th>card</th>\n",
       "      <th>necklac</th>\n",
       "      <th>paper</th>\n",
       "      <th>art</th>\n",
       "      <th>silver</th>\n",
       "      <th>cake</th>\n",
       "      <th>polkadot</th>\n",
       "      <th>cover</th>\n",
       "      <th>mug</th>\n",
       "      <th>tin</th>\n",
       "      <th>wrap</th>\n",
       "      <th>sign</th>\n",
       "      <th>pack</th>\n",
       "      <th>egg</th>\n",
       "      <th>bracelet</th>\n",
       "      <th>star</th>\n",
       "      <th>bowl</th>\n",
       "      <th>mini</th>\n",
       "      <th>tea</th>\n",
       "      <th>garden</th>\n",
       "      <th>wall</th>\n",
       "      <th>ivory</th>\n",
       "      <th>cushion</th>\n",
       "      <th>frame</th>\n",
       "      <th>mirror</th>\n",
       "      <th>cream</th>\n",
       "      <th>...</th>\n",
       "      <th>travel</th>\n",
       "      <th>doilies</th>\n",
       "      <th>biscuit</th>\n",
       "      <th>regency</th>\n",
       "      <th>hen</th>\n",
       "      <th>jigsaw</th>\n",
       "      <th>rack</th>\n",
       "      <th>coaster</th>\n",
       "      <th>money</th>\n",
       "      <th>cottage</th>\n",
       "      <th>incense</th>\n",
       "      <th>crystal</th>\n",
       "      <th>medium</th>\n",
       "      <th>dish</th>\n",
       "      <th>image</th>\n",
       "      <th>picture</th>\n",
       "      <th>wooden</th>\n",
       "      <th>piece</th>\n",
       "      <th>bathroom</th>\n",
       "      <th>girl</th>\n",
       "      <th>fruit</th>\n",
       "      <th>childs</th>\n",
       "      <th>pan</th>\n",
       "      <th>food</th>\n",
       "      <th>orbit</th>\n",
       "      <th>alphabet</th>\n",
       "      <th>toadstool</th>\n",
       "      <th>time</th>\n",
       "      <th>milk</th>\n",
       "      <th>funky</th>\n",
       "      <th>tidy</th>\n",
       "      <th>plant</th>\n",
       "      <th>diner</th>\n",
       "      <th>house</th>\n",
       "      <th>square</th>\n",
       "      <th>craft</th>\n",
       "      <th>lace</th>\n",
       "      <th>jewel</th>\n",
       "      <th>wallet</th>\n",
       "      <th>point</th>\n",
       "    </tr>\n",
       "  </thead>\n",
       "  <tbody>\n",
       "    <tr>\n",
       "      <th>0</th>\n",
       "      <td>1</td>\n",
       "      <td>0</td>\n",
       "      <td>0</td>\n",
       "      <td>0</td>\n",
       "      <td>0</td>\n",
       "      <td>0</td>\n",
       "      <td>0</td>\n",
       "      <td>0</td>\n",
       "      <td>0</td>\n",
       "      <td>1</td>\n",
       "      <td>0</td>\n",
       "      <td>0</td>\n",
       "      <td>0</td>\n",
       "      <td>0</td>\n",
       "      <td>0</td>\n",
       "      <td>0</td>\n",
       "      <td>0</td>\n",
       "      <td>1</td>\n",
       "      <td>0</td>\n",
       "      <td>0</td>\n",
       "      <td>0</td>\n",
       "      <td>0</td>\n",
       "      <td>0</td>\n",
       "      <td>0</td>\n",
       "      <td>0</td>\n",
       "      <td>0</td>\n",
       "      <td>0</td>\n",
       "      <td>0</td>\n",
       "      <td>0</td>\n",
       "      <td>0</td>\n",
       "      <td>0</td>\n",
       "      <td>0</td>\n",
       "      <td>0</td>\n",
       "      <td>0</td>\n",
       "      <td>0</td>\n",
       "      <td>0</td>\n",
       "      <td>0</td>\n",
       "      <td>0</td>\n",
       "      <td>0</td>\n",
       "      <td>0</td>\n",
       "      <td>...</td>\n",
       "      <td>0</td>\n",
       "      <td>0</td>\n",
       "      <td>0</td>\n",
       "      <td>0</td>\n",
       "      <td>0</td>\n",
       "      <td>0</td>\n",
       "      <td>0</td>\n",
       "      <td>0</td>\n",
       "      <td>0</td>\n",
       "      <td>0</td>\n",
       "      <td>0</td>\n",
       "      <td>0</td>\n",
       "      <td>0</td>\n",
       "      <td>0</td>\n",
       "      <td>0</td>\n",
       "      <td>0</td>\n",
       "      <td>0</td>\n",
       "      <td>0</td>\n",
       "      <td>0</td>\n",
       "      <td>0</td>\n",
       "      <td>0</td>\n",
       "      <td>0</td>\n",
       "      <td>0</td>\n",
       "      <td>0</td>\n",
       "      <td>0</td>\n",
       "      <td>0</td>\n",
       "      <td>0</td>\n",
       "      <td>0</td>\n",
       "      <td>0</td>\n",
       "      <td>0</td>\n",
       "      <td>0</td>\n",
       "      <td>0</td>\n",
       "      <td>0</td>\n",
       "      <td>0</td>\n",
       "      <td>0</td>\n",
       "      <td>0</td>\n",
       "      <td>0</td>\n",
       "      <td>0</td>\n",
       "      <td>0</td>\n",
       "      <td>0</td>\n",
       "    </tr>\n",
       "    <tr>\n",
       "      <th>1</th>\n",
       "      <td>0</td>\n",
       "      <td>0</td>\n",
       "      <td>0</td>\n",
       "      <td>0</td>\n",
       "      <td>0</td>\n",
       "      <td>0</td>\n",
       "      <td>0</td>\n",
       "      <td>0</td>\n",
       "      <td>0</td>\n",
       "      <td>0</td>\n",
       "      <td>0</td>\n",
       "      <td>0</td>\n",
       "      <td>1</td>\n",
       "      <td>0</td>\n",
       "      <td>0</td>\n",
       "      <td>0</td>\n",
       "      <td>0</td>\n",
       "      <td>0</td>\n",
       "      <td>0</td>\n",
       "      <td>0</td>\n",
       "      <td>0</td>\n",
       "      <td>0</td>\n",
       "      <td>0</td>\n",
       "      <td>0</td>\n",
       "      <td>0</td>\n",
       "      <td>0</td>\n",
       "      <td>0</td>\n",
       "      <td>0</td>\n",
       "      <td>0</td>\n",
       "      <td>0</td>\n",
       "      <td>0</td>\n",
       "      <td>0</td>\n",
       "      <td>0</td>\n",
       "      <td>0</td>\n",
       "      <td>0</td>\n",
       "      <td>0</td>\n",
       "      <td>0</td>\n",
       "      <td>0</td>\n",
       "      <td>0</td>\n",
       "      <td>0</td>\n",
       "      <td>...</td>\n",
       "      <td>0</td>\n",
       "      <td>0</td>\n",
       "      <td>0</td>\n",
       "      <td>0</td>\n",
       "      <td>0</td>\n",
       "      <td>0</td>\n",
       "      <td>0</td>\n",
       "      <td>0</td>\n",
       "      <td>0</td>\n",
       "      <td>0</td>\n",
       "      <td>0</td>\n",
       "      <td>0</td>\n",
       "      <td>0</td>\n",
       "      <td>0</td>\n",
       "      <td>0</td>\n",
       "      <td>0</td>\n",
       "      <td>0</td>\n",
       "      <td>0</td>\n",
       "      <td>0</td>\n",
       "      <td>0</td>\n",
       "      <td>0</td>\n",
       "      <td>0</td>\n",
       "      <td>0</td>\n",
       "      <td>0</td>\n",
       "      <td>0</td>\n",
       "      <td>0</td>\n",
       "      <td>0</td>\n",
       "      <td>0</td>\n",
       "      <td>0</td>\n",
       "      <td>0</td>\n",
       "      <td>0</td>\n",
       "      <td>0</td>\n",
       "      <td>0</td>\n",
       "      <td>0</td>\n",
       "      <td>0</td>\n",
       "      <td>0</td>\n",
       "      <td>0</td>\n",
       "      <td>0</td>\n",
       "      <td>0</td>\n",
       "      <td>0</td>\n",
       "    </tr>\n",
       "    <tr>\n",
       "      <th>2</th>\n",
       "      <td>1</td>\n",
       "      <td>0</td>\n",
       "      <td>0</td>\n",
       "      <td>0</td>\n",
       "      <td>0</td>\n",
       "      <td>0</td>\n",
       "      <td>0</td>\n",
       "      <td>0</td>\n",
       "      <td>0</td>\n",
       "      <td>0</td>\n",
       "      <td>0</td>\n",
       "      <td>0</td>\n",
       "      <td>0</td>\n",
       "      <td>0</td>\n",
       "      <td>0</td>\n",
       "      <td>0</td>\n",
       "      <td>0</td>\n",
       "      <td>1</td>\n",
       "      <td>0</td>\n",
       "      <td>0</td>\n",
       "      <td>0</td>\n",
       "      <td>0</td>\n",
       "      <td>0</td>\n",
       "      <td>0</td>\n",
       "      <td>0</td>\n",
       "      <td>0</td>\n",
       "      <td>0</td>\n",
       "      <td>0</td>\n",
       "      <td>0</td>\n",
       "      <td>0</td>\n",
       "      <td>0</td>\n",
       "      <td>0</td>\n",
       "      <td>0</td>\n",
       "      <td>0</td>\n",
       "      <td>0</td>\n",
       "      <td>0</td>\n",
       "      <td>0</td>\n",
       "      <td>0</td>\n",
       "      <td>0</td>\n",
       "      <td>1</td>\n",
       "      <td>...</td>\n",
       "      <td>0</td>\n",
       "      <td>0</td>\n",
       "      <td>0</td>\n",
       "      <td>0</td>\n",
       "      <td>0</td>\n",
       "      <td>0</td>\n",
       "      <td>0</td>\n",
       "      <td>0</td>\n",
       "      <td>0</td>\n",
       "      <td>0</td>\n",
       "      <td>0</td>\n",
       "      <td>0</td>\n",
       "      <td>0</td>\n",
       "      <td>0</td>\n",
       "      <td>0</td>\n",
       "      <td>0</td>\n",
       "      <td>0</td>\n",
       "      <td>0</td>\n",
       "      <td>0</td>\n",
       "      <td>0</td>\n",
       "      <td>0</td>\n",
       "      <td>0</td>\n",
       "      <td>0</td>\n",
       "      <td>0</td>\n",
       "      <td>0</td>\n",
       "      <td>0</td>\n",
       "      <td>0</td>\n",
       "      <td>0</td>\n",
       "      <td>0</td>\n",
       "      <td>0</td>\n",
       "      <td>0</td>\n",
       "      <td>0</td>\n",
       "      <td>0</td>\n",
       "      <td>0</td>\n",
       "      <td>0</td>\n",
       "      <td>0</td>\n",
       "      <td>0</td>\n",
       "      <td>0</td>\n",
       "      <td>0</td>\n",
       "      <td>0</td>\n",
       "    </tr>\n",
       "    <tr>\n",
       "      <th>3</th>\n",
       "      <td>0</td>\n",
       "      <td>0</td>\n",
       "      <td>0</td>\n",
       "      <td>0</td>\n",
       "      <td>0</td>\n",
       "      <td>0</td>\n",
       "      <td>0</td>\n",
       "      <td>0</td>\n",
       "      <td>0</td>\n",
       "      <td>0</td>\n",
       "      <td>0</td>\n",
       "      <td>0</td>\n",
       "      <td>0</td>\n",
       "      <td>0</td>\n",
       "      <td>0</td>\n",
       "      <td>0</td>\n",
       "      <td>0</td>\n",
       "      <td>0</td>\n",
       "      <td>0</td>\n",
       "      <td>0</td>\n",
       "      <td>0</td>\n",
       "      <td>0</td>\n",
       "      <td>0</td>\n",
       "      <td>0</td>\n",
       "      <td>0</td>\n",
       "      <td>0</td>\n",
       "      <td>0</td>\n",
       "      <td>0</td>\n",
       "      <td>0</td>\n",
       "      <td>0</td>\n",
       "      <td>0</td>\n",
       "      <td>0</td>\n",
       "      <td>0</td>\n",
       "      <td>0</td>\n",
       "      <td>0</td>\n",
       "      <td>0</td>\n",
       "      <td>0</td>\n",
       "      <td>0</td>\n",
       "      <td>0</td>\n",
       "      <td>0</td>\n",
       "      <td>...</td>\n",
       "      <td>0</td>\n",
       "      <td>0</td>\n",
       "      <td>0</td>\n",
       "      <td>0</td>\n",
       "      <td>0</td>\n",
       "      <td>0</td>\n",
       "      <td>0</td>\n",
       "      <td>0</td>\n",
       "      <td>0</td>\n",
       "      <td>0</td>\n",
       "      <td>0</td>\n",
       "      <td>0</td>\n",
       "      <td>0</td>\n",
       "      <td>0</td>\n",
       "      <td>0</td>\n",
       "      <td>0</td>\n",
       "      <td>0</td>\n",
       "      <td>0</td>\n",
       "      <td>0</td>\n",
       "      <td>0</td>\n",
       "      <td>0</td>\n",
       "      <td>0</td>\n",
       "      <td>0</td>\n",
       "      <td>0</td>\n",
       "      <td>0</td>\n",
       "      <td>0</td>\n",
       "      <td>0</td>\n",
       "      <td>0</td>\n",
       "      <td>0</td>\n",
       "      <td>0</td>\n",
       "      <td>0</td>\n",
       "      <td>0</td>\n",
       "      <td>0</td>\n",
       "      <td>0</td>\n",
       "      <td>0</td>\n",
       "      <td>0</td>\n",
       "      <td>0</td>\n",
       "      <td>0</td>\n",
       "      <td>0</td>\n",
       "      <td>0</td>\n",
       "    </tr>\n",
       "    <tr>\n",
       "      <th>4</th>\n",
       "      <td>1</td>\n",
       "      <td>0</td>\n",
       "      <td>0</td>\n",
       "      <td>0</td>\n",
       "      <td>0</td>\n",
       "      <td>0</td>\n",
       "      <td>0</td>\n",
       "      <td>0</td>\n",
       "      <td>0</td>\n",
       "      <td>0</td>\n",
       "      <td>0</td>\n",
       "      <td>0</td>\n",
       "      <td>0</td>\n",
       "      <td>0</td>\n",
       "      <td>0</td>\n",
       "      <td>0</td>\n",
       "      <td>0</td>\n",
       "      <td>1</td>\n",
       "      <td>0</td>\n",
       "      <td>0</td>\n",
       "      <td>0</td>\n",
       "      <td>0</td>\n",
       "      <td>0</td>\n",
       "      <td>0</td>\n",
       "      <td>0</td>\n",
       "      <td>0</td>\n",
       "      <td>0</td>\n",
       "      <td>0</td>\n",
       "      <td>0</td>\n",
       "      <td>0</td>\n",
       "      <td>0</td>\n",
       "      <td>0</td>\n",
       "      <td>0</td>\n",
       "      <td>0</td>\n",
       "      <td>0</td>\n",
       "      <td>0</td>\n",
       "      <td>0</td>\n",
       "      <td>0</td>\n",
       "      <td>0</td>\n",
       "      <td>0</td>\n",
       "      <td>...</td>\n",
       "      <td>0</td>\n",
       "      <td>0</td>\n",
       "      <td>0</td>\n",
       "      <td>0</td>\n",
       "      <td>0</td>\n",
       "      <td>0</td>\n",
       "      <td>0</td>\n",
       "      <td>0</td>\n",
       "      <td>0</td>\n",
       "      <td>0</td>\n",
       "      <td>0</td>\n",
       "      <td>0</td>\n",
       "      <td>0</td>\n",
       "      <td>0</td>\n",
       "      <td>0</td>\n",
       "      <td>0</td>\n",
       "      <td>0</td>\n",
       "      <td>0</td>\n",
       "      <td>0</td>\n",
       "      <td>0</td>\n",
       "      <td>0</td>\n",
       "      <td>0</td>\n",
       "      <td>0</td>\n",
       "      <td>0</td>\n",
       "      <td>0</td>\n",
       "      <td>0</td>\n",
       "      <td>0</td>\n",
       "      <td>0</td>\n",
       "      <td>0</td>\n",
       "      <td>0</td>\n",
       "      <td>0</td>\n",
       "      <td>0</td>\n",
       "      <td>0</td>\n",
       "      <td>0</td>\n",
       "      <td>0</td>\n",
       "      <td>0</td>\n",
       "      <td>0</td>\n",
       "      <td>0</td>\n",
       "      <td>0</td>\n",
       "      <td>0</td>\n",
       "    </tr>\n",
       "  </tbody>\n",
       "</table>\n",
       "<p>5 rows × 193 columns</p>\n",
       "</div>"
      ],
      "text/plain": [
       "   heart  vintage  set  bag  box  ...  craft  lace  jewel  wallet  point\n",
       "0      1        0    0    0    0  ...      0     0      0       0      0\n",
       "1      0        0    0    0    0  ...      0     0      0       0      0\n",
       "2      1        0    0    0    0  ...      0     0      0       0      0\n",
       "3      0        0    0    0    0  ...      0     0      0       0      0\n",
       "4      1        0    0    0    0  ...      0     0      0       0      0\n",
       "\n",
       "[5 rows x 193 columns]"
      ]
     },
     "execution_count": 56,
     "metadata": {
      "tags": []
     },
     "output_type": "execute_result"
    }
   ],
   "source": [
    "unique_products = df_cleaned['Description'].unique()\n",
    "X = pd.DataFrame()\n",
    "for key, occurence in list_products:\n",
    "    X.loc[:, key] = list(map(lambda x:int(key.upper() in x), unique_products))\n",
    "print(X.shape)\n",
    "X.head()"
   ]
  },
  {
   "cell_type": "markdown",
   "metadata": {
    "colab_type": "text",
    "id": "k-TjXo2FOjw8"
   },
   "source": [
    "## 3.6) Range of UnitPrice feature\n",
    "We want to add new feature: how expensive is one unit of our stock. We want to make several features: price in regions: $[0,1], [1,2], [2,3], [3,5], [5,10], [10,\\infty)$\n",
    "\n",
    "***Note***: it can spend some time, try on small ammount of data first\n"
   ]
  },
  {
   "cell_type": "code",
   "execution_count": 57,
   "metadata": {
    "colab": {
     "base_uri": "https://localhost:8080/",
     "height": 255
    },
    "colab_type": "code",
    "id": "bQ0FKmirte49",
    "outputId": "246e326f-dba0-48c6-d7d5-2bc0ab490b68"
   },
   "outputs": [
    {
     "name": "stdout",
     "output_type": "stream",
     "text": [
      "      heart  vintage  set  bag  box  ...  1<.<2  2<.<3  3<.<5  5<.<10  .>10\n",
      "0         1        0    0    0    0  ...      0      0      0       0     0\n",
      "1         0        0    0    0    0  ...      0      0      0       0     0\n",
      "2         1        0    0    0    0  ...      0      0      0       0     0\n",
      "3         0        0    0    0    0  ...      0      0      0       0     0\n",
      "4         1        0    0    0    0  ...      0      0      0       0     0\n",
      "...     ...      ...  ...  ...  ...  ...    ...    ...    ...     ...   ...\n",
      "3873      0        0    0    0    0  ...      0      0      0       0     0\n",
      "3874      0        0    0    0    0  ...      0      0      0       0     0\n",
      "3875      0        0    0    0    0  ...      0      0      0       0     0\n",
      "3876      1        0    0    0    0  ...      0      0      0       0     0\n",
      "3877      0        0    0    0    0  ...      0      0      0       0     0\n",
      "\n",
      "[3878 rows x 199 columns]\n"
     ]
    }
   ],
   "source": [
    "# add price ranges\n",
    "threshold = [0, 1, 2, 3, 5, 10]\n",
    "label_col = []\n",
    "for i in range(len(threshold)):\n",
    "    if i == len(threshold)-1:\n",
    "        col = '.>{}'.format(threshold[i])\n",
    "    else:\n",
    "        col = '{}<.<{}'.format(threshold[i],threshold[i+1])\n",
    "    label_col.append(col)\n",
    "    X.loc[:, col] = 0\n",
    "\n",
    "print(X)"
   ]
  },
  {
   "cell_type": "code",
   "execution_count": 58,
   "metadata": {
    "colab": {
     "base_uri": "https://localhost:8080/",
     "height": 270
    },
    "colab_type": "code",
    "id": "46LEjP3Qthkt",
    "outputId": "6e3a3f16-f611-4cee-8f68-fca1c6c4c13b"
   },
   "outputs": [
    {
     "data": {
      "text/html": [
       "<div>\n",
       "<style scoped>\n",
       "    .dataframe tbody tr th:only-of-type {\n",
       "        vertical-align: middle;\n",
       "    }\n",
       "\n",
       "    .dataframe tbody tr th {\n",
       "        vertical-align: top;\n",
       "    }\n",
       "\n",
       "    .dataframe thead th {\n",
       "        text-align: right;\n",
       "    }\n",
       "</style>\n",
       "<table border=\"1\" class=\"dataframe\">\n",
       "  <thead>\n",
       "    <tr style=\"text-align: right;\">\n",
       "      <th></th>\n",
       "      <th>heart</th>\n",
       "      <th>vintage</th>\n",
       "      <th>set</th>\n",
       "      <th>bag</th>\n",
       "      <th>box</th>\n",
       "      <th>glass</th>\n",
       "      <th>christmas</th>\n",
       "      <th>design</th>\n",
       "      <th>candle</th>\n",
       "      <th>holder</th>\n",
       "      <th>flower</th>\n",
       "      <th>decorative</th>\n",
       "      <th>metal</th>\n",
       "      <th>retrospot</th>\n",
       "      <th>card</th>\n",
       "      <th>necklac</th>\n",
       "      <th>paper</th>\n",
       "      <th>art</th>\n",
       "      <th>silver</th>\n",
       "      <th>cake</th>\n",
       "      <th>polkadot</th>\n",
       "      <th>cover</th>\n",
       "      <th>mug</th>\n",
       "      <th>tin</th>\n",
       "      <th>wrap</th>\n",
       "      <th>sign</th>\n",
       "      <th>pack</th>\n",
       "      <th>egg</th>\n",
       "      <th>bracelet</th>\n",
       "      <th>star</th>\n",
       "      <th>bowl</th>\n",
       "      <th>mini</th>\n",
       "      <th>tea</th>\n",
       "      <th>garden</th>\n",
       "      <th>wall</th>\n",
       "      <th>ivory</th>\n",
       "      <th>cushion</th>\n",
       "      <th>frame</th>\n",
       "      <th>mirror</th>\n",
       "      <th>cream</th>\n",
       "      <th>...</th>\n",
       "      <th>rack</th>\n",
       "      <th>coaster</th>\n",
       "      <th>money</th>\n",
       "      <th>cottage</th>\n",
       "      <th>incense</th>\n",
       "      <th>crystal</th>\n",
       "      <th>medium</th>\n",
       "      <th>dish</th>\n",
       "      <th>image</th>\n",
       "      <th>picture</th>\n",
       "      <th>wooden</th>\n",
       "      <th>piece</th>\n",
       "      <th>bathroom</th>\n",
       "      <th>girl</th>\n",
       "      <th>fruit</th>\n",
       "      <th>childs</th>\n",
       "      <th>pan</th>\n",
       "      <th>food</th>\n",
       "      <th>orbit</th>\n",
       "      <th>alphabet</th>\n",
       "      <th>toadstool</th>\n",
       "      <th>time</th>\n",
       "      <th>milk</th>\n",
       "      <th>funky</th>\n",
       "      <th>tidy</th>\n",
       "      <th>plant</th>\n",
       "      <th>diner</th>\n",
       "      <th>house</th>\n",
       "      <th>square</th>\n",
       "      <th>craft</th>\n",
       "      <th>lace</th>\n",
       "      <th>jewel</th>\n",
       "      <th>wallet</th>\n",
       "      <th>point</th>\n",
       "      <th>0&lt;.&lt;1</th>\n",
       "      <th>1&lt;.&lt;2</th>\n",
       "      <th>2&lt;.&lt;3</th>\n",
       "      <th>3&lt;.&lt;5</th>\n",
       "      <th>5&lt;.&lt;10</th>\n",
       "      <th>.&gt;10</th>\n",
       "    </tr>\n",
       "  </thead>\n",
       "  <tbody>\n",
       "    <tr>\n",
       "      <th>0</th>\n",
       "      <td>1</td>\n",
       "      <td>0</td>\n",
       "      <td>0</td>\n",
       "      <td>0</td>\n",
       "      <td>0</td>\n",
       "      <td>0</td>\n",
       "      <td>0</td>\n",
       "      <td>0</td>\n",
       "      <td>0</td>\n",
       "      <td>1</td>\n",
       "      <td>0</td>\n",
       "      <td>0</td>\n",
       "      <td>0</td>\n",
       "      <td>0</td>\n",
       "      <td>0</td>\n",
       "      <td>0</td>\n",
       "      <td>0</td>\n",
       "      <td>1</td>\n",
       "      <td>0</td>\n",
       "      <td>0</td>\n",
       "      <td>0</td>\n",
       "      <td>0</td>\n",
       "      <td>0</td>\n",
       "      <td>0</td>\n",
       "      <td>0</td>\n",
       "      <td>0</td>\n",
       "      <td>0</td>\n",
       "      <td>0</td>\n",
       "      <td>0</td>\n",
       "      <td>0</td>\n",
       "      <td>0</td>\n",
       "      <td>0</td>\n",
       "      <td>0</td>\n",
       "      <td>0</td>\n",
       "      <td>0</td>\n",
       "      <td>0</td>\n",
       "      <td>0</td>\n",
       "      <td>0</td>\n",
       "      <td>0</td>\n",
       "      <td>0</td>\n",
       "      <td>...</td>\n",
       "      <td>0</td>\n",
       "      <td>0</td>\n",
       "      <td>0</td>\n",
       "      <td>0</td>\n",
       "      <td>0</td>\n",
       "      <td>0</td>\n",
       "      <td>0</td>\n",
       "      <td>0</td>\n",
       "      <td>0</td>\n",
       "      <td>0</td>\n",
       "      <td>0</td>\n",
       "      <td>0</td>\n",
       "      <td>0</td>\n",
       "      <td>0</td>\n",
       "      <td>0</td>\n",
       "      <td>0</td>\n",
       "      <td>0</td>\n",
       "      <td>0</td>\n",
       "      <td>0</td>\n",
       "      <td>0</td>\n",
       "      <td>0</td>\n",
       "      <td>0</td>\n",
       "      <td>0</td>\n",
       "      <td>0</td>\n",
       "      <td>0</td>\n",
       "      <td>0</td>\n",
       "      <td>0</td>\n",
       "      <td>0</td>\n",
       "      <td>0</td>\n",
       "      <td>0</td>\n",
       "      <td>0</td>\n",
       "      <td>0</td>\n",
       "      <td>0</td>\n",
       "      <td>0</td>\n",
       "      <td>0</td>\n",
       "      <td>0</td>\n",
       "      <td>1</td>\n",
       "      <td>0</td>\n",
       "      <td>0</td>\n",
       "      <td>0</td>\n",
       "    </tr>\n",
       "    <tr>\n",
       "      <th>1</th>\n",
       "      <td>0</td>\n",
       "      <td>0</td>\n",
       "      <td>0</td>\n",
       "      <td>0</td>\n",
       "      <td>0</td>\n",
       "      <td>0</td>\n",
       "      <td>0</td>\n",
       "      <td>0</td>\n",
       "      <td>0</td>\n",
       "      <td>0</td>\n",
       "      <td>0</td>\n",
       "      <td>0</td>\n",
       "      <td>1</td>\n",
       "      <td>0</td>\n",
       "      <td>0</td>\n",
       "      <td>0</td>\n",
       "      <td>0</td>\n",
       "      <td>0</td>\n",
       "      <td>0</td>\n",
       "      <td>0</td>\n",
       "      <td>0</td>\n",
       "      <td>0</td>\n",
       "      <td>0</td>\n",
       "      <td>0</td>\n",
       "      <td>0</td>\n",
       "      <td>0</td>\n",
       "      <td>0</td>\n",
       "      <td>0</td>\n",
       "      <td>0</td>\n",
       "      <td>0</td>\n",
       "      <td>0</td>\n",
       "      <td>0</td>\n",
       "      <td>0</td>\n",
       "      <td>0</td>\n",
       "      <td>0</td>\n",
       "      <td>0</td>\n",
       "      <td>0</td>\n",
       "      <td>0</td>\n",
       "      <td>0</td>\n",
       "      <td>0</td>\n",
       "      <td>...</td>\n",
       "      <td>0</td>\n",
       "      <td>0</td>\n",
       "      <td>0</td>\n",
       "      <td>0</td>\n",
       "      <td>0</td>\n",
       "      <td>0</td>\n",
       "      <td>0</td>\n",
       "      <td>0</td>\n",
       "      <td>0</td>\n",
       "      <td>0</td>\n",
       "      <td>0</td>\n",
       "      <td>0</td>\n",
       "      <td>0</td>\n",
       "      <td>0</td>\n",
       "      <td>0</td>\n",
       "      <td>0</td>\n",
       "      <td>0</td>\n",
       "      <td>0</td>\n",
       "      <td>0</td>\n",
       "      <td>0</td>\n",
       "      <td>0</td>\n",
       "      <td>0</td>\n",
       "      <td>0</td>\n",
       "      <td>0</td>\n",
       "      <td>0</td>\n",
       "      <td>0</td>\n",
       "      <td>0</td>\n",
       "      <td>0</td>\n",
       "      <td>0</td>\n",
       "      <td>0</td>\n",
       "      <td>0</td>\n",
       "      <td>0</td>\n",
       "      <td>0</td>\n",
       "      <td>0</td>\n",
       "      <td>0</td>\n",
       "      <td>0</td>\n",
       "      <td>0</td>\n",
       "      <td>1</td>\n",
       "      <td>0</td>\n",
       "      <td>0</td>\n",
       "    </tr>\n",
       "    <tr>\n",
       "      <th>2</th>\n",
       "      <td>1</td>\n",
       "      <td>0</td>\n",
       "      <td>0</td>\n",
       "      <td>0</td>\n",
       "      <td>0</td>\n",
       "      <td>0</td>\n",
       "      <td>0</td>\n",
       "      <td>0</td>\n",
       "      <td>0</td>\n",
       "      <td>0</td>\n",
       "      <td>0</td>\n",
       "      <td>0</td>\n",
       "      <td>0</td>\n",
       "      <td>0</td>\n",
       "      <td>0</td>\n",
       "      <td>0</td>\n",
       "      <td>0</td>\n",
       "      <td>1</td>\n",
       "      <td>0</td>\n",
       "      <td>0</td>\n",
       "      <td>0</td>\n",
       "      <td>0</td>\n",
       "      <td>0</td>\n",
       "      <td>0</td>\n",
       "      <td>0</td>\n",
       "      <td>0</td>\n",
       "      <td>0</td>\n",
       "      <td>0</td>\n",
       "      <td>0</td>\n",
       "      <td>0</td>\n",
       "      <td>0</td>\n",
       "      <td>0</td>\n",
       "      <td>0</td>\n",
       "      <td>0</td>\n",
       "      <td>0</td>\n",
       "      <td>0</td>\n",
       "      <td>0</td>\n",
       "      <td>0</td>\n",
       "      <td>0</td>\n",
       "      <td>1</td>\n",
       "      <td>...</td>\n",
       "      <td>0</td>\n",
       "      <td>0</td>\n",
       "      <td>0</td>\n",
       "      <td>0</td>\n",
       "      <td>0</td>\n",
       "      <td>0</td>\n",
       "      <td>0</td>\n",
       "      <td>0</td>\n",
       "      <td>0</td>\n",
       "      <td>0</td>\n",
       "      <td>0</td>\n",
       "      <td>0</td>\n",
       "      <td>0</td>\n",
       "      <td>0</td>\n",
       "      <td>0</td>\n",
       "      <td>0</td>\n",
       "      <td>0</td>\n",
       "      <td>0</td>\n",
       "      <td>0</td>\n",
       "      <td>0</td>\n",
       "      <td>0</td>\n",
       "      <td>0</td>\n",
       "      <td>0</td>\n",
       "      <td>0</td>\n",
       "      <td>0</td>\n",
       "      <td>0</td>\n",
       "      <td>0</td>\n",
       "      <td>0</td>\n",
       "      <td>0</td>\n",
       "      <td>0</td>\n",
       "      <td>0</td>\n",
       "      <td>0</td>\n",
       "      <td>0</td>\n",
       "      <td>0</td>\n",
       "      <td>0</td>\n",
       "      <td>0</td>\n",
       "      <td>0</td>\n",
       "      <td>1</td>\n",
       "      <td>0</td>\n",
       "      <td>0</td>\n",
       "    </tr>\n",
       "    <tr>\n",
       "      <th>3</th>\n",
       "      <td>0</td>\n",
       "      <td>0</td>\n",
       "      <td>0</td>\n",
       "      <td>0</td>\n",
       "      <td>0</td>\n",
       "      <td>0</td>\n",
       "      <td>0</td>\n",
       "      <td>0</td>\n",
       "      <td>0</td>\n",
       "      <td>0</td>\n",
       "      <td>0</td>\n",
       "      <td>0</td>\n",
       "      <td>0</td>\n",
       "      <td>0</td>\n",
       "      <td>0</td>\n",
       "      <td>0</td>\n",
       "      <td>0</td>\n",
       "      <td>0</td>\n",
       "      <td>0</td>\n",
       "      <td>0</td>\n",
       "      <td>0</td>\n",
       "      <td>0</td>\n",
       "      <td>0</td>\n",
       "      <td>0</td>\n",
       "      <td>0</td>\n",
       "      <td>0</td>\n",
       "      <td>0</td>\n",
       "      <td>0</td>\n",
       "      <td>0</td>\n",
       "      <td>0</td>\n",
       "      <td>0</td>\n",
       "      <td>0</td>\n",
       "      <td>0</td>\n",
       "      <td>0</td>\n",
       "      <td>0</td>\n",
       "      <td>0</td>\n",
       "      <td>0</td>\n",
       "      <td>0</td>\n",
       "      <td>0</td>\n",
       "      <td>0</td>\n",
       "      <td>...</td>\n",
       "      <td>0</td>\n",
       "      <td>0</td>\n",
       "      <td>0</td>\n",
       "      <td>0</td>\n",
       "      <td>0</td>\n",
       "      <td>0</td>\n",
       "      <td>0</td>\n",
       "      <td>0</td>\n",
       "      <td>0</td>\n",
       "      <td>0</td>\n",
       "      <td>0</td>\n",
       "      <td>0</td>\n",
       "      <td>0</td>\n",
       "      <td>0</td>\n",
       "      <td>0</td>\n",
       "      <td>0</td>\n",
       "      <td>0</td>\n",
       "      <td>0</td>\n",
       "      <td>0</td>\n",
       "      <td>0</td>\n",
       "      <td>0</td>\n",
       "      <td>0</td>\n",
       "      <td>0</td>\n",
       "      <td>0</td>\n",
       "      <td>0</td>\n",
       "      <td>0</td>\n",
       "      <td>0</td>\n",
       "      <td>0</td>\n",
       "      <td>0</td>\n",
       "      <td>0</td>\n",
       "      <td>0</td>\n",
       "      <td>0</td>\n",
       "      <td>0</td>\n",
       "      <td>0</td>\n",
       "      <td>0</td>\n",
       "      <td>0</td>\n",
       "      <td>0</td>\n",
       "      <td>1</td>\n",
       "      <td>0</td>\n",
       "      <td>0</td>\n",
       "    </tr>\n",
       "    <tr>\n",
       "      <th>4</th>\n",
       "      <td>1</td>\n",
       "      <td>0</td>\n",
       "      <td>0</td>\n",
       "      <td>0</td>\n",
       "      <td>0</td>\n",
       "      <td>0</td>\n",
       "      <td>0</td>\n",
       "      <td>0</td>\n",
       "      <td>0</td>\n",
       "      <td>0</td>\n",
       "      <td>0</td>\n",
       "      <td>0</td>\n",
       "      <td>0</td>\n",
       "      <td>0</td>\n",
       "      <td>0</td>\n",
       "      <td>0</td>\n",
       "      <td>0</td>\n",
       "      <td>1</td>\n",
       "      <td>0</td>\n",
       "      <td>0</td>\n",
       "      <td>0</td>\n",
       "      <td>0</td>\n",
       "      <td>0</td>\n",
       "      <td>0</td>\n",
       "      <td>0</td>\n",
       "      <td>0</td>\n",
       "      <td>0</td>\n",
       "      <td>0</td>\n",
       "      <td>0</td>\n",
       "      <td>0</td>\n",
       "      <td>0</td>\n",
       "      <td>0</td>\n",
       "      <td>0</td>\n",
       "      <td>0</td>\n",
       "      <td>0</td>\n",
       "      <td>0</td>\n",
       "      <td>0</td>\n",
       "      <td>0</td>\n",
       "      <td>0</td>\n",
       "      <td>0</td>\n",
       "      <td>...</td>\n",
       "      <td>0</td>\n",
       "      <td>0</td>\n",
       "      <td>0</td>\n",
       "      <td>0</td>\n",
       "      <td>0</td>\n",
       "      <td>0</td>\n",
       "      <td>0</td>\n",
       "      <td>0</td>\n",
       "      <td>0</td>\n",
       "      <td>0</td>\n",
       "      <td>0</td>\n",
       "      <td>0</td>\n",
       "      <td>0</td>\n",
       "      <td>0</td>\n",
       "      <td>0</td>\n",
       "      <td>0</td>\n",
       "      <td>0</td>\n",
       "      <td>0</td>\n",
       "      <td>0</td>\n",
       "      <td>0</td>\n",
       "      <td>0</td>\n",
       "      <td>0</td>\n",
       "      <td>0</td>\n",
       "      <td>0</td>\n",
       "      <td>0</td>\n",
       "      <td>0</td>\n",
       "      <td>0</td>\n",
       "      <td>0</td>\n",
       "      <td>0</td>\n",
       "      <td>0</td>\n",
       "      <td>0</td>\n",
       "      <td>0</td>\n",
       "      <td>0</td>\n",
       "      <td>0</td>\n",
       "      <td>0</td>\n",
       "      <td>0</td>\n",
       "      <td>0</td>\n",
       "      <td>1</td>\n",
       "      <td>0</td>\n",
       "      <td>0</td>\n",
       "    </tr>\n",
       "  </tbody>\n",
       "</table>\n",
       "<p>5 rows × 199 columns</p>\n",
       "</div>"
      ],
      "text/plain": [
       "   heart  vintage  set  bag  box  ...  1<.<2  2<.<3  3<.<5  5<.<10  .>10\n",
       "0      1        0    0    0    0  ...      0      1      0       0     0\n",
       "1      0        0    0    0    0  ...      0      0      1       0     0\n",
       "2      1        0    0    0    0  ...      0      0      1       0     0\n",
       "3      0        0    0    0    0  ...      0      0      1       0     0\n",
       "4      1        0    0    0    0  ...      0      0      1       0     0\n",
       "\n",
       "[5 rows x 199 columns]"
      ]
     },
     "execution_count": 58,
     "metadata": {
      "tags": []
     },
     "output_type": "execute_result"
    }
   ],
   "source": [
    "## Time taking cell\n",
    "for i, prod in enumerate(unique_products):\n",
    "    price = df_cleaned[ df_cleaned['Description'] == prod]['UnitPrice'].mean()\n",
    "    j = 0\n",
    "    while price > threshold[j]:\n",
    "        j+=1\n",
    "        if j == len(threshold): break\n",
    "    X.loc[i, label_col[j-1]] = 1\n",
    "\n",
    "X.head()"
   ]
  },
  {
   "cell_type": "markdown",
   "metadata": {
    "colab_type": "text",
    "id": "Xd-hvT6WP8fb"
   },
   "source": [
    "## 3.7) Number of products for each price range\n",
    "* Showing the number of products per price range."
   ]
  },
  {
   "cell_type": "code",
   "execution_count": 62,
   "metadata": {
    "colab": {
     "base_uri": "https://localhost:8080/",
     "height": 153
    },
    "colab_type": "code",
    "id": "csOehKBOt01H",
    "outputId": "b54769f5-ff7b-48d6-c03f-603b708550ba"
   },
   "outputs": [
    {
     "name": "stdout",
     "output_type": "stream",
     "text": [
      "Price Range no. of products      \n",
      "--------------------\n",
      "0<.<1       964                 \n",
      "1<.<2       1009                \n",
      "2<.<3       673                 \n",
      "3<.<5       606                 \n",
      "5<.<10      470                 \n",
      ".>10        156                 \n"
     ]
    }
   ],
   "source": [
    "# numbers of products in different ranges\n",
    "# in fact we use the number of products in different ranges to choose the appropriate ranges\n",
    "print(\"{:<8} {:<20} \\n\".format('Price Range', 'no. of products') + 20*'-')\n",
    "for i in range(len(threshold)):\n",
    "    if i == len(threshold)-1:\n",
    "        col = '.>{}'.format(threshold[i])\n",
    "    else:\n",
    "        col = '{}<.<{}'.format(threshold[i],threshold[i+1])    \n",
    "    print(\"{:<10}  {:<20}\".format(col, X.loc[:, col].sum()))"
   ]
  },
  {
   "cell_type": "markdown",
   "metadata": {
    "colab_type": "text",
    "id": "J10hsEkmQE6t"
   },
   "source": [
    "## 3.8) Creating clusters of products\n",
    "\n",
    "In this section, I grouped the products into different classes. \n",
    "\n",
    "In the case of matrices with binary encoding, the most suitable metric for the calculation of distances is the <a href='https://en.wikipedia.org/wiki/Hamming_distance'>Hamming distance. </a>\n",
    "\n",
    "Here I simply use Euclidean distance with kmeans. To choose approximately the number of clusters that best describes the data, I used the silhouette score:"
   ]
  },
  {
   "cell_type": "code",
   "execution_count": 63,
   "metadata": {
    "colab": {
     "base_uri": "https://localhost:8080/",
     "height": 719
    },
    "colab_type": "code",
    "id": "hftuaw5buT43",
    "outputId": "b1ef25b1-cec1-448f-a90b-4c2ce42a0d52"
   },
   "outputs": [
    {
     "name": "stdout",
     "output_type": "stream",
     "text": [
      "For n_clusters = 3 The average silhouette_score is : 0.10071681758064248\n",
      "For n_clusters = 4 The average silhouette_score is : 0.12609893747265383\n",
      "For n_clusters = 5 The average silhouette_score is : 0.14631355248870398\n",
      "For n_clusters = 6 The average silhouette_score is : 0.14524437780972266\n",
      "For n_clusters = 7 The average silhouette_score is : 0.14712804519540215\n",
      "For n_clusters = 8 The average silhouette_score is : 0.1451709532879712\n",
      "For n_clusters = 9 The average silhouette_score is : 0.14973532907179726\n",
      "For n_clusters = 10 The average silhouette_score is : 0.12975100308547693\n",
      "For n_clusters = 11 The average silhouette_score is : 0.14140837256880853\n",
      "For n_clusters = 12 The average silhouette_score is : 0.12803043768910324\n",
      "For n_clusters = 13 The average silhouette_score is : 0.13844702981846604\n",
      "For n_clusters = 14 The average silhouette_score is : 0.14664327560463708\n"
     ]
    },
    {
     "data": {
      "image/png": "[encoded data removed]",
      "text/plain": [
       "<Figure size 432x288 with 1 Axes>"
      ]
     },
     "metadata": {
      "needs_background": "light",
      "tags": []
     },
     "output_type": "display_data"
    },
    {
     "data": {
      "image/png": "[encoded data removed]",
      "text/plain": [
       "<Figure size 432x288 with 1 Axes>"
      ]
     },
     "metadata": {
      "needs_background": "light",
      "tags": []
     },
     "output_type": "display_data"
    }
   ],
   "source": [
    "from sklearn.cluster import KMeans\n",
    "from sklearn.metrics import silhouette_score\n",
    "import numpy as np\n",
    "\n",
    "matrix = X.values\n",
    "Silhouettes = []\n",
    "MinClusterSizes = []\n",
    "N=[]\n",
    "for n_clusters in range(3,15):\n",
    "    N.append(n_clusters)\n",
    "    kmeans = KMeans(init='k-means++', n_clusters = n_clusters, n_init=30)\n",
    "    kmeans.fit(matrix)\n",
    "    clusters = kmeans.predict(matrix)\n",
    "    silhouette_avg = silhouette_score(matrix, clusters)\n",
    "    Silhouettes.append(silhouette_avg)\n",
    "\n",
    "    labels_hist = {}\n",
    "    #kmeans.labels_ = [1,2,1...]\n",
    "    for l in kmeans.labels_:\n",
    "      if l not in labels_hist:\n",
    "        labels_hist[l] = 0\n",
    "      labels_hist[l] += 1\n",
    "    \n",
    "    MinClusterSizes.append(np.min(list(labels_hist.values())))\n",
    "    print(\"For n_clusters =\", n_clusters, \"The average silhouette_score is :\", silhouette_avg)\n",
    "\n",
    "plt.plot(N, Silhouettes, c='r')\n",
    "plt.show()\n",
    "plt.plot(N, MinClusterSizes, c='b')\n",
    "plt.show()\n",
    "n_clusters = 5"
   ]
  },
  {
   "cell_type": "markdown",
   "metadata": {
    "colab_type": "text",
    "id": "zxOha_XGwO7C"
   },
   "source": [
    "The scores obtained above can be considered equivalent since, depending on the run, scores of 0.1±0.05 will be obtained for all clusters with n_clusters > 3. On the other hand, beyond 5 clusters, some clusters contained very few elements. We therefore choose to separate the dataset into 5 clusters."
   ]
  },
  {
   "cell_type": "markdown",
   "metadata": {
    "colab_type": "text",
    "id": "QumWgCVPQOzj"
   },
   "source": [
    "## 3.9) Adjust the model\n",
    "K-means can converge to local minimum, and sometimes it is usefull to run it several times to get better silhouette score. Choose threshold equal to 0.145 (or more) and achieve score better than this number. Investigate nuber of elements in clusters."
   ]
  },
  {
   "cell_type": "code",
   "execution_count": 65,
   "metadata": {
    "colab": {
     "base_uri": "https://localhost:8080/",
     "height": 136
    },
    "colab_type": "code",
    "id": "tll_bs9HwXNj",
    "outputId": "a2c0680f-c679-476a-9e9f-14c9fdd05854"
   },
   "outputs": [
    {
     "name": "stdout",
     "output_type": "stream",
     "text": [
      "For n_clusters = 5 The average silhouette_score is : 0.1470081849157512\n"
     ]
    },
    {
     "data": {
      "text/plain": [
       "3    1009\n",
       "1     964\n",
       "4     673\n",
       "0     626\n",
       "2     606\n",
       "dtype: int64"
      ]
     },
     "execution_count": 65,
     "metadata": {
      "tags": []
     },
     "output_type": "execute_result"
    }
   ],
   "source": [
    "silhouette_avg = -1\n",
    "n_clusters = 5\n",
    "while silhouette_avg < 0.147:\n",
    "    kmeans = KMeans(init='k-means++', n_clusters = n_clusters, n_init=30)\n",
    "    kmeans.fit(matrix)\n",
    "    clusters = kmeans.predict(matrix)\n",
    "    silhouette_avg = silhouette_score(matrix, clusters)\n",
    "    print(\"For n_clusters =\", n_clusters, \"The average silhouette_score is :\", silhouette_avg)\n",
    "\n",
    "pd.Series(clusters).value_counts()"
   ]
  },
  {
   "cell_type": "code",
   "execution_count": 66,
   "metadata": {
    "colab": {
     "base_uri": "https://localhost:8080/",
     "height": 102
    },
    "colab_type": "code",
    "id": "etNnii8awevC",
    "outputId": "2fa4dd97-3d26-4485-864a-cd3da2e906f8"
   },
   "outputs": [
    {
     "name": "stdout",
     "output_type": "stream",
     "text": [
      "['5<.<10', '.>10', 'art', 'lace', 'necklac', 'wall', 'glass']\n",
      "['0<.<1', 'art', 'card', 'christmas', 'heart', 'wrap', 'set']\n",
      "['3<.<5', 'art', 'set', 'heart', 'pot', 'vintage', 'glass']\n",
      "['1<.<2', 'art', 'set', 'heart', 'sign', 'vintage', 'bag']\n",
      "['2<.<3', 'art', 'bag', 'set', 'sign', 'pot', 'box']\n"
     ]
    }
   ],
   "source": [
    "features = X.keys()\n",
    "for center in kmeans.cluster_centers_:\n",
    "   features_dict = {features[i]:center[i] for i in range(len(features))}\n",
    "   sorted_features = sorted(features_dict.items(), key =lambda kv:(-kv[1], kv[0]))\n",
    "   sorted_features = [f[0] for f in sorted_features]\n",
    "   print(sorted_features[:7])"
   ]
  },
  {
   "cell_type": "markdown",
   "metadata": {
    "colab_type": "text",
    "id": "0SI2cIhvQkYE"
   },
   "source": [
    "## 3.10) Save data\n",
    "Save variables `Matrix_X.csv` and `clusters` to your google drive"
   ]
  },
  {
   "cell_type": "code",
   "execution_count": 0,
   "metadata": {
    "colab": {},
    "colab_type": "code",
    "id": "nocTm6r9yRSC"
   },
   "outputs": [],
   "source": [
    "# from google.colab import drive\n",
    "# drive.mount('/content/drive')\n",
    "path = '/content/mydriv/My Drive/Customer_Segmentation/'\n",
    "X.to_csv(path+\"Matrix_X.csv\")\n",
    "(pd.Series(clusters)).to_csv(path + 'Matrix_X_clusters.csv', header = 'False')"
   ]
  },
  {
   "cell_type": "markdown",
   "metadata": {
    "colab_type": "text",
    "id": "dxymBWFoRZq8"
   },
   "source": [
    "# 4) Customer categories"
   ]
  },
  {
   "cell_type": "code",
   "execution_count": 0,
   "metadata": {
    "colab": {},
    "colab_type": "code",
    "id": "sAL--36Mye5y"
   },
   "outputs": [],
   "source": [
    "# import pandas as pd\n",
    "# import numpy as np\n",
    "\n",
    "# from google.colab import drive\n",
    "# drive.mount('/content/drive')\n",
    "path = '/content/mydriv/My Drive/Customer_Segmentation/'\n",
    "df_cleaned = pd.read_csv(path + 'data_cleaned.csv', encoding='latin', dtype={'CustomerID': str}) \n",
    "X = pd.read_csv(path + 'Matrix_X.csv') \n",
    "\n",
    "unique_products = df_cleaned['Description'].unique()\n",
    "clusters_tmp = pd.read_csv(path + 'Matrix_X_clusters.csv') \n",
    "clusters = clusters_tmp.to_numpy()[:,1]"
   ]
  },
  {
   "cell_type": "markdown",
   "metadata": {
    "colab_type": "text",
    "id": "nmJ4txXGRb_t"
   },
   "source": [
    "## 4.1) New feature\n",
    "\n",
    "Add new feature: `categ_product` into `df_cleaned` dataframe. Use information, obtained in previous part: `clusters` and `unique_procudts`.\n",
    "\n",
    "Use `map` and `zip` if you want."
   ]
  },
  {
   "cell_type": "code",
   "execution_count": 69,
   "metadata": {
    "colab": {
     "base_uri": "https://localhost:8080/",
     "height": 238
    },
    "colab_type": "code",
    "id": "Ea308Nfky2Mk",
    "outputId": "e0a8471f-f15d-4ed5-df36-18a8ed067705"
   },
   "outputs": [
    {
     "name": "stdout",
     "output_type": "stream",
     "text": [
      "(3878,)\n",
      "(3878,)\n"
     ]
    },
    {
     "data": {
      "text/html": [
       "<div>\n",
       "<style scoped>\n",
       "    .dataframe tbody tr th:only-of-type {\n",
       "        vertical-align: middle;\n",
       "    }\n",
       "\n",
       "    .dataframe tbody tr th {\n",
       "        vertical-align: top;\n",
       "    }\n",
       "\n",
       "    .dataframe thead th {\n",
       "        text-align: right;\n",
       "    }\n",
       "</style>\n",
       "<table border=\"1\" class=\"dataframe\">\n",
       "  <thead>\n",
       "    <tr style=\"text-align: right;\">\n",
       "      <th></th>\n",
       "      <th>Unnamed: 0</th>\n",
       "      <th>Unnamed: 0.1</th>\n",
       "      <th>InvoiceNo</th>\n",
       "      <th>StockCode</th>\n",
       "      <th>Description</th>\n",
       "      <th>Quantity</th>\n",
       "      <th>InvoiceDate</th>\n",
       "      <th>UnitPrice</th>\n",
       "      <th>CustomerID</th>\n",
       "      <th>Country</th>\n",
       "      <th>QtyCancel</th>\n",
       "      <th>TotalPrice</th>\n",
       "      <th>categ_product</th>\n",
       "    </tr>\n",
       "  </thead>\n",
       "  <tbody>\n",
       "    <tr>\n",
       "      <th>0</th>\n",
       "      <td>0</td>\n",
       "      <td>0</td>\n",
       "      <td>536365</td>\n",
       "      <td>85123A</td>\n",
       "      <td>WHITE HANGING HEART T-LIGHT HOLDER</td>\n",
       "      <td>6</td>\n",
       "      <td>2010-12-01 08:26:00</td>\n",
       "      <td>2.55</td>\n",
       "      <td>17850</td>\n",
       "      <td>United Kingdom</td>\n",
       "      <td>0</td>\n",
       "      <td>15.30</td>\n",
       "      <td>1</td>\n",
       "    </tr>\n",
       "    <tr>\n",
       "      <th>1</th>\n",
       "      <td>1</td>\n",
       "      <td>1</td>\n",
       "      <td>536365</td>\n",
       "      <td>71053</td>\n",
       "      <td>WHITE METAL LANTERN</td>\n",
       "      <td>6</td>\n",
       "      <td>2010-12-01 08:26:00</td>\n",
       "      <td>3.39</td>\n",
       "      <td>17850</td>\n",
       "      <td>United Kingdom</td>\n",
       "      <td>0</td>\n",
       "      <td>20.34</td>\n",
       "      <td>3</td>\n",
       "    </tr>\n",
       "    <tr>\n",
       "      <th>2</th>\n",
       "      <td>2</td>\n",
       "      <td>2</td>\n",
       "      <td>536365</td>\n",
       "      <td>84406B</td>\n",
       "      <td>CREAM CUPID HEARTS COAT HANGER</td>\n",
       "      <td>8</td>\n",
       "      <td>2010-12-01 08:26:00</td>\n",
       "      <td>2.75</td>\n",
       "      <td>17850</td>\n",
       "      <td>United Kingdom</td>\n",
       "      <td>0</td>\n",
       "      <td>22.00</td>\n",
       "      <td>3</td>\n",
       "    </tr>\n",
       "    <tr>\n",
       "      <th>3</th>\n",
       "      <td>3</td>\n",
       "      <td>3</td>\n",
       "      <td>536365</td>\n",
       "      <td>84029G</td>\n",
       "      <td>KNITTED UNION FLAG HOT WATER BOTTLE</td>\n",
       "      <td>6</td>\n",
       "      <td>2010-12-01 08:26:00</td>\n",
       "      <td>3.39</td>\n",
       "      <td>17850</td>\n",
       "      <td>United Kingdom</td>\n",
       "      <td>0</td>\n",
       "      <td>20.34</td>\n",
       "      <td>3</td>\n",
       "    </tr>\n",
       "    <tr>\n",
       "      <th>4</th>\n",
       "      <td>4</td>\n",
       "      <td>4</td>\n",
       "      <td>536365</td>\n",
       "      <td>84029E</td>\n",
       "      <td>RED WOOLLY HOTTIE WHITE HEART.</td>\n",
       "      <td>6</td>\n",
       "      <td>2010-12-01 08:26:00</td>\n",
       "      <td>3.39</td>\n",
       "      <td>17850</td>\n",
       "      <td>United Kingdom</td>\n",
       "      <td>0</td>\n",
       "      <td>20.34</td>\n",
       "      <td>3</td>\n",
       "    </tr>\n",
       "  </tbody>\n",
       "</table>\n",
       "</div>"
      ],
      "text/plain": [
       "   Unnamed: 0  Unnamed: 0.1 InvoiceNo  ... QtyCancel TotalPrice  categ_product\n",
       "0           0             0    536365  ...         0      15.30              1\n",
       "1           1             1    536365  ...         0      20.34              3\n",
       "2           2             2    536365  ...         0      22.00              3\n",
       "3           3             3    536365  ...         0      20.34              3\n",
       "4           4             4    536365  ...         0      20.34              3\n",
       "\n",
       "[5 rows x 13 columns]"
      ]
     },
     "execution_count": 69,
     "metadata": {
      "tags": []
     },
     "output_type": "execute_result"
    }
   ],
   "source": [
    "print(unique_products.shape)\n",
    "print(clusters.shape)\n",
    "corresp = dict()\n",
    "for key, val in zip(unique_products, clusters):\n",
    "    corresp[key] = val \n",
    "\n",
    "df_cleaned['categ_product'] = df_cleaned.loc[:, 'Description'].map(corresp)\n",
    "df_cleaned.head(5)"
   ]
  },
  {
   "cell_type": "markdown",
   "metadata": {
    "colab_type": "text",
    "id": "99_ikHkZWmwW"
   },
   "source": [
    "## 4.2) Money spent for categories\n",
    "Add 5 new features with names `categ_0` to `categ_4` to `df_cleaned` dataset, which indicate the money spent on each product category."
   ]
  },
  {
   "cell_type": "code",
   "execution_count": 70,
   "metadata": {
    "colab": {
     "base_uri": "https://localhost:8080/",
     "height": 204
    },
    "colab_type": "code",
    "id": "EkQQfpxqy70b",
    "outputId": "0adb664e-1712-4c78-f086-3940349a0f0a"
   },
   "outputs": [
    {
     "data": {
      "text/html": [
       "<div>\n",
       "<style scoped>\n",
       "    .dataframe tbody tr th:only-of-type {\n",
       "        vertical-align: middle;\n",
       "    }\n",
       "\n",
       "    .dataframe tbody tr th {\n",
       "        vertical-align: top;\n",
       "    }\n",
       "\n",
       "    .dataframe thead th {\n",
       "        text-align: right;\n",
       "    }\n",
       "</style>\n",
       "<table border=\"1\" class=\"dataframe\">\n",
       "  <thead>\n",
       "    <tr style=\"text-align: right;\">\n",
       "      <th></th>\n",
       "      <th>InvoiceNo</th>\n",
       "      <th>Description</th>\n",
       "      <th>categ_product</th>\n",
       "      <th>categ_0</th>\n",
       "      <th>categ_1</th>\n",
       "      <th>categ_2</th>\n",
       "      <th>categ_3</th>\n",
       "      <th>categ_4</th>\n",
       "    </tr>\n",
       "  </thead>\n",
       "  <tbody>\n",
       "    <tr>\n",
       "      <th>0</th>\n",
       "      <td>536365</td>\n",
       "      <td>WHITE HANGING HEART T-LIGHT HOLDER</td>\n",
       "      <td>1</td>\n",
       "      <td>0.0</td>\n",
       "      <td>15.3</td>\n",
       "      <td>0.0</td>\n",
       "      <td>0.00</td>\n",
       "      <td>0.0</td>\n",
       "    </tr>\n",
       "    <tr>\n",
       "      <th>1</th>\n",
       "      <td>536365</td>\n",
       "      <td>WHITE METAL LANTERN</td>\n",
       "      <td>3</td>\n",
       "      <td>0.0</td>\n",
       "      <td>0.0</td>\n",
       "      <td>0.0</td>\n",
       "      <td>20.34</td>\n",
       "      <td>0.0</td>\n",
       "    </tr>\n",
       "    <tr>\n",
       "      <th>2</th>\n",
       "      <td>536365</td>\n",
       "      <td>CREAM CUPID HEARTS COAT HANGER</td>\n",
       "      <td>3</td>\n",
       "      <td>0.0</td>\n",
       "      <td>0.0</td>\n",
       "      <td>0.0</td>\n",
       "      <td>22.00</td>\n",
       "      <td>0.0</td>\n",
       "    </tr>\n",
       "    <tr>\n",
       "      <th>3</th>\n",
       "      <td>536365</td>\n",
       "      <td>KNITTED UNION FLAG HOT WATER BOTTLE</td>\n",
       "      <td>3</td>\n",
       "      <td>0.0</td>\n",
       "      <td>0.0</td>\n",
       "      <td>0.0</td>\n",
       "      <td>20.34</td>\n",
       "      <td>0.0</td>\n",
       "    </tr>\n",
       "    <tr>\n",
       "      <th>4</th>\n",
       "      <td>536365</td>\n",
       "      <td>RED WOOLLY HOTTIE WHITE HEART.</td>\n",
       "      <td>3</td>\n",
       "      <td>0.0</td>\n",
       "      <td>0.0</td>\n",
       "      <td>0.0</td>\n",
       "      <td>20.34</td>\n",
       "      <td>0.0</td>\n",
       "    </tr>\n",
       "  </tbody>\n",
       "</table>\n",
       "</div>"
      ],
      "text/plain": [
       "  InvoiceNo                          Description  ...  categ_3  categ_4\n",
       "0    536365   WHITE HANGING HEART T-LIGHT HOLDER  ...     0.00      0.0\n",
       "1    536365                  WHITE METAL LANTERN  ...    20.34      0.0\n",
       "2    536365       CREAM CUPID HEARTS COAT HANGER  ...    22.00      0.0\n",
       "3    536365  KNITTED UNION FLAG HOT WATER BOTTLE  ...    20.34      0.0\n",
       "4    536365       RED WOOLLY HOTTIE WHITE HEART.  ...    20.34      0.0\n",
       "\n",
       "[5 rows x 8 columns]"
      ]
     },
     "execution_count": 70,
     "metadata": {
      "tags": []
     },
     "output_type": "execute_result"
    }
   ],
   "source": [
    "# add 5 variables - the money spent on each of the 5 categories\n",
    "for i in range(5):\n",
    "    col = 'categ_{}'.format(i)        \n",
    "    df_temp = df_cleaned[df_cleaned['categ_product'] == i]\n",
    "    price_temp = df_temp['TotalPrice']\n",
    "    price_temp = price_temp.apply(lambda x:x if x > 0 else 0)\n",
    "    df_cleaned.loc[:, col] = price_temp\n",
    "    df_cleaned[col].fillna(0, inplace = True)\n",
    "\n",
    "df_cleaned[['InvoiceNo', 'Description', 'categ_product', 'categ_0', 'categ_1', 'categ_2', 'categ_3','categ_4']][:5]"
   ]
  },
  {
   "cell_type": "markdown",
   "metadata": {
    "colab_type": "text",
    "id": "6WXIrucVW1cW"
   },
   "source": [
    "## 4.3) Aggregate price with categories\n",
    "\n",
    "We then create a dataframe where each row is a purchase (unique `InvoiceNo`) with total amount of money, and the amount spent on each product category.\n",
    "Read and understand the following code.\n",
    "\n",
    "The features we have here are the following:\n",
    "`CustomerID`, `InvoiceNo`, `Basket Price`, `categ_0` to `categ_4` and `InvoiceDate`\n"
   ]
  },
  {
   "cell_type": "code",
   "execution_count": 71,
   "metadata": {
    "colab": {
     "base_uri": "https://localhost:8080/",
     "height": 204
    },
    "colab_type": "code",
    "id": "OMYEPrFCy-wp",
    "outputId": "5d8b3627-6d84-4f51-d38e-62e79303c663"
   },
   "outputs": [
    {
     "data": {
      "text/html": [
       "<div>\n",
       "<style scoped>\n",
       "    .dataframe tbody tr th:only-of-type {\n",
       "        vertical-align: middle;\n",
       "    }\n",
       "\n",
       "    .dataframe tbody tr th {\n",
       "        vertical-align: top;\n",
       "    }\n",
       "\n",
       "    .dataframe thead th {\n",
       "        text-align: right;\n",
       "    }\n",
       "</style>\n",
       "<table border=\"1\" class=\"dataframe\">\n",
       "  <thead>\n",
       "    <tr style=\"text-align: right;\">\n",
       "      <th></th>\n",
       "      <th>CustomerID</th>\n",
       "      <th>InvoiceNo</th>\n",
       "      <th>agg_price</th>\n",
       "    </tr>\n",
       "  </thead>\n",
       "  <tbody>\n",
       "    <tr>\n",
       "      <th>0</th>\n",
       "      <td>12346</td>\n",
       "      <td>541431</td>\n",
       "      <td>0.00</td>\n",
       "    </tr>\n",
       "    <tr>\n",
       "      <th>1</th>\n",
       "      <td>12347</td>\n",
       "      <td>537626</td>\n",
       "      <td>711.79</td>\n",
       "    </tr>\n",
       "    <tr>\n",
       "      <th>2</th>\n",
       "      <td>12347</td>\n",
       "      <td>542237</td>\n",
       "      <td>475.39</td>\n",
       "    </tr>\n",
       "    <tr>\n",
       "      <th>3</th>\n",
       "      <td>12347</td>\n",
       "      <td>549222</td>\n",
       "      <td>636.25</td>\n",
       "    </tr>\n",
       "    <tr>\n",
       "      <th>4</th>\n",
       "      <td>12347</td>\n",
       "      <td>556201</td>\n",
       "      <td>382.52</td>\n",
       "    </tr>\n",
       "  </tbody>\n",
       "</table>\n",
       "</div>"
      ],
      "text/plain": [
       "  CustomerID InvoiceNo  agg_price\n",
       "0      12346    541431       0.00\n",
       "1      12347    537626     711.79\n",
       "2      12347    542237     475.39\n",
       "3      12347    549222     636.25\n",
       "4      12347    556201     382.52"
      ]
     },
     "execution_count": 71,
     "metadata": {
      "tags": []
     },
     "output_type": "execute_result"
    }
   ],
   "source": [
    "# sum the commands for each order\n",
    "temp = df_cleaned.groupby(by=['CustomerID', 'InvoiceNo'], as_index=False)['TotalPrice'].sum()\n",
    "Aggregate_Price = temp.rename(columns = {'TotalPrice':'agg_price'})\n",
    "Aggregate_Price.head()"
   ]
  },
  {
   "cell_type": "code",
   "execution_count": 75,
   "metadata": {
    "colab": {
     "base_uri": "https://localhost:8080/",
     "height": 204
    },
    "colab_type": "code",
    "id": "a1-Jv4VIzFri",
    "outputId": "e6a07bd9-e0b5-41d6-8a85-c97eb042f477"
   },
   "outputs": [
    {
     "data": {
      "text/html": [
       "<div>\n",
       "<style scoped>\n",
       "    .dataframe tbody tr th:only-of-type {\n",
       "        vertical-align: middle;\n",
       "    }\n",
       "\n",
       "    .dataframe tbody tr th {\n",
       "        vertical-align: top;\n",
       "    }\n",
       "\n",
       "    .dataframe thead th {\n",
       "        text-align: right;\n",
       "    }\n",
       "</style>\n",
       "<table border=\"1\" class=\"dataframe\">\n",
       "  <thead>\n",
       "    <tr style=\"text-align: right;\">\n",
       "      <th></th>\n",
       "      <th>CustomerID</th>\n",
       "      <th>InvoiceNo</th>\n",
       "      <th>agg_price</th>\n",
       "      <th>categ_0</th>\n",
       "      <th>categ_1</th>\n",
       "      <th>categ_2</th>\n",
       "      <th>categ_3</th>\n",
       "      <th>categ_4</th>\n",
       "    </tr>\n",
       "  </thead>\n",
       "  <tbody>\n",
       "    <tr>\n",
       "      <th>1</th>\n",
       "      <td>12347</td>\n",
       "      <td>537626</td>\n",
       "      <td>711.79</td>\n",
       "      <td>124.44</td>\n",
       "      <td>83.40</td>\n",
       "      <td>23.40</td>\n",
       "      <td>293.35</td>\n",
       "      <td>187.2</td>\n",
       "    </tr>\n",
       "    <tr>\n",
       "      <th>2</th>\n",
       "      <td>12347</td>\n",
       "      <td>542237</td>\n",
       "      <td>475.39</td>\n",
       "      <td>38.25</td>\n",
       "      <td>53.10</td>\n",
       "      <td>84.34</td>\n",
       "      <td>169.20</td>\n",
       "      <td>130.5</td>\n",
       "    </tr>\n",
       "    <tr>\n",
       "      <th>3</th>\n",
       "      <td>12347</td>\n",
       "      <td>549222</td>\n",
       "      <td>636.25</td>\n",
       "      <td>38.25</td>\n",
       "      <td>71.10</td>\n",
       "      <td>81.00</td>\n",
       "      <td>115.00</td>\n",
       "      <td>330.9</td>\n",
       "    </tr>\n",
       "    <tr>\n",
       "      <th>4</th>\n",
       "      <td>12347</td>\n",
       "      <td>556201</td>\n",
       "      <td>382.52</td>\n",
       "      <td>19.90</td>\n",
       "      <td>78.06</td>\n",
       "      <td>41.40</td>\n",
       "      <td>168.76</td>\n",
       "      <td>74.4</td>\n",
       "    </tr>\n",
       "    <tr>\n",
       "      <th>5</th>\n",
       "      <td>12347</td>\n",
       "      <td>562032</td>\n",
       "      <td>584.91</td>\n",
       "      <td>136.05</td>\n",
       "      <td>119.70</td>\n",
       "      <td>61.30</td>\n",
       "      <td>158.16</td>\n",
       "      <td>109.7</td>\n",
       "    </tr>\n",
       "  </tbody>\n",
       "</table>\n",
       "</div>"
      ],
      "text/plain": [
       "  CustomerID InvoiceNo  agg_price  categ_0  categ_1  categ_2  categ_3  categ_4\n",
       "1      12347    537626     711.79   124.44    83.40    23.40   293.35    187.2\n",
       "2      12347    542237     475.39    38.25    53.10    84.34   169.20    130.5\n",
       "3      12347    549222     636.25    38.25    71.10    81.00   115.00    330.9\n",
       "4      12347    556201     382.52    19.90    78.06    41.40   168.76     74.4\n",
       "5      12347    562032     584.91   136.05   119.70    61.30   158.16    109.7"
      ]
     },
     "execution_count": 75,
     "metadata": {
      "tags": []
     },
     "output_type": "execute_result"
    }
   ],
   "source": [
    "# percentage of the price of the order / product category\n",
    "for i in range(5):\n",
    "    col = 'categ_{}'.format(i) \n",
    "    temp = df_cleaned.groupby(by=['CustomerID', 'InvoiceNo'], as_index=False)[col].sum()\n",
    "    Aggregate_Price.loc[:, col] = temp\n",
    "\n",
    "Aggregate_Price.head() "
   ]
  },
  {
   "cell_type": "code",
   "execution_count": 76,
   "metadata": {
    "colab": {
     "base_uri": "https://localhost:8080/",
     "height": 204
    },
    "colab_type": "code",
    "id": "g-OiIX6azton",
    "outputId": "d63f053e-8119-4458-f99f-2ad8bad5eef6"
   },
   "outputs": [
    {
     "data": {
      "text/html": [
       "<div>\n",
       "<style scoped>\n",
       "    .dataframe tbody tr th:only-of-type {\n",
       "        vertical-align: middle;\n",
       "    }\n",
       "\n",
       "    .dataframe tbody tr th {\n",
       "        vertical-align: top;\n",
       "    }\n",
       "\n",
       "    .dataframe thead th {\n",
       "        text-align: right;\n",
       "    }\n",
       "</style>\n",
       "<table border=\"1\" class=\"dataframe\">\n",
       "  <thead>\n",
       "    <tr style=\"text-align: right;\">\n",
       "      <th></th>\n",
       "      <th>CustomerID</th>\n",
       "      <th>InvoiceNo</th>\n",
       "      <th>agg_price</th>\n",
       "      <th>categ_0</th>\n",
       "      <th>categ_1</th>\n",
       "      <th>categ_2</th>\n",
       "      <th>categ_3</th>\n",
       "      <th>categ_4</th>\n",
       "    </tr>\n",
       "  </thead>\n",
       "  <tbody>\n",
       "    <tr>\n",
       "      <th>1</th>\n",
       "      <td>12347</td>\n",
       "      <td>537626</td>\n",
       "      <td>711.79</td>\n",
       "      <td>124.44</td>\n",
       "      <td>83.40</td>\n",
       "      <td>23.40</td>\n",
       "      <td>293.35</td>\n",
       "      <td>187.2</td>\n",
       "    </tr>\n",
       "    <tr>\n",
       "      <th>2</th>\n",
       "      <td>12347</td>\n",
       "      <td>542237</td>\n",
       "      <td>475.39</td>\n",
       "      <td>38.25</td>\n",
       "      <td>53.10</td>\n",
       "      <td>84.34</td>\n",
       "      <td>169.20</td>\n",
       "      <td>130.5</td>\n",
       "    </tr>\n",
       "    <tr>\n",
       "      <th>3</th>\n",
       "      <td>12347</td>\n",
       "      <td>549222</td>\n",
       "      <td>636.25</td>\n",
       "      <td>38.25</td>\n",
       "      <td>71.10</td>\n",
       "      <td>81.00</td>\n",
       "      <td>115.00</td>\n",
       "      <td>330.9</td>\n",
       "    </tr>\n",
       "    <tr>\n",
       "      <th>4</th>\n",
       "      <td>12347</td>\n",
       "      <td>556201</td>\n",
       "      <td>382.52</td>\n",
       "      <td>19.90</td>\n",
       "      <td>78.06</td>\n",
       "      <td>41.40</td>\n",
       "      <td>168.76</td>\n",
       "      <td>74.4</td>\n",
       "    </tr>\n",
       "    <tr>\n",
       "      <th>5</th>\n",
       "      <td>12347</td>\n",
       "      <td>562032</td>\n",
       "      <td>584.91</td>\n",
       "      <td>136.05</td>\n",
       "      <td>119.70</td>\n",
       "      <td>61.30</td>\n",
       "      <td>158.16</td>\n",
       "      <td>109.7</td>\n",
       "    </tr>\n",
       "  </tbody>\n",
       "</table>\n",
       "</div>"
      ],
      "text/plain": [
       "  CustomerID InvoiceNo  agg_price  categ_0  categ_1  categ_2  categ_3  categ_4\n",
       "1      12347    537626     711.79   124.44    83.40    23.40   293.35    187.2\n",
       "2      12347    542237     475.39    38.25    53.10    84.34   169.20    130.5\n",
       "3      12347    549222     636.25    38.25    71.10    81.00   115.00    330.9\n",
       "4      12347    556201     382.52    19.90    78.06    41.40   168.76     74.4\n",
       "5      12347    562032     584.91   136.05   119.70    61.30   158.16    109.7"
      ]
     },
     "execution_count": 76,
     "metadata": {
      "tags": []
     },
     "output_type": "execute_result"
    }
   ],
   "source": [
    "# keep only positive purchases\n",
    "Aggregate_Price = Aggregate_Price[Aggregate_Price['agg_price'] > 0]\n",
    "Aggregate_Price.sort_values('CustomerID', ascending = True)[:5]"
   ]
  },
  {
   "cell_type": "code",
   "execution_count": 77,
   "metadata": {
    "colab": {
     "base_uri": "https://localhost:8080/",
     "height": 34
    },
    "colab_type": "code",
    "id": "uJ1QlZKz7xV8",
    "outputId": "aee6897f-bace-4fa0-8da6-388fb3221f3c"
   },
   "outputs": [
    {
     "data": {
      "text/plain": [
       "18398"
      ]
     },
     "execution_count": 77,
     "metadata": {
      "tags": []
     },
     "output_type": "execute_result"
    }
   ],
   "source": [
    "len(Aggregate_Price) #check"
   ]
  },
  {
   "cell_type": "markdown",
   "metadata": {
    "colab_type": "text",
    "id": "tljfkLIUZzg7"
   },
   "source": [
    "## 4.4) Customer data\n",
    "\n",
    "We create a dataframe where each row correspond to a customer. The columns are CustomerID, number of transactions, min, max, mean, sum of spent money, and percentage of money for each category.\n",
    "Call this new dataframe `transactions_per_user`."
   ]
  },
  {
   "cell_type": "code",
   "execution_count": 78,
   "metadata": {
    "colab": {
     "base_uri": "https://localhost:8080/",
     "height": 204
    },
    "colab_type": "code",
    "id": "8T4iGUO93eIt",
    "outputId": "254396f6-6b7e-4d33-ee46-1498d1f0847e"
   },
   "outputs": [
    {
     "data": {
      "text/html": [
       "<div>\n",
       "<style scoped>\n",
       "    .dataframe tbody tr th:only-of-type {\n",
       "        vertical-align: middle;\n",
       "    }\n",
       "\n",
       "    .dataframe tbody tr th {\n",
       "        vertical-align: top;\n",
       "    }\n",
       "\n",
       "    .dataframe thead th {\n",
       "        text-align: right;\n",
       "    }\n",
       "</style>\n",
       "<table border=\"1\" class=\"dataframe\">\n",
       "  <thead>\n",
       "    <tr style=\"text-align: right;\">\n",
       "      <th></th>\n",
       "      <th>CustomerID</th>\n",
       "      <th>count</th>\n",
       "      <th>min</th>\n",
       "      <th>max</th>\n",
       "      <th>mean</th>\n",
       "      <th>sum</th>\n",
       "      <th>categ_0</th>\n",
       "      <th>categ_1</th>\n",
       "      <th>categ_2</th>\n",
       "      <th>categ_3</th>\n",
       "      <th>categ_4</th>\n",
       "    </tr>\n",
       "  </thead>\n",
       "  <tbody>\n",
       "    <tr>\n",
       "      <th>0</th>\n",
       "      <td>12347</td>\n",
       "      <td>7</td>\n",
       "      <td>224.82</td>\n",
       "      <td>1294.32</td>\n",
       "      <td>615.714286</td>\n",
       "      <td>4310.00</td>\n",
       "      <td>12.041531</td>\n",
       "      <td>20.805104</td>\n",
       "      <td>11.237123</td>\n",
       "      <td>29.540371</td>\n",
       "      <td>26.375870</td>\n",
       "    </tr>\n",
       "    <tr>\n",
       "      <th>1</th>\n",
       "      <td>12348</td>\n",
       "      <td>4</td>\n",
       "      <td>227.44</td>\n",
       "      <td>892.80</td>\n",
       "      <td>449.310000</td>\n",
       "      <td>1797.24</td>\n",
       "      <td>20.030714</td>\n",
       "      <td>0.000000</td>\n",
       "      <td>38.016069</td>\n",
       "      <td>0.000000</td>\n",
       "      <td>41.953217</td>\n",
       "    </tr>\n",
       "    <tr>\n",
       "      <th>2</th>\n",
       "      <td>12349</td>\n",
       "      <td>1</td>\n",
       "      <td>1757.55</td>\n",
       "      <td>1757.55</td>\n",
       "      <td>1757.550000</td>\n",
       "      <td>1757.55</td>\n",
       "      <td>46.021450</td>\n",
       "      <td>12.245455</td>\n",
       "      <td>4.513101</td>\n",
       "      <td>10.713778</td>\n",
       "      <td>26.506216</td>\n",
       "    </tr>\n",
       "    <tr>\n",
       "      <th>3</th>\n",
       "      <td>12350</td>\n",
       "      <td>1</td>\n",
       "      <td>334.40</td>\n",
       "      <td>334.40</td>\n",
       "      <td>334.400000</td>\n",
       "      <td>334.40</td>\n",
       "      <td>11.961722</td>\n",
       "      <td>27.900718</td>\n",
       "      <td>11.692584</td>\n",
       "      <td>0.000000</td>\n",
       "      <td>48.444976</td>\n",
       "    </tr>\n",
       "    <tr>\n",
       "      <th>4</th>\n",
       "      <td>12352</td>\n",
       "      <td>7</td>\n",
       "      <td>144.35</td>\n",
       "      <td>840.30</td>\n",
       "      <td>340.815714</td>\n",
       "      <td>2385.71</td>\n",
       "      <td>64.322571</td>\n",
       "      <td>4.071325</td>\n",
       "      <td>1.299404</td>\n",
       "      <td>14.601523</td>\n",
       "      <td>15.705178</td>\n",
       "    </tr>\n",
       "  </tbody>\n",
       "</table>\n",
       "</div>"
      ],
      "text/plain": [
       "  CustomerID  count      min  ...    categ_2    categ_3    categ_4\n",
       "0      12347      7   224.82  ...  11.237123  29.540371  26.375870\n",
       "1      12348      4   227.44  ...  38.016069   0.000000  41.953217\n",
       "2      12349      1  1757.55  ...   4.513101  10.713778  26.506216\n",
       "3      12350      1   334.40  ...  11.692584   0.000000  48.444976\n",
       "4      12352      7   144.35  ...   1.299404  14.601523  15.705178\n",
       "\n",
       "[5 rows x 11 columns]"
      ]
     },
     "execution_count": 78,
     "metadata": {
      "tags": []
     },
     "output_type": "execute_result"
    }
   ],
   "source": [
    "transactions_per_user = Aggregate_Price.groupby(by=['CustomerID'])['agg_price'].agg(['count','min','max','mean','sum'])\n",
    "for i in range(5):\n",
    "    col = 'categ_{}'.format(i)\n",
    "    transactions_per_user.loc[:,col] = Aggregate_Price.groupby(by=['CustomerID'])[col].sum() /\\\n",
    "                                            transactions_per_user['sum']*100\n",
    "\n",
    "transactions_per_user.reset_index(drop = False, inplace = True)\n",
    "Aggregate_Price.groupby(by=['CustomerID'])['categ_0'].sum()\n",
    "transactions_per_user.sort_values('CustomerID', ascending = True)[:5]"
   ]
  },
  {
   "cell_type": "code",
   "execution_count": 79,
   "metadata": {
    "colab": {
     "base_uri": "https://localhost:8080/",
     "height": 34
    },
    "colab_type": "code",
    "id": "Yd96wYZx3pMN",
    "outputId": "770a94cb-2fb0-42d9-d04d-0274c90e5f1a"
   },
   "outputs": [
    {
     "name": "stdout",
     "output_type": "stream",
     "text": [
      "number of clients with only one purchase: 1489/4327  (34.41%)\n"
     ]
    }
   ],
   "source": [
    "# Customers purchase only once\n",
    "n1 = transactions_per_user[transactions_per_user['count'] == 1].shape[0]\n",
    "n2 = transactions_per_user.shape[0]\n",
    "print(\"number of clients with only one purchase: {:<2}/{:<5} ({:<2.2f}%)\".format(n1,n2,n1/n2*100))"
   ]
  },
  {
   "cell_type": "markdown",
   "metadata": {
    "colab_type": "text",
    "id": "0QDml6wTdYhB"
   },
   "source": [
    "## 4.5) Creation of customers categories\n",
    "Choose features: `count`,`min`,`max`,`mean`,`categ_0`,`categ_1`,`categ_2`,`categ_3`,`categ_4` and create new matrix `matrix_customers`. Use standard scaler and call the result as `scaled_matrix_customers`."
   ]
  },
  {
   "cell_type": "code",
   "execution_count": 80,
   "metadata": {
    "colab": {
     "base_uri": "https://localhost:8080/",
     "height": 204
    },
    "colab_type": "code",
    "id": "CWurmLHz3vCT",
    "outputId": "f6cab0b7-9d30-4fbb-82ef-2a0dbda766a1"
   },
   "outputs": [
    {
     "data": {
      "text/html": [
       "<div>\n",
       "<style scoped>\n",
       "    .dataframe tbody tr th:only-of-type {\n",
       "        vertical-align: middle;\n",
       "    }\n",
       "\n",
       "    .dataframe tbody tr th {\n",
       "        vertical-align: top;\n",
       "    }\n",
       "\n",
       "    .dataframe thead th {\n",
       "        text-align: right;\n",
       "    }\n",
       "</style>\n",
       "<table border=\"1\" class=\"dataframe\">\n",
       "  <thead>\n",
       "    <tr style=\"text-align: right;\">\n",
       "      <th></th>\n",
       "      <th>CustomerID</th>\n",
       "      <th>count</th>\n",
       "      <th>min</th>\n",
       "      <th>max</th>\n",
       "      <th>mean</th>\n",
       "      <th>sum</th>\n",
       "      <th>categ_0</th>\n",
       "      <th>categ_1</th>\n",
       "      <th>categ_2</th>\n",
       "      <th>categ_3</th>\n",
       "      <th>categ_4</th>\n",
       "    </tr>\n",
       "  </thead>\n",
       "  <tbody>\n",
       "    <tr>\n",
       "      <th>0</th>\n",
       "      <td>12347</td>\n",
       "      <td>7</td>\n",
       "      <td>224.82</td>\n",
       "      <td>1294.32</td>\n",
       "      <td>615.714286</td>\n",
       "      <td>4310.00</td>\n",
       "      <td>12.041531</td>\n",
       "      <td>20.805104</td>\n",
       "      <td>11.237123</td>\n",
       "      <td>29.540371</td>\n",
       "      <td>26.375870</td>\n",
       "    </tr>\n",
       "    <tr>\n",
       "      <th>1</th>\n",
       "      <td>12348</td>\n",
       "      <td>4</td>\n",
       "      <td>227.44</td>\n",
       "      <td>892.80</td>\n",
       "      <td>449.310000</td>\n",
       "      <td>1797.24</td>\n",
       "      <td>20.030714</td>\n",
       "      <td>0.000000</td>\n",
       "      <td>38.016069</td>\n",
       "      <td>0.000000</td>\n",
       "      <td>41.953217</td>\n",
       "    </tr>\n",
       "    <tr>\n",
       "      <th>2</th>\n",
       "      <td>12349</td>\n",
       "      <td>1</td>\n",
       "      <td>1757.55</td>\n",
       "      <td>1757.55</td>\n",
       "      <td>1757.550000</td>\n",
       "      <td>1757.55</td>\n",
       "      <td>46.021450</td>\n",
       "      <td>12.245455</td>\n",
       "      <td>4.513101</td>\n",
       "      <td>10.713778</td>\n",
       "      <td>26.506216</td>\n",
       "    </tr>\n",
       "    <tr>\n",
       "      <th>3</th>\n",
       "      <td>12350</td>\n",
       "      <td>1</td>\n",
       "      <td>334.40</td>\n",
       "      <td>334.40</td>\n",
       "      <td>334.400000</td>\n",
       "      <td>334.40</td>\n",
       "      <td>11.961722</td>\n",
       "      <td>27.900718</td>\n",
       "      <td>11.692584</td>\n",
       "      <td>0.000000</td>\n",
       "      <td>48.444976</td>\n",
       "    </tr>\n",
       "    <tr>\n",
       "      <th>4</th>\n",
       "      <td>12352</td>\n",
       "      <td>7</td>\n",
       "      <td>144.35</td>\n",
       "      <td>840.30</td>\n",
       "      <td>340.815714</td>\n",
       "      <td>2385.71</td>\n",
       "      <td>64.322571</td>\n",
       "      <td>4.071325</td>\n",
       "      <td>1.299404</td>\n",
       "      <td>14.601523</td>\n",
       "      <td>15.705178</td>\n",
       "    </tr>\n",
       "  </tbody>\n",
       "</table>\n",
       "</div>"
      ],
      "text/plain": [
       "  CustomerID  count      min  ...    categ_2    categ_3    categ_4\n",
       "0      12347      7   224.82  ...  11.237123  29.540371  26.375870\n",
       "1      12348      4   227.44  ...  38.016069   0.000000  41.953217\n",
       "2      12349      1  1757.55  ...   4.513101  10.713778  26.506216\n",
       "3      12350      1   334.40  ...  11.692584   0.000000  48.444976\n",
       "4      12352      7   144.35  ...   1.299404  14.601523  15.705178\n",
       "\n",
       "[5 rows x 11 columns]"
      ]
     },
     "execution_count": 80,
     "metadata": {
      "tags": []
     },
     "output_type": "execute_result"
    }
   ],
   "source": [
    "# Use the features below\n",
    "list_cols = ['count','min','max','mean','categ_0','categ_1','categ_2','categ_3','categ_4']\n",
    "\n",
    "selected_customers = transactions_per_user.copy(deep = True)\n",
    "matrix_customers = selected_customers[list_cols].values \n",
    "selected_customers.head()"
   ]
  },
  {
   "cell_type": "code",
   "execution_count": 81,
   "metadata": {
    "colab": {
     "base_uri": "https://localhost:8080/",
     "height": 85
    },
    "colab_type": "code",
    "id": "loVUEyoH3ysF",
    "outputId": "0e077cba-6abe-461d-f2be-b8fc0fd9e046"
   },
   "outputs": [
    {
     "name": "stdout",
     "output_type": "stream",
     "text": [
      "variables mean values: \n",
      "------------------------------------------------------------------------------------------\n",
      " [  4.25190663 241.38253571 578.87676959 372.25705475  22.00477215\n",
      "  21.62911535  14.09365548  16.97264402  25.30761412]\n"
     ]
    }
   ],
   "source": [
    "# Standardization\n",
    "from sklearn.preprocessing import StandardScaler\n",
    "scaler = StandardScaler()\n",
    "scaler.fit(matrix_customers)\n",
    "print('variables mean values: \\n' + 90*'-' + '\\n' , scaler.mean_)\n",
    "\n",
    "scaled_matrix_customers = scaler.transform(matrix_customers)"
   ]
  },
  {
   "cell_type": "markdown",
   "metadata": {
    "colab_type": "text",
    "id": "9Wu2aUcnssVT"
   },
   "source": [
    "## 4.6) K-Means again - for customers\n",
    "**Task:** Apply KMeans to scaled_matrix with numbers of clusters from 3 to 14 included. Compute the silhouetter score for each number. Print number of clients in each category."
   ]
  },
  {
   "cell_type": "code",
   "execution_count": 82,
   "metadata": {
    "colab": {
     "base_uri": "https://localhost:8080/",
     "height": 221
    },
    "colab_type": "code",
    "id": "B7GLdCbm8BQi",
    "outputId": "4322aead-688a-443a-bd8f-b01628a1abf4"
   },
   "outputs": [
    {
     "name": "stdout",
     "output_type": "stream",
     "text": [
      "For n_clusters = 3 The average silhouette_score is : 0.15829281270198933\n",
      "For n_clusters = 4 The average silhouette_score is : 0.15373360324357085\n",
      "For n_clusters = 5 The average silhouette_score is : 0.1663291835789565\n",
      "For n_clusters = 6 The average silhouette_score is : 0.1701044260370565\n",
      "For n_clusters = 7 The average silhouette_score is : 0.18497551812944155\n",
      "For n_clusters = 8 The average silhouette_score is : 0.20234803957441075\n",
      "For n_clusters = 9 The average silhouette_score is : 0.2143735862831922\n",
      "For n_clusters = 10 The average silhouette_score is : 0.21345322066587244\n",
      "For n_clusters = 11 The average silhouette_score is : 0.22229163943060226\n",
      "For n_clusters = 12 The average silhouette_score is : 0.18476167716700728\n",
      "For n_clusters = 13 The average silhouette_score is : 0.18581662554963263\n",
      "For n_clusters = 14 The average silhouette_score is : 0.1875464237235567\n"
     ]
    }
   ],
   "source": [
    "# Try some numbers of clusters\n",
    "from sklearn.cluster import KMeans\n",
    "from sklearn.metrics import silhouette_score\n",
    "\n",
    "for n_clusters in range(3,15):\n",
    "    kmeans = KMeans(init='k-means++', n_clusters = n_clusters, n_init=30)\n",
    "    kmeans.fit(scaled_matrix_customers)\n",
    "    clusters = kmeans.predict(scaled_matrix_customers)\n",
    "    #print(pd.DataFrame(pd.Series(clusters).value_counts(), columns = ['nb. of clients']).T)\n",
    "    silhouette_avg = silhouette_score(scaled_matrix_customers, clusters)\n",
    "    print(\"For n_clusters =\", n_clusters, \"The average silhouette_score is :\", silhouette_avg)"
   ]
  },
  {
   "cell_type": "markdown",
   "metadata": {
    "colab_type": "text",
    "id": "qHQjiPxPs-dn"
   },
   "source": [
    "Based on the silhouette score we use 11 clusters"
   ]
  },
  {
   "cell_type": "code",
   "execution_count": 123,
   "metadata": {
    "colab": {
     "base_uri": "https://localhost:8080/",
     "height": 34
    },
    "colab_type": "code",
    "id": "0AH5JdMC8pkp",
    "outputId": "c735b6af-f051-463f-cc47-1f7059d14d75"
   },
   "outputs": [
    {
     "name": "stdout",
     "output_type": "stream",
     "text": [
      "score of silhouette: 0.223\n"
     ]
    }
   ],
   "source": [
    "# 11 clusters\n",
    "n_clusters = 11\n",
    "kmeans = KMeans(init='k-means++', n_clusters = n_clusters, n_init=100)\n",
    "kmeans.fit(scaled_matrix_customers)\n",
    "clusters_clients = kmeans.predict(scaled_matrix_customers)\n",
    "silhouette_avg = silhouette_score(scaled_matrix_customers, clusters_clients)\n",
    "print('score of silhouette: {:<.3f}'.format(silhouette_avg))"
   ]
  },
  {
   "cell_type": "code",
   "execution_count": 84,
   "metadata": {
    "colab": {
     "base_uri": "https://localhost:8080/",
     "height": 80
    },
    "colab_type": "code",
    "id": "4n5X77ZB8toY",
    "outputId": "3cca7a9c-a4ff-4055-94b4-8f96a0b320a4"
   },
   "outputs": [
    {
     "data": {
      "text/html": [
       "<div>\n",
       "<style scoped>\n",
       "    .dataframe tbody tr th:only-of-type {\n",
       "        vertical-align: middle;\n",
       "    }\n",
       "\n",
       "    .dataframe tbody tr th {\n",
       "        vertical-align: top;\n",
       "    }\n",
       "\n",
       "    .dataframe thead th {\n",
       "        text-align: right;\n",
       "    }\n",
       "</style>\n",
       "<table border=\"1\" class=\"dataframe\">\n",
       "  <thead>\n",
       "    <tr style=\"text-align: right;\">\n",
       "      <th></th>\n",
       "      <th>0</th>\n",
       "      <th>7</th>\n",
       "      <th>3</th>\n",
       "      <th>5</th>\n",
       "      <th>9</th>\n",
       "      <th>8</th>\n",
       "      <th>2</th>\n",
       "      <th>4</th>\n",
       "      <th>1</th>\n",
       "      <th>6</th>\n",
       "      <th>10</th>\n",
       "    </tr>\n",
       "  </thead>\n",
       "  <tbody>\n",
       "    <tr>\n",
       "      <th>nb. of clients</th>\n",
       "      <td>1865</td>\n",
       "      <td>571</td>\n",
       "      <td>527</td>\n",
       "      <td>327</td>\n",
       "      <td>306</td>\n",
       "      <td>305</td>\n",
       "      <td>204</td>\n",
       "      <td>186</td>\n",
       "      <td>17</td>\n",
       "      <td>12</td>\n",
       "      <td>7</td>\n",
       "    </tr>\n",
       "  </tbody>\n",
       "</table>\n",
       "</div>"
      ],
      "text/plain": [
       "                  0    7    3    5    9    8    2    4   1   6   10\n",
       "nb. of clients  1865  571  527  327  306  305  204  186  17  12   7"
      ]
     },
     "execution_count": 84,
     "metadata": {
      "tags": []
     },
     "output_type": "execute_result"
    }
   ],
   "source": [
    "# nb of customers per cluster\n",
    "pd.DataFrame(pd.Series(clusters_clients).value_counts(), columns = ['nb. of clients']).T"
   ]
  },
  {
   "cell_type": "markdown",
   "metadata": {
    "colab_type": "text",
    "id": "8tx2luQ1tw1C"
   },
   "source": [
    "## 4.7) Customers morphotype\n",
    "\n",
    "In this section, we compute the statistics for each group of customers and visulize them. Create new `merged_df` dataset with the same features as `transactions_per_user` dataframe, but with `n_clusters` rows: for each cluster - use mean of values. So you should have dataframe with sizes `n_cluster` $\\times$ 12."
   ]
  },
  {
   "cell_type": "code",
   "execution_count": 85,
   "metadata": {
    "colab": {
     "base_uri": "https://localhost:8080/",
     "height": 438
    },
    "colab_type": "code",
    "id": "VdwBb6-U813J",
    "outputId": "df344593-6f5f-48d1-8e91-4d609e58ebd3"
   },
   "outputs": [
    {
     "name": "stdout",
     "output_type": "stream",
     "text": [
      "number of customers: 4327\n"
     ]
    },
    {
     "data": {
      "text/html": [
       "<div>\n",
       "<style scoped>\n",
       "    .dataframe tbody tr th:only-of-type {\n",
       "        vertical-align: middle;\n",
       "    }\n",
       "\n",
       "    .dataframe tbody tr th {\n",
       "        vertical-align: top;\n",
       "    }\n",
       "\n",
       "    .dataframe thead th {\n",
       "        text-align: right;\n",
       "    }\n",
       "</style>\n",
       "<table border=\"1\" class=\"dataframe\">\n",
       "  <thead>\n",
       "    <tr style=\"text-align: right;\">\n",
       "      <th></th>\n",
       "      <th>count</th>\n",
       "      <th>min</th>\n",
       "      <th>max</th>\n",
       "      <th>mean</th>\n",
       "      <th>sum</th>\n",
       "      <th>categ_0</th>\n",
       "      <th>categ_1</th>\n",
       "      <th>categ_2</th>\n",
       "      <th>categ_3</th>\n",
       "      <th>categ_4</th>\n",
       "      <th>size</th>\n",
       "    </tr>\n",
       "    <tr>\n",
       "      <th>cluster</th>\n",
       "      <th></th>\n",
       "      <th></th>\n",
       "      <th></th>\n",
       "      <th></th>\n",
       "      <th></th>\n",
       "      <th></th>\n",
       "      <th></th>\n",
       "      <th></th>\n",
       "      <th></th>\n",
       "      <th></th>\n",
       "      <th></th>\n",
       "    </tr>\n",
       "  </thead>\n",
       "  <tbody>\n",
       "    <tr>\n",
       "      <th>5.0</th>\n",
       "      <td>2.366972</td>\n",
       "      <td>185.007798</td>\n",
       "      <td>317.093578</td>\n",
       "      <td>240.877856</td>\n",
       "      <td>608.378960</td>\n",
       "      <td>7.917795</td>\n",
       "      <td>12.043538</td>\n",
       "      <td>52.632638</td>\n",
       "      <td>6.902142</td>\n",
       "      <td>20.505084</td>\n",
       "      <td>327</td>\n",
       "    </tr>\n",
       "    <tr>\n",
       "      <th>7.0</th>\n",
       "      <td>2.702277</td>\n",
       "      <td>203.835657</td>\n",
       "      <td>342.689054</td>\n",
       "      <td>268.132903</td>\n",
       "      <td>747.747918</td>\n",
       "      <td>8.944049</td>\n",
       "      <td>14.118102</td>\n",
       "      <td>12.912598</td>\n",
       "      <td>8.489702</td>\n",
       "      <td>55.548474</td>\n",
       "      <td>571</td>\n",
       "    </tr>\n",
       "    <tr>\n",
       "      <th>3.0</th>\n",
       "      <td>2.844402</td>\n",
       "      <td>201.808161</td>\n",
       "      <td>356.907021</td>\n",
       "      <td>267.921020</td>\n",
       "      <td>787.949034</td>\n",
       "      <td>62.162394</td>\n",
       "      <td>10.709688</td>\n",
       "      <td>4.818099</td>\n",
       "      <td>11.245375</td>\n",
       "      <td>11.075151</td>\n",
       "      <td>527</td>\n",
       "    </tr>\n",
       "    <tr>\n",
       "      <th>8.0</th>\n",
       "      <td>2.632787</td>\n",
       "      <td>193.050623</td>\n",
       "      <td>353.469475</td>\n",
       "      <td>264.087535</td>\n",
       "      <td>857.597016</td>\n",
       "      <td>13.611200</td>\n",
       "      <td>13.023190</td>\n",
       "      <td>6.836176</td>\n",
       "      <td>53.708035</td>\n",
       "      <td>12.846950</td>\n",
       "      <td>305</td>\n",
       "    </tr>\n",
       "    <tr>\n",
       "      <th>9.0</th>\n",
       "      <td>2.993464</td>\n",
       "      <td>196.866111</td>\n",
       "      <td>400.625294</td>\n",
       "      <td>292.546668</td>\n",
       "      <td>968.485915</td>\n",
       "      <td>8.861939</td>\n",
       "      <td>63.514815</td>\n",
       "      <td>6.801407</td>\n",
       "      <td>7.306501</td>\n",
       "      <td>13.515338</td>\n",
       "      <td>306</td>\n",
       "    </tr>\n",
       "    <tr>\n",
       "      <th>0.0</th>\n",
       "      <td>3.656300</td>\n",
       "      <td>207.503432</td>\n",
       "      <td>488.843084</td>\n",
       "      <td>334.138772</td>\n",
       "      <td>1246.321116</td>\n",
       "      <td>20.471057</td>\n",
       "      <td>22.842061</td>\n",
       "      <td>13.216055</td>\n",
       "      <td>18.342074</td>\n",
       "      <td>25.134225</td>\n",
       "      <td>1865</td>\n",
       "    </tr>\n",
       "    <tr>\n",
       "      <th>4.0</th>\n",
       "      <td>2.016129</td>\n",
       "      <td>1022.101774</td>\n",
       "      <td>1492.718177</td>\n",
       "      <td>1247.068148</td>\n",
       "      <td>2697.974038</td>\n",
       "      <td>22.735350</td>\n",
       "      <td>20.899456</td>\n",
       "      <td>11.530385</td>\n",
       "      <td>18.915880</td>\n",
       "      <td>25.919292</td>\n",
       "      <td>186</td>\n",
       "    </tr>\n",
       "    <tr>\n",
       "      <th>6.0</th>\n",
       "      <td>1.500000</td>\n",
       "      <td>4075.741667</td>\n",
       "      <td>6245.503333</td>\n",
       "      <td>5073.737778</td>\n",
       "      <td>7931.028333</td>\n",
       "      <td>22.856542</td>\n",
       "      <td>24.582946</td>\n",
       "      <td>19.206717</td>\n",
       "      <td>15.135140</td>\n",
       "      <td>18.218655</td>\n",
       "      <td>12</td>\n",
       "    </tr>\n",
       "    <tr>\n",
       "      <th>2.0</th>\n",
       "      <td>20.745098</td>\n",
       "      <td>71.372255</td>\n",
       "      <td>1339.072794</td>\n",
       "      <td>478.024270</td>\n",
       "      <td>9745.359559</td>\n",
       "      <td>22.833328</td>\n",
       "      <td>24.958885</td>\n",
       "      <td>11.877181</td>\n",
       "      <td>17.008914</td>\n",
       "      <td>23.332127</td>\n",
       "      <td>204</td>\n",
       "    </tr>\n",
       "    <tr>\n",
       "      <th>10.0</th>\n",
       "      <td>127.285714</td>\n",
       "      <td>10.585714</td>\n",
       "      <td>2248.087143</td>\n",
       "      <td>381.948905</td>\n",
       "      <td>49672.060000</td>\n",
       "      <td>24.484850</td>\n",
       "      <td>22.076687</td>\n",
       "      <td>13.884614</td>\n",
       "      <td>14.286531</td>\n",
       "      <td>25.288514</td>\n",
       "      <td>7</td>\n",
       "    </tr>\n",
       "    <tr>\n",
       "      <th>1.0</th>\n",
       "      <td>31.058824</td>\n",
       "      <td>85.434118</td>\n",
       "      <td>13750.221765</td>\n",
       "      <td>3025.061266</td>\n",
       "      <td>90558.188235</td>\n",
       "      <td>22.632928</td>\n",
       "      <td>29.941804</td>\n",
       "      <td>8.862735</td>\n",
       "      <td>18.540635</td>\n",
       "      <td>20.021898</td>\n",
       "      <td>17</td>\n",
       "    </tr>\n",
       "  </tbody>\n",
       "</table>\n",
       "</div>"
      ],
      "text/plain": [
       "              count          min           max  ...    categ_3    categ_4  size\n",
       "cluster                                         ...                            \n",
       "5.0        2.366972   185.007798    317.093578  ...   6.902142  20.505084   327\n",
       "7.0        2.702277   203.835657    342.689054  ...   8.489702  55.548474   571\n",
       "3.0        2.844402   201.808161    356.907021  ...  11.245375  11.075151   527\n",
       "8.0        2.632787   193.050623    353.469475  ...  53.708035  12.846950   305\n",
       "9.0        2.993464   196.866111    400.625294  ...   7.306501  13.515338   306\n",
       "0.0        3.656300   207.503432    488.843084  ...  18.342074  25.134225  1865\n",
       "4.0        2.016129  1022.101774   1492.718177  ...  18.915880  25.919292   186\n",
       "6.0        1.500000  4075.741667   6245.503333  ...  15.135140  18.218655    12\n",
       "2.0       20.745098    71.372255   1339.072794  ...  17.008914  23.332127   204\n",
       "10.0     127.285714    10.585714   2248.087143  ...  14.286531  25.288514     7\n",
       "1.0       31.058824    85.434118  13750.221765  ...  18.540635  20.021898    17\n",
       "\n",
       "[11 rows x 11 columns]"
      ]
     },
     "execution_count": 85,
     "metadata": {
      "tags": []
     },
     "output_type": "execute_result"
    }
   ],
   "source": [
    "# Customer clusters\n",
    "selected_customers.loc[:, 'cluster'] = clusters_clients\n",
    "\n",
    "merged_df = pd.DataFrame()\n",
    "for i in range(n_clusters):\n",
    "    test = pd.DataFrame(selected_customers[selected_customers['cluster'] == i].mean())\n",
    "    test = test.T.set_index('cluster', drop = True)\n",
    "    test['size'] = selected_customers[selected_customers['cluster'] == i].shape[0]\n",
    "    merged_df = pd.concat([merged_df, test])\n",
    "\n",
    "merged_df.drop('CustomerID', axis = 1, inplace = True)\n",
    "print('number of customers:', merged_df['size'].sum())\n",
    "\n",
    "merged_df = merged_df.sort_values('sum')\n",
    "\n",
    "merged_df"
   ]
  },
  {
   "cell_type": "markdown",
   "metadata": {
    "colab_type": "text",
    "id": "ma6t9IxkwsWq"
   },
   "source": [
    "## 4.8) Save data\n",
    "Save selected_customers data to the file `data_selected_customers.csv`"
   ]
  },
  {
   "cell_type": "code",
   "execution_count": 0,
   "metadata": {
    "colab": {},
    "colab_type": "code",
    "id": "3pluuuvv9ldl"
   },
   "outputs": [],
   "source": [
    "# from google.colab import drive\n",
    "# drive.mount('/content/drive')\n",
    "path = '/content/mydriv/My Drive/Customer_Segmentation/'\n",
    "selected_customers.to_csv(path + 'data_selected_customers.csv')"
   ]
  },
  {
   "cell_type": "markdown",
   "metadata": {
    "colab_type": "text",
    "id": "lVpq08B7v485"
   },
   "source": [
    "# 5) Classification of customers\n",
    "\n",
    "In this section we try to classify customers to the above clusters using some features 'mean', 'categ_0', 'categ_1', 'categ_2', 'categ_3', 'categ_4'. Thus, we can use our models to classify a customer at the first purchase.\n"
   ]
  },
  {
   "cell_type": "code",
   "execution_count": 91,
   "metadata": {
    "colab": {
     "base_uri": "https://localhost:8080/",
     "height": 34
    },
    "colab_type": "code",
    "id": "M02fWZOY95nA",
    "outputId": "226b7e34-98e8-4884-b075-aa08758a5dbd"
   },
   "outputs": [
    {
     "name": "stdout",
     "output_type": "stream",
     "text": [
      "(4327, 13)\n"
     ]
    }
   ],
   "source": [
    "# import pandas as pd\n",
    "# from google.colab import drive\n",
    "# drive.mount('/content/drive')\n",
    "path = '/content/mydriv/My Drive/Customer_Segmentation/'\n",
    "selected_customers = pd.read_csv(path + 'data_selected_customers.csv')\n",
    "import warnings\n",
    "warnings.filterwarnings('ignore') \n",
    "print(selected_customers.shape)"
   ]
  },
  {
   "cell_type": "code",
   "execution_count": 90,
   "metadata": {
    "colab": {
     "base_uri": "https://localhost:8080/",
     "height": 204
    },
    "colab_type": "code",
    "id": "IFaByVqKH-sW",
    "outputId": "ae83cd98-3a43-43d5-c004-3915b1a273d2"
   },
   "outputs": [
    {
     "data": {
      "text/html": [
       "<div>\n",
       "<style scoped>\n",
       "    .dataframe tbody tr th:only-of-type {\n",
       "        vertical-align: middle;\n",
       "    }\n",
       "\n",
       "    .dataframe tbody tr th {\n",
       "        vertical-align: top;\n",
       "    }\n",
       "\n",
       "    .dataframe thead th {\n",
       "        text-align: right;\n",
       "    }\n",
       "</style>\n",
       "<table border=\"1\" class=\"dataframe\">\n",
       "  <thead>\n",
       "    <tr style=\"text-align: right;\">\n",
       "      <th></th>\n",
       "      <th>Unnamed: 0</th>\n",
       "      <th>CustomerID</th>\n",
       "      <th>count</th>\n",
       "      <th>min</th>\n",
       "      <th>max</th>\n",
       "      <th>mean</th>\n",
       "      <th>sum</th>\n",
       "      <th>categ_0</th>\n",
       "      <th>categ_1</th>\n",
       "      <th>categ_2</th>\n",
       "      <th>categ_3</th>\n",
       "      <th>categ_4</th>\n",
       "      <th>cluster</th>\n",
       "    </tr>\n",
       "  </thead>\n",
       "  <tbody>\n",
       "    <tr>\n",
       "      <th>0</th>\n",
       "      <td>0</td>\n",
       "      <td>12347</td>\n",
       "      <td>7</td>\n",
       "      <td>224.82</td>\n",
       "      <td>1294.32</td>\n",
       "      <td>615.714286</td>\n",
       "      <td>4310.00</td>\n",
       "      <td>12.041531</td>\n",
       "      <td>20.805104</td>\n",
       "      <td>11.237123</td>\n",
       "      <td>29.540371</td>\n",
       "      <td>26.375870</td>\n",
       "      <td>9</td>\n",
       "    </tr>\n",
       "    <tr>\n",
       "      <th>1</th>\n",
       "      <td>1</td>\n",
       "      <td>12348</td>\n",
       "      <td>4</td>\n",
       "      <td>227.44</td>\n",
       "      <td>892.80</td>\n",
       "      <td>449.310000</td>\n",
       "      <td>1797.24</td>\n",
       "      <td>20.030714</td>\n",
       "      <td>0.000000</td>\n",
       "      <td>38.016069</td>\n",
       "      <td>0.000000</td>\n",
       "      <td>41.953217</td>\n",
       "      <td>6</td>\n",
       "    </tr>\n",
       "    <tr>\n",
       "      <th>2</th>\n",
       "      <td>2</td>\n",
       "      <td>12349</td>\n",
       "      <td>1</td>\n",
       "      <td>1757.55</td>\n",
       "      <td>1757.55</td>\n",
       "      <td>1757.550000</td>\n",
       "      <td>1757.55</td>\n",
       "      <td>46.021450</td>\n",
       "      <td>12.245455</td>\n",
       "      <td>4.513101</td>\n",
       "      <td>10.713778</td>\n",
       "      <td>26.506216</td>\n",
       "      <td>1</td>\n",
       "    </tr>\n",
       "    <tr>\n",
       "      <th>3</th>\n",
       "      <td>3</td>\n",
       "      <td>12350</td>\n",
       "      <td>1</td>\n",
       "      <td>334.40</td>\n",
       "      <td>334.40</td>\n",
       "      <td>334.400000</td>\n",
       "      <td>334.40</td>\n",
       "      <td>11.961722</td>\n",
       "      <td>27.900718</td>\n",
       "      <td>11.692584</td>\n",
       "      <td>0.000000</td>\n",
       "      <td>48.444976</td>\n",
       "      <td>5</td>\n",
       "    </tr>\n",
       "    <tr>\n",
       "      <th>4</th>\n",
       "      <td>4</td>\n",
       "      <td>12352</td>\n",
       "      <td>7</td>\n",
       "      <td>144.35</td>\n",
       "      <td>840.30</td>\n",
       "      <td>340.815714</td>\n",
       "      <td>2385.71</td>\n",
       "      <td>64.322571</td>\n",
       "      <td>4.071325</td>\n",
       "      <td>1.299404</td>\n",
       "      <td>14.601523</td>\n",
       "      <td>15.705178</td>\n",
       "      <td>10</td>\n",
       "    </tr>\n",
       "  </tbody>\n",
       "</table>\n",
       "</div>"
      ],
      "text/plain": [
       "   Unnamed: 0  CustomerID  count  ...    categ_3    categ_4  cluster\n",
       "0           0       12347      7  ...  29.540371  26.375870        9\n",
       "1           1       12348      4  ...   0.000000  41.953217        6\n",
       "2           2       12349      1  ...  10.713778  26.506216        1\n",
       "3           3       12350      1  ...   0.000000  48.444976        5\n",
       "4           4       12352      7  ...  14.601523  15.705178       10\n",
       "\n",
       "[5 rows x 13 columns]"
      ]
     },
     "execution_count": 90,
     "metadata": {
      "tags": []
     },
     "output_type": "execute_result"
    }
   ],
   "source": [
    "selected_customers.head()\n"
   ]
  },
  {
   "cell_type": "markdown",
   "metadata": {
    "colab_type": "text",
    "id": "xgrHhluZwAwZ"
   },
   "source": [
    "We first build a class `Class_Fit` to manage classifier."
   ]
  },
  {
   "cell_type": "code",
   "execution_count": 0,
   "metadata": {
    "colab": {},
    "colab_type": "code",
    "id": "pmG5Sjdd-HtL"
   },
   "outputs": [],
   "source": [
    "class Class_Fit:\n",
    "    def __init__(self, clf, params=None):\n",
    "        if params:            \n",
    "            self.clf = clf(**params)\n",
    "        else:\n",
    "            self.clf = clf()\n",
    "\n",
    "    def train(self, x_train, y_train):\n",
    "        self.clf.fit(x_train, y_train)\n",
    "\n",
    "    def predict(self, x):\n",
    "        return self.clf.predict(x)\n",
    "    \n",
    "    def grid_search(self, parameters, Kfold):\n",
    "        self.grid = GridSearchCV(estimator = self.clf, param_grid = parameters, cv = Kfold)\n",
    "        \n",
    "    def grid_fit(self, X, Y):\n",
    "        self.grid.fit(X, Y)\n",
    "        \n",
    "    def grid_predict(self, X, Y):\n",
    "        self.predictions = self.grid.predict(X)\n",
    "        print(\"Accuracy: {:.2f} % \".format(100*metrics.accuracy_score(Y, self.predictions)))\n",
    "        "
   ]
  },
  {
   "cell_type": "code",
   "execution_count": 0,
   "metadata": {
    "colab": {},
    "colab_type": "code",
    "id": "ePaivEfs_SBL"
   },
   "outputs": [],
   "source": [
    "def plot_learning_curve(estimator, title, X, y, ylim=None, cv=None,\n",
    "                        n_jobs=-1, train_sizes=np.linspace(.1, 1.0, 10)):\n",
    "    \"\"\"Generate a simple plot of the test and training learning curve\"\"\"\n",
    "    plt.figure()\n",
    "    plt.title(title)\n",
    "    if ylim is not None:\n",
    "        plt.ylim(*ylim)\n",
    "    plt.xlabel(\"Training examples\")\n",
    "    plt.ylabel(\"Score\")\n",
    "    train_sizes, train_scores, test_scores = learning_curve(\n",
    "        estimator, X, y, cv=cv, n_jobs=n_jobs, train_sizes=train_sizes)\n",
    "    train_scores_mean = np.mean(train_scores, axis=1)\n",
    "    train_scores_std = np.std(train_scores, axis=1)\n",
    "    test_scores_mean = np.mean(test_scores, axis=1)\n",
    "    test_scores_std = np.std(test_scores, axis=1)\n",
    "    plt.grid()\n",
    "\n",
    "    plt.fill_between(train_sizes, train_scores_mean - train_scores_std,\n",
    "                     train_scores_mean + train_scores_std, alpha=0.1, color=\"r\")\n",
    "    plt.fill_between(train_sizes, test_scores_mean - test_scores_std,\n",
    "                     test_scores_mean + test_scores_std, alpha=0.1, color=\"g\")\n",
    "    plt.plot(train_sizes, train_scores_mean, 'o-', color=\"r\", label=\"Training score\")\n",
    "    plt.plot(train_sizes, test_scores_mean, 'o-', color=\"g\", label=\"Cross-validation score\")\n",
    "\n",
    "    plt.legend(loc=\"best\")\n",
    "    return plt"
   ]
  },
  {
   "cell_type": "markdown",
   "metadata": {
    "colab_type": "text",
    "id": "Nd5uL1D9wSjW"
   },
   "source": [
    "## 5.1) Prepare train and validation data "
   ]
  },
  {
   "cell_type": "code",
   "execution_count": 0,
   "metadata": {
    "colab": {},
    "colab_type": "code",
    "id": "QHiTm3Vb-U7B"
   },
   "outputs": [],
   "source": [
    "columns = ['mean', 'categ_0', 'categ_1', 'categ_2', 'categ_3', 'categ_4' ]\n",
    "X = selected_customers[columns]\n",
    "Y = selected_customers['cluster']"
   ]
  },
  {
   "cell_type": "code",
   "execution_count": 0,
   "metadata": {
    "colab": {},
    "colab_type": "code",
    "id": "kSptnReP-W_s"
   },
   "outputs": [],
   "source": [
    "from sklearn.model_selection import train_test_split\n",
    "X_train, X_test, Y_train, Y_test = train_test_split(X, Y, train_size = 0.8)"
   ]
  },
  {
   "cell_type": "code",
   "execution_count": 109,
   "metadata": {
    "colab": {
     "base_uri": "https://localhost:8080/",
     "height": 119
    },
    "colab_type": "code",
    "id": "Y7hV7QtL-Yla",
    "outputId": "e4f4f2b9-3966-479f-ebec-bfb585502b74"
   },
   "outputs": [
    {
     "data": {
      "text/plain": [
       "1876     9\n",
       "2716     9\n",
       "3301    10\n",
       "279     10\n",
       "3905     2\n",
       "Name: cluster, dtype: int64"
      ]
     },
     "execution_count": 109,
     "metadata": {
      "tags": []
     },
     "output_type": "execute_result"
    }
   ],
   "source": [
    "Y_train.head()"
   ]
  },
  {
   "cell_type": "code",
   "execution_count": 110,
   "metadata": {
    "colab": {
     "base_uri": "https://localhost:8080/",
     "height": 204
    },
    "colab_type": "code",
    "id": "s5X2At9r-bG0",
    "outputId": "e0e94459-6e2e-4129-938b-b5c7d0262451"
   },
   "outputs": [
    {
     "data": {
      "text/html": [
       "<div>\n",
       "<style scoped>\n",
       "    .dataframe tbody tr th:only-of-type {\n",
       "        vertical-align: middle;\n",
       "    }\n",
       "\n",
       "    .dataframe tbody tr th {\n",
       "        vertical-align: top;\n",
       "    }\n",
       "\n",
       "    .dataframe thead th {\n",
       "        text-align: right;\n",
       "    }\n",
       "</style>\n",
       "<table border=\"1\" class=\"dataframe\">\n",
       "  <thead>\n",
       "    <tr style=\"text-align: right;\">\n",
       "      <th></th>\n",
       "      <th>mean</th>\n",
       "      <th>categ_0</th>\n",
       "      <th>categ_1</th>\n",
       "      <th>categ_2</th>\n",
       "      <th>categ_3</th>\n",
       "      <th>categ_4</th>\n",
       "    </tr>\n",
       "  </thead>\n",
       "  <tbody>\n",
       "    <tr>\n",
       "      <th>1876</th>\n",
       "      <td>316.210000</td>\n",
       "      <td>7.016698</td>\n",
       "      <td>40.226432</td>\n",
       "      <td>18.815819</td>\n",
       "      <td>9.499225</td>\n",
       "      <td>24.441827</td>\n",
       "    </tr>\n",
       "    <tr>\n",
       "      <th>2716</th>\n",
       "      <td>242.193333</td>\n",
       "      <td>19.275235</td>\n",
       "      <td>24.350381</td>\n",
       "      <td>6.077101</td>\n",
       "      <td>24.088882</td>\n",
       "      <td>26.208401</td>\n",
       "    </tr>\n",
       "    <tr>\n",
       "      <th>3301</th>\n",
       "      <td>72.455000</td>\n",
       "      <td>63.349665</td>\n",
       "      <td>7.245877</td>\n",
       "      <td>7.701332</td>\n",
       "      <td>21.703126</td>\n",
       "      <td>0.000000</td>\n",
       "    </tr>\n",
       "    <tr>\n",
       "      <th>279</th>\n",
       "      <td>434.835000</td>\n",
       "      <td>44.608875</td>\n",
       "      <td>6.289742</td>\n",
       "      <td>22.091138</td>\n",
       "      <td>6.002277</td>\n",
       "      <td>21.007969</td>\n",
       "    </tr>\n",
       "    <tr>\n",
       "      <th>3905</th>\n",
       "      <td>451.967500</td>\n",
       "      <td>1.349655</td>\n",
       "      <td>66.487635</td>\n",
       "      <td>9.511746</td>\n",
       "      <td>3.938336</td>\n",
       "      <td>18.712629</td>\n",
       "    </tr>\n",
       "  </tbody>\n",
       "</table>\n",
       "</div>"
      ],
      "text/plain": [
       "            mean    categ_0    categ_1    categ_2    categ_3    categ_4\n",
       "1876  316.210000   7.016698  40.226432  18.815819   9.499225  24.441827\n",
       "2716  242.193333  19.275235  24.350381   6.077101  24.088882  26.208401\n",
       "3301   72.455000  63.349665   7.245877   7.701332  21.703126   0.000000\n",
       "279   434.835000  44.608875   6.289742  22.091138   6.002277  21.007969\n",
       "3905  451.967500   1.349655  66.487635   9.511746   3.938336  18.712629"
      ]
     },
     "execution_count": 110,
     "metadata": {
      "tags": []
     },
     "output_type": "execute_result"
    }
   ],
   "source": [
    "X_train.head()"
   ]
  },
  {
   "cell_type": "markdown",
   "metadata": {
    "colab_type": "text",
    "id": "xcbplt4rx_ZY"
   },
   "source": [
    "## 5.2) SVM classifier\n",
    "\n",
    "Here I build an SVM classifier. Use GridSearchCV with logarithmic scale from 0.01 to 100. For Cross-Validation use 5 folds."
   ]
  },
  {
   "cell_type": "code",
   "execution_count": 0,
   "metadata": {
    "colab": {},
    "colab_type": "code",
    "id": "H-JRjIVsBDAM"
   },
   "outputs": [],
   "source": [
    "import numpy as np\n",
    "from sklearn import svm\n",
    "from sklearn.model_selection import GridSearchCV\n",
    "import matplotlib.pyplot as plt\n",
    "%matplotlib inline"
   ]
  },
  {
   "cell_type": "code",
   "execution_count": 0,
   "metadata": {
    "colab": {},
    "colab_type": "code",
    "id": "wUiZfReD-jVt"
   },
   "outputs": [],
   "source": [
    "svc = Class_Fit(clf = svm.LinearSVC, params={'max_iter':100})\n",
    "svc.grid_search(parameters = [{'C':np.logspace(-2,2,20)}], Kfold = 5)\n",
    "# to do - fix number of iterations"
   ]
  },
  {
   "cell_type": "code",
   "execution_count": 0,
   "metadata": {
    "colab": {},
    "colab_type": "code",
    "id": "BypIiTDa-k02"
   },
   "outputs": [],
   "source": [
    "from sklearn import metrics\n",
    "svc.grid_fit(X = X_train, Y = Y_train)\n",
    "#output is too big, try to supress it"
   ]
  },
  {
   "cell_type": "code",
   "execution_count": 114,
   "metadata": {
    "colab": {
     "base_uri": "https://localhost:8080/",
     "height": 34
    },
    "colab_type": "code",
    "id": "4ZjtRg2X_MHA",
    "outputId": "ef17cdcf-64f9-4cf1-e96c-ee26c3449e2b"
   },
   "outputs": [
    {
     "name": "stdout",
     "output_type": "stream",
     "text": [
      "Accuracy: 50.58 % \n"
     ]
    }
   ],
   "source": [
    " svc.grid_predict(X_test, Y_test)"
   ]
  },
  {
   "cell_type": "code",
   "execution_count": 115,
   "metadata": {
    "colab": {
     "base_uri": "https://localhost:8080/",
     "height": 295
    },
    "colab_type": "code",
    "id": "XrUjVbEj_WfP",
    "outputId": "805a6e77-ea9a-423f-c4c8-cdeff137a7fb"
   },
   "outputs": [
    {
     "data": {
      "image/png": "[encoded data removed]",
      "text/plain": [
       "<Figure size 432x288 with 1 Axes>"
      ]
     },
     "metadata": {
      "needs_background": "light",
      "tags": []
     },
     "output_type": "display_data"
    }
   ],
   "source": [
    "from sklearn.model_selection import learning_curve\n",
    "from sklearn.model_selection import GridSearchCV\n",
    "\n",
    "# plot learning curves\n",
    "g = plot_learning_curve(svc.grid.best_estimator_,\n",
    "                        \"SVC learning curves\", X_train, Y_train, ylim = [0.6, 1.01],\n",
    "                        cv = 5,  train_sizes = [0.05, 0.1, 0.2, 0.3, 0.4, 0.5,\n",
    "                                                0.6, 0.7, 0.8, 0.9, 1])\n"
   ]
  },
  {
   "cell_type": "markdown",
   "metadata": {
    "colab_type": "text",
    "id": "h14hOniP_L5N"
   },
   "source": [
    "## 5.3) Logistic regression\n",
    "\n",
    "**Task:** Similarly, build a logistic regression using `Class_Fit`, use grid search to train. Then compute the test precision and plot learning curves."
   ]
  },
  {
   "cell_type": "code",
   "execution_count": 0,
   "metadata": {
    "colab": {},
    "colab_type": "code",
    "id": "h5zfhhAE_rXb"
   },
   "outputs": [],
   "source": [
    "from sklearn.linear_model import LogisticRegression\n",
    "lr = Class_Fit(clf = LogisticRegression, params={'solver':'lbfgs', 'multi_class':'auto', 'max_iter':300})\n",
    "lr.grid_search(parameters={'C':np.logspace(-2,2,10)}, Kfold=5)"
   ]
  },
  {
   "cell_type": "code",
   "execution_count": 0,
   "metadata": {
    "colab": {},
    "colab_type": "code",
    "id": "afTPapSN_ueR"
   },
   "outputs": [],
   "source": [
    "lr.grid_fit(X_train, Y_train)"
   ]
  },
  {
   "cell_type": "code",
   "execution_count": 118,
   "metadata": {
    "colab": {
     "base_uri": "https://localhost:8080/",
     "height": 34
    },
    "colab_type": "code",
    "id": "3AbPsyoc_ygR",
    "outputId": "bf54e193-0977-411a-ddee-9f35a51e67da"
   },
   "outputs": [
    {
     "name": "stdout",
     "output_type": "stream",
     "text": [
      "Accuracy: 90.99 % \n"
     ]
    }
   ],
   "source": [
    "lr.grid_predict(X_test, Y_test)"
   ]
  },
  {
   "cell_type": "code",
   "execution_count": 119,
   "metadata": {
    "colab": {
     "base_uri": "https://localhost:8080/",
     "height": 295
    },
    "colab_type": "code",
    "id": "5bAy5MFR_4mW",
    "outputId": "c92cac26-e9e3-4783-c9d1-bdd539eca4dc"
   },
   "outputs": [
    {
     "data": {
      "image/png": "[encoded data removed]",
      "text/plain": [
       "<Figure size 432x288 with 1 Axes>"
      ]
     },
     "metadata": {
      "needs_background": "light",
      "tags": []
     },
     "output_type": "display_data"
    }
   ],
   "source": [
    "g2 = plot_learning_curve(lr.grid.best_estimator_,\n",
    "                        \"LR learning curves\", X_train, Y_train, ylim = [0.6, 1.01],\n",
    "                         cv = 5,  train_sizes = [0.05, 0.1, 0.2, 0.3, 0.4, 0.5,\n",
    "                                                 0.6, 0.7, 0.8, 0.9, 1])"
   ]
  },
  {
   "cell_type": "markdown",
   "metadata": {
    "colab_type": "text",
    "id": "ID8qc8CGgaov"
   },
   "source": [
    "## 5.4) k-nearest neighbors\n",
    "\n",
    "**Task:** Build a knn using `Class_Fit`, use grid search to train. Then compute the test precision and plot learning curves.\n"
   ]
  },
  {
   "cell_type": "code",
   "execution_count": 0,
   "metadata": {
    "colab": {},
    "colab_type": "code",
    "id": "b20jQO7oU_CE"
   },
   "outputs": [],
   "source": [
    "from sklearn.neighbors import KNeighborsClassifier\n",
    "\n",
    "knn = Class_Fit(clf = KNeighborsClassifier, params=None)\n",
    "knn.grid_search(parameters={'n_neighbors':np.concatenate((np.arange(1,10,1),\n",
    "                                                          np.arange(10,40,5),\n",
    "                                                          np.arange(40,80,10)))},\n",
    "                Kfold=5)\n",
    "knn.grid_fit(X_train, Y_train)"
   ]
  },
  {
   "cell_type": "code",
   "execution_count": 121,
   "metadata": {
    "colab": {
     "base_uri": "https://localhost:8080/",
     "height": 34
    },
    "colab_type": "code",
    "id": "VPk9tBzJCLVL",
    "outputId": "10a2cde9-7837-4aab-a4f7-f998e36bdfe1"
   },
   "outputs": [
    {
     "name": "stdout",
     "output_type": "stream",
     "text": [
      "Accuracy: 81.64 % \n"
     ]
    }
   ],
   "source": [
    "knn.grid_predict(X_test, Y_test)"
   ]
  },
  {
   "cell_type": "code",
   "execution_count": 122,
   "metadata": {
    "colab": {
     "base_uri": "https://localhost:8080/",
     "height": 312
    },
    "colab_type": "code",
    "id": "rIYnaQ9xCQWY",
    "outputId": "1228079b-560c-48a3-8dc0-688b2eefc978"
   },
   "outputs": [
    {
     "data": {
      "text/plain": [
       "<module 'matplotlib.pyplot' from '/usr/local/lib/python3.6/dist-packages/matplotlib/pyplot.py'>"
      ]
     },
     "execution_count": 122,
     "metadata": {
      "tags": []
     },
     "output_type": "execute_result"
    },
    {
     "data": {
      "image/png": "[encoded data removed]",
      "text/plain": [
       "<Figure size 432x288 with 1 Axes>"
      ]
     },
     "metadata": {
      "needs_background": "light",
      "tags": []
     },
     "output_type": "display_data"
    }
   ],
   "source": [
    "plot_learning_curve(knn.grid.best_estimator_, 'KNN learning curves', X_train, Y_train, ylim=[0.6, 1.01],\n",
    "                   train_sizes=[0.05, 0.1, 0.2, 0.3, 0.4, 0.5, 0.6, 0.7, 0.8, 0.9, 1])"
   ]
  },
  {
   "cell_type": "markdown",
   "metadata": {
    "colab_type": "text",
    "id": "22FCzOyQiFKJ"
   },
   "source": [
    "## 5.5) Decision tree\n",
    "\n",
    "**Task:** Build a decision tree using `Class_Fit`, use grid search to train. Then compute the test precision and plot learning curves."
   ]
  },
  {
   "cell_type": "code",
   "execution_count": 0,
   "metadata": {
    "colab": {},
    "colab_type": "code",
    "id": "CWrxmgycC4kP"
   },
   "outputs": [],
   "source": [
    "from sklearn.tree import DecisionTreeClassifier\n",
    "\n",
    "dt = Class_Fit(clf=DecisionTreeClassifier, params=None)\n",
    "dt.grid_search(parameters={'min_samples_leaf':np.concatenate((np.arange(1,5,1),\n",
    "                                                              np.arange(5,25,5),\n",
    "                                                              np.arange(25,55,10),\n",
    "                                                              np.arange(55,200,20)))},\n",
    "               Kfold=5)\n",
    "dt.grid_fit(X_train, Y_train)"
   ]
  },
  {
   "cell_type": "code",
   "execution_count": 124,
   "metadata": {
    "colab": {
     "base_uri": "https://localhost:8080/",
     "height": 68
    },
    "colab_type": "code",
    "id": "2rRQANcaC-vp",
    "outputId": "d83d1286-6700-4487-ee54-d7129a47d2a2"
   },
   "outputs": [
    {
     "name": "stdout",
     "output_type": "stream",
     "text": [
      "{'min_samples_leaf': 15}\n",
      "Accuracy: 87.30 % \n",
      "None\n"
     ]
    }
   ],
   "source": [
    "print(dt.grid.best_params_)\n",
    "print(dt.grid_predict(X_test, Y_test))"
   ]
  },
  {
   "cell_type": "code",
   "execution_count": 125,
   "metadata": {
    "colab": {
     "base_uri": "https://localhost:8080/",
     "height": 312
    },
    "colab_type": "code",
    "id": "itGyNvOvDAkO",
    "outputId": "8977673b-3ac9-4b22-e28b-75ee017a62a0"
   },
   "outputs": [
    {
     "data": {
      "text/plain": [
       "<module 'matplotlib.pyplot' from '/usr/local/lib/python3.6/dist-packages/matplotlib/pyplot.py'>"
      ]
     },
     "execution_count": 125,
     "metadata": {
      "tags": []
     },
     "output_type": "execute_result"
    },
    {
     "data": {
      "image/png": "[encoded data removed]",
      "text/plain": [
       "<Figure size 432x288 with 1 Axes>"
      ]
     },
     "metadata": {
      "needs_background": "light",
      "tags": []
     },
     "output_type": "display_data"
    }
   ],
   "source": [
    "plot_learning_curve(dt.grid.best_estimator_, 'Decision tree learning curves', X_train, Y_train, ylim=[0.6, 1.01],\n",
    "                   train_sizes=[0.05, 0.1, 0.2, 0.3, 0.4, 0.5, 0.6, 0.7, 0.8, 0.9, 1])"
   ]
  },
  {
   "cell_type": "markdown",
   "metadata": {
    "colab_type": "text",
    "id": "F1m_rOZiibVd"
   },
   "source": [
    "## 5.6) Random forest\n",
    "\n",
    "**Task:** Build a random forest using `Class_Fit`, use grid search to train. Then compute the test precision and plot learning curves."
   ]
  },
  {
   "cell_type": "code",
   "execution_count": 127,
   "metadata": {
    "colab": {
     "base_uri": "https://localhost:8080/",
     "height": 34
    },
    "colab_type": "code",
    "id": "7oRS2FdUDIyk",
    "outputId": "032cc5d1-d5f1-458d-f9bb-dbb6bcd18381"
   },
   "outputs": [
    {
     "data": {
      "text/plain": [
       "({'max_leaf_nodes': 19, 'n_estimators': 100},)"
      ]
     },
     "execution_count": 127,
     "metadata": {
      "tags": []
     },
     "output_type": "execute_result"
    }
   ],
   "source": [
    "from sklearn import metrics\n",
    "from sklearn.ensemble import RandomForestClassifier\n",
    "\n",
    "rf = Class_Fit(clf=RandomForestClassifier, params=None)\n",
    "rf.grid_search(parameters={'n_estimators':[100, 200],\n",
    "                            'max_leaf_nodes':np.arange(5,20,2)},\n",
    "                Kfold=5)\n",
    "rf.grid_fit(X_train, Y_train)\n",
    "\n",
    "rf.grid.best_params_, "
   ]
  },
  {
   "cell_type": "code",
   "execution_count": 128,
   "metadata": {
    "colab": {
     "base_uri": "https://localhost:8080/",
     "height": 51
    },
    "colab_type": "code",
    "id": "CT620w4AM5VF",
    "outputId": "6f255762-dd76-4750-8c52-ace51d176dfa"
   },
   "outputs": [
    {
     "name": "stdout",
     "output_type": "stream",
     "text": [
      "Accuracy: 88.45 % \n",
      "None\n"
     ]
    }
   ],
   "source": [
    "print(rf.grid_predict(X_test, Y_test))"
   ]
  },
  {
   "cell_type": "code",
   "execution_count": 129,
   "metadata": {
    "colab": {
     "base_uri": "https://localhost:8080/",
     "height": 312
    },
    "colab_type": "code",
    "id": "i8ONCJcBDLIm",
    "outputId": "ccf00608-b0b9-436e-e95f-59ee23bcdfb9"
   },
   "outputs": [
    {
     "data": {
      "text/plain": [
       "<module 'matplotlib.pyplot' from '/usr/local/lib/python3.6/dist-packages/matplotlib/pyplot.py'>"
      ]
     },
     "execution_count": 129,
     "metadata": {
      "tags": []
     },
     "output_type": "execute_result"
    },
    {
     "data": {
      "image/png": "[encoded data removed]",
      "text/plain": [
       "<Figure size 432x288 with 1 Axes>"
      ]
     },
     "metadata": {
      "needs_background": "light",
      "tags": []
     },
     "output_type": "display_data"
    }
   ],
   "source": [
    "plot_learning_curve(rf.grid.best_estimator_, 'Random forest learning curves', X_train, Y_train, ylim=[0.6, 1.01],\n",
    "                   train_sizes=[0.05, 0.1, 0.2, 0.3, 0.4, 0.5, 0.6, 0.7, 0.8, 0.9, 1])"
   ]
  },
  {
   "cell_type": "markdown",
   "metadata": {
    "colab_type": "text",
    "id": "dsptM0u3ixv8"
   },
   "source": [
    "## 5.7) Adaboost\n",
    "\n",
    "### Boosting\n",
    "\n",
    "Boosting technique was originally designed for classificaiton. The idea is to have a procedure that combines the outputs of many \"weak\" classifiers to produce a powerful \"committee\".\n",
    "\n",
    "### AdaBoost (Adaptive boosting)\n",
    "\n"
   ]
  },
  {
   "cell_type": "code",
   "execution_count": 130,
   "metadata": {
    "colab": {
     "base_uri": "https://localhost:8080/",
     "height": 187
    },
    "colab_type": "code",
    "id": "EKH6fhWFDuFu",
    "outputId": "a4bc09cb-4724-4615-d33c-76af6bad7ade"
   },
   "outputs": [
    {
     "name": "stdout",
     "output_type": "stream",
     "text": [
      "Accuracy: 89.84 % \n"
     ]
    },
    {
     "data": {
      "text/plain": [
       "({'algorithm': 'SAMME.R',\n",
       "  'base_estimator': DecisionTreeClassifier(ccp_alpha=0.0, class_weight=None, criterion='gini',\n",
       "                         max_depth=9, max_features=None, max_leaf_nodes=None,\n",
       "                         min_impurity_decrease=0.0, min_impurity_split=None,\n",
       "                         min_samples_leaf=1, min_samples_split=2,\n",
       "                         min_weight_fraction_leaf=0.0, presort='deprecated',\n",
       "                         random_state=None, splitter='best'),\n",
       "  'n_estimators': 200},\n",
       " None)"
      ]
     },
     "execution_count": 130,
     "metadata": {
      "tags": []
     },
     "output_type": "execute_result"
    }
   ],
   "source": [
    "from sklearn.ensemble import AdaBoostClassifier\n",
    "\n",
    "ada = Class_Fit(clf=AdaBoostClassifier, params=None)\n",
    "\n",
    "para_grid = {'base_estimator':[DecisionTreeClassifier(max_depth=1),\n",
    "                               DecisionTreeClassifier(max_depth=5),\n",
    "                               DecisionTreeClassifier(max_depth=7),\n",
    "                               DecisionTreeClassifier(max_depth=9)\n",
    "                              ],\n",
    "             'algorithm':['SAMME','SAMME.R'],\n",
    "             'n_estimators':[200] \n",
    "            }\n",
    "ada.grid_search(parameters=para_grid, Kfold=5)\n",
    "\n",
    "ada.grid_fit(X_train, Y_train)\n",
    "\n",
    "ada.grid.best_params_, "
   ]
  },
  {
   "cell_type": "code",
   "execution_count": 131,
   "metadata": {
    "colab": {
     "base_uri": "https://localhost:8080/",
     "height": 51
    },
    "colab_type": "code",
    "id": "h2ioyKyFNThg",
    "outputId": "33ebe913-6bf4-410e-fd26-4833ed10ee7d"
   },
   "outputs": [
    {
     "name": "stdout",
     "output_type": "stream",
     "text": [
      "Accuracy: 89.84 % \n",
      "None\n"
     ]
    }
   ],
   "source": [
    "print(ada.grid_predict(X_test, Y_test))"
   ]
  },
  {
   "cell_type": "code",
   "execution_count": 132,
   "metadata": {
    "colab": {
     "base_uri": "https://localhost:8080/",
     "height": 312
    },
    "colab_type": "code",
    "id": "K-ML1BE6Dywd",
    "outputId": "cf78fa8f-cc97-40a9-de41-5297bd9a67e4"
   },
   "outputs": [
    {
     "data": {
      "text/plain": [
       "<module 'matplotlib.pyplot' from '/usr/local/lib/python3.6/dist-packages/matplotlib/pyplot.py'>"
      ]
     },
     "execution_count": 132,
     "metadata": {
      "tags": []
     },
     "output_type": "execute_result"
    },
    {
     "data": {
      "image/png": "[encoded data removed]",
      "text/plain": [
       "<Figure size 432x288 with 1 Axes>"
      ]
     },
     "metadata": {
      "needs_background": "light",
      "tags": []
     },
     "output_type": "display_data"
    }
   ],
   "source": [
    "plot_learning_curve(ada.grid.best_estimator_, 'Adaboost learning curves', X_train, Y_train, ylim=[0.6, 1.01],\n",
    "                   train_sizes=[0.05, 0.1, 0.2, 0.3, 0.4, 0.5, 0.6, 0.7, 0.8, 0.9, 1])"
   ]
  },
  {
   "cell_type": "markdown",
   "metadata": {
    "colab_type": "text",
    "id": "sRyLAky5jyBp"
   },
   "source": [
    "## 5.8) Gradient boosting classifier\n",
    "\n",
    "In gradient boosting we use a differentiable loss function $L(y, f(x))$, not exponential loss like AdaBoost. We might say that Gradient boosting is more general.\n",
    "\n"
   ]
  },
  {
   "cell_type": "markdown",
   "metadata": {
    "colab_type": "text",
    "id": "TvE4EGDQkFJG"
   },
   "source": [
    "* Built a gradient boosting model using `Class_Fit`, use grid search to train. Then compute the test precision and plot learning curves."
   ]
  },
  {
   "cell_type": "code",
   "execution_count": 133,
   "metadata": {
    "colab": {
     "base_uri": "https://localhost:8080/",
     "height": 34
    },
    "colab_type": "code",
    "id": "O1iqlZU4js-X",
    "outputId": "e3fa4c88-e608-40ea-fbaf-2bd72f7da6e3"
   },
   "outputs": [
    {
     "data": {
      "text/plain": [
       "({'n_estimators': 100},)"
      ]
     },
     "execution_count": 133,
     "metadata": {
      "tags": []
     },
     "output_type": "execute_result"
    }
   ],
   "source": [
    "from sklearn.ensemble import GradientBoostingClassifier \n",
    "gb = Class_Fit(clf=GradientBoostingClassifier, params=None)\n",
    "\n",
    "para_grid = {\n",
    "    'n_estimators':[100, 200, 300]\n",
    "            }\n",
    "gb.grid_search(parameters=para_grid, Kfold=5)\n",
    "\n",
    "gb.grid_fit(X_train, Y_train)\n",
    "\n",
    "gb.grid.best_params_, \n"
   ]
  },
  {
   "cell_type": "code",
   "execution_count": 134,
   "metadata": {
    "colab": {
     "base_uri": "https://localhost:8080/",
     "height": 51
    },
    "colab_type": "code",
    "id": "qKoXCC1hNk5F",
    "outputId": "4ad99280-d132-41c5-b4f3-d28d99aef8ba"
   },
   "outputs": [
    {
     "name": "stdout",
     "output_type": "stream",
     "text": [
      "Accuracy: 89.84 % \n",
      "None\n"
     ]
    }
   ],
   "source": [
    "print(ada.grid_predict(X_test, Y_test))"
   ]
  },
  {
   "cell_type": "code",
   "execution_count": 135,
   "metadata": {
    "colab": {
     "base_uri": "https://localhost:8080/",
     "height": 312
    },
    "colab_type": "code",
    "id": "iaasUcy0kHoK",
    "outputId": "34bd468d-b3d9-474a-e588-0ef358684d19"
   },
   "outputs": [
    {
     "data": {
      "text/plain": [
       "<module 'matplotlib.pyplot' from '/usr/local/lib/python3.6/dist-packages/matplotlib/pyplot.py'>"
      ]
     },
     "execution_count": 135,
     "metadata": {
      "tags": []
     },
     "output_type": "execute_result"
    },
    {
     "data": {
      "image/png": "[encoded data removed]",
      "text/plain": [
       "<Figure size 432x288 with 1 Axes>"
      ]
     },
     "metadata": {
      "needs_background": "light",
      "tags": []
     },
     "output_type": "display_data"
    }
   ],
   "source": [
    "plot_learning_curve(gb.grid.best_estimator_, 'Gradient boosting learning curves', X_train, Y_train, ylim=[0.6, 1.01],\n",
    "                   train_sizes=[0.05, 0.1, 0.2, 0.3, 0.4, 0.5, 0.6, 0.7, 0.8, 0.9, 1])"
   ]
  },
  {
   "cell_type": "markdown",
   "metadata": {
    "colab_type": "text",
    "id": "bLtqUWg7kMng"
   },
   "source": [
    "## 5.9) XGBoost \n",
    "\n",
    "XGBoost is an optimized distributed gradient boosting library designed to be highly efficient, flexible and portable.\n",
    "\n",
    "https://xgboost.readthedocs.io/en/latest/"
   ]
  },
  {
   "cell_type": "code",
   "execution_count": 136,
   "metadata": {
    "colab": {
     "base_uri": "https://localhost:8080/",
     "height": 34
    },
    "colab_type": "code",
    "id": "PSVpSwmukLsG",
    "outputId": "6dd2f684-22b3-4323-c5f5-663d3b297649"
   },
   "outputs": [
    {
     "data": {
      "text/plain": [
       "({'n_estimators': 200, 'objective': 'multi:softmax'},)"
      ]
     },
     "execution_count": 136,
     "metadata": {
      "tags": []
     },
     "output_type": "execute_result"
    }
   ],
   "source": [
    "from xgboost import XGBClassifier\n",
    "xgb = Class_Fit(clf=XGBClassifier, params=None)\n",
    "\n",
    "para_grid = {\n",
    "    'objective':['multi:softmax'],\n",
    "    'n_estimators':[100, 200, 300]\n",
    "            }\n",
    "xgb.grid_search(parameters=para_grid, Kfold=5)\n",
    "\n",
    "xgb.grid_fit(X_train, Y_train)\n",
    "\n",
    "xgb.grid.best_params_, "
   ]
  },
  {
   "cell_type": "code",
   "execution_count": 137,
   "metadata": {
    "colab": {
     "base_uri": "https://localhost:8080/",
     "height": 51
    },
    "colab_type": "code",
    "id": "p5ngm10GOdO6",
    "outputId": "18c96ee9-0cac-45d1-d88a-9b22fbbd487a"
   },
   "outputs": [
    {
     "name": "stdout",
     "output_type": "stream",
     "text": [
      "Accuracy: 89.84 % \n",
      "None\n"
     ]
    }
   ],
   "source": [
    "print(ada.grid_predict(X_test, Y_test))"
   ]
  },
  {
   "cell_type": "code",
   "execution_count": 138,
   "metadata": {
    "colab": {
     "base_uri": "https://localhost:8080/",
     "height": 312
    },
    "colab_type": "code",
    "id": "Zw4MN2_akVXN",
    "outputId": "4ab0b638-122a-4b3b-d063-52733c9ef4cb"
   },
   "outputs": [
    {
     "data": {
      "text/plain": [
       "<module 'matplotlib.pyplot' from '/usr/local/lib/python3.6/dist-packages/matplotlib/pyplot.py'>"
      ]
     },
     "execution_count": 138,
     "metadata": {
      "tags": []
     },
     "output_type": "execute_result"
    },
    {
     "data": {
      "image/png": "[encoded data removed]",
      "text/plain": [
       "<Figure size 432x288 with 1 Axes>"
      ]
     },
     "metadata": {
      "needs_background": "light",
      "tags": []
     },
     "output_type": "display_data"
    }
   ],
   "source": [
    "plot_learning_curve(xgb.grid.best_estimator_, 'Gradient boosting learning curves', X_train, Y_train, ylim=[0.6, 1.01],\n",
    "                   train_sizes=[0.05, 0.1, 0.2, 0.3, 0.4, 0.5, 0.6, 0.7, 0.8, 0.9, 1])"
   ]
  },
  {
   "cell_type": "markdown",
   "metadata": {
    "colab_type": "text",
    "id": "efkFjBgNkoO8"
   },
   "source": [
    "# 5.10) Testing predictions\n",
    "\n",
    "**Task:** For each trained model above, compute the precision on the test set."
   ]
  },
  {
   "cell_type": "markdown",
   "metadata": {
    "colab_type": "text",
    "id": "1K32Y5wirrfY"
   },
   "source": [
    "**Task:** For each trained model above, compute the precision on the test set."
   ]
  },
  {
   "cell_type": "code",
   "execution_count": 139,
   "metadata": {
    "colab": {
     "base_uri": "https://localhost:8080/",
     "height": 374
    },
    "colab_type": "code",
    "id": "PPVWtZ-BqB0_",
    "outputId": "4538e40d-7663-450b-967c-102a9cb672b1"
   },
   "outputs": [
    {
     "name": "stdout",
     "output_type": "stream",
     "text": [
      "______________________________ \n",
      "Support Vector Machine\n",
      "Accuracy: 50.58 % \n",
      "______________________________ \n",
      "Logistic Regression\n",
      "Accuracy: 90.99 % \n",
      "______________________________ \n",
      "k-Nearest Neighbors\n",
      "Accuracy: 81.64 % \n",
      "______________________________ \n",
      "Decision Tree\n",
      "Accuracy: 87.30 % \n",
      "______________________________ \n",
      "Random Forest\n",
      "Accuracy: 88.45 % \n",
      "______________________________ \n",
      "Gradient Boosting\n",
      "Accuracy: 89.72 % \n",
      "______________________________ \n",
      "XGBoost\n",
      "Accuracy: 91.34 % \n"
     ]
    }
   ],
   "source": [
    "classifiers = [(svc, 'Support Vector Machine'),\n",
    "                (lr, 'Logistic Regression'),\n",
    "                (knn, 'k-Nearest Neighbors'),\n",
    "                (dt, 'Decision Tree'),\n",
    "                (rf, 'Random Forest'),\n",
    "                (gb, 'Gradient Boosting'),\n",
    "                (xgb, 'XGBoost')]\n",
    "#______________________________\n",
    "for clf, label in classifiers:\n",
    "    print(30*'_', '\\n{}'.format(label))\n",
    "    clf.grid_predict(X_test, Y_test)"
   ]
  },
  {
   "cell_type": "code",
   "execution_count": 0,
   "metadata": {
    "colab": {},
    "colab_type": "code",
    "id": "55s5zQRFAqxA"
   },
   "outputs": [],
   "source": []
  }
 ],
 "metadata": {
  "colab": {
   "collapsed_sections": [],
   "name": "Customer Categorization - Rinosh Polavarapu",
   "provenance": []
  },
  "kernelspec": {
   "display_name": "Python 3",
   "language": "python",
   "name": "python3"
  },
  "language_info": {
   "codemirror_mode": {
    "name": "ipython",
    "version": 3
   },
   "file_extension": ".py",
   "mimetype": "text/x-python",
   "name": "python",
   "nbconvert_exporter": "python",
   "pygments_lexer": "ipython3",
   "version": "3.7.7"
  }
 },
 "nbformat": 4,
 "nbformat_minor": 1
}
